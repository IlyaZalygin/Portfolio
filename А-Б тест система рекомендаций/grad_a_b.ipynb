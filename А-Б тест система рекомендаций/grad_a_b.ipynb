{
 "cells": [
  {
   "cell_type": "markdown",
   "metadata": {},
   "source": [
    "# A/B-тест системы рекомендаций"
   ]
  },
  {
   "cell_type": "markdown",
   "metadata": {},
   "source": [
    "Компания проводит A/B-тест. Группа A - контрольная, а группа B пользуется новой платежной воронкой.  \n",
    "В моем распоряжении набор данных с действиями пользоватетелей, расписание маркетинговых мероприятияй, набор с новыми пользователями и информация о группах пользователей.  \n",
    "\n",
    "**Цель:** провести оценку результатов A/B-теста.  \n",
    "\n",
    "Чтобы оценить результаты A/B-теста нужно удостовериться, что нет пересечений с конкурирующими тестами, нет пользователей, участвующих одновременно в двух группах.  \n",
    "\n",
    "**Информация об A/B-тесте**  \n",
    "Название теста: recommender_system_test  \n",
    "Группы: А (контрольная), B (новая платёжная воронка)  \n",
    "Дата запуска: 2020-12-07  \n",
    "Дата остановки набора новых пользователей: 2020-12-21  \n",
    "Дата остановки: 2021-01-04  \n",
    "Ожидаемое количество участников теста: 15% новых пользователей из региона EU  \n",
    "Назначение теста: тестирование изменений, связанных с внедрением улучшенной рекомендательной системы  \n",
    "Ожидаемый эффект: за 14 дней с момента регистрации в системе пользователи покажут улучшение каждой метрики не менее, чем на 5 процентных пунктов:\n",
    "1. конверсии в просмотр карточек товаров\n",
    "2. просмотры корзины\n",
    "3. покупки"
   ]
  },
  {
   "cell_type": "markdown",
   "metadata": {},
   "source": [
    "Сначала импортирую библиотеки, которые понадобятся при анализе."
   ]
  },
  {
   "cell_type": "code",
   "execution_count": 1,
   "metadata": {},
   "outputs": [],
   "source": [
    "import pandas as pd # Для работы с таблицами\n",
    "\n",
    "# Для визуализации\n",
    "import matplotlib.pyplot as plt\n",
    "import seaborn as sns\n",
    "\n",
    "# Для работы с датой\n",
    "import datetime\n",
    "\n",
    "# Для математических расчетов\n",
    "import numpy as np\n",
    "import math as mth\n",
    "from scipy import stats as st"
   ]
  },
  {
   "cell_type": "markdown",
   "metadata": {},
   "source": [
    "Настрою отображение графиков с сеткой."
   ]
  },
  {
   "cell_type": "code",
   "execution_count": 2,
   "metadata": {},
   "outputs": [],
   "source": [
    "sns.set_style('whitegrid')"
   ]
  },
  {
   "cell_type": "markdown",
   "metadata": {},
   "source": [
    "## Загрузка данных"
   ]
  },
  {
   "cell_type": "markdown",
   "metadata": {},
   "source": [
    "Загружу календарь маркетинговых событий."
   ]
  },
  {
   "cell_type": "code",
   "execution_count": 3,
   "metadata": {},
   "outputs": [
    {
     "data": {
      "text/html": [
       "<div>\n",
       "<style scoped>\n",
       "    .dataframe tbody tr th:only-of-type {\n",
       "        vertical-align: middle;\n",
       "    }\n",
       "\n",
       "    .dataframe tbody tr th {\n",
       "        vertical-align: top;\n",
       "    }\n",
       "\n",
       "    .dataframe thead th {\n",
       "        text-align: right;\n",
       "    }\n",
       "</style>\n",
       "<table border=\"1\" class=\"dataframe\">\n",
       "  <thead>\n",
       "    <tr style=\"text-align: right;\">\n",
       "      <th></th>\n",
       "      <th>name</th>\n",
       "      <th>regions</th>\n",
       "      <th>start_dt</th>\n",
       "      <th>finish_dt</th>\n",
       "    </tr>\n",
       "  </thead>\n",
       "  <tbody>\n",
       "    <tr>\n",
       "      <th>6</th>\n",
       "      <td>Chinese New Year Promo</td>\n",
       "      <td>APAC</td>\n",
       "      <td>2020-01-25</td>\n",
       "      <td>2020-02-07</td>\n",
       "    </tr>\n",
       "    <tr>\n",
       "      <th>1</th>\n",
       "      <td>St. Valentine's Day Giveaway</td>\n",
       "      <td>EU, CIS, APAC, N.America</td>\n",
       "      <td>2020-02-14</td>\n",
       "      <td>2020-02-16</td>\n",
       "    </tr>\n",
       "    <tr>\n",
       "      <th>8</th>\n",
       "      <td>International Women's Day Promo</td>\n",
       "      <td>EU, CIS, APAC</td>\n",
       "      <td>2020-03-08</td>\n",
       "      <td>2020-03-10</td>\n",
       "    </tr>\n",
       "    <tr>\n",
       "      <th>2</th>\n",
       "      <td>St. Patric's Day Promo</td>\n",
       "      <td>EU, N.America</td>\n",
       "      <td>2020-03-17</td>\n",
       "      <td>2020-03-19</td>\n",
       "    </tr>\n",
       "    <tr>\n",
       "      <th>3</th>\n",
       "      <td>Easter Promo</td>\n",
       "      <td>EU, CIS, APAC, N.America</td>\n",
       "      <td>2020-04-12</td>\n",
       "      <td>2020-04-19</td>\n",
       "    </tr>\n",
       "    <tr>\n",
       "      <th>7</th>\n",
       "      <td>Labor day (May 1st) Ads Campaign</td>\n",
       "      <td>EU, CIS, APAC</td>\n",
       "      <td>2020-05-01</td>\n",
       "      <td>2020-05-03</td>\n",
       "    </tr>\n",
       "    <tr>\n",
       "      <th>9</th>\n",
       "      <td>Victory Day CIS (May 9th) Event</td>\n",
       "      <td>CIS</td>\n",
       "      <td>2020-05-09</td>\n",
       "      <td>2020-05-11</td>\n",
       "    </tr>\n",
       "    <tr>\n",
       "      <th>11</th>\n",
       "      <td>Dragon Boat Festival Giveaway</td>\n",
       "      <td>APAC</td>\n",
       "      <td>2020-06-25</td>\n",
       "      <td>2020-07-01</td>\n",
       "    </tr>\n",
       "    <tr>\n",
       "      <th>4</th>\n",
       "      <td>4th of July Promo</td>\n",
       "      <td>N.America</td>\n",
       "      <td>2020-07-04</td>\n",
       "      <td>2020-07-11</td>\n",
       "    </tr>\n",
       "    <tr>\n",
       "      <th>13</th>\n",
       "      <td>Chinese Moon Festival</td>\n",
       "      <td>APAC</td>\n",
       "      <td>2020-10-01</td>\n",
       "      <td>2020-10-07</td>\n",
       "    </tr>\n",
       "    <tr>\n",
       "      <th>12</th>\n",
       "      <td>Single's Day Gift Promo</td>\n",
       "      <td>APAC</td>\n",
       "      <td>2020-11-11</td>\n",
       "      <td>2020-11-12</td>\n",
       "    </tr>\n",
       "    <tr>\n",
       "      <th>5</th>\n",
       "      <td>Black Friday Ads Campaign</td>\n",
       "      <td>EU, CIS, APAC, N.America</td>\n",
       "      <td>2020-11-26</td>\n",
       "      <td>2020-12-01</td>\n",
       "    </tr>\n",
       "    <tr>\n",
       "      <th>0</th>\n",
       "      <td>Christmas&amp;New Year Promo</td>\n",
       "      <td>EU, N.America</td>\n",
       "      <td>2020-12-25</td>\n",
       "      <td>2021-01-03</td>\n",
       "    </tr>\n",
       "    <tr>\n",
       "      <th>10</th>\n",
       "      <td>CIS New Year Gift Lottery</td>\n",
       "      <td>CIS</td>\n",
       "      <td>2020-12-30</td>\n",
       "      <td>2021-01-07</td>\n",
       "    </tr>\n",
       "  </tbody>\n",
       "</table>\n",
       "</div>"
      ],
      "text/plain": [
       "                                name                   regions    start_dt  \\\n",
       "6             Chinese New Year Promo                      APAC  2020-01-25   \n",
       "1       St. Valentine's Day Giveaway  EU, CIS, APAC, N.America  2020-02-14   \n",
       "8    International Women's Day Promo             EU, CIS, APAC  2020-03-08   \n",
       "2             St. Patric's Day Promo             EU, N.America  2020-03-17   \n",
       "3                       Easter Promo  EU, CIS, APAC, N.America  2020-04-12   \n",
       "7   Labor day (May 1st) Ads Campaign             EU, CIS, APAC  2020-05-01   \n",
       "9    Victory Day CIS (May 9th) Event                       CIS  2020-05-09   \n",
       "11     Dragon Boat Festival Giveaway                      APAC  2020-06-25   \n",
       "4                  4th of July Promo                 N.America  2020-07-04   \n",
       "13             Chinese Moon Festival                      APAC  2020-10-01   \n",
       "12           Single's Day Gift Promo                      APAC  2020-11-11   \n",
       "5          Black Friday Ads Campaign  EU, CIS, APAC, N.America  2020-11-26   \n",
       "0           Christmas&New Year Promo             EU, N.America  2020-12-25   \n",
       "10         CIS New Year Gift Lottery                       CIS  2020-12-30   \n",
       "\n",
       "     finish_dt  \n",
       "6   2020-02-07  \n",
       "1   2020-02-16  \n",
       "8   2020-03-10  \n",
       "2   2020-03-19  \n",
       "3   2020-04-19  \n",
       "7   2020-05-03  \n",
       "9   2020-05-11  \n",
       "11  2020-07-01  \n",
       "4   2020-07-11  \n",
       "13  2020-10-07  \n",
       "12  2020-11-12  \n",
       "5   2020-12-01  \n",
       "0   2021-01-03  \n",
       "10  2021-01-07  "
      ]
     },
     "execution_count": 3,
     "metadata": {},
     "output_type": "execute_result"
    }
   ],
   "source": [
    "calendar = pd.read_csv('/datasets/ab_project_marketing_events.csv')\n",
    "calendar.sort_values('start_dt')"
   ]
  },
  {
   "cell_type": "markdown",
   "metadata": {},
   "source": [
    "Для анализируемого теста дата начала набора пользователей - 2020-12-07 и остановка - 2020-12-21.  \n",
    "Позднее посмотрю на пересечение маркетинговых событий с датами проведения теста и оценю их влияние."
   ]
  },
  {
   "cell_type": "markdown",
   "metadata": {},
   "source": [
    "Загружу данные о новых пользователях, зарегестрированных с 12 июля 2020 по 21 декабря."
   ]
  },
  {
   "cell_type": "code",
   "execution_count": 4,
   "metadata": {},
   "outputs": [],
   "source": [
    "new_users = pd.read_csv('/datasets/final_ab_new_users.csv')"
   ]
  },
  {
   "cell_type": "markdown",
   "metadata": {},
   "source": [
    "Записи о событиях новых пользователей с 7 декабря 2020 по 4 января 2021"
   ]
  },
  {
   "cell_type": "code",
   "execution_count": 5,
   "metadata": {},
   "outputs": [],
   "source": [
    "events = pd.read_csv('/datasets/final_ab_events.csv')"
   ]
  },
  {
   "cell_type": "markdown",
   "metadata": {},
   "source": [
    "Также таблицу с участниками тестов."
   ]
  },
  {
   "cell_type": "code",
   "execution_count": 6,
   "metadata": {},
   "outputs": [],
   "source": [
    "participants = pd.read_csv('/datasets/final_ab_participants.csv')"
   ]
  },
  {
   "cell_type": "markdown",
   "metadata": {},
   "source": [
    "## Предобработка"
   ]
  },
  {
   "cell_type": "markdown",
   "metadata": {},
   "source": [
    "### Изменение типов данных и поиск пропусков"
   ]
  },
  {
   "cell_type": "markdown",
   "metadata": {},
   "source": [
    "Посмотрю информацию о наборах данных, на их типы, наличие пропусков."
   ]
  },
  {
   "cell_type": "code",
   "execution_count": 7,
   "metadata": {},
   "outputs": [
    {
     "name": "stdout",
     "output_type": "stream",
     "text": [
      "<class 'pandas.core.frame.DataFrame'>\n",
      "RangeIndex: 14 entries, 0 to 13\n",
      "Data columns (total 4 columns):\n",
      " #   Column     Non-Null Count  Dtype \n",
      "---  ------     --------------  ----- \n",
      " 0   name       14 non-null     object\n",
      " 1   regions    14 non-null     object\n",
      " 2   start_dt   14 non-null     object\n",
      " 3   finish_dt  14 non-null     object\n",
      "dtypes: object(4)\n",
      "memory usage: 576.0+ bytes\n"
     ]
    }
   ],
   "source": [
    "calendar.info()"
   ]
  },
  {
   "cell_type": "markdown",
   "metadata": {},
   "source": [
    "В календаре изменю формат дат на подобающий."
   ]
  },
  {
   "cell_type": "code",
   "execution_count": 8,
   "metadata": {},
   "outputs": [],
   "source": [
    "calendar['start_dt'] = pd.to_datetime(calendar['start_dt'])\n",
    "calendar['finish_dt'] = pd.to_datetime(calendar['finish_dt'])"
   ]
  },
  {
   "cell_type": "code",
   "execution_count": 9,
   "metadata": {},
   "outputs": [
    {
     "name": "stdout",
     "output_type": "stream",
     "text": [
      "<class 'pandas.core.frame.DataFrame'>\n",
      "RangeIndex: 61733 entries, 0 to 61732\n",
      "Data columns (total 4 columns):\n",
      " #   Column      Non-Null Count  Dtype \n",
      "---  ------      --------------  ----- \n",
      " 0   user_id     61733 non-null  object\n",
      " 1   first_date  61733 non-null  object\n",
      " 2   region      61733 non-null  object\n",
      " 3   device      61733 non-null  object\n",
      "dtypes: object(4)\n",
      "memory usage: 1.9+ MB\n"
     ]
    }
   ],
   "source": [
    "new_users.info()"
   ]
  },
  {
   "cell_type": "markdown",
   "metadata": {},
   "source": [
    "В данных о новых пользователей нет пропусков, типы данных соответсвуют ожидаемым во всех столбцах, кроме даты регистрации пользователя.  \n",
    "Изменю тип данных."
   ]
  },
  {
   "cell_type": "code",
   "execution_count": 10,
   "metadata": {},
   "outputs": [],
   "source": [
    "new_users['first_date'] = pd.to_datetime(new_users['first_date'])"
   ]
  },
  {
   "cell_type": "markdown",
   "metadata": {},
   "source": [
    "Посмотрю на оставшиеся два набора."
   ]
  },
  {
   "cell_type": "code",
   "execution_count": 11,
   "metadata": {},
   "outputs": [
    {
     "name": "stdout",
     "output_type": "stream",
     "text": [
      "<class 'pandas.core.frame.DataFrame'>\n",
      "RangeIndex: 440317 entries, 0 to 440316\n",
      "Data columns (total 4 columns):\n",
      " #   Column      Non-Null Count   Dtype  \n",
      "---  ------      --------------   -----  \n",
      " 0   user_id     440317 non-null  object \n",
      " 1   event_dt    440317 non-null  object \n",
      " 2   event_name  440317 non-null  object \n",
      " 3   details     62740 non-null   float64\n",
      "dtypes: float64(1), object(3)\n",
      "memory usage: 13.4+ MB\n"
     ]
    }
   ],
   "source": [
    "events.info()"
   ]
  },
  {
   "cell_type": "code",
   "execution_count": 12,
   "metadata": {},
   "outputs": [
    {
     "name": "stdout",
     "output_type": "stream",
     "text": [
      "<class 'pandas.core.frame.DataFrame'>\n",
      "RangeIndex: 18268 entries, 0 to 18267\n",
      "Data columns (total 3 columns):\n",
      " #   Column   Non-Null Count  Dtype \n",
      "---  ------   --------------  ----- \n",
      " 0   user_id  18268 non-null  object\n",
      " 1   group    18268 non-null  object\n",
      " 2   ab_test  18268 non-null  object\n",
      "dtypes: object(3)\n",
      "memory usage: 428.3+ KB\n"
     ]
    }
   ],
   "source": [
    "participants.info()"
   ]
  },
  {
   "cell_type": "markdown",
   "metadata": {},
   "source": [
    "В датасете с событиями (`events`) есть пропуски в столбце `details`, так как детали приписываются только для события покупки, где они являются суммой в долларах."
   ]
  },
  {
   "cell_type": "markdown",
   "metadata": {},
   "source": [
    "Других пропусков нет. Приведу столбец с датой к подобающему типу."
   ]
  },
  {
   "cell_type": "code",
   "execution_count": 13,
   "metadata": {},
   "outputs": [],
   "source": [
    "events['event_dt'] = pd.to_datetime(events['event_dt'])"
   ]
  },
  {
   "cell_type": "markdown",
   "metadata": {},
   "source": [
    "### Проверка на дубликаты"
   ]
  },
  {
   "cell_type": "markdown",
   "metadata": {},
   "source": [
    "Изучу дубликаты. Начну с полных дубликатов."
   ]
  },
  {
   "cell_type": "code",
   "execution_count": 14,
   "metadata": {},
   "outputs": [
    {
     "name": "stdout",
     "output_type": "stream",
     "text": [
      "\u001b[1mКоличество полных дубликатов для наборов\u001b[0m\n",
      "Для new_users: 0 \n",
      "Для participants: 0 \n",
      "Для events: 0\n"
     ]
    }
   ],
   "source": [
    "print('\\033[1m' + 'Количество полных дубликатов для наборов' + '\\033[0m'\n",
    "     '\\n' 'Для new_users:', new_users.duplicated().sum(),\n",
    "     '\\n' 'Для participants:', participants.duplicated().sum(),\n",
    "     '\\n' 'Для events:', events.duplicated().sum())"
   ]
  },
  {
   "cell_type": "markdown",
   "metadata": {},
   "source": [
    "Полные дубликаты отсутсвуют. Посмотрю также на частичные дубликаты."
   ]
  },
  {
   "cell_type": "code",
   "execution_count": 15,
   "metadata": {},
   "outputs": [
    {
     "name": "stdout",
     "output_type": "stream",
     "text": [
      "\u001b[1mКоличество частичных дубликатов для наборов\u001b[0m\n",
      "Для new_users: 0 \n",
      "Для participants: 826 \n",
      "Для events: 0\n"
     ]
    }
   ],
   "source": [
    "print('\\033[1m' + 'Количество частичных дубликатов для наборов' + '\\033[0m'\n",
    "     '\\n' 'Для new_users:', new_users.duplicated(\n",
    "         subset=['user_id', 'first_date']).sum(),\n",
    "     '\\n' 'Для participants:', participants.duplicated(\n",
    "         subset=['user_id','group']).sum(),\n",
    "     '\\n' 'Для events:', events.duplicated(\n",
    "         subset=['user_id','event_dt','event_name']).sum())"
   ]
  },
  {
   "cell_type": "markdown",
   "metadata": {},
   "source": [
    "В датасетах `new_users` и `events` частичные дубликаты также отсутствуют.  \n",
    "А вот в `participants` есть записи о нескольких группах для одного пользователя.  \n",
    "Такое возможно, если пользователь участвует сразу в нескольких A/B-тестах.  \n",
    "Проверю это:"
   ]
  },
  {
   "cell_type": "code",
   "execution_count": 16,
   "metadata": {},
   "outputs": [
    {
     "name": "stdout",
     "output_type": "stream",
     "text": [
      "Количетсво пользователей с более чем одной группой: 1602\n"
     ]
    }
   ],
   "source": [
    "print('Количетсво пользователей с более чем одной группой:',\n",
    "      len(participants.groupby('user_id')\n",
    "          .agg({'ab_test':'nunique'}).query('ab_test > 1')))"
   ]
  },
  {
   "cell_type": "markdown",
   "metadata": {},
   "source": [
    "1602 пользователя участвует в двух тестах сразу. Это нехорошо, ведь тесты могут взаимовлиять друг на друга, что может исказить результаты.  \n",
    "Позже проверю, есть ли такие пользователи в нашем тесте."
   ]
  },
  {
   "cell_type": "markdown",
   "metadata": {},
   "source": [
    "### Вывод предобработки"
   ]
  },
  {
   "cell_type": "markdown",
   "metadata": {},
   "source": [
    "В данных были изменены форматы даты. Пропусков, которые следовало бы заменить - не обнаружено.  \n",
    "Найдено 1602 пользователя, которые участвуют сразу в нескольких тестах."
   ]
  },
  {
   "cell_type": "markdown",
   "metadata": {},
   "source": [
    "## Оценка корректности проведения теста"
   ]
  },
  {
   "cell_type": "markdown",
   "metadata": {},
   "source": [
    "### Период набора пользователей"
   ]
  },
  {
   "cell_type": "markdown",
   "metadata": {},
   "source": [
    "Сначала отберу тех пользователей, которые участвуют в интересующем нас тесте *recommender_system_test*"
   ]
  },
  {
   "cell_type": "code",
   "execution_count": 17,
   "metadata": {},
   "outputs": [],
   "source": [
    "ab_users = (participants.query('ab_test == \"recommender_system_test\"')\n",
    "            ['user_id'].unique().tolist())"
   ]
  },
  {
   "cell_type": "markdown",
   "metadata": {},
   "source": [
    "Отфильтрую `new_users` так, чтобы рассмотреть только участников нашего теста.  \n",
    "И визуализирую период набора пользователей."
   ]
  },
  {
   "cell_type": "code",
   "execution_count": 18,
   "metadata": {},
   "outputs": [
    {
     "name": "stdout",
     "output_type": "stream",
     "text": [
      "Всего пользователей: 6701\n"
     ]
    },
    {
     "data": {
      "image/png": "[encoded data removed]",
      "text/plain": [
       "<Figure size 864x216 with 1 Axes>"
      ]
     },
     "metadata": {},
     "output_type": "display_data"
    }
   ],
   "source": [
    "print('Всего пользователей:',\n",
    "      new_users.query('user_id in @ab_users')['user_id'].nunique())\n",
    "\n",
    "fig, ax = plt.subplots(figsize=(12,3))\n",
    "sns.lineplot(data=new_users.query('user_id in @ab_users')\n",
    "             .groupby('first_date', as_index=False).agg({'user_id':'count'}),\n",
    "             x='first_date', y='user_id', marker='o')\n",
    "plt.title('Количество новых пользователей по датам')\n",
    "plt.xlabel('Дата')\n",
    "plt.ylabel('Количество новых пользователей');"
   ]
  },
  {
   "cell_type": "markdown",
   "metadata": {},
   "source": [
    "Согласно требованиям набор должен проходить с 2020-12-07 по 2020-12-12.  \n",
    "Фактические даты набора совпадают с требованиями.  \n",
    "Больше всего пользователей пришло в три дня: 12 июля, 14 и 21 декабря."
   ]
  },
  {
   "cell_type": "markdown",
   "metadata": {},
   "source": [
    "### Регион пользователей, доля от числа пользователей"
   ]
  },
  {
   "cell_type": "markdown",
   "metadata": {},
   "source": [
    "Целевой регион пользователей - Европа.  \n",
    "Посмотрю, из каких регионов пришли интересующие пользователи."
   ]
  },
  {
   "cell_type": "code",
   "execution_count": 19,
   "metadata": {},
   "outputs": [
    {
     "data": {
      "text/plain": [
       "EU           6351\n",
       "N.America     223\n",
       "APAC           72\n",
       "CIS            55\n",
       "Name: region, dtype: int64"
      ]
     },
     "execution_count": 19,
     "metadata": {},
     "output_type": "execute_result"
    }
   ],
   "source": [
    "new_users.query('user_id in @ab_users').region.value_counts()"
   ]
  },
  {
   "cell_type": "markdown",
   "metadata": {},
   "source": [
    "6351 пользователь относится к целевому региону.  \n",
    "Оставшиеся 350 - нет. Удалю их из `ab_users`"
   ]
  },
  {
   "cell_type": "code",
   "execution_count": 20,
   "metadata": {},
   "outputs": [
    {
     "name": "stdout",
     "output_type": "stream",
     "text": [
      "Количество пользователей к удалению: 350\n"
     ]
    }
   ],
   "source": [
    "users_to_delete = (new_users.query('user_id in @ab_users & region != \"EU\"')\n",
    "                   ['user_id'].tolist())\n",
    "print('Количество пользователей к удалению:', len(users_to_delete))"
   ]
  },
  {
   "cell_type": "code",
   "execution_count": 21,
   "metadata": {},
   "outputs": [
    {
     "name": "stdout",
     "output_type": "stream",
     "text": [
      "Количество пользователей после очистки: 6351\n"
     ]
    }
   ],
   "source": [
    "ab_users = pd.DataFrame(ab_users, columns=['user_id'])\n",
    "ab_users = ab_users[~ab_users['user_id'].isin(users_to_delete)]\n",
    "print('Количество пользователей после очистки:', len(ab_users))"
   ]
  },
  {
   "cell_type": "markdown",
   "metadata": {},
   "source": [
    "Ожидаемое количество пользователей, участвующих в тесте - это 15% от общего числа новых пользователей из целевого региона, зарегестрированных в период набора.  \n",
    "Проверю, какой процент пользователей вошел в тест:"
   ]
  },
  {
   "cell_type": "code",
   "execution_count": 22,
   "metadata": {},
   "outputs": [
    {
     "name": "stdout",
     "output_type": "stream",
     "text": [
      "Процент пользователей, вошедших в тест: 15.0 %\n"
     ]
    }
   ],
   "source": [
    "print('Процент пользователей, вошедших в тест:',\n",
    "      len(ab_users) /\n",
    "      len(new_users\n",
    "          .query('first_date >= \"2020-12-07\" & first_date <= \"2020-12-21\" & region == \"EU\"'))\n",
    "      * 100, '%')"
   ]
  },
  {
   "cell_type": "markdown",
   "metadata": {},
   "source": [
    "Это требование тоже выполняется."
   ]
  },
  {
   "cell_type": "markdown",
   "metadata": {},
   "source": [
    "### Участие в нескольких группах одновременно"
   ]
  },
  {
   "cell_type": "markdown",
   "metadata": {},
   "source": [
    "Сначала проверю, есть ли среди интересуюших нас такие пользователи, которые участвуют и в других A/B-тестах"
   ]
  },
  {
   "cell_type": "code",
   "execution_count": 23,
   "metadata": {},
   "outputs": [
    {
     "name": "stdout",
     "output_type": "stream",
     "text": [
      "Количество пользователей, участвующих в нескольких тестах: 1602\n"
     ]
    }
   ],
   "source": [
    "print('Количество пользователей, участвующих в нескольких тестах:',\n",
    "      len(participants[participants['user_id'].isin(ab_users['user_id'])]\n",
    "      .groupby('user_id').agg({'ab_test':'nunique'}).query('ab_test > 1')))"
   ]
  },
  {
   "cell_type": "markdown",
   "metadata": {},
   "source": [
    "Посмотрю, что это за тесты"
   ]
  },
  {
   "cell_type": "code",
   "execution_count": 24,
   "metadata": {},
   "outputs": [
    {
     "data": {
      "text/plain": [
       "['recommender_system_test', 'interface_eu_test']"
      ]
     },
     "execution_count": 24,
     "metadata": {},
     "output_type": "execute_result"
    }
   ],
   "source": [
    "participants[participants['user_id'].isin(ab_users['user_id'])]['ab_test'].unique().tolist()"
   ]
  },
  {
   "cell_type": "markdown",
   "metadata": {},
   "source": [
    "Помимо исследуемого мной *recommender_system_test* - пользователи также принимали участие в тесте с новым интерфейсом.  \n",
    "Так как поведение пользователей могло измениться из-за взаимодействия с новым интерфейсом, а не из-за системы рекомендаций - придется удалить пользователей из экспериментальных групп, которые участвовали в двух тестах сразу."
   ]
  },
  {
   "cell_type": "code",
   "execution_count": 25,
   "metadata": {},
   "outputs": [],
   "source": [
    "users_to_delete = ((participants[(participants['user_id'].isin(ab_users['user_id']))\n",
    "                                  & (participants['group']=='B')]\n",
    "                    .groupby('user_id').agg({'ab_test':'nunique'}).query('ab_test > 1'))\n",
    "                    .index.tolist())"
   ]
  },
  {
   "cell_type": "code",
   "execution_count": 26,
   "metadata": {},
   "outputs": [
    {
     "name": "stdout",
     "output_type": "stream",
     "text": [
      "Кол-во удаленных пользователей: 344\n"
     ]
    }
   ],
   "source": [
    "print('Кол-во удаленных пользователей:', len(users_to_delete))\n",
    "ab_users = ab_users[~ab_users['user_id'].isin(users_to_delete)]"
   ]
  },
  {
   "cell_type": "markdown",
   "metadata": {},
   "source": [
    "Также проверю, нет ли в нашем тесте таких пользователей, которые участвуют сразу в двух группах."
   ]
  },
  {
   "cell_type": "code",
   "execution_count": 27,
   "metadata": {},
   "outputs": [
    {
     "name": "stdout",
     "output_type": "stream",
     "text": [
      "Количество пользователей с более чем одной группой: 0\n"
     ]
    }
   ],
   "source": [
    "print('Количество пользователей с более чем одной группой:',\n",
    "      len(participants[participants['user_id'].isin(ab_users['user_id'])\n",
    "                       & participants['ab_test'] == 'recommender_system_test']\n",
    "          .groupby('user_id').agg({'group':'count'}).query('group > 1')))"
   ]
  },
  {
   "cell_type": "markdown",
   "metadata": {},
   "source": [
    "Все пользователи в исследовании относятся к одной группе."
   ]
  },
  {
   "cell_type": "markdown",
   "metadata": {},
   "source": [
    "### Равномерность распределения по группам"
   ]
  },
  {
   "cell_type": "markdown",
   "metadata": {},
   "source": [
    "Снова посмотрю на набор пользователей по дням, но в этот раз по группам.  \n",
    "Также посмотрю на итоговое количество пользователей в группах."
   ]
  },
  {
   "cell_type": "code",
   "execution_count": 28,
   "metadata": {},
   "outputs": [],
   "source": [
    "# добавлю информацию о группах теста\n",
    "ab_users = (ab_users.merge(participants[(participants['user_id'].isin(ab_users['user_id']))\n",
    "                                        & (participants['ab_test'] == 'recommender_system_test')]\n",
    "                           [['user_id','group']],\n",
    "                           on='user_id', how='left'))\n",
    "# и о датах регистрации\n",
    "ab_users = ab_users.merge(new_users, on='user_id', how='left')"
   ]
  },
  {
   "cell_type": "code",
   "execution_count": 29,
   "metadata": {},
   "outputs": [
    {
     "data": {
      "image/png": "[encoded data removed]",
      "text/plain": [
       "<Figure size 864x216 with 1 Axes>"
      ]
     },
     "metadata": {},
     "output_type": "display_data"
    }
   ],
   "source": [
    "fig, ax = plt.subplots(figsize=(12,3))\n",
    "sns.lineplot(data=ab_users.groupby(['first_date','group'],\n",
    "                                   as_index=False).agg({'user_id':'count'}),\n",
    "             x='first_date', y='user_id', hue='group', palette='mako')\n",
    "plt.title('Количество новых пользователей по дням и группам')\n",
    "plt.xlabel('Дата')\n",
    "plt.ylabel('Количество пользователей');"
   ]
  },
  {
   "cell_type": "code",
   "execution_count": 30,
   "metadata": {},
   "outputs": [
    {
     "data": {
      "text/html": [
       "<div>\n",
       "<style scoped>\n",
       "    .dataframe tbody tr th:only-of-type {\n",
       "        vertical-align: middle;\n",
       "    }\n",
       "\n",
       "    .dataframe tbody tr th {\n",
       "        vertical-align: top;\n",
       "    }\n",
       "\n",
       "    .dataframe thead th {\n",
       "        text-align: right;\n",
       "    }\n",
       "</style>\n",
       "<table border=\"1\" class=\"dataframe\">\n",
       "  <thead>\n",
       "    <tr style=\"text-align: right;\">\n",
       "      <th></th>\n",
       "      <th>user_id</th>\n",
       "    </tr>\n",
       "    <tr>\n",
       "      <th>group</th>\n",
       "      <th></th>\n",
       "    </tr>\n",
       "  </thead>\n",
       "  <tbody>\n",
       "    <tr>\n",
       "      <th>A</th>\n",
       "      <td>3634</td>\n",
       "    </tr>\n",
       "    <tr>\n",
       "      <th>B</th>\n",
       "      <td>2373</td>\n",
       "    </tr>\n",
       "  </tbody>\n",
       "</table>\n",
       "</div>"
      ],
      "text/plain": [
       "       user_id\n",
       "group         \n",
       "A         3634\n",
       "B         2373"
      ]
     },
     "execution_count": 30,
     "metadata": {},
     "output_type": "execute_result"
    }
   ],
   "source": [
    "ab_users.groupby('group').agg({'user_id':'nunique'})"
   ]
  },
  {
   "cell_type": "markdown",
   "metadata": {},
   "source": [
    "Динамика набора пользователей для каждой группы одинакова, что повышает уверенность в результатах, которые будут получены в результате исследования.  \n",
    "Однако распределение в группах неравное, группа B меньше примерно на 34%. Это важно иметь в виду."
   ]
  },
  {
   "cell_type": "markdown",
   "metadata": {},
   "source": [
    "### Вывод оценки корректности"
   ]
  },
  {
   "cell_type": "markdown",
   "metadata": {},
   "source": [
    "Изначально для A/B-теста набран 6701 пользователь.  \n",
    "350 из которых находятся не в целевом регионе (Европа) и были удалены.  \n",
    "344 пользователя их экспериментальной группы участвало в конкурирующем тесте, связанном с изменениями интерфейса. Эти пользователи также были удалены из выборки.  \n",
    "Пользователей с более одной группой не обнаружено.  \n",
    "Динамика количества регистраций пользователей из групп схожа. В обеих группах наибольшее количество пользователей зарегестрировалось 14 и 21 декабря.  "
   ]
  },
  {
   "cell_type": "markdown",
   "metadata": {},
   "source": [
    "## Изучение пользовательской активности"
   ]
  },
  {
   "cell_type": "markdown",
   "metadata": {},
   "source": [
    "Отберу события по тем пользователям, которые нас интересуют, и буду изучать его."
   ]
  },
  {
   "cell_type": "code",
   "execution_count": 31,
   "metadata": {},
   "outputs": [],
   "source": [
    "ab_events = events[events['user_id'].isin(ab_users['user_id'])]"
   ]
  },
  {
   "cell_type": "markdown",
   "metadata": {},
   "source": [
    "### Даты совершения событий, количество пользователей"
   ]
  },
  {
   "cell_type": "markdown",
   "metadata": {},
   "source": [
    "По техническому требованию тест начался 2020-12-07 и должен был остановиться 2021-01-04.  \n",
    "Посмотрю диапозон дат, по которым есть записи для участников теста."
   ]
  },
  {
   "cell_type": "code",
   "execution_count": 32,
   "metadata": {},
   "outputs": [
    {
     "name": "stdout",
     "output_type": "stream",
     "text": [
      "Минимальная дата: 2020-12-07 00:05:57 \n",
      "Максимальная дата 2020-12-30 12:42:57 \n",
      "Максимальная дата в общем наборе 2020-12-30 23:36:33\n"
     ]
    }
   ],
   "source": [
    "print('Минимальная дата:', ab_events['event_dt'].min(),\n",
    "      '\\n' 'Максимальная дата', ab_events['event_dt'].max(),\n",
    "      '\\n' 'Максимальная дата в общем наборе', events['event_dt'].max())"
   ]
  },
  {
   "cell_type": "markdown",
   "metadata": {},
   "source": [
    "Минимальная дата совпадает с моментом набора пользователей в группы.  \n",
    "А вот максимальная как в общем наборе, так и в наборе с интересующими пользователями заканчивается 30 декабря.  \n",
    "Тем не менее так как нас интересует эффект за 14 дней с момента регистрации - его можно расчитать и в пределах имеющихся событий."
   ]
  },
  {
   "cell_type": "markdown",
   "metadata": {},
   "source": [
    "Также посмотрю, сколько пользователей совершали какие-либо действия из набранных для теста."
   ]
  },
  {
   "cell_type": "code",
   "execution_count": 33,
   "metadata": {},
   "outputs": [
    {
     "name": "stdout",
     "output_type": "stream",
     "text": [
      "Количество пользователей в тесте: 6007 \n",
      "Количество пользователей с событями: 3375\n"
     ]
    }
   ],
   "source": [
    "print('Количество пользователей в тесте:', len(set(ab_users['user_id'])),\n",
    "      '\\n' 'Количество пользователей с событями:', len(set(ab_events['user_id'])))"
   ]
  },
  {
   "cell_type": "markdown",
   "metadata": {},
   "source": [
    "Количество пользователей вновь сократилось, около 56% пользователей из набранных для A/B-теста не совершали никаких событий после регистрации.  \n",
    "Эти пользователи не будут учитываться в анализе, так как по ним нет записей.  \n",
    "Посмотрю на количество пользователей в группах из тех, записи о которых есть в `ab_events`. И сравню величины."
   ]
  },
  {
   "cell_type": "code",
   "execution_count": 34,
   "metadata": {},
   "outputs": [
    {
     "data": {
      "text/html": [
       "<div>\n",
       "<style scoped>\n",
       "    .dataframe tbody tr th:only-of-type {\n",
       "        vertical-align: middle;\n",
       "    }\n",
       "\n",
       "    .dataframe tbody tr th {\n",
       "        vertical-align: top;\n",
       "    }\n",
       "\n",
       "    .dataframe thead th {\n",
       "        text-align: right;\n",
       "    }\n",
       "</style>\n",
       "<table border=\"1\" class=\"dataframe\">\n",
       "  <thead>\n",
       "    <tr style=\"text-align: right;\">\n",
       "      <th></th>\n",
       "      <th>group</th>\n",
       "      <th>users_cnt</th>\n",
       "      <th>active_users_cnt</th>\n",
       "      <th>change</th>\n",
       "    </tr>\n",
       "  </thead>\n",
       "  <tbody>\n",
       "    <tr>\n",
       "      <th>0</th>\n",
       "      <td>A</td>\n",
       "      <td>3634</td>\n",
       "      <td>2604</td>\n",
       "      <td>-28.343423</td>\n",
       "    </tr>\n",
       "    <tr>\n",
       "      <th>1</th>\n",
       "      <td>B</td>\n",
       "      <td>2373</td>\n",
       "      <td>771</td>\n",
       "      <td>-67.509482</td>\n",
       "    </tr>\n",
       "  </tbody>\n",
       "</table>\n",
       "</div>"
      ],
      "text/plain": [
       "  group  users_cnt  active_users_cnt     change\n",
       "0     A       3634              2604 -28.343423\n",
       "1     B       2373               771 -67.509482"
      ]
     },
     "execution_count": 34,
     "metadata": {},
     "output_type": "execute_result"
    }
   ],
   "source": [
    "users_activity = (ab_users.groupby('group',as_index=False).agg({'user_id':'count'}).merge(\n",
    "    ab_users[ab_users['user_id'].isin(ab_events['user_id'].unique())]\n",
    "    .groupby('group', as_index=False).agg({'user_id':'count'}),\n",
    "    on='group'))\n",
    "users_activity.columns = ['group', 'users_cnt', 'active_users_cnt']\n",
    "users_activity['change'] = (users_activity['active_users_cnt'] / users_activity['users_cnt'] - 1) * 100\n",
    "users_activity"
   ]
  },
  {
   "cell_type": "markdown",
   "metadata": {},
   "source": [
    "Активные пользователи из группы B составили всего 22% от всех активных пользователей.  \n",
    "Количество активных пользователей в группе B снизилось на 67%, что гораздо больше снижения у группы A."
   ]
  },
  {
   "cell_type": "markdown",
   "metadata": {},
   "source": [
    "### Изучение неактивных пользователей"
   ]
  },
  {
   "cell_type": "markdown",
   "metadata": {},
   "source": [
    "Выделю пользователей, которые не совершали никаких событий, и изучу их немного подробнее."
   ]
  },
  {
   "cell_type": "code",
   "execution_count": 35,
   "metadata": {},
   "outputs": [
    {
     "data": {
      "text/html": [
       "<div>\n",
       "<style scoped>\n",
       "    .dataframe tbody tr th:only-of-type {\n",
       "        vertical-align: middle;\n",
       "    }\n",
       "\n",
       "    .dataframe tbody tr th {\n",
       "        vertical-align: top;\n",
       "    }\n",
       "\n",
       "    .dataframe thead th {\n",
       "        text-align: right;\n",
       "    }\n",
       "</style>\n",
       "<table border=\"1\" class=\"dataframe\">\n",
       "  <thead>\n",
       "    <tr style=\"text-align: right;\">\n",
       "      <th></th>\n",
       "      <th>user_id</th>\n",
       "    </tr>\n",
       "    <tr>\n",
       "      <th>group</th>\n",
       "      <th></th>\n",
       "    </tr>\n",
       "  </thead>\n",
       "  <tbody>\n",
       "    <tr>\n",
       "      <th>A</th>\n",
       "      <td>1030</td>\n",
       "    </tr>\n",
       "    <tr>\n",
       "      <th>B</th>\n",
       "      <td>1602</td>\n",
       "    </tr>\n",
       "  </tbody>\n",
       "</table>\n",
       "</div>"
      ],
      "text/plain": [
       "       user_id\n",
       "group         \n",
       "A         1030\n",
       "B         1602"
      ]
     },
     "execution_count": 35,
     "metadata": {},
     "output_type": "execute_result"
    }
   ],
   "source": [
    "unactive_users = ab_users[~ab_users['user_id'].isin(ab_events['user_id'].unique())]\n",
    "unactive_users.groupby('group').agg({'user_id':'nunique'})"
   ]
  },
  {
   "cell_type": "markdown",
   "metadata": {},
   "source": [
    "Как уже известно - неактивных пользователей больше в группе B.  \n",
    "Посмотрю на динамику набора неактивных пользователей."
   ]
  },
  {
   "cell_type": "code",
   "execution_count": 36,
   "metadata": {},
   "outputs": [
    {
     "data": {
      "image/png": "[encoded data removed]",
      "text/plain": [
       "<Figure size 864x216 with 1 Axes>"
      ]
     },
     "metadata": {},
     "output_type": "display_data"
    }
   ],
   "source": [
    "fig, ax = plt.subplots(figsize=(12,3))\n",
    "sns.lineplot(data=unactive_users.groupby(['first_date','group'],\n",
    "                                   as_index=False).agg({'user_id':'count'}),\n",
    "             x='first_date', y='user_id', hue='group', palette='mako')\n",
    "plt.title('Количество зарегестрированных неактивных пользователей по дням и группам')\n",
    "plt.xlabel('Дата')\n",
    "plt.ylabel('Количество пользователей');"
   ]
  },
  {
   "cell_type": "markdown",
   "metadata": {},
   "source": [
    "Наибольшее количество неактивных пользователей в группе A и B зарегестрировалось 13 декабря - около 350 пользователей в A и 200 в B. Это почти все пользователи, зарегестрировавшиеся в этот день, если сравнивать с графиком регистраций (см пункт 3.4).  \n",
    "Для группы A после этой даты неактивных пользователей не регистрировалось, а вот в группе B количество неактивных пользователей обычно находится в диапозоне от 50 до 150."
   ]
  },
  {
   "cell_type": "markdown",
   "metadata": {},
   "source": [
    "### Горизонт анализа: 14 дней с момента регистрации"
   ]
  },
  {
   "cell_type": "markdown",
   "metadata": {},
   "source": [
    "Добавлю в набор данных с событиями номер группы пользователя и дату регистрации (`first_date`) из `ab_users`:"
   ]
  },
  {
   "cell_type": "code",
   "execution_count": 37,
   "metadata": {},
   "outputs": [],
   "source": [
    "ab_events = ab_events.merge(ab_users[['user_id','group','first_date']],\n",
    "                            on='user_id')"
   ]
  },
  {
   "cell_type": "markdown",
   "metadata": {},
   "source": [
    "Расчитаю лайфтайм для событий в новом столбце."
   ]
  },
  {
   "cell_type": "code",
   "execution_count": 38,
   "metadata": {},
   "outputs": [],
   "source": [
    "ab_events['lifetime'] = pd.to_datetime(ab_events['event_dt'].dt.date) - ab_events['first_date']"
   ]
  },
  {
   "cell_type": "markdown",
   "metadata": {},
   "source": [
    "И оставлю только те события, которые укладываются в 14-дневний лайфтайм."
   ]
  },
  {
   "cell_type": "code",
   "execution_count": 39,
   "metadata": {},
   "outputs": [],
   "source": [
    "ab_events = ab_events[ab_events['lifetime'] <= datetime.timedelta(days=14)]"
   ]
  },
  {
   "cell_type": "markdown",
   "metadata": {},
   "source": [
    "### Первые события пользователей каждого вида"
   ]
  },
  {
   "cell_type": "markdown",
   "metadata": {},
   "source": [
    "Посмотрю, в какой лайфтайм у пользователей впервые были совершены действия.  \n",
    "Для этого сгруппирую пользователей по событям, найду первый лайфтайм."
   ]
  },
  {
   "cell_type": "code",
   "execution_count": 40,
   "metadata": {},
   "outputs": [],
   "source": [
    "users_lft_by_event = ab_events.groupby(['user_id', 'event_name'], as_index=False).agg({'lifetime':'first'})\n",
    "# Лайфтайм приведу к дням, чтобы его можно было аггрегировать\n",
    "users_lft_by_event['lifetime'] = users_lft_by_event['lifetime'].dt.days"
   ]
  },
  {
   "cell_type": "markdown",
   "metadata": {},
   "source": [
    "Найду медиану, среднее, стандартное отклоение и максимум для лайфтаймов первых событий."
   ]
  },
  {
   "cell_type": "code",
   "execution_count": 41,
   "metadata": {},
   "outputs": [
    {
     "data": {
      "text/html": [
       "<style  type=\"text/css\" >\n",
       "#T_2e69e_row0_col0,#T_2e69e_row1_col0,#T_2e69e_row1_col3,#T_2e69e_row2_col0,#T_2e69e_row3_col0,#T_2e69e_row3_col1,#T_2e69e_row3_col2,#T_2e69e_row3_col3{\n",
       "            background-color:  #f7fcf0;\n",
       "            color:  #000000;\n",
       "        }#T_2e69e_row0_col1,#T_2e69e_row0_col2,#T_2e69e_row0_col3,#T_2e69e_row2_col3{\n",
       "            background-color:  #084081;\n",
       "            color:  #f1f1f1;\n",
       "        }#T_2e69e_row1_col1{\n",
       "            background-color:  #97d6bb;\n",
       "            color:  #000000;\n",
       "        }#T_2e69e_row1_col2{\n",
       "            background-color:  #b7e3bc;\n",
       "            color:  #000000;\n",
       "        }#T_2e69e_row2_col1{\n",
       "            background-color:  #7fcdc3;\n",
       "            color:  #000000;\n",
       "        }#T_2e69e_row2_col2{\n",
       "            background-color:  #2081b8;\n",
       "            color:  #000000;\n",
       "        }</style><table id=\"T_2e69e_\" ><thead>    <tr>        <th class=\"blank level0\" ></th>        <th class=\"col_heading level0 col0\" >median</th>        <th class=\"col_heading level0 col1\" >mean</th>        <th class=\"col_heading level0 col2\" >std</th>        <th class=\"col_heading level0 col3\" >max</th>    </tr>    <tr>        <th class=\"index_name level0\" >event_name</th>        <th class=\"blank\" ></th>        <th class=\"blank\" ></th>        <th class=\"blank\" ></th>        <th class=\"blank\" ></th>    </tr></thead><tbody>\n",
       "                <tr>\n",
       "                        <th id=\"T_2e69e_level0_row0\" class=\"row_heading level0 row0\" >login</th>\n",
       "                        <td id=\"T_2e69e_row0_col0\" class=\"data row0 col0\" >0</td>\n",
       "                        <td id=\"T_2e69e_row0_col1\" class=\"data row0 col1\" >0.014226</td>\n",
       "                        <td id=\"T_2e69e_row0_col2\" class=\"data row0 col2\" >0.251481</td>\n",
       "                        <td id=\"T_2e69e_row0_col3\" class=\"data row0 col3\" >8</td>\n",
       "            </tr>\n",
       "            <tr>\n",
       "                        <th id=\"T_2e69e_level0_row1\" class=\"row_heading level0 row1\" >product_cart</th>\n",
       "                        <td id=\"T_2e69e_row1_col0\" class=\"data row1 col0\" >0</td>\n",
       "                        <td id=\"T_2e69e_row1_col1\" class=\"data row1 col1\" >0.012048</td>\n",
       "                        <td id=\"T_2e69e_row1_col2\" class=\"data row1 col2\" >0.214676</td>\n",
       "                        <td id=\"T_2e69e_row1_col3\" class=\"data row1 col3\" >6</td>\n",
       "            </tr>\n",
       "            <tr>\n",
       "                        <th id=\"T_2e69e_level0_row2\" class=\"row_heading level0 row2\" >product_page</th>\n",
       "                        <td id=\"T_2e69e_row2_col0\" class=\"data row2 col0\" >0</td>\n",
       "                        <td id=\"T_2e69e_row2_col1\" class=\"data row2 col1\" >0.012299</td>\n",
       "                        <td id=\"T_2e69e_row2_col2\" class=\"data row2 col2\" >0.239972</td>\n",
       "                        <td id=\"T_2e69e_row2_col3\" class=\"data row2 col3\" >8</td>\n",
       "            </tr>\n",
       "            <tr>\n",
       "                        <th id=\"T_2e69e_level0_row3\" class=\"row_heading level0 row3\" >purchase</th>\n",
       "                        <td id=\"T_2e69e_row3_col0\" class=\"data row3 col0\" >0</td>\n",
       "                        <td id=\"T_2e69e_row3_col1\" class=\"data row3 col1\" >0.010456</td>\n",
       "                        <td id=\"T_2e69e_row3_col2\" class=\"data row3 col2\" >0.197233</td>\n",
       "                        <td id=\"T_2e69e_row3_col3\" class=\"data row3 col3\" >6</td>\n",
       "            </tr>\n",
       "    </tbody></table>"
      ],
      "text/plain": [
       "<pandas.io.formats.style.Styler at 0x7fa24633e850>"
      ]
     },
     "execution_count": 41,
     "metadata": {},
     "output_type": "execute_result"
    }
   ],
   "source": [
    "pd.DataFrame(users_lft_by_event.groupby(['user_id', 'event_name'], as_index=False)\n",
    "             .agg({'lifetime':'first'}).groupby('event_name')['lifetime']\n",
    "             .agg(['median','mean','std', 'max'])).style.background_gradient('GnBu')"
   ]
  },
  {
   "cell_type": "markdown",
   "metadata": {},
   "source": [
    "Большинство пользователей совершает каждое из событий втечение 24 часов после регистрации, так как медианна равна 0 и среднее значение не сильно выше нее. Стандартное отклонение самое высокое у события *login* и равно 0.28 дня, то есть первое событие авторизации разнится где-то на 6-7 часов для пользователей.  \n",
    "Максимальные лайфтаймы для событий меньше четырнадцати дней и составляют 6 или 8 дней в зависимости от события."
   ]
  },
  {
   "cell_type": "markdown",
   "metadata": {},
   "source": [
    "### Вывод: соответствие теста техническим требованиям"
   ]
  },
  {
   "cell_type": "markdown",
   "metadata": {},
   "source": [
    "Тест соответствует следующим техническим требованиям:  \n",
    "- [x] В тесте участвуют 15% от новых пользователей из целевого региона  \n",
    "- [x] Набор пользователей проходил в установленные сроки от 2020-12-07 до 2020-12-21\n",
    "- [x] Данные о событиях располагают информацией, с которой можно рассчитать эффект в течение 14 дней после регистрации пользователей\n",
    "\n",
    "Угроза искажения результатов анализа теста связана только с тем, что изначально пользователи были неравно распределены по группам. Также активных пользователей, записи о которых есть в `events`, оказалось меньше.  \n",
    "Количество пользователей в обоих группах сократилось, но если в группе \"A\" только на 28%, то в группе \"B\" на 67%.  \n",
    "В итоге группа \"B\" меньше группы \"A\" более чем в три раза. Малая численность группы \"B\" может исказить результаты теста.  "
   ]
  },
  {
   "cell_type": "markdown",
   "metadata": {},
   "source": [
    "## Исследовательский анализ"
   ]
  },
  {
   "cell_type": "markdown",
   "metadata": {},
   "source": [
    "### Распределение количества событий на пользователя"
   ]
  },
  {
   "cell_type": "markdown",
   "metadata": {},
   "source": [
    "Для групп найду количество событий у каждого пользователя и построю гистограммы, где синим цветом отображаются гистограммы для группы A, а оранжевым для группы B."
   ]
  },
  {
   "cell_type": "code",
   "execution_count": 42,
   "metadata": {},
   "outputs": [
    {
     "data": {
      "image/png": "[encoded data removed]",
      "text/plain": [
       "<Figure size 720x1080 with 8 Axes>"
      ]
     },
     "metadata": {},
     "output_type": "display_data"
    }
   ],
   "source": [
    "fig, axs = plt.subplots(nrows=4 , ncols= 2, figsize=(10, 15))\n",
    "fig.suptitle('Распределение количества событий на пользователя по группам', size='x-large', fontweight='semibold')\n",
    "\n",
    "for num, event in enumerate(['login','product_page','product_cart','purchase']):\n",
    "    groupA = ab_events[ab_events['group'] == 'A']\n",
    "    groupB = ab_events[ab_events['group'] == 'B']\n",
    "    axs[num, 0].hist(groupA[groupA['event_name'] == event].groupby('user_id')['event_name'].count())\n",
    "    axs[num, 1].hist(groupB[groupB['event_name'] == event].groupby('user_id')['event_name'].count(),\n",
    "                     color='orange')\n",
    "    axs[num, 0].set_title(event+' группы A')\n",
    "    axs[num, 1].set_title(event+' группы B')\n",
    "    axs[num, 0].set_xlabel('Количество событий на пользователя')\n",
    "    axs[num, 1].set_xlabel('Количество событий на пользователя')\n",
    "    axs[num, 0].set_ylabel('Количество пользователей')\n",
    "    axs[num, 1].set_ylabel('Количество пользователей')\n",
    "\n",
    "plt.tight_layout()"
   ]
  },
  {
   "cell_type": "markdown",
   "metadata": {},
   "source": [
    "По гистограммам кажется, что пользователи из группы B реже пользовались приложением.  \n",
    "В группе B на каждом из событий меньше тех, кто проходил его 4 и более раз.  \n",
    "У группы A такхи пользователей больше. Чтобы убедиться в этом посмотрю на среднее количество событий на пользователя."
   ]
  },
  {
   "cell_type": "code",
   "execution_count": 43,
   "metadata": {},
   "outputs": [
    {
     "data": {
      "text/html": [
       "<div>\n",
       "<style scoped>\n",
       "    .dataframe tbody tr th:only-of-type {\n",
       "        vertical-align: middle;\n",
       "    }\n",
       "\n",
       "    .dataframe tbody tr th {\n",
       "        vertical-align: top;\n",
       "    }\n",
       "\n",
       "    .dataframe thead th {\n",
       "        text-align: right;\n",
       "    }\n",
       "</style>\n",
       "<table border=\"1\" class=\"dataframe\">\n",
       "  <thead>\n",
       "    <tr style=\"text-align: right;\">\n",
       "      <th></th>\n",
       "      <th>A</th>\n",
       "      <th>B</th>\n",
       "    </tr>\n",
       "  </thead>\n",
       "  <tbody>\n",
       "    <tr>\n",
       "      <th>login</th>\n",
       "      <td>3.059908</td>\n",
       "      <td>2.644156</td>\n",
       "    </tr>\n",
       "    <tr>\n",
       "      <th>product_page</th>\n",
       "      <td>3.041543</td>\n",
       "      <td>2.503497</td>\n",
       "    </tr>\n",
       "    <tr>\n",
       "      <th>product_cart</th>\n",
       "      <td>3.049872</td>\n",
       "      <td>2.53271</td>\n",
       "    </tr>\n",
       "    <tr>\n",
       "      <th>purchase</th>\n",
       "      <td>3.0</td>\n",
       "      <td>2.424658</td>\n",
       "    </tr>\n",
       "  </tbody>\n",
       "</table>\n",
       "</div>"
      ],
      "text/plain": [
       "                     A         B\n",
       "login         3.059908  2.644156\n",
       "product_page  3.041543  2.503497\n",
       "product_cart  3.049872   2.53271\n",
       "purchase           3.0  2.424658"
      ]
     },
     "execution_count": 43,
     "metadata": {},
     "output_type": "execute_result"
    }
   ],
   "source": [
    "# Создам пустой датафрейм\n",
    "events_count = pd.DataFrame(columns=['A','B'],\n",
    "                            index=['login','product_page','product_cart','purchase'])\n",
    "# Буду рассчитывать среднее кол-во событий на пользователей и добавлять в датафрейм\n",
    "for event in events_count.index:\n",
    "    groupA = ab_events[ab_events['group'] == 'A']\n",
    "    groupB = ab_events[ab_events['group'] == 'B']\n",
    "    groupA_mean = (groupA[groupA['event_name'] == event]\n",
    "                   .groupby('user_id')['event_name'].count().mean())\n",
    "    groupB_mean = (groupB[groupB['event_name'] == event]\n",
    "                   .groupby('user_id')['event_name'].count().mean())\n",
    "    events_count.at[event, 'A'] = groupA_mean\n",
    "    events_count.at[event, 'B'] = groupB_mean\n",
    "\n",
    "events_count"
   ]
  },
  {
   "cell_type": "markdown",
   "metadata": {},
   "source": [
    "Действительно, в группе B среднее количество событий на пользователя на каждом событии ниже, чем в группе A.  \n",
    "Кажется, что пользователи группы B реже просматривают товары и делают заказы.    \n",
    "Так как тест проводится на систему рекомендаций - возможно, это связано с тем, что группа B быстрее находит то, что ее интересует и сразу делает один заказ. То, насколько это выгодно для бизнеса - другой вопрос, который зависит в том числе от выручки и удовлетворения пользователя."
   ]
  },
  {
   "cell_type": "markdown",
   "metadata": {},
   "source": [
    "### Динамика количества событий в группах по дням, маркетинговые события"
   ]
  },
  {
   "cell_type": "code",
   "execution_count": 44,
   "metadata": {},
   "outputs": [
    {
     "data": {
      "image/png": "[encoded data removed]",
      "text/plain": [
       "<Figure size 864x216 with 1 Axes>"
      ]
     },
     "metadata": {},
     "output_type": "display_data"
    }
   ],
   "source": [
    "ab_events['event_date'] = ab_events['event_dt'].dt.date\n",
    "fig, ax = plt.subplots(figsize=(12,3))\n",
    "sns.lineplot(data=ab_events.groupby(['event_date','group'],as_index=False)\n",
    "                           .agg({'event_name':'count'}),\n",
    "             x='event_date', y='event_name', hue='group')\n",
    "plt.title('Динамика количества событий')\n",
    "plt.xlabel('Дата')\n",
    "plt.ylabel('Количество событий');"
   ]
  },
  {
   "cell_type": "markdown",
   "metadata": {},
   "source": [
    "Группа A совершает гораздо больше событий, 21 декабря заметен пик активности с 1400 событиями у группы A.  \n",
    "Локальный пик в эту дату есть и у группы B.  \n",
    "Но важно помнить, что группа A в принципе многочислена и больше группы B в три раза, что объясняет выраженные отличия.  \n",
    "Проверю, нет ли совпадений между всплесками активности и маркетинговыми мероприятиями."
   ]
  },
  {
   "cell_type": "code",
   "execution_count": 45,
   "metadata": {},
   "outputs": [
    {
     "data": {
      "image/png": "[encoded data removed]",
      "text/plain": [
       "<Figure size 864x216 with 1 Axes>"
      ]
     },
     "metadata": {},
     "output_type": "display_data"
    }
   ],
   "source": [
    "# Отберу события, которые проходят в целевой регионе и ограничу дату\n",
    "eu_activities = calendar[calendar['regions'].str.contains('EU')].query('start_dt >= \"2020-12-09\"')\n",
    "\n",
    "fig, ax = plt.subplots(figsize=(12,3))\n",
    "sns.lineplot(data=ab_events.groupby(['event_date','group'],as_index=False)\n",
    "                           .agg({'event_name':'count'}),\n",
    "             x='event_date', y='event_name', hue='group')\n",
    "plt.title('Динамика количества событий')\n",
    "plt.xlabel('Дата')\n",
    "plt.ylabel('Количество событий')\n",
    "\n",
    "for index, row in eu_activities.iterrows():\n",
    "    start_date = row['start_dt']\n",
    "    end_date = row['finish_dt']\n",
    "    activity_name = row['name']\n",
    "#     Добавлю события на график\n",
    "    plt.axvspan(start_date, end_date, alpha=0.1, color='green', label=activity_name)\n",
    "    plt.legend()"
   ]
  },
  {
   "cell_type": "markdown",
   "metadata": {},
   "source": [
    "На исследуемый период накладывается только одно событие - Новогоднее промо, и оно никак не отражается на активности пользователей.  \n",
    "Скорее всего имеющийся пик связан с очищением до 14 лайфтайма.  \n",
    "Больше всего пользователей было набрано 14 и 21 декабря (пункт 3.1).  \n",
    "Видимо, вышло так, что 21 декабря те пользователи, которые зарегестрировались также залогинились и сделали покупку. К тому же пользователи, пришедшие ранее, могли к этому числу созреть и сделать заказ (есть пользователи, у которых лайфтайм событий равен 6-8 дням). Но большее влияние скорее оказали новые пользователи, пришедшие 21-о, ведь как мы помним, большинство клиентов совершает все события втечение 24 часов после регистрации."
   ]
  },
  {
   "cell_type": "markdown",
   "metadata": {},
   "source": [
    "### Продуктовая воронка"
   ]
  },
  {
   "cell_type": "markdown",
   "metadata": {},
   "source": [
    "Наконец перейду к рассмотрению продуктовых воронок группы A и B.  \n",
    "Сгруппирую `ab_events` по событиям и группам, также задам правильный порядок столбца с названием группы."
   ]
  },
  {
   "cell_type": "code",
   "execution_count": 46,
   "metadata": {},
   "outputs": [],
   "source": [
    "funnel = (ab_events.groupby(['event_name','group'], as_index=False)\n",
    "          .agg({'user_id':'nunique'}))\n",
    "funnel['event_name'] = funnel['event_name'].astype(pd.CategoricalDtype(\n",
    "    categories=['login', 'product_page', 'product_cart', 'purchase'], ordered=True))"
   ]
  },
  {
   "cell_type": "markdown",
   "metadata": {},
   "source": [
    "Определю функцию, которая посчитает долю пользователей от общего числа на событиях."
   ]
  },
  {
   "cell_type": "code",
   "execution_count": 47,
   "metadata": {},
   "outputs": [],
   "source": [
    "def churn_calc(row):\n",
    "    \"\"\"\n",
    "    Функция построчно делит значение столбца user_id на кол-во уникальных пользователей\n",
    "    в ab_events\n",
    "    \"\"\"\n",
    "    if row['group'] == 'A':\n",
    "        return (row['user_id']/\n",
    "                ab_events[ab_events['group'] == 'A']['user_id'].nunique())\n",
    "    elif row['group'] == 'B':\n",
    "        return (row['user_id']/\n",
    "                ab_events[ab_events['group'] == 'B']['user_id'].nunique())"
   ]
  },
  {
   "cell_type": "markdown",
   "metadata": {},
   "source": [
    "И применю ее к `funnel`."
   ]
  },
  {
   "cell_type": "code",
   "execution_count": 48,
   "metadata": {},
   "outputs": [],
   "source": [
    "funnel['turn'] = funnel.apply(churn_calc, axis=1)"
   ]
  },
  {
   "cell_type": "markdown",
   "metadata": {},
   "source": [
    "Визуализирую воронку событий на графике:"
   ]
  },
  {
   "cell_type": "code",
   "execution_count": 49,
   "metadata": {},
   "outputs": [
    {
     "data": {
      "image/png": "[encoded data removed]",
      "text/plain": [
       "<Figure size 864x432 with 1 Axes>"
      ]
     },
     "metadata": {},
     "output_type": "display_data"
    }
   ],
   "source": [
    "fig, ax = plt.subplots(figsize=(12,6))\n",
    "sns.barplot(data=funnel, y='event_name', x='turn', hue='group')\n",
    "plt.title('Продуктовая воронка по группам теста')\n",
    "plt.xlabel('Доля пользователей на событии')\n",
    "plt.ylabel('Название события');"
   ]
  },
  {
   "cell_type": "markdown",
   "metadata": {},
   "source": [
    "Ожидаемой конверсии по событиям не наблюдается. Группа B даже показывает худшую конверсию по сравнению с группой A.  \n",
    "От логина до просмотра товаров в группе A дошло 64% пользователей, в группе B 55%.  \n",
    "До корзины дошло 30% в A, 27% в B.  \n",
    "И до покупки 31% в A и 28% в B.  \n",
    "Любопытно также, что до покупки доходит больше пользователей, чем до корзины. Некоторые пользователи пропускают этот этап.  \n",
    "\n",
    "Предварительно кажется, что группа B конвертируется хуже.  \n",
    "Важно проверить также статистическую значимость получившихся разниц."
   ]
  },
  {
   "cell_type": "markdown",
   "metadata": {},
   "source": [
    "### Вывод исследовательского анализа"
   ]
  },
  {
   "cell_type": "markdown",
   "metadata": {},
   "source": [
    "Среднее количество событий на пользователя в группе B ниже, чем в группе A.  \n",
    "В группе A на каждом из шагов воронки больше таких пользователей, которые проходили его 4 и более раз.  \n",
    "\n",
    "Наибольшее количество событий произошло с 14 по 22 декабря, где пик - 21 декабря.  \n",
    "Пользователи из группы A совершили в ~4 раза больше событий по сравнению с группой B. Но стоит помнить, что группа B по количеству пользователей меньше в три раза.  \n",
    "С 25 декабря началась промо-акция в честь Нового года и Рождества, но она не оказала влияния на активность пользователей, участвующих в тесте.  \n",
    "\n",
    "Судя по продуктовой воронке - группа B не показывает повышения конверсии. Она в среднем меньше на 4%, а в событии *product_page* конверсия группы B ниже на 9% (64% у группы A против 55% у группы B)"
   ]
  },
  {
   "cell_type": "markdown",
   "metadata": {},
   "source": [
    "## Статистическая проверка значимости"
   ]
  },
  {
   "cell_type": "markdown",
   "metadata": {},
   "source": [
    "### Сравнение групп с помощью z-критерия"
   ]
  },
  {
   "cell_type": "markdown",
   "metadata": {},
   "source": [
    "Статистическую значимость проверю с помощью z-критерия.  \n",
    "Определю функцию, которая будет считать z-критерий и выводить результат проверки.  \n",
    "Так как в тесте будет множественная проверка гипотез - применю поправку Бонферрони."
   ]
  },
  {
   "cell_type": "code",
   "execution_count": 50,
   "metadata": {},
   "outputs": [],
   "source": [
    "def z_value(total_users_A, total_users_B, step_amount_A, step_amount_B, num_tests, alpha_value=0.05, short=False):\n",
    "    \"\"\"\n",
    "    Функция считает z-критерий для события в группах A и B, сравнивает p-value с альфа по умолчанию\n",
    "    равному 0.05 и выводит результат статистической проверки\n",
    "    \"\"\"\n",
    "    alpha = alpha_value / num_tests\n",
    "    \n",
    "    trials = np.array([total_users_A, total_users_B])\n",
    "    successes = np.array([step_amount_A, step_amount_B])\n",
    "    \n",
    "    pA = successes[0]/trials[0] #Вероятность перехода в первой группе\n",
    "    pB = successes[1]/trials[1] #Вероятность перехода во второй группе\n",
    "\n",
    "    p_combined = (successes[0] + successes[1]) / (trials[0] + trials[1])\n",
    "    difference = pA - pB\n",
    "    \n",
    "    # z-значение:\n",
    "    z_value = difference / mth.sqrt(p_combined * (1 - p_combined) * (1/trials[0] + 1/trials[1]))\n",
    "    distr = st.norm(0, 1)\n",
    "    \n",
    "    p_value = (1 - distr.cdf(abs(z_value))) * 2 #Ищу p-value и умножаю на 2, так как тест двусторонний\n",
    "    \n",
    "    print('p-значение: ', p_value)\n",
    "    if short==False:\n",
    "        if p_value < alpha:\n",
    "            print('Отвергаем нулевую гипотезу: между долями есть значимая разница')\n",
    "        else:\n",
    "            print('Не получилось отвергнуть нулевую гипотезу, нет оснований считать доли разными')\n",
    "    else: pass"
   ]
  },
  {
   "cell_type": "markdown",
   "metadata": {},
   "source": [
    "Теперь переберу события и с помощью z-критерия посмотрю, есть ли статистически значимая разница между группами A и B."
   ]
  },
  {
   "cell_type": "code",
   "execution_count": 51,
   "metadata": {},
   "outputs": [
    {
     "name": "stdout",
     "output_type": "stream",
     "text": [
      "Для login\n",
      "p-значение:  0.06605483265382306\n",
      "Не получилось отвергнуть нулевую гипотезу, нет оснований считать доли разными\n",
      "\n",
      "\n",
      "Для product_page\n",
      "p-значение:  4.857760163901048e-06\n",
      "Отвергаем нулевую гипотезу: между долями есть значимая разница\n",
      "\n",
      "\n",
      "Для product_cart\n",
      "p-значение:  0.22385510711753742\n",
      "Не получилось отвергнуть нулевую гипотезу, нет оснований считать доли разными\n",
      "\n",
      "\n",
      "Для purchase\n",
      "p-значение:  0.05909125290474715\n",
      "Не получилось отвергнуть нулевую гипотезу, нет оснований считать доли разными\n",
      "\n",
      "\n"
     ]
    }
   ],
   "source": [
    "for event in ['login', 'product_page', 'product_cart', 'purchase']:\n",
    "    print('Для', event)\n",
    "    z_value(ab_events[ab_events['group'] == 'A']['user_id'].nunique(),\n",
    "            ab_events[ab_events['group'] == 'B']['user_id'].nunique(),\n",
    "            funnel.loc[(funnel['event_name'] == event) & (funnel['group'] == 'A'), 'user_id'].values[0],\n",
    "            funnel.loc[(funnel['event_name'] == event) & (funnel['group'] == 'B'), 'user_id'].values[0],\n",
    "            num_tests = 4)\n",
    "    print('\\n')"
   ]
  },
  {
   "cell_type": "markdown",
   "metadata": {},
   "source": [
    "Статистически значимые различия присутствуют только на событии просмотра товара (*product_page*).  \n",
    "По вороне у группы B конверсия на этом этапе ниже на 6%.  \n",
    "На остальных же этапах воронки существенных различий нет.  \n",
    "В связи с такими результатами следует признать эксперимент провальным.  \n",
    "Внедрение системы рекомендаций не повысило конверсию на ожидаемые 5%.  \n",
    "Следует проверить корректность работы системы и выяснить причины, по которым конверсия в эксперементальной группе снизилась.  \n",
    "Возможные причины:  \n",
    "- неправильно настроенные рекомендации для пользователей  \n",
    "- отвлечение внимания от процесса покупки  \n",
    "- технические ошибки в интерфейсе и прочее  \n",
    "\n",
    "Если проблемы будут обнаружены и устранены - лучше провести повторный тест, учесть недостатки текущего и набрать равное количество пользователей в группах."
   ]
  },
  {
   "cell_type": "markdown",
   "metadata": {},
   "source": [
    "### Вывод статистической проверки"
   ]
  },
  {
   "cell_type": "markdown",
   "metadata": {},
   "source": [
    "Статистически значимые различия обнаружены только на событии просмотра товара (*product_page*).  \n",
    "По вороне у группы B конверсия на этом этапе ниже на 6%.  \n",
    "На остальных же этапах воронки существенных различий нет.  \n",
    "\n",
    "p-value по гипотезе о равенстве конверсии между группами A и B по событиям:  \n",
    "login: 0.066  \n",
    "product_page: 0.00002  \n",
    "product_cart: 0.223  \n",
    "purchase: 0.059  "
   ]
  },
  {
   "cell_type": "markdown",
   "metadata": {},
   "source": [
    "## Заключение"
   ]
  },
  {
   "cell_type": "markdown",
   "metadata": {},
   "source": [
    "**Оценка корректности проведения теста**  \n",
    "Изначально для A/B-теста набран 6701 пользователь.  \n",
    "350 из которых находятся не в целевом регионе (Европа) и были удалены.  \n",
    "344 пользователя участвуют также в конкурирующем тесте, связанном с изменениями интерфейса. Эти пользователи также были удалены из выборки.  \n",
    "Пользователей с более одной группой не обнаружено.  \n",
    "Динамика количества регистраций пользователей из групп схожа. В обеих группах наибольшее количество пользователей зарегестрировалось 14 и 21 декабря.  \n",
    "Количество пользователей в группах на данном этапе:  \n",
    "Группа A - 3634  \n",
    "Группа B - 2373  \n",
    "\n",
    "**Изучение пользовательской активности**  \n",
    "Минимальная дата событий совпадает с моментом набора пользователей в группы.  \n",
    "Максимальная дата событий заканчивается 30 декабря 2020. Завершение теста планировалось 4 января 2021.  \n",
    "Тем не менее так как нас интересует эффект за 14 дней с момента регистрации - его можно расчитать и в пределах имеющихся событий.  \n",
    "\n",
    "Из 6007 пользователей, зарегестрировавшихся и попавших в группы для тестирования, записи о событиях есть только по 3375 пользователям.  \n",
    "56% пользователей не совершало никаких действий после регистрации.  \n",
    "Количество пользователей в группах вновь снизилось:  \n",
    "В группе \"A\": 2604  \n",
    "В группе \"B\": 771  \n",
    "Дисбаланс в количестве пользователей в группах усилился, группа B меньше контрольной более чем в три раза.  \n",
    "Для событий был расчитан лайфтайм и для дальнейшего анализа события отфильтрованы до 14 лайфтайма, так как именно в течение 14 дней мы ожидаем получить результаты повышения конверсии.  \n",
    "Изучены лайфтаймы по событиям:"
   ]
  },
  {
   "cell_type": "code",
   "execution_count": 52,
   "metadata": {},
   "outputs": [
    {
     "data": {
      "text/html": [
       "<style  type=\"text/css\" >\n",
       "#T_e9125_row0_col0,#T_e9125_row1_col0,#T_e9125_row1_col3,#T_e9125_row2_col0,#T_e9125_row3_col0,#T_e9125_row3_col1,#T_e9125_row3_col2,#T_e9125_row3_col3{\n",
       "            background-color:  #f7fcf0;\n",
       "            color:  #000000;\n",
       "        }#T_e9125_row0_col1,#T_e9125_row0_col2,#T_e9125_row0_col3,#T_e9125_row2_col3{\n",
       "            background-color:  #084081;\n",
       "            color:  #f1f1f1;\n",
       "        }#T_e9125_row1_col1{\n",
       "            background-color:  #97d6bb;\n",
       "            color:  #000000;\n",
       "        }#T_e9125_row1_col2{\n",
       "            background-color:  #b7e3bc;\n",
       "            color:  #000000;\n",
       "        }#T_e9125_row2_col1{\n",
       "            background-color:  #7fcdc3;\n",
       "            color:  #000000;\n",
       "        }#T_e9125_row2_col2{\n",
       "            background-color:  #2081b8;\n",
       "            color:  #000000;\n",
       "        }</style><table id=\"T_e9125_\" ><thead>    <tr>        <th class=\"blank level0\" ></th>        <th class=\"col_heading level0 col0\" >median</th>        <th class=\"col_heading level0 col1\" >mean</th>        <th class=\"col_heading level0 col2\" >std</th>        <th class=\"col_heading level0 col3\" >max</th>    </tr>    <tr>        <th class=\"index_name level0\" >event_name</th>        <th class=\"blank\" ></th>        <th class=\"blank\" ></th>        <th class=\"blank\" ></th>        <th class=\"blank\" ></th>    </tr></thead><tbody>\n",
       "                <tr>\n",
       "                        <th id=\"T_e9125_level0_row0\" class=\"row_heading level0 row0\" >login</th>\n",
       "                        <td id=\"T_e9125_row0_col0\" class=\"data row0 col0\" >0</td>\n",
       "                        <td id=\"T_e9125_row0_col1\" class=\"data row0 col1\" >0.014226</td>\n",
       "                        <td id=\"T_e9125_row0_col2\" class=\"data row0 col2\" >0.251481</td>\n",
       "                        <td id=\"T_e9125_row0_col3\" class=\"data row0 col3\" >8</td>\n",
       "            </tr>\n",
       "            <tr>\n",
       "                        <th id=\"T_e9125_level0_row1\" class=\"row_heading level0 row1\" >product_cart</th>\n",
       "                        <td id=\"T_e9125_row1_col0\" class=\"data row1 col0\" >0</td>\n",
       "                        <td id=\"T_e9125_row1_col1\" class=\"data row1 col1\" >0.012048</td>\n",
       "                        <td id=\"T_e9125_row1_col2\" class=\"data row1 col2\" >0.214676</td>\n",
       "                        <td id=\"T_e9125_row1_col3\" class=\"data row1 col3\" >6</td>\n",
       "            </tr>\n",
       "            <tr>\n",
       "                        <th id=\"T_e9125_level0_row2\" class=\"row_heading level0 row2\" >product_page</th>\n",
       "                        <td id=\"T_e9125_row2_col0\" class=\"data row2 col0\" >0</td>\n",
       "                        <td id=\"T_e9125_row2_col1\" class=\"data row2 col1\" >0.012299</td>\n",
       "                        <td id=\"T_e9125_row2_col2\" class=\"data row2 col2\" >0.239972</td>\n",
       "                        <td id=\"T_e9125_row2_col3\" class=\"data row2 col3\" >8</td>\n",
       "            </tr>\n",
       "            <tr>\n",
       "                        <th id=\"T_e9125_level0_row3\" class=\"row_heading level0 row3\" >purchase</th>\n",
       "                        <td id=\"T_e9125_row3_col0\" class=\"data row3 col0\" >0</td>\n",
       "                        <td id=\"T_e9125_row3_col1\" class=\"data row3 col1\" >0.010456</td>\n",
       "                        <td id=\"T_e9125_row3_col2\" class=\"data row3 col2\" >0.197233</td>\n",
       "                        <td id=\"T_e9125_row3_col3\" class=\"data row3 col3\" >6</td>\n",
       "            </tr>\n",
       "    </tbody></table>"
      ],
      "text/plain": [
       "<pandas.io.formats.style.Styler at 0x7fa245b33730>"
      ]
     },
     "execution_count": 52,
     "metadata": {},
     "output_type": "execute_result"
    }
   ],
   "source": [
    "pd.DataFrame(users_lft_by_event.groupby(['user_id', 'event_name'], as_index=False)\n",
    "             .agg({'lifetime':'first'}).groupby('event_name')['lifetime']\n",
    "             .agg(['median','mean','std', 'max'])).style.background_gradient('GnBu')"
   ]
  },
  {
   "cell_type": "markdown",
   "metadata": {},
   "source": [
    "Большинство пользователей совершает каждое из событий в течение 24 часов после регистрации, так как медианна равна 0 и среднее значение не сильно выше нее. Стандартное отклонение самое высокое у события login и равно 0.28 дня, то есть первое событие авторизации разнится где-то на 6-7 часов для пользователей.  \n",
    "Максимальные лайфтаймы для событий меньше четырнадцати дней и составляют 6 или 8 дней в зависимости от события.  \n",
    "\n",
    "Оценка соответствия теста техническим требованиям показала, что формальные требования выполняются.  \n",
    "Однако есть угроза искажения достоверности результатов теста в связи с малым количеством пользователей в группе B по сравнению с группой A.  \n",
    "\n",
    "**Исследовательский анализ**  \n",
    "Среднее количество событий на пользователя в группе B ниже, чем в группе A.  \n",
    "В группе A на каждом из шагов воронки больше таких пользователей, которые проходили его 4 и более раз.  \n",
    "\n",
    "Наибольшее количество событий произошло с 14 по 22 декабря, где пик - 21 декабря.  \n",
    "Пользователи из группы A совершили в ~4 раза больше событий по сравнению с группой B. Но стоит помнить, что группа B по количеству пользователей меньше в три раза.  \n",
    "С 25 декабря началась промо-акция в честь Нового года и Рождества, но она не оказала влияния на активность пользователей, участвующих в тесте.  \n",
    "Продуктовая воронка с процентом конверсии по этапам представлена на графике:"
   ]
  },
  {
   "cell_type": "code",
   "execution_count": 53,
   "metadata": {},
   "outputs": [
    {
     "data": {
      "image/png": "[encoded data removed]",
      "text/plain": [
       "<Figure size 864x432 with 1 Axes>"
      ]
     },
     "metadata": {},
     "output_type": "display_data"
    }
   ],
   "source": [
    "fig, ax = plt.subplots(figsize=(12,6))\n",
    "sns.barplot(data=funnel, y='event_name', x='turn', hue='group')\n",
    "plt.title('Продуктовая воронка по группам теста')\n",
    "plt.xlabel('Доля пользователей на событии')\n",
    "plt.ylabel('Название события');"
   ]
  },
  {
   "cell_type": "markdown",
   "metadata": {},
   "source": [
    "Судя по продуктовой воронке - группа B не показывает повышения конверсии. Она в среднем меньше на 4%, а в событии *product_page* конверсия группы B ниже на 9% (64% у группы A против 55% у группы B)\n",
    "\n",
    "**Статистическая проверка гипотез**  \n",
    "С применением z-критерия была оценена статистическая значимость разности показателей конверсии групп A и B на каждом из этапов продуктовой воронки.  \n",
    "Статистически значимые различия присутствуют только на событии просмотра товара (product_page).  \n",
    "По вороне у группы B конверсия на этом этапе ниже на 9%.  \n",
    "На остальных же этапах воронки существенных различий нет.  \n",
    "\n",
    "В связи с такими результатами следует признать эксперимент **провальным**.  \n",
    "<br>Внедрение системы рекомендаций не повысило конверсию на ожидаемые 5%.  \n",
    "Следует проверить корректность работы системы и выяснить причины, по которым конверсия в эксперементальной группе снизилась.  \n",
    "Возможные причины:  \n",
    "- неправильно настроенные рекомендации для пользователей\n",
    "- отвлечение внимания от процесса покупки\n",
    "- технические ошибки в интерфейсе и прочее\n",
    "\n",
    "Если проблемы будут обнаружены и устранены - лучше провести повторный тест, учесть недостатки текущего и набрать равное количество пользователей в группах."
   ]
  }
 ],
 "metadata": {
  "ExecuteTimeLog": [
   {
    "duration": 381,
    "start_time": "2023-11-01T11:49:14.460Z"
   },
   {
    "duration": 82,
    "start_time": "2023-11-01T11:49:24.155Z"
   },
   {
    "duration": 34,
    "start_time": "2023-11-01T11:50:46.484Z"
   },
   {
    "duration": 197,
    "start_time": "2023-11-01T12:20:15.353Z"
   },
   {
    "duration": 88,
    "start_time": "2023-11-01T12:20:17.024Z"
   },
   {
    "duration": 83,
    "start_time": "2023-11-01T12:21:20.783Z"
   },
   {
    "duration": 700,
    "start_time": "2023-11-01T12:22:11.850Z"
   },
   {
    "duration": 548,
    "start_time": "2023-11-01T12:22:18.922Z"
   },
   {
    "duration": 558,
    "start_time": "2023-11-01T12:22:29.431Z"
   },
   {
    "duration": 526,
    "start_time": "2023-11-01T12:22:35.968Z"
   },
   {
    "duration": 86,
    "start_time": "2023-11-01T12:23:16.981Z"
   },
   {
    "duration": 39,
    "start_time": "2023-11-01T12:23:23.872Z"
   },
   {
    "duration": 20,
    "start_time": "2023-11-01T12:26:07.836Z"
   },
   {
    "duration": 10,
    "start_time": "2023-11-01T12:26:26.765Z"
   },
   {
    "duration": 20,
    "start_time": "2023-11-01T12:26:30.659Z"
   },
   {
    "duration": 15,
    "start_time": "2023-11-01T12:31:49.667Z"
   },
   {
    "duration": 62,
    "start_time": "2023-11-01T12:31:54.044Z"
   },
   {
    "duration": 17,
    "start_time": "2023-11-01T12:31:57.158Z"
   },
   {
    "duration": 14,
    "start_time": "2023-11-01T12:31:59.841Z"
   },
   {
    "duration": 66,
    "start_time": "2023-11-01T12:32:26.497Z"
   },
   {
    "duration": 12,
    "start_time": "2023-11-01T12:32:49.257Z"
   },
   {
    "duration": 21,
    "start_time": "2023-11-01T12:33:56.200Z"
   },
   {
    "duration": 13,
    "start_time": "2023-11-01T12:34:06.009Z"
   },
   {
    "duration": 114,
    "start_time": "2023-11-01T12:35:50.864Z"
   },
   {
    "duration": 22,
    "start_time": "2023-11-01T12:35:55.585Z"
   },
   {
    "duration": 51,
    "start_time": "2023-11-01T12:36:04.303Z"
   },
   {
    "duration": 13,
    "start_time": "2023-11-01T12:36:08.223Z"
   },
   {
    "duration": 31,
    "start_time": "2023-11-01T13:04:33.095Z"
   },
   {
    "duration": 9,
    "start_time": "2023-11-01T13:04:39.194Z"
   },
   {
    "duration": 223,
    "start_time": "2023-11-01T13:04:42.624Z"
   },
   {
    "duration": 4,
    "start_time": "2023-11-01T13:06:27.745Z"
   },
   {
    "duration": 3,
    "start_time": "2023-11-01T13:06:30.192Z"
   },
   {
    "duration": 3,
    "start_time": "2023-11-01T13:06:33.630Z"
   },
   {
    "duration": 81,
    "start_time": "2023-11-01T13:07:33.200Z"
   },
   {
    "duration": 79,
    "start_time": "2023-11-01T13:07:38.660Z"
   },
   {
    "duration": 260,
    "start_time": "2023-11-01T13:07:42.881Z"
   },
   {
    "duration": 5,
    "start_time": "2023-11-01T13:08:17.178Z"
   },
   {
    "duration": 210,
    "start_time": "2023-11-01T13:08:51.972Z"
   },
   {
    "duration": 5,
    "start_time": "2023-11-01T13:09:14.602Z"
   },
   {
    "duration": 198,
    "start_time": "2023-11-01T13:09:27.218Z"
   },
   {
    "duration": 9,
    "start_time": "2023-11-01T13:09:35.712Z"
   },
   {
    "duration": 4,
    "start_time": "2023-11-01T13:10:29.084Z"
   },
   {
    "duration": 202,
    "start_time": "2023-11-01T13:10:44.067Z"
   },
   {
    "duration": 33,
    "start_time": "2023-11-01T13:11:41.213Z"
   },
   {
    "duration": 32,
    "start_time": "2023-11-01T13:11:52.677Z"
   },
   {
    "duration": 34,
    "start_time": "2023-11-01T13:12:52.869Z"
   },
   {
    "duration": 53,
    "start_time": "2023-11-01T13:12:55.839Z"
   },
   {
    "duration": 92,
    "start_time": "2023-11-01T13:13:02.565Z"
   },
   {
    "duration": 33,
    "start_time": "2023-11-01T13:13:06.225Z"
   },
   {
    "duration": 27,
    "start_time": "2023-11-01T13:15:28.650Z"
   },
   {
    "duration": 14,
    "start_time": "2023-11-01T13:33:54.022Z"
   },
   {
    "duration": 69,
    "start_time": "2023-11-01T13:34:03.036Z"
   },
   {
    "duration": 14,
    "start_time": "2023-11-01T13:34:21.527Z"
   },
   {
    "duration": 12,
    "start_time": "2023-11-01T13:34:43.419Z"
   },
   {
    "duration": 8,
    "start_time": "2023-11-01T13:37:54.262Z"
   },
   {
    "duration": 7,
    "start_time": "2023-11-01T13:38:16.214Z"
   },
   {
    "duration": 13,
    "start_time": "2023-11-01T13:39:05.511Z"
   },
   {
    "duration": 21,
    "start_time": "2023-11-01T13:39:16.302Z"
   },
   {
    "duration": 1044,
    "start_time": "2023-11-01T13:40:59.968Z"
   },
   {
    "duration": 15,
    "start_time": "2023-11-01T13:41:44.486Z"
   },
   {
    "duration": 24,
    "start_time": "2023-11-01T13:41:56.638Z"
   },
   {
    "duration": 21,
    "start_time": "2023-11-01T13:41:59.974Z"
   },
   {
    "duration": 18,
    "start_time": "2023-11-01T13:42:08.560Z"
   },
   {
    "duration": 19,
    "start_time": "2023-11-01T13:42:13.278Z"
   },
   {
    "duration": 15,
    "start_time": "2023-11-01T13:42:21.705Z"
   },
   {
    "duration": 31,
    "start_time": "2023-11-01T13:42:58.332Z"
   },
   {
    "duration": 284,
    "start_time": "2023-11-01T13:44:11.381Z"
   },
   {
    "duration": 3,
    "start_time": "2023-11-01T13:44:31.151Z"
   },
   {
    "duration": 283,
    "start_time": "2023-11-01T13:44:35.359Z"
   },
   {
    "duration": 252,
    "start_time": "2023-11-01T13:45:25.865Z"
   },
   {
    "duration": 329,
    "start_time": "2023-11-01T13:45:28.663Z"
   },
   {
    "duration": 275,
    "start_time": "2023-11-01T13:46:22.099Z"
   },
   {
    "duration": 280,
    "start_time": "2023-11-01T13:47:52.256Z"
   },
   {
    "duration": 273,
    "start_time": "2023-11-01T13:48:08.674Z"
   },
   {
    "duration": 274,
    "start_time": "2023-11-01T13:48:14.500Z"
   },
   {
    "duration": 271,
    "start_time": "2023-11-01T13:48:53.184Z"
   },
   {
    "duration": 13,
    "start_time": "2023-11-01T13:52:50.761Z"
   },
   {
    "duration": 12,
    "start_time": "2023-11-01T13:53:04.843Z"
   },
   {
    "duration": 13,
    "start_time": "2023-11-01T13:53:13.708Z"
   },
   {
    "duration": 19,
    "start_time": "2023-11-01T13:57:32.194Z"
   },
   {
    "duration": 20,
    "start_time": "2023-11-01T13:57:45.696Z"
   },
   {
    "duration": 17,
    "start_time": "2023-11-01T13:58:09.025Z"
   },
   {
    "duration": 14,
    "start_time": "2023-11-01T13:58:16.952Z"
   },
   {
    "duration": 12,
    "start_time": "2023-11-01T13:58:39.699Z"
   },
   {
    "duration": 18,
    "start_time": "2023-11-01T13:59:04.825Z"
   },
   {
    "duration": 17,
    "start_time": "2023-11-01T13:59:38.360Z"
   },
   {
    "duration": 71,
    "start_time": "2023-11-01T13:59:51.168Z"
   },
   {
    "duration": 16,
    "start_time": "2023-11-01T13:59:55.745Z"
   },
   {
    "duration": 13,
    "start_time": "2023-11-01T14:02:11.698Z"
   },
   {
    "duration": 16,
    "start_time": "2023-11-01T14:02:15.156Z"
   },
   {
    "duration": 12,
    "start_time": "2023-11-01T14:03:39.828Z"
   },
   {
    "duration": 13,
    "start_time": "2023-11-01T14:03:49.308Z"
   },
   {
    "duration": 7,
    "start_time": "2023-11-01T14:04:10.016Z"
   },
   {
    "duration": 5,
    "start_time": "2023-11-01T14:04:16.581Z"
   },
   {
    "duration": 13,
    "start_time": "2023-11-01T14:04:32.990Z"
   },
   {
    "duration": 10,
    "start_time": "2023-11-01T14:05:02.525Z"
   },
   {
    "duration": 10,
    "start_time": "2023-11-01T14:05:05.252Z"
   },
   {
    "duration": 3,
    "start_time": "2023-11-01T14:05:08.961Z"
   },
   {
    "duration": 151,
    "start_time": "2023-11-01T14:05:08.966Z"
   },
   {
    "duration": 105,
    "start_time": "2023-11-01T14:05:09.119Z"
   },
   {
    "duration": 127,
    "start_time": "2023-11-01T14:05:09.226Z"
   },
   {
    "duration": 499,
    "start_time": "2023-11-01T14:05:09.356Z"
   },
   {
    "duration": 28,
    "start_time": "2023-11-01T14:05:09.857Z"
   },
   {
    "duration": 84,
    "start_time": "2023-11-01T14:05:09.887Z"
   },
   {
    "duration": 70,
    "start_time": "2023-11-01T14:05:09.972Z"
   },
   {
    "duration": 100,
    "start_time": "2023-11-01T14:05:10.045Z"
   },
   {
    "duration": 41,
    "start_time": "2023-11-01T14:05:10.147Z"
   },
   {
    "duration": 155,
    "start_time": "2023-11-01T14:05:10.190Z"
   },
   {
    "duration": 231,
    "start_time": "2023-11-01T14:05:10.347Z"
   },
   {
    "duration": 201,
    "start_time": "2023-11-01T14:05:10.579Z"
   },
   {
    "duration": 28,
    "start_time": "2023-11-01T14:05:10.783Z"
   },
   {
    "duration": 10,
    "start_time": "2023-11-01T14:05:10.823Z"
   },
   {
    "duration": 305,
    "start_time": "2023-11-01T14:05:10.835Z"
   },
   {
    "duration": 13,
    "start_time": "2023-11-01T14:05:11.141Z"
   },
   {
    "duration": 21,
    "start_time": "2023-11-01T14:05:12.887Z"
   },
   {
    "duration": 13,
    "start_time": "2023-11-01T14:05:16.793Z"
   },
   {
    "duration": 15,
    "start_time": "2023-11-01T14:05:22.266Z"
   },
   {
    "duration": 8,
    "start_time": "2023-11-01T14:05:32.489Z"
   },
   {
    "duration": 10,
    "start_time": "2023-11-01T14:06:01.956Z"
   },
   {
    "duration": 8,
    "start_time": "2023-11-01T14:06:27.318Z"
   },
   {
    "duration": 12,
    "start_time": "2023-11-01T14:07:19.109Z"
   },
   {
    "duration": 14,
    "start_time": "2023-11-01T14:08:13.993Z"
   },
   {
    "duration": 7,
    "start_time": "2023-11-01T14:08:40.073Z"
   },
   {
    "duration": 9,
    "start_time": "2023-11-01T14:08:44.219Z"
   },
   {
    "duration": 14,
    "start_time": "2023-11-01T14:09:17.185Z"
   },
   {
    "duration": 16,
    "start_time": "2023-11-01T14:09:40.648Z"
   },
   {
    "duration": 17,
    "start_time": "2023-11-01T14:09:56.325Z"
   },
   {
    "duration": 17,
    "start_time": "2023-11-01T14:12:36.731Z"
   },
   {
    "duration": 25,
    "start_time": "2023-11-01T14:16:09.313Z"
   },
   {
    "duration": 12,
    "start_time": "2023-11-01T14:16:49.216Z"
   },
   {
    "duration": 11,
    "start_time": "2023-11-01T14:17:57.995Z"
   },
   {
    "duration": 14,
    "start_time": "2023-11-01T14:18:05.919Z"
   },
   {
    "duration": 15,
    "start_time": "2023-11-01T14:18:14.634Z"
   },
   {
    "duration": 11,
    "start_time": "2023-11-01T14:18:39.654Z"
   },
   {
    "duration": 14,
    "start_time": "2023-11-01T14:18:45.126Z"
   },
   {
    "duration": 13,
    "start_time": "2023-11-01T14:19:56.401Z"
   },
   {
    "duration": 3,
    "start_time": "2023-11-01T14:20:04.650Z"
   },
   {
    "duration": 26,
    "start_time": "2023-11-01T14:20:04.656Z"
   },
   {
    "duration": 59,
    "start_time": "2023-11-01T14:20:04.683Z"
   },
   {
    "duration": 69,
    "start_time": "2023-11-01T14:20:04.744Z"
   },
   {
    "duration": 492,
    "start_time": "2023-11-01T14:20:04.815Z"
   },
   {
    "duration": 33,
    "start_time": "2023-11-01T14:20:05.309Z"
   },
   {
    "duration": 34,
    "start_time": "2023-11-01T14:20:05.343Z"
   },
   {
    "duration": 142,
    "start_time": "2023-11-01T14:20:05.378Z"
   },
   {
    "duration": 132,
    "start_time": "2023-11-01T14:20:05.522Z"
   },
   {
    "duration": 92,
    "start_time": "2023-11-01T14:20:05.655Z"
   },
   {
    "duration": 348,
    "start_time": "2023-11-01T14:20:05.748Z"
   },
   {
    "duration": 252,
    "start_time": "2023-11-01T14:20:06.098Z"
   },
   {
    "duration": 187,
    "start_time": "2023-11-01T14:20:06.351Z"
   },
   {
    "duration": 28,
    "start_time": "2023-11-01T14:20:06.541Z"
   },
   {
    "duration": 119,
    "start_time": "2023-11-01T14:20:06.570Z"
   },
   {
    "duration": 380,
    "start_time": "2023-11-01T14:20:06.691Z"
   },
   {
    "duration": 13,
    "start_time": "2023-11-01T14:20:07.072Z"
   },
   {
    "duration": 109,
    "start_time": "2023-11-01T14:20:07.087Z"
   },
   {
    "duration": 248,
    "start_time": "2023-11-01T14:20:07.198Z"
   },
   {
    "duration": 154,
    "start_time": "2023-11-01T14:20:07.448Z"
   },
   {
    "duration": 12,
    "start_time": "2023-11-01T14:20:09.706Z"
   },
   {
    "duration": 10,
    "start_time": "2023-11-01T14:20:13.756Z"
   },
   {
    "duration": 20,
    "start_time": "2023-11-01T14:20:17.317Z"
   },
   {
    "duration": 16,
    "start_time": "2023-11-01T14:20:27.934Z"
   },
   {
    "duration": 11,
    "start_time": "2023-11-01T14:20:40.153Z"
   },
   {
    "duration": 105,
    "start_time": "2023-11-01T14:20:47.406Z"
   },
   {
    "duration": 22,
    "start_time": "2023-11-01T14:20:52.416Z"
   },
   {
    "duration": 12,
    "start_time": "2023-11-01T14:21:06.482Z"
   },
   {
    "duration": 8,
    "start_time": "2023-11-01T14:21:12.857Z"
   },
   {
    "duration": 9,
    "start_time": "2023-11-01T14:21:40.341Z"
   },
   {
    "duration": 1407,
    "start_time": "2023-11-02T06:01:27.615Z"
   },
   {
    "duration": 3,
    "start_time": "2023-11-02T06:01:29.025Z"
   },
   {
    "duration": 97,
    "start_time": "2023-11-02T06:01:29.030Z"
   },
   {
    "duration": 176,
    "start_time": "2023-11-02T06:01:29.129Z"
   },
   {
    "duration": 689,
    "start_time": "2023-11-02T06:01:29.307Z"
   },
   {
    "duration": 66,
    "start_time": "2023-11-02T06:01:29.997Z"
   },
   {
    "duration": 22,
    "start_time": "2023-11-02T06:01:30.065Z"
   },
   {
    "duration": 36,
    "start_time": "2023-11-02T06:01:30.088Z"
   },
   {
    "duration": 102,
    "start_time": "2023-11-02T06:01:30.126Z"
   },
   {
    "duration": 12,
    "start_time": "2023-11-02T06:01:30.230Z"
   },
   {
    "duration": 140,
    "start_time": "2023-11-02T06:01:30.244Z"
   },
   {
    "duration": 274,
    "start_time": "2023-11-02T06:01:30.386Z"
   },
   {
    "duration": 228,
    "start_time": "2023-11-02T06:01:30.662Z"
   },
   {
    "duration": 30,
    "start_time": "2023-11-02T06:01:30.893Z"
   },
   {
    "duration": 22,
    "start_time": "2023-11-02T06:01:30.925Z"
   },
   {
    "duration": 377,
    "start_time": "2023-11-02T06:01:30.949Z"
   },
   {
    "duration": 24,
    "start_time": "2023-11-02T06:01:31.328Z"
   },
   {
    "duration": 29,
    "start_time": "2023-11-02T06:01:31.354Z"
   },
   {
    "duration": 21,
    "start_time": "2023-11-02T06:01:31.385Z"
   },
   {
    "duration": 31,
    "start_time": "2023-11-02T06:01:31.408Z"
   },
   {
    "duration": 17,
    "start_time": "2023-11-02T06:57:05.394Z"
   },
   {
    "duration": 16,
    "start_time": "2023-11-02T06:57:19.152Z"
   },
   {
    "duration": 15,
    "start_time": "2023-11-02T06:58:02.299Z"
   },
   {
    "duration": 1340,
    "start_time": "2023-11-02T06:58:24.643Z"
   },
   {
    "duration": 9,
    "start_time": "2023-11-02T06:58:34.086Z"
   },
   {
    "duration": 24,
    "start_time": "2023-11-02T06:58:40.311Z"
   },
   {
    "duration": 10,
    "start_time": "2023-11-02T06:59:02.866Z"
   },
   {
    "duration": 15,
    "start_time": "2023-11-02T07:00:52.089Z"
   },
   {
    "duration": 21,
    "start_time": "2023-11-02T07:01:31.860Z"
   },
   {
    "duration": 23,
    "start_time": "2023-11-02T07:01:45.711Z"
   },
   {
    "duration": 152,
    "start_time": "2023-11-02T07:13:45.372Z"
   },
   {
    "duration": 19,
    "start_time": "2023-11-02T07:13:47.966Z"
   },
   {
    "duration": 20,
    "start_time": "2023-11-02T07:14:04.623Z"
   },
   {
    "duration": 18,
    "start_time": "2023-11-02T07:14:08.645Z"
   },
   {
    "duration": 14,
    "start_time": "2023-11-02T07:14:20.790Z"
   },
   {
    "duration": 9,
    "start_time": "2023-11-02T07:14:33.242Z"
   },
   {
    "duration": 9,
    "start_time": "2023-11-02T07:14:37.834Z"
   },
   {
    "duration": 9,
    "start_time": "2023-11-02T07:17:38.310Z"
   },
   {
    "duration": 8,
    "start_time": "2023-11-02T07:18:42.517Z"
   },
   {
    "duration": 4,
    "start_time": "2023-11-02T07:19:14.610Z"
   },
   {
    "duration": 24,
    "start_time": "2023-11-02T07:19:16.819Z"
   },
   {
    "duration": 19,
    "start_time": "2023-11-02T07:19:22.132Z"
   },
   {
    "duration": 30,
    "start_time": "2023-11-02T07:19:26.940Z"
   },
   {
    "duration": 19,
    "start_time": "2023-11-02T07:19:55.668Z"
   },
   {
    "duration": 28,
    "start_time": "2023-11-02T07:20:01.065Z"
   },
   {
    "duration": 19,
    "start_time": "2023-11-02T07:20:06.188Z"
   },
   {
    "duration": 18,
    "start_time": "2023-11-02T07:20:32.028Z"
   },
   {
    "duration": 20,
    "start_time": "2023-11-02T07:21:03.330Z"
   },
   {
    "duration": 20,
    "start_time": "2023-11-02T07:21:09.423Z"
   },
   {
    "duration": 2,
    "start_time": "2023-11-02T07:21:25.126Z"
   },
   {
    "duration": 2,
    "start_time": "2023-11-02T07:21:28.047Z"
   },
   {
    "duration": 5,
    "start_time": "2023-11-02T07:21:28.051Z"
   },
   {
    "duration": 50,
    "start_time": "2023-11-02T07:21:28.058Z"
   },
   {
    "duration": 69,
    "start_time": "2023-11-02T07:21:28.110Z"
   },
   {
    "duration": 509,
    "start_time": "2023-11-02T07:21:28.181Z"
   },
   {
    "duration": 30,
    "start_time": "2023-11-02T07:21:28.692Z"
   },
   {
    "duration": 24,
    "start_time": "2023-11-02T07:21:28.723Z"
   },
   {
    "duration": 37,
    "start_time": "2023-11-02T07:21:28.749Z"
   },
   {
    "duration": 82,
    "start_time": "2023-11-02T07:21:28.788Z"
   },
   {
    "duration": 13,
    "start_time": "2023-11-02T07:21:28.871Z"
   },
   {
    "duration": 107,
    "start_time": "2023-11-02T07:21:28.886Z"
   },
   {
    "duration": 237,
    "start_time": "2023-11-02T07:21:28.995Z"
   },
   {
    "duration": 190,
    "start_time": "2023-11-02T07:21:29.233Z"
   },
   {
    "duration": 36,
    "start_time": "2023-11-02T07:21:29.426Z"
   },
   {
    "duration": 8,
    "start_time": "2023-11-02T07:21:29.463Z"
   },
   {
    "duration": 300,
    "start_time": "2023-11-02T07:21:29.473Z"
   },
   {
    "duration": 15,
    "start_time": "2023-11-02T07:21:29.774Z"
   },
   {
    "duration": 33,
    "start_time": "2023-11-02T07:21:29.790Z"
   },
   {
    "duration": 7,
    "start_time": "2023-11-02T07:21:29.825Z"
   },
   {
    "duration": 25,
    "start_time": "2023-11-02T07:21:29.834Z"
   },
   {
    "duration": 36,
    "start_time": "2023-11-02T07:21:29.860Z"
   },
   {
    "duration": 13,
    "start_time": "2023-11-02T07:21:29.898Z"
   },
   {
    "duration": 30,
    "start_time": "2023-11-02T07:21:29.913Z"
   },
   {
    "duration": 10,
    "start_time": "2023-11-02T07:21:29.945Z"
   },
   {
    "duration": 2,
    "start_time": "2023-11-02T07:21:36.892Z"
   },
   {
    "duration": 10,
    "start_time": "2023-11-02T07:24:16.555Z"
   },
   {
    "duration": 12,
    "start_time": "2023-11-02T07:24:40.243Z"
   },
   {
    "duration": 4,
    "start_time": "2023-11-02T07:24:50.905Z"
   },
   {
    "duration": 17,
    "start_time": "2023-11-02T07:25:18.888Z"
   },
   {
    "duration": 16,
    "start_time": "2023-11-02T07:25:25.010Z"
   },
   {
    "duration": 17,
    "start_time": "2023-11-02T07:25:39.538Z"
   },
   {
    "duration": 14,
    "start_time": "2023-11-02T07:26:10.126Z"
   },
   {
    "duration": 8,
    "start_time": "2023-11-02T07:27:00.950Z"
   },
   {
    "duration": 21,
    "start_time": "2023-11-02T07:27:45.384Z"
   },
   {
    "duration": 15,
    "start_time": "2023-11-02T07:27:55.730Z"
   },
   {
    "duration": 19,
    "start_time": "2023-11-02T07:28:05.894Z"
   },
   {
    "duration": 18,
    "start_time": "2023-11-02T07:28:58.083Z"
   },
   {
    "duration": 20,
    "start_time": "2023-11-02T07:30:16.443Z"
   },
   {
    "duration": 17,
    "start_time": "2023-11-02T07:30:41.048Z"
   },
   {
    "duration": 17,
    "start_time": "2023-11-02T07:31:18.956Z"
   },
   {
    "duration": 26,
    "start_time": "2023-11-02T07:32:44.845Z"
   },
   {
    "duration": 20,
    "start_time": "2023-11-02T07:32:53.101Z"
   },
   {
    "duration": 3,
    "start_time": "2023-11-02T07:32:56.477Z"
   },
   {
    "duration": 21,
    "start_time": "2023-11-02T07:32:56.482Z"
   },
   {
    "duration": 41,
    "start_time": "2023-11-02T07:32:56.505Z"
   },
   {
    "duration": 68,
    "start_time": "2023-11-02T07:32:56.547Z"
   },
   {
    "duration": 504,
    "start_time": "2023-11-02T07:32:56.618Z"
   },
   {
    "duration": 27,
    "start_time": "2023-11-02T07:32:57.123Z"
   },
   {
    "duration": 20,
    "start_time": "2023-11-02T07:32:57.152Z"
   },
   {
    "duration": 13,
    "start_time": "2023-11-02T07:32:57.173Z"
   },
   {
    "duration": 84,
    "start_time": "2023-11-02T07:32:57.187Z"
   },
   {
    "duration": 14,
    "start_time": "2023-11-02T07:32:57.272Z"
   },
   {
    "duration": 125,
    "start_time": "2023-11-02T07:32:57.288Z"
   },
   {
    "duration": 233,
    "start_time": "2023-11-02T07:32:57.415Z"
   },
   {
    "duration": 204,
    "start_time": "2023-11-02T07:32:57.650Z"
   },
   {
    "duration": 31,
    "start_time": "2023-11-02T07:32:57.858Z"
   },
   {
    "duration": 10,
    "start_time": "2023-11-02T07:32:57.891Z"
   },
   {
    "duration": 316,
    "start_time": "2023-11-02T07:32:57.902Z"
   },
   {
    "duration": 15,
    "start_time": "2023-11-02T07:32:58.220Z"
   },
   {
    "duration": 15,
    "start_time": "2023-11-02T07:32:58.247Z"
   },
   {
    "duration": 16,
    "start_time": "2023-11-02T07:32:58.264Z"
   },
   {
    "duration": 25,
    "start_time": "2023-11-02T07:32:58.282Z"
   },
   {
    "duration": 19,
    "start_time": "2023-11-02T07:32:58.310Z"
   },
   {
    "duration": 19,
    "start_time": "2023-11-02T07:32:58.331Z"
   },
   {
    "duration": 23,
    "start_time": "2023-11-02T07:32:58.352Z"
   },
   {
    "duration": 15,
    "start_time": "2023-11-02T07:32:58.377Z"
   },
   {
    "duration": 13,
    "start_time": "2023-11-02T07:32:59.283Z"
   },
   {
    "duration": 10,
    "start_time": "2023-11-02T07:33:02.659Z"
   },
   {
    "duration": 3,
    "start_time": "2023-11-02T07:33:15.933Z"
   },
   {
    "duration": 13,
    "start_time": "2023-11-02T07:33:15.938Z"
   },
   {
    "duration": 42,
    "start_time": "2023-11-02T07:33:15.953Z"
   },
   {
    "duration": 66,
    "start_time": "2023-11-02T07:33:15.997Z"
   },
   {
    "duration": 506,
    "start_time": "2023-11-02T07:33:16.066Z"
   },
   {
    "duration": 28,
    "start_time": "2023-11-02T07:33:16.574Z"
   },
   {
    "duration": 22,
    "start_time": "2023-11-02T07:33:16.604Z"
   },
   {
    "duration": 20,
    "start_time": "2023-11-02T07:33:16.628Z"
   },
   {
    "duration": 71,
    "start_time": "2023-11-02T07:33:16.650Z"
   },
   {
    "duration": 32,
    "start_time": "2023-11-02T07:33:16.723Z"
   },
   {
    "duration": 111,
    "start_time": "2023-11-02T07:33:16.756Z"
   },
   {
    "duration": 207,
    "start_time": "2023-11-02T07:33:16.869Z"
   },
   {
    "duration": 182,
    "start_time": "2023-11-02T07:33:17.078Z"
   },
   {
    "duration": 28,
    "start_time": "2023-11-02T07:33:17.263Z"
   },
   {
    "duration": 7,
    "start_time": "2023-11-02T07:33:17.292Z"
   },
   {
    "duration": 304,
    "start_time": "2023-11-02T07:33:17.301Z"
   },
   {
    "duration": 13,
    "start_time": "2023-11-02T07:33:17.607Z"
   },
   {
    "duration": 31,
    "start_time": "2023-11-02T07:33:17.622Z"
   },
   {
    "duration": 6,
    "start_time": "2023-11-02T07:33:17.655Z"
   },
   {
    "duration": 18,
    "start_time": "2023-11-02T07:33:17.663Z"
   },
   {
    "duration": 18,
    "start_time": "2023-11-02T07:33:17.683Z"
   },
   {
    "duration": 14,
    "start_time": "2023-11-02T07:33:17.703Z"
   },
   {
    "duration": 38,
    "start_time": "2023-11-02T07:33:17.719Z"
   },
   {
    "duration": 15,
    "start_time": "2023-11-02T07:33:17.759Z"
   },
   {
    "duration": 43,
    "start_time": "2023-11-02T07:33:17.776Z"
   },
   {
    "duration": 11,
    "start_time": "2023-11-02T07:33:55.442Z"
   },
   {
    "duration": 3,
    "start_time": "2023-11-02T07:34:03.280Z"
   },
   {
    "duration": 20,
    "start_time": "2023-11-02T07:34:03.285Z"
   },
   {
    "duration": 47,
    "start_time": "2023-11-02T07:34:03.307Z"
   },
   {
    "duration": 65,
    "start_time": "2023-11-02T07:34:03.356Z"
   },
   {
    "duration": 496,
    "start_time": "2023-11-02T07:34:03.423Z"
   },
   {
    "duration": 27,
    "start_time": "2023-11-02T07:34:03.920Z"
   },
   {
    "duration": 22,
    "start_time": "2023-11-02T07:34:03.949Z"
   },
   {
    "duration": 24,
    "start_time": "2023-11-02T07:34:03.972Z"
   },
   {
    "duration": 78,
    "start_time": "2023-11-02T07:34:03.997Z"
   },
   {
    "duration": 22,
    "start_time": "2023-11-02T07:34:04.076Z"
   },
   {
    "duration": 114,
    "start_time": "2023-11-02T07:34:04.100Z"
   },
   {
    "duration": 216,
    "start_time": "2023-11-02T07:34:04.216Z"
   },
   {
    "duration": 205,
    "start_time": "2023-11-02T07:34:04.434Z"
   },
   {
    "duration": 29,
    "start_time": "2023-11-02T07:34:04.646Z"
   },
   {
    "duration": 7,
    "start_time": "2023-11-02T07:34:04.677Z"
   },
   {
    "duration": 311,
    "start_time": "2023-11-02T07:34:04.686Z"
   },
   {
    "duration": 16,
    "start_time": "2023-11-02T07:34:04.999Z"
   },
   {
    "duration": 34,
    "start_time": "2023-11-02T07:34:05.017Z"
   },
   {
    "duration": 13,
    "start_time": "2023-11-02T07:34:05.053Z"
   },
   {
    "duration": 49,
    "start_time": "2023-11-02T07:34:05.068Z"
   },
   {
    "duration": 38,
    "start_time": "2023-11-02T07:34:05.120Z"
   },
   {
    "duration": 25,
    "start_time": "2023-11-02T07:34:05.160Z"
   },
   {
    "duration": 75,
    "start_time": "2023-11-02T07:34:05.187Z"
   },
   {
    "duration": 19,
    "start_time": "2023-11-02T07:34:05.263Z"
   },
   {
    "duration": 74,
    "start_time": "2023-11-02T07:34:05.284Z"
   },
   {
    "duration": 9,
    "start_time": "2023-11-02T07:34:46.551Z"
   },
   {
    "duration": 3,
    "start_time": "2023-11-02T07:34:51.420Z"
   },
   {
    "duration": 10,
    "start_time": "2023-11-02T07:34:51.426Z"
   },
   {
    "duration": 44,
    "start_time": "2023-11-02T07:34:51.437Z"
   },
   {
    "duration": 70,
    "start_time": "2023-11-02T07:34:51.483Z"
   },
   {
    "duration": 494,
    "start_time": "2023-11-02T07:34:51.555Z"
   },
   {
    "duration": 27,
    "start_time": "2023-11-02T07:34:52.051Z"
   },
   {
    "duration": 22,
    "start_time": "2023-11-02T07:34:52.080Z"
   },
   {
    "duration": 30,
    "start_time": "2023-11-02T07:34:52.104Z"
   },
   {
    "duration": 82,
    "start_time": "2023-11-02T07:34:52.136Z"
   },
   {
    "duration": 13,
    "start_time": "2023-11-02T07:34:52.219Z"
   },
   {
    "duration": 122,
    "start_time": "2023-11-02T07:34:52.233Z"
   },
   {
    "duration": 221,
    "start_time": "2023-11-02T07:34:52.358Z"
   },
   {
    "duration": 205,
    "start_time": "2023-11-02T07:34:52.580Z"
   },
   {
    "duration": 30,
    "start_time": "2023-11-02T07:34:52.788Z"
   },
   {
    "duration": 8,
    "start_time": "2023-11-02T07:34:52.820Z"
   },
   {
    "duration": 295,
    "start_time": "2023-11-02T07:34:52.847Z"
   },
   {
    "duration": 16,
    "start_time": "2023-11-02T07:34:53.144Z"
   },
   {
    "duration": 30,
    "start_time": "2023-11-02T07:34:53.163Z"
   },
   {
    "duration": 43,
    "start_time": "2023-11-02T07:34:53.195Z"
   },
   {
    "duration": 30,
    "start_time": "2023-11-02T07:34:53.239Z"
   },
   {
    "duration": 33,
    "start_time": "2023-11-02T07:34:53.271Z"
   },
   {
    "duration": 20,
    "start_time": "2023-11-02T07:34:53.306Z"
   },
   {
    "duration": 49,
    "start_time": "2023-11-02T07:34:53.327Z"
   },
   {
    "duration": 14,
    "start_time": "2023-11-02T07:34:53.378Z"
   },
   {
    "duration": 50,
    "start_time": "2023-11-02T07:34:53.393Z"
   },
   {
    "duration": 13,
    "start_time": "2023-11-02T07:34:54.224Z"
   },
   {
    "duration": 15,
    "start_time": "2023-11-02T07:39:23.491Z"
   },
   {
    "duration": 300,
    "start_time": "2023-11-02T07:39:56.386Z"
   },
   {
    "duration": 373,
    "start_time": "2023-11-02T07:40:10.933Z"
   },
   {
    "duration": 302,
    "start_time": "2023-11-02T07:40:53.021Z"
   },
   {
    "duration": 11,
    "start_time": "2023-11-02T07:41:14.106Z"
   },
   {
    "duration": 4,
    "start_time": "2023-11-02T07:41:35.267Z"
   },
   {
    "duration": 34,
    "start_time": "2023-11-02T07:41:35.273Z"
   },
   {
    "duration": 89,
    "start_time": "2023-11-02T07:41:35.308Z"
   },
   {
    "duration": 83,
    "start_time": "2023-11-02T07:41:35.399Z"
   },
   {
    "duration": 523,
    "start_time": "2023-11-02T07:41:35.485Z"
   },
   {
    "duration": 30,
    "start_time": "2023-11-02T07:41:36.010Z"
   },
   {
    "duration": 23,
    "start_time": "2023-11-02T07:41:36.041Z"
   },
   {
    "duration": 55,
    "start_time": "2023-11-02T07:41:36.066Z"
   },
   {
    "duration": 77,
    "start_time": "2023-11-02T07:41:36.123Z"
   },
   {
    "duration": 71,
    "start_time": "2023-11-02T07:41:36.201Z"
   },
   {
    "duration": 134,
    "start_time": "2023-11-02T07:41:36.273Z"
   },
   {
    "duration": 205,
    "start_time": "2023-11-02T07:41:36.408Z"
   },
   {
    "duration": 182,
    "start_time": "2023-11-02T07:41:36.614Z"
   },
   {
    "duration": 29,
    "start_time": "2023-11-02T07:41:36.799Z"
   },
   {
    "duration": 17,
    "start_time": "2023-11-02T07:41:36.830Z"
   },
   {
    "duration": 304,
    "start_time": "2023-11-02T07:41:36.848Z"
   },
   {
    "duration": 15,
    "start_time": "2023-11-02T07:41:37.154Z"
   },
   {
    "duration": 14,
    "start_time": "2023-11-02T07:41:37.170Z"
   },
   {
    "duration": 8,
    "start_time": "2023-11-02T07:41:37.185Z"
   },
   {
    "duration": 23,
    "start_time": "2023-11-02T07:41:37.194Z"
   },
   {
    "duration": 37,
    "start_time": "2023-11-02T07:41:37.219Z"
   },
   {
    "duration": 7,
    "start_time": "2023-11-02T07:41:37.258Z"
   },
   {
    "duration": 22,
    "start_time": "2023-11-02T07:41:37.266Z"
   },
   {
    "duration": 22,
    "start_time": "2023-11-02T07:41:37.289Z"
   },
   {
    "duration": 42,
    "start_time": "2023-11-02T07:41:37.312Z"
   },
   {
    "duration": 326,
    "start_time": "2023-11-02T07:41:37.356Z"
   },
   {
    "duration": 9,
    "start_time": "2023-11-02T07:41:37.684Z"
   },
   {
    "duration": 3,
    "start_time": "2023-11-02T07:41:58.854Z"
   },
   {
    "duration": 11,
    "start_time": "2023-11-02T07:41:58.860Z"
   },
   {
    "duration": 39,
    "start_time": "2023-11-02T07:41:58.872Z"
   },
   {
    "duration": 70,
    "start_time": "2023-11-02T07:41:58.913Z"
   },
   {
    "duration": 509,
    "start_time": "2023-11-02T07:41:58.985Z"
   },
   {
    "duration": 29,
    "start_time": "2023-11-02T07:41:59.496Z"
   },
   {
    "duration": 24,
    "start_time": "2023-11-02T07:41:59.527Z"
   },
   {
    "duration": 23,
    "start_time": "2023-11-02T07:41:59.553Z"
   },
   {
    "duration": 78,
    "start_time": "2023-11-02T07:41:59.578Z"
   },
   {
    "duration": 13,
    "start_time": "2023-11-02T07:41:59.657Z"
   },
   {
    "duration": 111,
    "start_time": "2023-11-02T07:41:59.671Z"
   },
   {
    "duration": 275,
    "start_time": "2023-11-02T07:41:59.783Z"
   },
   {
    "duration": 237,
    "start_time": "2023-11-02T07:42:00.060Z"
   },
   {
    "duration": 35,
    "start_time": "2023-11-02T07:42:00.301Z"
   },
   {
    "duration": 50,
    "start_time": "2023-11-02T07:42:00.347Z"
   },
   {
    "duration": 333,
    "start_time": "2023-11-02T07:42:00.400Z"
   },
   {
    "duration": 21,
    "start_time": "2023-11-02T07:42:00.735Z"
   },
   {
    "duration": 43,
    "start_time": "2023-11-02T07:42:00.758Z"
   },
   {
    "duration": 27,
    "start_time": "2023-11-02T07:42:00.803Z"
   },
   {
    "duration": 49,
    "start_time": "2023-11-02T07:42:00.831Z"
   },
   {
    "duration": 45,
    "start_time": "2023-11-02T07:42:00.881Z"
   },
   {
    "duration": 60,
    "start_time": "2023-11-02T07:42:00.928Z"
   },
   {
    "duration": 49,
    "start_time": "2023-11-02T07:42:00.989Z"
   },
   {
    "duration": 90,
    "start_time": "2023-11-02T07:42:01.040Z"
   },
   {
    "duration": 71,
    "start_time": "2023-11-02T07:42:01.132Z"
   },
   {
    "duration": 306,
    "start_time": "2023-11-02T07:42:01.205Z"
   },
   {
    "duration": 11,
    "start_time": "2023-11-02T07:42:01.513Z"
   },
   {
    "duration": 17,
    "start_time": "2023-11-02T07:48:52.110Z"
   },
   {
    "duration": 10,
    "start_time": "2023-11-02T07:51:52.846Z"
   },
   {
    "duration": 16,
    "start_time": "2023-11-02T07:52:02.157Z"
   },
   {
    "duration": 16,
    "start_time": "2023-11-02T07:52:25.606Z"
   },
   {
    "duration": 16,
    "start_time": "2023-11-02T07:52:35.629Z"
   },
   {
    "duration": 7,
    "start_time": "2023-11-02T07:53:50.376Z"
   },
   {
    "duration": 15,
    "start_time": "2023-11-02T07:53:59.170Z"
   },
   {
    "duration": 6,
    "start_time": "2023-11-02T07:54:10.148Z"
   },
   {
    "duration": 13,
    "start_time": "2023-11-02T08:00:32.748Z"
   },
   {
    "duration": 14,
    "start_time": "2023-11-02T08:00:36.346Z"
   },
   {
    "duration": 43,
    "start_time": "2023-11-02T08:01:04.423Z"
   },
   {
    "duration": 48,
    "start_time": "2023-11-02T08:01:08.675Z"
   },
   {
    "duration": 38,
    "start_time": "2023-11-02T08:01:14.397Z"
   },
   {
    "duration": 43,
    "start_time": "2023-11-02T08:01:40.864Z"
   },
   {
    "duration": 39,
    "start_time": "2023-11-02T08:02:05.971Z"
   },
   {
    "duration": 38,
    "start_time": "2023-11-02T08:02:17.347Z"
   },
   {
    "duration": 11,
    "start_time": "2023-11-02T08:08:09.072Z"
   },
   {
    "duration": 6,
    "start_time": "2023-11-02T08:08:19.679Z"
   },
   {
    "duration": 8,
    "start_time": "2023-11-02T08:08:25.344Z"
   },
   {
    "duration": 7,
    "start_time": "2023-11-02T08:08:36.079Z"
   },
   {
    "duration": 6,
    "start_time": "2023-11-02T08:08:37.877Z"
   },
   {
    "duration": 10,
    "start_time": "2023-11-02T08:08:44.496Z"
   },
   {
    "duration": 6,
    "start_time": "2023-11-02T08:08:46.326Z"
   },
   {
    "duration": 10,
    "start_time": "2023-11-02T08:08:48.651Z"
   },
   {
    "duration": 9,
    "start_time": "2023-11-02T08:08:52.834Z"
   },
   {
    "duration": 3,
    "start_time": "2023-11-02T08:09:06.265Z"
   },
   {
    "duration": 10,
    "start_time": "2023-11-02T08:09:13.992Z"
   },
   {
    "duration": 10,
    "start_time": "2023-11-02T08:09:16.058Z"
   },
   {
    "duration": 5,
    "start_time": "2023-11-02T08:09:18.648Z"
   },
   {
    "duration": 6,
    "start_time": "2023-11-02T08:09:24.721Z"
   },
   {
    "duration": 87,
    "start_time": "2023-11-02T08:10:32.844Z"
   },
   {
    "duration": 5,
    "start_time": "2023-11-02T08:10:37.158Z"
   },
   {
    "duration": 8,
    "start_time": "2023-11-02T08:10:46.663Z"
   },
   {
    "duration": 5,
    "start_time": "2023-11-02T08:12:46.258Z"
   },
   {
    "duration": 10,
    "start_time": "2023-11-02T08:13:08.873Z"
   },
   {
    "duration": 7,
    "start_time": "2023-11-02T08:18:29.823Z"
   },
   {
    "duration": 12,
    "start_time": "2023-11-02T08:19:22.709Z"
   },
   {
    "duration": 10,
    "start_time": "2023-11-02T08:19:33.935Z"
   },
   {
    "duration": 11,
    "start_time": "2023-11-02T08:19:37.009Z"
   },
   {
    "duration": 10,
    "start_time": "2023-11-02T08:20:11.350Z"
   },
   {
    "duration": 5,
    "start_time": "2023-11-02T08:33:39.449Z"
   },
   {
    "duration": 43,
    "start_time": "2023-11-02T08:33:53.689Z"
   },
   {
    "duration": 8,
    "start_time": "2023-11-02T08:36:09.203Z"
   },
   {
    "duration": 9,
    "start_time": "2023-11-02T08:36:12.418Z"
   },
   {
    "duration": 17,
    "start_time": "2023-11-02T08:59:34.777Z"
   },
   {
    "duration": 13,
    "start_time": "2023-11-02T08:59:53.118Z"
   },
   {
    "duration": 14,
    "start_time": "2023-11-02T09:00:08.294Z"
   },
   {
    "duration": 9,
    "start_time": "2023-11-02T09:07:48.535Z"
   },
   {
    "duration": 10,
    "start_time": "2023-11-02T09:07:59.218Z"
   },
   {
    "duration": 9,
    "start_time": "2023-11-02T09:10:13.589Z"
   },
   {
    "duration": 4,
    "start_time": "2023-11-02T09:10:15.842Z"
   },
   {
    "duration": 3,
    "start_time": "2023-11-02T09:13:30.444Z"
   },
   {
    "duration": 48,
    "start_time": "2023-11-02T09:13:30.450Z"
   },
   {
    "duration": 101,
    "start_time": "2023-11-02T09:13:30.499Z"
   },
   {
    "duration": 92,
    "start_time": "2023-11-02T09:13:30.602Z"
   },
   {
    "duration": 524,
    "start_time": "2023-11-02T09:13:30.697Z"
   },
   {
    "duration": 29,
    "start_time": "2023-11-02T09:13:31.223Z"
   },
   {
    "duration": 62,
    "start_time": "2023-11-02T09:13:31.254Z"
   },
   {
    "duration": 71,
    "start_time": "2023-11-02T09:13:31.318Z"
   },
   {
    "duration": 98,
    "start_time": "2023-11-02T09:13:31.391Z"
   },
   {
    "duration": 12,
    "start_time": "2023-11-02T09:13:31.491Z"
   },
   {
    "duration": 132,
    "start_time": "2023-11-02T09:13:31.505Z"
   },
   {
    "duration": 241,
    "start_time": "2023-11-02T09:13:31.639Z"
   },
   {
    "duration": 197,
    "start_time": "2023-11-02T09:13:31.882Z"
   },
   {
    "duration": 33,
    "start_time": "2023-11-02T09:13:32.083Z"
   },
   {
    "duration": 19,
    "start_time": "2023-11-02T09:13:32.118Z"
   },
   {
    "duration": 318,
    "start_time": "2023-11-02T09:13:32.146Z"
   },
   {
    "duration": 15,
    "start_time": "2023-11-02T09:13:32.466Z"
   },
   {
    "duration": 38,
    "start_time": "2023-11-02T09:13:32.482Z"
   },
   {
    "duration": 99,
    "start_time": "2023-11-02T09:13:32.521Z"
   },
   {
    "duration": 79,
    "start_time": "2023-11-02T09:13:32.622Z"
   },
   {
    "duration": 20,
    "start_time": "2023-11-02T09:13:32.702Z"
   },
   {
    "duration": 16,
    "start_time": "2023-11-02T09:13:32.724Z"
   },
   {
    "duration": 20,
    "start_time": "2023-11-02T09:13:32.742Z"
   },
   {
    "duration": 14,
    "start_time": "2023-11-02T09:13:32.764Z"
   },
   {
    "duration": 40,
    "start_time": "2023-11-02T09:13:32.780Z"
   },
   {
    "duration": 331,
    "start_time": "2023-11-02T09:13:32.821Z"
   },
   {
    "duration": 9,
    "start_time": "2023-11-02T09:13:33.154Z"
   },
   {
    "duration": 67,
    "start_time": "2023-11-02T09:13:33.165Z"
   },
   {
    "duration": 26,
    "start_time": "2023-11-02T09:13:33.234Z"
   },
   {
    "duration": 25,
    "start_time": "2023-11-02T09:13:33.262Z"
   },
   {
    "duration": 42,
    "start_time": "2023-11-02T09:13:33.289Z"
   },
   {
    "duration": 11,
    "start_time": "2023-11-02T09:13:33.333Z"
   },
   {
    "duration": 37,
    "start_time": "2023-11-02T09:13:33.345Z"
   },
   {
    "duration": 28,
    "start_time": "2023-11-02T09:13:33.384Z"
   },
   {
    "duration": 3,
    "start_time": "2023-11-02T09:14:03.215Z"
   },
   {
    "duration": 24,
    "start_time": "2023-11-02T09:14:03.220Z"
   },
   {
    "duration": 44,
    "start_time": "2023-11-02T09:14:03.246Z"
   },
   {
    "duration": 69,
    "start_time": "2023-11-02T09:14:03.292Z"
   },
   {
    "duration": 503,
    "start_time": "2023-11-02T09:14:03.364Z"
   },
   {
    "duration": 28,
    "start_time": "2023-11-02T09:14:03.870Z"
   },
   {
    "duration": 22,
    "start_time": "2023-11-02T09:14:03.899Z"
   },
   {
    "duration": 16,
    "start_time": "2023-11-02T09:14:03.922Z"
   },
   {
    "duration": 75,
    "start_time": "2023-11-02T09:14:03.940Z"
   },
   {
    "duration": 13,
    "start_time": "2023-11-02T09:14:04.017Z"
   },
   {
    "duration": 142,
    "start_time": "2023-11-02T09:14:04.047Z"
   },
   {
    "duration": 230,
    "start_time": "2023-11-02T09:14:04.191Z"
   },
   {
    "duration": 212,
    "start_time": "2023-11-02T09:14:04.423Z"
   },
   {
    "duration": 32,
    "start_time": "2023-11-02T09:14:04.638Z"
   },
   {
    "duration": 7,
    "start_time": "2023-11-02T09:14:04.672Z"
   },
   {
    "duration": 313,
    "start_time": "2023-11-02T09:14:04.681Z"
   },
   {
    "duration": 14,
    "start_time": "2023-11-02T09:14:04.995Z"
   },
   {
    "duration": 26,
    "start_time": "2023-11-02T09:14:05.010Z"
   },
   {
    "duration": 7,
    "start_time": "2023-11-02T09:14:05.047Z"
   },
   {
    "duration": 42,
    "start_time": "2023-11-02T09:14:05.056Z"
   },
   {
    "duration": 67,
    "start_time": "2023-11-02T09:14:05.100Z"
   },
   {
    "duration": 44,
    "start_time": "2023-11-02T09:14:05.169Z"
   },
   {
    "duration": 55,
    "start_time": "2023-11-02T09:14:05.215Z"
   },
   {
    "duration": 64,
    "start_time": "2023-11-02T09:14:05.272Z"
   },
   {
    "duration": 19,
    "start_time": "2023-11-02T09:14:10.330Z"
   },
   {
    "duration": 98,
    "start_time": "2023-11-02T09:14:22.653Z"
   },
   {
    "duration": 11,
    "start_time": "2023-11-02T09:14:36.831Z"
   },
   {
    "duration": 10,
    "start_time": "2023-11-02T09:14:42.893Z"
   },
   {
    "duration": 131,
    "start_time": "2023-11-02T09:14:51.655Z"
   },
   {
    "duration": 39,
    "start_time": "2023-11-02T09:14:55.070Z"
   },
   {
    "duration": 16,
    "start_time": "2023-11-02T09:14:56.809Z"
   },
   {
    "duration": 3,
    "start_time": "2023-11-02T09:15:01.093Z"
   },
   {
    "duration": 51,
    "start_time": "2023-11-02T09:15:01.098Z"
   },
   {
    "duration": 95,
    "start_time": "2023-11-02T09:15:01.151Z"
   },
   {
    "duration": 105,
    "start_time": "2023-11-02T09:15:01.248Z"
   },
   {
    "duration": 537,
    "start_time": "2023-11-02T09:15:01.356Z"
   },
   {
    "duration": 30,
    "start_time": "2023-11-02T09:15:01.895Z"
   },
   {
    "duration": 90,
    "start_time": "2023-11-02T09:15:01.927Z"
   },
   {
    "duration": 43,
    "start_time": "2023-11-02T09:15:02.019Z"
   },
   {
    "duration": 99,
    "start_time": "2023-11-02T09:15:02.064Z"
   },
   {
    "duration": 14,
    "start_time": "2023-11-02T09:15:02.165Z"
   },
   {
    "duration": 155,
    "start_time": "2023-11-02T09:15:02.180Z"
   },
   {
    "duration": 247,
    "start_time": "2023-11-02T09:15:02.337Z"
   },
   {
    "duration": 217,
    "start_time": "2023-11-02T09:15:02.586Z"
   },
   {
    "duration": 41,
    "start_time": "2023-11-02T09:15:02.806Z"
   },
   {
    "duration": 8,
    "start_time": "2023-11-02T09:15:02.848Z"
   },
   {
    "duration": 354,
    "start_time": "2023-11-02T09:15:02.858Z"
   },
   {
    "duration": 15,
    "start_time": "2023-11-02T09:15:03.214Z"
   },
   {
    "duration": 40,
    "start_time": "2023-11-02T09:15:03.230Z"
   },
   {
    "duration": 21,
    "start_time": "2023-11-02T09:15:03.271Z"
   },
   {
    "duration": 19,
    "start_time": "2023-11-02T09:15:03.295Z"
   },
   {
    "duration": 68,
    "start_time": "2023-11-02T09:15:03.316Z"
   },
   {
    "duration": 16,
    "start_time": "2023-11-02T09:15:03.386Z"
   },
   {
    "duration": 40,
    "start_time": "2023-11-02T09:15:03.403Z"
   },
   {
    "duration": 20,
    "start_time": "2023-11-02T09:15:03.444Z"
   },
   {
    "duration": 41,
    "start_time": "2023-11-02T09:15:03.466Z"
   },
   {
    "duration": 14,
    "start_time": "2023-11-02T09:15:05.595Z"
   },
   {
    "duration": 2,
    "start_time": "2023-11-02T09:15:17.485Z"
   },
   {
    "duration": 28,
    "start_time": "2023-11-02T09:15:17.489Z"
   },
   {
    "duration": 54,
    "start_time": "2023-11-02T09:15:17.519Z"
   },
   {
    "duration": 69,
    "start_time": "2023-11-02T09:15:17.575Z"
   },
   {
    "duration": 514,
    "start_time": "2023-11-02T09:15:17.646Z"
   },
   {
    "duration": 29,
    "start_time": "2023-11-02T09:15:18.162Z"
   },
   {
    "duration": 23,
    "start_time": "2023-11-02T09:15:18.193Z"
   },
   {
    "duration": 24,
    "start_time": "2023-11-02T09:15:18.217Z"
   },
   {
    "duration": 80,
    "start_time": "2023-11-02T09:15:18.242Z"
   },
   {
    "duration": 12,
    "start_time": "2023-11-02T09:15:18.324Z"
   },
   {
    "duration": 124,
    "start_time": "2023-11-02T09:15:18.347Z"
   },
   {
    "duration": 213,
    "start_time": "2023-11-02T09:15:18.473Z"
   },
   {
    "duration": 205,
    "start_time": "2023-11-02T09:15:18.688Z"
   },
   {
    "duration": 37,
    "start_time": "2023-11-02T09:15:18.896Z"
   },
   {
    "duration": 26,
    "start_time": "2023-11-02T09:15:18.935Z"
   },
   {
    "duration": 310,
    "start_time": "2023-11-02T09:15:18.965Z"
   },
   {
    "duration": 14,
    "start_time": "2023-11-02T09:15:19.276Z"
   },
   {
    "duration": 41,
    "start_time": "2023-11-02T09:15:19.292Z"
   },
   {
    "duration": 37,
    "start_time": "2023-11-02T09:15:19.335Z"
   },
   {
    "duration": 56,
    "start_time": "2023-11-02T09:15:19.374Z"
   },
   {
    "duration": 58,
    "start_time": "2023-11-02T09:15:19.432Z"
   },
   {
    "duration": 40,
    "start_time": "2023-11-02T09:15:19.492Z"
   },
   {
    "duration": 45,
    "start_time": "2023-11-02T09:15:19.534Z"
   },
   {
    "duration": 28,
    "start_time": "2023-11-02T09:15:19.582Z"
   },
   {
    "duration": 56,
    "start_time": "2023-11-02T09:15:19.612Z"
   },
   {
    "duration": 400,
    "start_time": "2023-11-02T09:15:19.669Z"
   },
   {
    "duration": 11,
    "start_time": "2023-11-02T09:15:20.071Z"
   },
   {
    "duration": 63,
    "start_time": "2023-11-02T09:15:20.084Z"
   },
   {
    "duration": 8,
    "start_time": "2023-11-02T09:15:20.149Z"
   },
   {
    "duration": 8,
    "start_time": "2023-11-02T09:15:20.159Z"
   },
   {
    "duration": 16,
    "start_time": "2023-11-02T09:15:20.168Z"
   },
   {
    "duration": 4,
    "start_time": "2023-11-02T09:15:20.185Z"
   },
   {
    "duration": 18,
    "start_time": "2023-11-02T09:15:20.191Z"
   },
   {
    "duration": 38,
    "start_time": "2023-11-02T09:15:20.211Z"
   },
   {
    "duration": 5,
    "start_time": "2023-11-02T09:15:36.817Z"
   },
   {
    "duration": 13,
    "start_time": "2023-11-02T09:15:46.486Z"
   },
   {
    "duration": 29,
    "start_time": "2023-11-02T09:16:18.560Z"
   },
   {
    "duration": 3,
    "start_time": "2023-11-02T09:16:47.517Z"
   },
   {
    "duration": 51,
    "start_time": "2023-11-02T09:16:47.523Z"
   },
   {
    "duration": 60,
    "start_time": "2023-11-02T09:16:47.576Z"
   },
   {
    "duration": 73,
    "start_time": "2023-11-02T09:16:47.638Z"
   },
   {
    "duration": 511,
    "start_time": "2023-11-02T09:16:47.713Z"
   },
   {
    "duration": 28,
    "start_time": "2023-11-02T09:16:48.226Z"
   },
   {
    "duration": 24,
    "start_time": "2023-11-02T09:16:48.255Z"
   },
   {
    "duration": 23,
    "start_time": "2023-11-02T09:16:48.281Z"
   },
   {
    "duration": 89,
    "start_time": "2023-11-02T09:16:48.306Z"
   },
   {
    "duration": 12,
    "start_time": "2023-11-02T09:16:48.397Z"
   },
   {
    "duration": 127,
    "start_time": "2023-11-02T09:16:48.411Z"
   },
   {
    "duration": 224,
    "start_time": "2023-11-02T09:16:48.540Z"
   },
   {
    "duration": 209,
    "start_time": "2023-11-02T09:16:48.765Z"
   },
   {
    "duration": 32,
    "start_time": "2023-11-02T09:16:48.977Z"
   },
   {
    "duration": 8,
    "start_time": "2023-11-02T09:16:49.011Z"
   },
   {
    "duration": 314,
    "start_time": "2023-11-02T09:16:49.020Z"
   },
   {
    "duration": 23,
    "start_time": "2023-11-02T09:16:49.336Z"
   },
   {
    "duration": 15,
    "start_time": "2023-11-02T09:16:49.362Z"
   },
   {
    "duration": 8,
    "start_time": "2023-11-02T09:16:49.378Z"
   },
   {
    "duration": 14,
    "start_time": "2023-11-02T09:16:49.387Z"
   },
   {
    "duration": 55,
    "start_time": "2023-11-02T09:16:49.403Z"
   },
   {
    "duration": 8,
    "start_time": "2023-11-02T09:16:49.461Z"
   },
   {
    "duration": 34,
    "start_time": "2023-11-02T09:16:49.470Z"
   },
   {
    "duration": 16,
    "start_time": "2023-11-02T09:16:49.506Z"
   },
   {
    "duration": 59,
    "start_time": "2023-11-02T09:16:49.524Z"
   },
   {
    "duration": 324,
    "start_time": "2023-11-02T09:16:49.585Z"
   },
   {
    "duration": 11,
    "start_time": "2023-11-02T09:16:49.911Z"
   },
   {
    "duration": 60,
    "start_time": "2023-11-02T09:16:49.924Z"
   },
   {
    "duration": 6,
    "start_time": "2023-11-02T09:16:49.986Z"
   },
   {
    "duration": 8,
    "start_time": "2023-11-02T09:16:49.994Z"
   },
   {
    "duration": 29,
    "start_time": "2023-11-02T09:16:50.004Z"
   },
   {
    "duration": 24,
    "start_time": "2023-11-02T09:16:50.035Z"
   },
   {
    "duration": 19,
    "start_time": "2023-11-02T09:16:52.708Z"
   },
   {
    "duration": 6,
    "start_time": "2023-11-02T09:17:00.639Z"
   },
   {
    "duration": 1270,
    "start_time": "2023-11-02T09:17:42.307Z"
   },
   {
    "duration": 3,
    "start_time": "2023-11-02T09:17:43.579Z"
   },
   {
    "duration": 54,
    "start_time": "2023-11-02T09:17:43.583Z"
   },
   {
    "duration": 76,
    "start_time": "2023-11-02T09:17:43.639Z"
   },
   {
    "duration": 541,
    "start_time": "2023-11-02T09:17:43.718Z"
   },
   {
    "duration": 28,
    "start_time": "2023-11-02T09:17:44.261Z"
   },
   {
    "duration": 22,
    "start_time": "2023-11-02T09:17:44.290Z"
   },
   {
    "duration": 19,
    "start_time": "2023-11-02T09:17:44.313Z"
   },
   {
    "duration": 73,
    "start_time": "2023-11-02T09:17:44.333Z"
   },
   {
    "duration": 12,
    "start_time": "2023-11-02T09:17:44.407Z"
   },
   {
    "duration": 134,
    "start_time": "2023-11-02T09:17:44.421Z"
   },
   {
    "duration": 236,
    "start_time": "2023-11-02T09:17:44.557Z"
   },
   {
    "duration": 211,
    "start_time": "2023-11-02T09:17:44.795Z"
   },
   {
    "duration": 37,
    "start_time": "2023-11-02T09:17:45.010Z"
   },
   {
    "duration": 15,
    "start_time": "2023-11-02T09:17:45.050Z"
   },
   {
    "duration": 442,
    "start_time": "2023-11-02T09:17:45.067Z"
   },
   {
    "duration": 18,
    "start_time": "2023-11-02T09:17:45.511Z"
   },
   {
    "duration": 18,
    "start_time": "2023-11-02T09:17:45.547Z"
   },
   {
    "duration": 28,
    "start_time": "2023-11-02T09:17:45.568Z"
   },
   {
    "duration": 33,
    "start_time": "2023-11-02T09:17:45.598Z"
   },
   {
    "duration": 19,
    "start_time": "2023-11-02T09:17:45.633Z"
   },
   {
    "duration": 8,
    "start_time": "2023-11-02T09:17:45.654Z"
   },
   {
    "duration": 48,
    "start_time": "2023-11-02T09:17:45.664Z"
   },
   {
    "duration": 22,
    "start_time": "2023-11-02T09:17:45.714Z"
   },
   {
    "duration": 81,
    "start_time": "2023-11-02T09:17:45.738Z"
   },
   {
    "duration": 322,
    "start_time": "2023-11-02T09:17:45.821Z"
   },
   {
    "duration": 11,
    "start_time": "2023-11-02T09:17:46.147Z"
   },
   {
    "duration": 64,
    "start_time": "2023-11-02T09:17:46.160Z"
   },
   {
    "duration": 25,
    "start_time": "2023-11-02T09:17:46.226Z"
   },
   {
    "duration": 47,
    "start_time": "2023-11-02T09:17:46.253Z"
   },
   {
    "duration": 25,
    "start_time": "2023-11-02T09:17:46.303Z"
   },
   {
    "duration": 19,
    "start_time": "2023-11-02T09:17:46.330Z"
   },
   {
    "duration": 18,
    "start_time": "2023-11-02T09:17:49.954Z"
   },
   {
    "duration": 4,
    "start_time": "2023-11-02T09:18:11.122Z"
   },
   {
    "duration": 29,
    "start_time": "2023-11-02T11:35:46.109Z"
   },
   {
    "duration": 12,
    "start_time": "2023-11-02T11:35:52.661Z"
   },
   {
    "duration": 13,
    "start_time": "2023-11-02T11:39:54.564Z"
   },
   {
    "duration": 106,
    "start_time": "2023-11-02T11:40:37.950Z"
   },
   {
    "duration": 4,
    "start_time": "2023-11-02T11:40:45.614Z"
   },
   {
    "duration": 23,
    "start_time": "2023-11-02T11:40:47.882Z"
   },
   {
    "duration": 9,
    "start_time": "2023-11-02T11:40:59.714Z"
   },
   {
    "duration": 20,
    "start_time": "2023-11-02T11:41:03.452Z"
   },
   {
    "duration": 5,
    "start_time": "2023-11-02T11:41:07.457Z"
   },
   {
    "duration": 5,
    "start_time": "2023-11-02T11:41:32.810Z"
   },
   {
    "duration": 6,
    "start_time": "2023-11-02T11:41:59.040Z"
   },
   {
    "duration": 541,
    "start_time": "2023-11-02T11:43:09.932Z"
   },
   {
    "duration": 6,
    "start_time": "2023-11-02T11:43:22.001Z"
   },
   {
    "duration": 9,
    "start_time": "2023-11-02T11:43:25.869Z"
   },
   {
    "duration": 21,
    "start_time": "2023-11-02T11:44:00.517Z"
   },
   {
    "duration": 4,
    "start_time": "2023-11-02T11:44:08.562Z"
   },
   {
    "duration": 3,
    "start_time": "2023-11-02T11:44:12.364Z"
   },
   {
    "duration": 7,
    "start_time": "2023-11-02T11:44:12.368Z"
   },
   {
    "duration": 43,
    "start_time": "2023-11-02T11:44:12.377Z"
   },
   {
    "duration": 74,
    "start_time": "2023-11-02T11:44:12.422Z"
   },
   {
    "duration": 501,
    "start_time": "2023-11-02T11:44:12.498Z"
   },
   {
    "duration": 27,
    "start_time": "2023-11-02T11:44:13.001Z"
   },
   {
    "duration": 22,
    "start_time": "2023-11-02T11:44:13.029Z"
   },
   {
    "duration": 19,
    "start_time": "2023-11-02T11:44:13.052Z"
   },
   {
    "duration": 81,
    "start_time": "2023-11-02T11:44:13.073Z"
   },
   {
    "duration": 13,
    "start_time": "2023-11-02T11:44:13.156Z"
   },
   {
    "duration": 125,
    "start_time": "2023-11-02T11:44:13.170Z"
   },
   {
    "duration": 212,
    "start_time": "2023-11-02T11:44:13.297Z"
   },
   {
    "duration": 212,
    "start_time": "2023-11-02T11:44:13.510Z"
   },
   {
    "duration": 35,
    "start_time": "2023-11-02T11:44:13.726Z"
   },
   {
    "duration": 7,
    "start_time": "2023-11-02T11:44:13.763Z"
   },
   {
    "duration": 304,
    "start_time": "2023-11-02T11:44:13.772Z"
   },
   {
    "duration": 15,
    "start_time": "2023-11-02T11:44:14.078Z"
   },
   {
    "duration": 19,
    "start_time": "2023-11-02T11:44:14.095Z"
   },
   {
    "duration": 8,
    "start_time": "2023-11-02T11:44:14.116Z"
   },
   {
    "duration": 16,
    "start_time": "2023-11-02T11:44:14.147Z"
   },
   {
    "duration": 28,
    "start_time": "2023-11-02T11:44:14.165Z"
   },
   {
    "duration": 7,
    "start_time": "2023-11-02T11:44:14.195Z"
   },
   {
    "duration": 23,
    "start_time": "2023-11-02T11:44:14.204Z"
   },
   {
    "duration": 14,
    "start_time": "2023-11-02T11:44:14.247Z"
   },
   {
    "duration": 36,
    "start_time": "2023-11-02T11:44:14.263Z"
   },
   {
    "duration": 333,
    "start_time": "2023-11-02T11:44:14.301Z"
   },
   {
    "duration": 16,
    "start_time": "2023-11-02T11:44:14.636Z"
   },
   {
    "duration": 46,
    "start_time": "2023-11-02T11:44:14.653Z"
   },
   {
    "duration": 6,
    "start_time": "2023-11-02T11:44:14.701Z"
   },
   {
    "duration": 7,
    "start_time": "2023-11-02T11:44:14.709Z"
   },
   {
    "duration": 39,
    "start_time": "2023-11-02T11:44:14.717Z"
   },
   {
    "duration": 63,
    "start_time": "2023-11-02T11:44:14.758Z"
   },
   {
    "duration": 68,
    "start_time": "2023-11-02T11:44:14.823Z"
   },
   {
    "duration": 3,
    "start_time": "2023-11-02T11:44:18.785Z"
   },
   {
    "duration": 35,
    "start_time": "2023-11-02T11:44:18.790Z"
   },
   {
    "duration": 75,
    "start_time": "2023-11-02T11:44:18.826Z"
   },
   {
    "duration": 98,
    "start_time": "2023-11-02T11:44:18.902Z"
   },
   {
    "duration": 494,
    "start_time": "2023-11-02T11:44:19.003Z"
   },
   {
    "duration": 29,
    "start_time": "2023-11-02T11:44:19.499Z"
   },
   {
    "duration": 25,
    "start_time": "2023-11-02T11:44:19.530Z"
   },
   {
    "duration": 14,
    "start_time": "2023-11-02T11:44:19.556Z"
   },
   {
    "duration": 93,
    "start_time": "2023-11-02T11:44:19.572Z"
   },
   {
    "duration": 13,
    "start_time": "2023-11-02T11:44:19.666Z"
   },
   {
    "duration": 144,
    "start_time": "2023-11-02T11:44:19.681Z"
   },
   {
    "duration": 222,
    "start_time": "2023-11-02T11:44:19.827Z"
   },
   {
    "duration": 195,
    "start_time": "2023-11-02T11:44:20.051Z"
   },
   {
    "duration": 29,
    "start_time": "2023-11-02T11:44:20.249Z"
   },
   {
    "duration": 7,
    "start_time": "2023-11-02T11:44:20.280Z"
   },
   {
    "duration": 340,
    "start_time": "2023-11-02T11:44:20.288Z"
   },
   {
    "duration": 27,
    "start_time": "2023-11-02T11:44:20.629Z"
   },
   {
    "duration": 24,
    "start_time": "2023-11-02T11:44:20.658Z"
   },
   {
    "duration": 22,
    "start_time": "2023-11-02T11:44:20.683Z"
   },
   {
    "duration": 20,
    "start_time": "2023-11-02T11:44:20.707Z"
   },
   {
    "duration": 32,
    "start_time": "2023-11-02T11:44:20.729Z"
   },
   {
    "duration": 8,
    "start_time": "2023-11-02T11:44:20.763Z"
   },
   {
    "duration": 21,
    "start_time": "2023-11-02T11:44:20.773Z"
   },
   {
    "duration": 17,
    "start_time": "2023-11-02T11:44:20.796Z"
   },
   {
    "duration": 65,
    "start_time": "2023-11-02T11:44:20.815Z"
   },
   {
    "duration": 321,
    "start_time": "2023-11-02T11:44:20.881Z"
   },
   {
    "duration": 10,
    "start_time": "2023-11-02T11:44:21.203Z"
   },
   {
    "duration": 58,
    "start_time": "2023-11-02T11:44:21.214Z"
   },
   {
    "duration": 12,
    "start_time": "2023-11-02T11:44:21.274Z"
   },
   {
    "duration": 22,
    "start_time": "2023-11-02T11:44:21.288Z"
   },
   {
    "duration": 18,
    "start_time": "2023-11-02T11:44:21.312Z"
   },
   {
    "duration": 22,
    "start_time": "2023-11-02T11:44:21.332Z"
   },
   {
    "duration": 16,
    "start_time": "2023-11-02T11:44:37.560Z"
   },
   {
    "duration": 17,
    "start_time": "2023-11-02T11:44:49.897Z"
   },
   {
    "duration": 12,
    "start_time": "2023-11-02T11:45:24.180Z"
   },
   {
    "duration": 4,
    "start_time": "2023-11-02T11:45:30.297Z"
   },
   {
    "duration": 12,
    "start_time": "2023-11-02T11:45:36.590Z"
   },
   {
    "duration": 4,
    "start_time": "2023-11-02T11:45:42.721Z"
   },
   {
    "duration": 30,
    "start_time": "2023-11-02T11:45:58.727Z"
   },
   {
    "duration": 13,
    "start_time": "2023-11-02T11:46:13.241Z"
   },
   {
    "duration": 20,
    "start_time": "2023-11-02T11:46:20.228Z"
   },
   {
    "duration": 7,
    "start_time": "2023-11-02T11:46:24.595Z"
   },
   {
    "duration": 19,
    "start_time": "2023-11-02T11:46:25.863Z"
   },
   {
    "duration": 15,
    "start_time": "2023-11-02T11:46:43.923Z"
   },
   {
    "duration": 25,
    "start_time": "2023-11-02T11:48:46.066Z"
   },
   {
    "duration": 20,
    "start_time": "2023-11-02T11:49:00.050Z"
   },
   {
    "duration": 20,
    "start_time": "2023-11-02T11:49:04.726Z"
   },
   {
    "duration": 19,
    "start_time": "2023-11-02T11:49:13.627Z"
   },
   {
    "duration": 20,
    "start_time": "2023-11-02T11:49:19.082Z"
   },
   {
    "duration": 24,
    "start_time": "2023-11-02T11:49:22.849Z"
   },
   {
    "duration": 30,
    "start_time": "2023-11-02T11:50:05.577Z"
   },
   {
    "duration": 26,
    "start_time": "2023-11-02T11:50:16.870Z"
   },
   {
    "duration": 24,
    "start_time": "2023-11-02T11:50:29.179Z"
   },
   {
    "duration": 24,
    "start_time": "2023-11-02T11:50:37.162Z"
   },
   {
    "duration": 19,
    "start_time": "2023-11-02T11:50:44.445Z"
   },
   {
    "duration": 25,
    "start_time": "2023-11-02T11:50:47.198Z"
   },
   {
    "duration": 490,
    "start_time": "2023-11-02T11:51:47.792Z"
   },
   {
    "duration": 20,
    "start_time": "2023-11-02T11:52:14.291Z"
   },
   {
    "duration": 18,
    "start_time": "2023-11-02T11:52:21.095Z"
   },
   {
    "duration": 180,
    "start_time": "2023-11-02T11:52:24.049Z"
   },
   {
    "duration": 153,
    "start_time": "2023-11-02T11:53:07.448Z"
   },
   {
    "duration": 11,
    "start_time": "2023-11-02T11:54:15.347Z"
   },
   {
    "duration": 18,
    "start_time": "2023-11-02T11:54:25.972Z"
   },
   {
    "duration": 9,
    "start_time": "2023-11-02T11:54:27.145Z"
   },
   {
    "duration": 13,
    "start_time": "2023-11-02T11:54:46.020Z"
   },
   {
    "duration": 3,
    "start_time": "2023-11-02T11:56:11.450Z"
   },
   {
    "duration": 6,
    "start_time": "2023-11-02T11:56:11.455Z"
   },
   {
    "duration": 48,
    "start_time": "2023-11-02T11:56:11.462Z"
   },
   {
    "duration": 64,
    "start_time": "2023-11-02T11:56:11.512Z"
   },
   {
    "duration": 489,
    "start_time": "2023-11-02T11:56:11.579Z"
   },
   {
    "duration": 28,
    "start_time": "2023-11-02T11:56:12.069Z"
   },
   {
    "duration": 22,
    "start_time": "2023-11-02T11:56:12.099Z"
   },
   {
    "duration": 13,
    "start_time": "2023-11-02T11:56:12.123Z"
   },
   {
    "duration": 76,
    "start_time": "2023-11-02T11:56:12.147Z"
   },
   {
    "duration": 26,
    "start_time": "2023-11-02T11:56:12.224Z"
   },
   {
    "duration": 119,
    "start_time": "2023-11-02T11:56:12.251Z"
   },
   {
    "duration": 216,
    "start_time": "2023-11-02T11:56:12.372Z"
   },
   {
    "duration": 189,
    "start_time": "2023-11-02T11:56:12.590Z"
   },
   {
    "duration": 33,
    "start_time": "2023-11-02T11:56:12.782Z"
   },
   {
    "duration": 7,
    "start_time": "2023-11-02T11:56:12.817Z"
   },
   {
    "duration": 310,
    "start_time": "2023-11-02T11:56:12.825Z"
   },
   {
    "duration": 21,
    "start_time": "2023-11-02T11:56:13.136Z"
   },
   {
    "duration": 17,
    "start_time": "2023-11-02T11:56:13.159Z"
   },
   {
    "duration": 7,
    "start_time": "2023-11-02T11:56:13.178Z"
   },
   {
    "duration": 21,
    "start_time": "2023-11-02T11:56:13.186Z"
   },
   {
    "duration": 38,
    "start_time": "2023-11-02T11:56:13.209Z"
   },
   {
    "duration": 9,
    "start_time": "2023-11-02T11:56:13.249Z"
   },
   {
    "duration": 36,
    "start_time": "2023-11-02T11:56:13.259Z"
   },
   {
    "duration": 15,
    "start_time": "2023-11-02T11:56:13.297Z"
   },
   {
    "duration": 53,
    "start_time": "2023-11-02T11:56:13.314Z"
   },
   {
    "duration": 320,
    "start_time": "2023-11-02T11:56:13.369Z"
   },
   {
    "duration": 10,
    "start_time": "2023-11-02T11:56:13.691Z"
   },
   {
    "duration": 59,
    "start_time": "2023-11-02T11:56:13.703Z"
   },
   {
    "duration": 9,
    "start_time": "2023-11-02T11:56:13.763Z"
   },
   {
    "duration": 12,
    "start_time": "2023-11-02T11:56:13.774Z"
   },
   {
    "duration": 37,
    "start_time": "2023-11-02T11:56:13.787Z"
   },
   {
    "duration": 20,
    "start_time": "2023-11-02T11:56:13.827Z"
   },
   {
    "duration": 19,
    "start_time": "2023-11-02T11:56:13.849Z"
   },
   {
    "duration": 10,
    "start_time": "2023-11-02T11:56:13.870Z"
   },
   {
    "duration": 18,
    "start_time": "2023-11-02T11:56:13.882Z"
   },
   {
    "duration": 12,
    "start_time": "2023-11-02T11:56:14.582Z"
   },
   {
    "duration": 19,
    "start_time": "2023-11-02T11:56:32.502Z"
   },
   {
    "duration": 4,
    "start_time": "2023-11-02T11:57:27.102Z"
   },
   {
    "duration": 18,
    "start_time": "2023-11-02T11:57:29.315Z"
   },
   {
    "duration": 25,
    "start_time": "2023-11-02T11:57:42.160Z"
   },
   {
    "duration": 30,
    "start_time": "2023-11-02T11:59:13.947Z"
   },
   {
    "duration": 31,
    "start_time": "2023-11-02T11:59:17.326Z"
   },
   {
    "duration": 31,
    "start_time": "2023-11-02T11:59:19.550Z"
   },
   {
    "duration": 15,
    "start_time": "2023-11-02T11:59:34.130Z"
   },
   {
    "duration": 6,
    "start_time": "2023-11-02T11:59:35.503Z"
   },
   {
    "duration": 17,
    "start_time": "2023-11-02T11:59:37.179Z"
   },
   {
    "duration": 24,
    "start_time": "2023-11-02T11:59:38.545Z"
   },
   {
    "duration": 19,
    "start_time": "2023-11-02T11:59:48.846Z"
   },
   {
    "duration": 25,
    "start_time": "2023-11-02T11:59:55.492Z"
   },
   {
    "duration": 40,
    "start_time": "2023-11-02T12:00:16.406Z"
   },
   {
    "duration": 18,
    "start_time": "2023-11-02T12:00:28.391Z"
   },
   {
    "duration": 26,
    "start_time": "2023-11-02T12:00:35.349Z"
   },
   {
    "duration": 22,
    "start_time": "2023-11-02T12:02:01.042Z"
   },
   {
    "duration": 20,
    "start_time": "2023-11-02T12:02:44.638Z"
   },
   {
    "duration": 22,
    "start_time": "2023-11-02T12:03:01.579Z"
   },
   {
    "duration": 22,
    "start_time": "2023-11-02T12:04:41.493Z"
   },
   {
    "duration": 22,
    "start_time": "2023-11-02T12:08:22.647Z"
   },
   {
    "duration": 19,
    "start_time": "2023-11-02T12:08:58.882Z"
   },
   {
    "duration": 22,
    "start_time": "2023-11-02T12:09:00.201Z"
   },
   {
    "duration": 23,
    "start_time": "2023-11-02T12:09:31.424Z"
   },
   {
    "duration": 67,
    "start_time": "2023-11-02T12:10:41.856Z"
   },
   {
    "duration": 23,
    "start_time": "2023-11-02T12:25:10.446Z"
   },
   {
    "duration": 24,
    "start_time": "2023-11-02T12:26:25.509Z"
   },
   {
    "duration": 21,
    "start_time": "2023-11-02T12:26:38.723Z"
   },
   {
    "duration": 25,
    "start_time": "2023-11-02T12:28:24.091Z"
   },
   {
    "duration": 22,
    "start_time": "2023-11-02T12:28:55.913Z"
   },
   {
    "duration": 20,
    "start_time": "2023-11-02T12:29:28.033Z"
   },
   {
    "duration": 23,
    "start_time": "2023-11-02T12:29:32.036Z"
   },
   {
    "duration": 25,
    "start_time": "2023-11-02T12:30:28.095Z"
   },
   {
    "duration": 25,
    "start_time": "2023-11-02T12:30:32.564Z"
   },
   {
    "duration": 4,
    "start_time": "2023-11-02T12:34:56.126Z"
   },
   {
    "duration": 52,
    "start_time": "2023-11-02T12:34:56.132Z"
   },
   {
    "duration": 78,
    "start_time": "2023-11-02T12:34:56.186Z"
   },
   {
    "duration": 71,
    "start_time": "2023-11-02T12:34:56.266Z"
   },
   {
    "duration": 495,
    "start_time": "2023-11-02T12:34:56.340Z"
   },
   {
    "duration": 28,
    "start_time": "2023-11-02T12:34:56.837Z"
   },
   {
    "duration": 22,
    "start_time": "2023-11-02T12:34:56.867Z"
   },
   {
    "duration": 31,
    "start_time": "2023-11-02T12:34:56.891Z"
   },
   {
    "duration": 85,
    "start_time": "2023-11-02T12:34:56.923Z"
   },
   {
    "duration": 12,
    "start_time": "2023-11-02T12:34:57.010Z"
   },
   {
    "duration": 115,
    "start_time": "2023-11-02T12:34:57.023Z"
   },
   {
    "duration": 206,
    "start_time": "2023-11-02T12:34:57.139Z"
   },
   {
    "duration": 204,
    "start_time": "2023-11-02T12:34:57.347Z"
   },
   {
    "duration": 30,
    "start_time": "2023-11-02T12:34:57.555Z"
   },
   {
    "duration": 8,
    "start_time": "2023-11-02T12:34:57.587Z"
   },
   {
    "duration": 334,
    "start_time": "2023-11-02T12:34:57.597Z"
   },
   {
    "duration": 24,
    "start_time": "2023-11-02T12:34:57.933Z"
   },
   {
    "duration": 13,
    "start_time": "2023-11-02T12:34:57.958Z"
   },
   {
    "duration": 13,
    "start_time": "2023-11-02T12:34:57.973Z"
   },
   {
    "duration": 24,
    "start_time": "2023-11-02T12:34:57.988Z"
   },
   {
    "duration": 24,
    "start_time": "2023-11-02T12:34:58.014Z"
   },
   {
    "duration": 8,
    "start_time": "2023-11-02T12:34:58.046Z"
   },
   {
    "duration": 28,
    "start_time": "2023-11-02T12:34:58.056Z"
   },
   {
    "duration": 25,
    "start_time": "2023-11-02T12:34:58.086Z"
   },
   {
    "duration": 78,
    "start_time": "2023-11-02T12:34:58.113Z"
   },
   {
    "duration": 349,
    "start_time": "2023-11-02T12:34:58.193Z"
   },
   {
    "duration": 9,
    "start_time": "2023-11-02T12:34:58.546Z"
   },
   {
    "duration": 51,
    "start_time": "2023-11-02T12:34:58.557Z"
   },
   {
    "duration": 6,
    "start_time": "2023-11-02T12:34:58.610Z"
   },
   {
    "duration": 11,
    "start_time": "2023-11-02T12:34:58.618Z"
   },
   {
    "duration": 29,
    "start_time": "2023-11-02T12:34:58.631Z"
   },
   {
    "duration": 17,
    "start_time": "2023-11-02T12:34:58.662Z"
   },
   {
    "duration": 23,
    "start_time": "2023-11-02T12:34:58.681Z"
   },
   {
    "duration": 30,
    "start_time": "2023-11-02T12:34:58.706Z"
   },
   {
    "duration": 23,
    "start_time": "2023-11-02T12:34:58.738Z"
   },
   {
    "duration": 26,
    "start_time": "2023-11-02T12:34:58.763Z"
   },
   {
    "duration": 18,
    "start_time": "2023-11-02T12:35:32.615Z"
   },
   {
    "duration": 11,
    "start_time": "2023-11-02T12:35:50.144Z"
   },
   {
    "duration": 14,
    "start_time": "2023-11-02T12:37:50.785Z"
   },
   {
    "duration": 7,
    "start_time": "2023-11-02T12:37:58.406Z"
   },
   {
    "duration": 5,
    "start_time": "2023-11-02T12:38:08.175Z"
   },
   {
    "duration": 13,
    "start_time": "2023-11-02T12:53:26.438Z"
   },
   {
    "duration": 23,
    "start_time": "2023-11-02T12:54:23.886Z"
   },
   {
    "duration": 12,
    "start_time": "2023-11-02T12:55:19.190Z"
   },
   {
    "duration": 203,
    "start_time": "2023-11-02T12:55:29.125Z"
   },
   {
    "duration": 12,
    "start_time": "2023-11-02T12:55:43.648Z"
   },
   {
    "duration": 911,
    "start_time": "2023-11-02T12:57:29.064Z"
   },
   {
    "duration": 917,
    "start_time": "2023-11-02T12:58:57.764Z"
   },
   {
    "duration": 931,
    "start_time": "2023-11-02T12:59:05.784Z"
   },
   {
    "duration": 14,
    "start_time": "2023-11-02T12:59:49.783Z"
   },
   {
    "duration": 6,
    "start_time": "2023-11-02T13:01:05.733Z"
   },
   {
    "duration": 5,
    "start_time": "2023-11-02T13:05:09.407Z"
   },
   {
    "duration": 5,
    "start_time": "2023-11-02T13:05:35.815Z"
   },
   {
    "duration": 18,
    "start_time": "2023-11-02T13:12:42.509Z"
   },
   {
    "duration": 92,
    "start_time": "2023-11-02T13:13:08.625Z"
   },
   {
    "duration": 96,
    "start_time": "2023-11-02T13:13:14.311Z"
   },
   {
    "duration": 1373,
    "start_time": "2023-11-02T13:13:24.592Z"
   },
   {
    "duration": 1212,
    "start_time": "2023-11-02T13:13:39.719Z"
   },
   {
    "duration": 1420,
    "start_time": "2023-11-02T13:15:37.678Z"
   },
   {
    "duration": 1653,
    "start_time": "2023-11-02T13:15:55.625Z"
   },
   {
    "duration": 1612,
    "start_time": "2023-11-02T13:16:31.741Z"
   },
   {
    "duration": 1757,
    "start_time": "2023-11-02T13:16:37.240Z"
   },
   {
    "duration": 6,
    "start_time": "2023-11-02T13:20:28.787Z"
   },
   {
    "duration": 15,
    "start_time": "2023-11-02T13:20:37.192Z"
   },
   {
    "duration": 1702,
    "start_time": "2023-11-02T13:23:34.310Z"
   },
   {
    "duration": 45,
    "start_time": "2023-11-02T13:27:14.381Z"
   },
   {
    "duration": 49,
    "start_time": "2023-11-02T13:27:28.316Z"
   },
   {
    "duration": 49,
    "start_time": "2023-11-02T13:28:23.943Z"
   },
   {
    "duration": 52,
    "start_time": "2023-11-02T13:28:27.945Z"
   },
   {
    "duration": 55,
    "start_time": "2023-11-02T13:28:30.598Z"
   },
   {
    "duration": 52,
    "start_time": "2023-11-02T13:28:34.761Z"
   },
   {
    "duration": 9,
    "start_time": "2023-11-02T13:30:58.272Z"
   },
   {
    "duration": 9,
    "start_time": "2023-11-02T13:31:07.770Z"
   },
   {
    "duration": 9,
    "start_time": "2023-11-02T13:31:16.161Z"
   },
   {
    "duration": 9,
    "start_time": "2023-11-02T13:31:18.522Z"
   },
   {
    "duration": 9,
    "start_time": "2023-11-02T13:31:34.403Z"
   },
   {
    "duration": 13,
    "start_time": "2023-11-02T13:31:42.915Z"
   },
   {
    "duration": 72,
    "start_time": "2023-11-02T13:35:26.085Z"
   },
   {
    "duration": 66,
    "start_time": "2023-11-02T13:37:05.444Z"
   },
   {
    "duration": 61,
    "start_time": "2023-11-02T13:37:17.715Z"
   },
   {
    "duration": 61,
    "start_time": "2023-11-02T13:37:26.252Z"
   },
   {
    "duration": 13,
    "start_time": "2023-11-02T13:55:18.113Z"
   },
   {
    "duration": 757,
    "start_time": "2023-11-02T13:56:26.691Z"
   },
   {
    "duration": 12,
    "start_time": "2023-11-02T13:56:57.982Z"
   },
   {
    "duration": 13,
    "start_time": "2023-11-02T13:57:01.136Z"
   },
   {
    "duration": 444,
    "start_time": "2023-11-02T13:57:36.243Z"
   },
   {
    "duration": 313,
    "start_time": "2023-11-02T13:58:57.363Z"
   },
   {
    "duration": 10,
    "start_time": "2023-11-02T14:02:31.157Z"
   },
   {
    "duration": 11,
    "start_time": "2023-11-02T14:02:46.380Z"
   },
   {
    "duration": 5,
    "start_time": "2023-11-02T14:04:17.711Z"
   },
   {
    "duration": 11,
    "start_time": "2023-11-02T14:04:20.918Z"
   },
   {
    "duration": 5,
    "start_time": "2023-11-02T14:04:36.536Z"
   },
   {
    "duration": 11,
    "start_time": "2023-11-02T14:06:22.112Z"
   },
   {
    "duration": 11,
    "start_time": "2023-11-02T14:06:35.382Z"
   },
   {
    "duration": 9,
    "start_time": "2023-11-02T14:06:47.877Z"
   },
   {
    "duration": 5,
    "start_time": "2023-11-02T14:06:50.603Z"
   },
   {
    "duration": 11,
    "start_time": "2023-11-02T14:06:58.479Z"
   },
   {
    "duration": 6,
    "start_time": "2023-11-02T14:07:36.459Z"
   },
   {
    "duration": 10,
    "start_time": "2023-11-02T14:07:59.562Z"
   },
   {
    "duration": 12,
    "start_time": "2023-11-02T14:10:25.900Z"
   },
   {
    "duration": 3,
    "start_time": "2023-11-02T14:10:32.214Z"
   },
   {
    "duration": 539,
    "start_time": "2023-11-02T14:11:17.497Z"
   },
   {
    "duration": 16,
    "start_time": "2023-11-02T14:12:16.011Z"
   },
   {
    "duration": 290,
    "start_time": "2023-11-02T14:12:24.239Z"
   },
   {
    "duration": 481,
    "start_time": "2023-11-02T14:12:43.763Z"
   },
   {
    "duration": 263,
    "start_time": "2023-11-02T14:13:22.439Z"
   },
   {
    "duration": 302,
    "start_time": "2023-11-02T14:13:59.692Z"
   },
   {
    "duration": 520,
    "start_time": "2023-11-02T14:14:04.588Z"
   },
   {
    "duration": 10,
    "start_time": "2023-11-02T14:14:40.199Z"
   },
   {
    "duration": 11,
    "start_time": "2023-11-02T14:15:08.172Z"
   },
   {
    "duration": 5,
    "start_time": "2023-11-02T14:16:32.940Z"
   },
   {
    "duration": 10,
    "start_time": "2023-11-02T14:16:37.821Z"
   },
   {
    "duration": 35,
    "start_time": "2023-11-02T14:16:51.802Z"
   },
   {
    "duration": 442,
    "start_time": "2023-11-02T14:17:02.749Z"
   },
   {
    "duration": 473,
    "start_time": "2023-11-02T14:17:11.896Z"
   },
   {
    "duration": 451,
    "start_time": "2023-11-02T14:17:14.670Z"
   },
   {
    "duration": 441,
    "start_time": "2023-11-02T14:17:17.239Z"
   },
   {
    "duration": 554,
    "start_time": "2023-11-02T14:17:33.415Z"
   },
   {
    "duration": 457,
    "start_time": "2023-11-02T14:17:35.304Z"
   },
   {
    "duration": 473,
    "start_time": "2023-11-02T14:18:07.985Z"
   },
   {
    "duration": 463,
    "start_time": "2023-11-02T14:25:38.986Z"
   },
   {
    "duration": 449,
    "start_time": "2023-11-02T14:25:46.677Z"
   },
   {
    "duration": 139,
    "start_time": "2023-11-02T14:30:08.760Z"
   },
   {
    "duration": 132,
    "start_time": "2023-11-02T14:37:19.754Z"
   },
   {
    "duration": 5,
    "start_time": "2023-11-02T15:29:15.331Z"
   },
   {
    "duration": 23,
    "start_time": "2023-11-02T15:31:03.182Z"
   },
   {
    "duration": 22,
    "start_time": "2023-11-02T15:35:59.145Z"
   },
   {
    "duration": 9,
    "start_time": "2023-11-02T15:42:08.979Z"
   },
   {
    "duration": 20,
    "start_time": "2023-11-02T15:42:14.020Z"
   },
   {
    "duration": 7,
    "start_time": "2023-11-02T15:42:15.304Z"
   },
   {
    "duration": 13,
    "start_time": "2023-11-02T15:42:58.124Z"
   },
   {
    "duration": 12,
    "start_time": "2023-11-02T15:43:08.600Z"
   },
   {
    "duration": 41,
    "start_time": "2023-11-02T15:43:15.535Z"
   },
   {
    "duration": 9,
    "start_time": "2023-11-02T15:43:19.952Z"
   },
   {
    "duration": 13,
    "start_time": "2023-11-02T15:43:56.225Z"
   },
   {
    "duration": 135,
    "start_time": "2023-11-02T15:47:07.184Z"
   },
   {
    "duration": 140,
    "start_time": "2023-11-02T15:47:14.410Z"
   },
   {
    "duration": 16,
    "start_time": "2023-11-02T15:47:33.188Z"
   },
   {
    "duration": 8,
    "start_time": "2023-11-02T15:47:43.725Z"
   },
   {
    "duration": 171,
    "start_time": "2023-11-02T15:49:53.467Z"
   },
   {
    "duration": 159,
    "start_time": "2023-11-02T15:50:34.494Z"
   },
   {
    "duration": 173,
    "start_time": "2023-11-02T15:51:18.470Z"
   },
   {
    "duration": 187,
    "start_time": "2023-11-02T15:53:37.535Z"
   },
   {
    "duration": 175,
    "start_time": "2023-11-02T15:54:43.663Z"
   },
   {
    "duration": 9,
    "start_time": "2023-11-02T15:56:16.780Z"
   },
   {
    "duration": 12,
    "start_time": "2023-11-02T15:58:08.016Z"
   },
   {
    "duration": 17,
    "start_time": "2023-11-02T15:58:11.423Z"
   },
   {
    "duration": 18,
    "start_time": "2023-11-02T15:58:20.696Z"
   },
   {
    "duration": 350,
    "start_time": "2023-11-02T16:03:18.283Z"
   },
   {
    "duration": 337,
    "start_time": "2023-11-02T16:03:58.551Z"
   },
   {
    "duration": 482,
    "start_time": "2023-11-02T16:04:14.934Z"
   },
   {
    "duration": 484,
    "start_time": "2023-11-02T16:04:31.180Z"
   },
   {
    "duration": 347,
    "start_time": "2023-11-02T16:09:19.378Z"
   },
   {
    "duration": 1312,
    "start_time": "2023-11-02T16:09:57.473Z"
   },
   {
    "duration": 11,
    "start_time": "2023-11-02T16:11:45.361Z"
   },
   {
    "duration": 4,
    "start_time": "2023-11-02T16:12:35.394Z"
   },
   {
    "duration": 20,
    "start_time": "2023-11-02T16:12:53.044Z"
   },
   {
    "duration": 3,
    "start_time": "2023-11-02T16:12:55.654Z"
   },
   {
    "duration": 363,
    "start_time": "2023-11-02T16:12:59.494Z"
   },
   {
    "duration": 362,
    "start_time": "2023-11-02T16:13:16.646Z"
   },
   {
    "duration": 1009,
    "start_time": "2023-11-02T16:13:32.630Z"
   },
   {
    "duration": 45,
    "start_time": "2023-11-02T16:13:37.383Z"
   },
   {
    "duration": 9,
    "start_time": "2023-11-02T16:13:42.582Z"
   },
   {
    "duration": 3,
    "start_time": "2023-11-02T16:14:57.652Z"
   },
   {
    "duration": 49,
    "start_time": "2023-11-02T16:14:59.038Z"
   },
   {
    "duration": 9,
    "start_time": "2023-11-02T16:15:00.227Z"
   },
   {
    "duration": 4,
    "start_time": "2023-11-02T16:15:26.264Z"
   },
   {
    "duration": 49,
    "start_time": "2023-11-02T16:15:27.630Z"
   },
   {
    "duration": 8,
    "start_time": "2023-11-02T16:15:29.730Z"
   },
   {
    "duration": 47,
    "start_time": "2023-11-02T16:16:10.204Z"
   },
   {
    "duration": 13,
    "start_time": "2023-11-02T16:16:11.628Z"
   },
   {
    "duration": 46,
    "start_time": "2023-11-02T16:16:24.927Z"
   },
   {
    "duration": 8,
    "start_time": "2023-11-02T16:16:26.256Z"
   },
   {
    "duration": 11,
    "start_time": "2023-11-02T16:43:46.565Z"
   },
   {
    "duration": 8,
    "start_time": "2023-11-02T16:43:48.290Z"
   },
   {
    "duration": 10,
    "start_time": "2023-11-02T16:44:16.068Z"
   },
   {
    "duration": 9,
    "start_time": "2023-11-02T16:44:28.162Z"
   },
   {
    "duration": 10,
    "start_time": "2023-11-02T16:44:37.124Z"
   },
   {
    "duration": 7,
    "start_time": "2023-11-02T16:44:43.707Z"
   },
   {
    "duration": 10,
    "start_time": "2023-11-02T16:45:04.072Z"
   },
   {
    "duration": 8,
    "start_time": "2023-11-02T16:46:04.852Z"
   },
   {
    "duration": 449,
    "start_time": "2023-11-02T16:46:45.233Z"
   },
   {
    "duration": 4,
    "start_time": "2023-11-02T16:47:53.478Z"
   },
   {
    "duration": 8,
    "start_time": "2023-11-02T16:47:57.618Z"
   },
   {
    "duration": 15,
    "start_time": "2023-11-02T16:48:08.140Z"
   },
   {
    "duration": 9,
    "start_time": "2023-11-02T16:48:10.939Z"
   },
   {
    "duration": 11,
    "start_time": "2023-11-02T16:49:50.859Z"
   },
   {
    "duration": 85,
    "start_time": "2023-11-02T16:54:46.859Z"
   },
   {
    "duration": 83,
    "start_time": "2023-11-02T16:54:56.561Z"
   },
   {
    "duration": 4,
    "start_time": "2023-11-02T16:56:40.479Z"
   },
   {
    "duration": 4,
    "start_time": "2023-11-02T16:56:50.390Z"
   },
   {
    "duration": 38,
    "start_time": "2023-11-02T16:57:12.242Z"
   },
   {
    "duration": 16,
    "start_time": "2023-11-02T16:58:05.964Z"
   },
   {
    "duration": 210,
    "start_time": "2023-11-02T16:58:17.202Z"
   },
   {
    "duration": 339,
    "start_time": "2023-11-02T16:58:26.251Z"
   },
   {
    "duration": 10,
    "start_time": "2023-11-02T16:58:45.114Z"
   },
   {
    "duration": 32,
    "start_time": "2023-11-02T16:59:02.283Z"
   },
   {
    "duration": 39,
    "start_time": "2023-11-02T16:59:08.292Z"
   },
   {
    "duration": 8,
    "start_time": "2023-11-02T17:00:12.276Z"
   },
   {
    "duration": 16,
    "start_time": "2023-11-02T17:00:16.356Z"
   },
   {
    "duration": 39,
    "start_time": "2023-11-02T17:00:18.848Z"
   },
   {
    "duration": 9,
    "start_time": "2023-11-02T17:00:24.509Z"
   },
   {
    "duration": 4,
    "start_time": "2023-11-02T17:00:59.312Z"
   },
   {
    "duration": 49,
    "start_time": "2023-11-02T17:00:59.318Z"
   },
   {
    "duration": 39,
    "start_time": "2023-11-02T17:00:59.369Z"
   },
   {
    "duration": 71,
    "start_time": "2023-11-02T17:00:59.409Z"
   },
   {
    "duration": 484,
    "start_time": "2023-11-02T17:00:59.482Z"
   },
   {
    "duration": 29,
    "start_time": "2023-11-02T17:00:59.968Z"
   },
   {
    "duration": 10,
    "start_time": "2023-11-02T17:00:59.998Z"
   },
   {
    "duration": 56,
    "start_time": "2023-11-02T17:01:00.010Z"
   },
   {
    "duration": 63,
    "start_time": "2023-11-02T17:01:00.068Z"
   },
   {
    "duration": 68,
    "start_time": "2023-11-02T17:01:00.133Z"
   },
   {
    "duration": 95,
    "start_time": "2023-11-02T17:01:00.203Z"
   },
   {
    "duration": 15,
    "start_time": "2023-11-02T17:01:00.300Z"
   },
   {
    "duration": 180,
    "start_time": "2023-11-02T17:01:00.318Z"
   },
   {
    "duration": 248,
    "start_time": "2023-11-02T17:01:00.501Z"
   },
   {
    "duration": 224,
    "start_time": "2023-11-02T17:01:00.751Z"
   },
   {
    "duration": 30,
    "start_time": "2023-11-02T17:01:00.977Z"
   },
   {
    "duration": 14,
    "start_time": "2023-11-02T17:01:01.009Z"
   },
   {
    "duration": 325,
    "start_time": "2023-11-02T17:01:01.026Z"
   },
   {
    "duration": 15,
    "start_time": "2023-11-02T17:01:01.352Z"
   },
   {
    "duration": 41,
    "start_time": "2023-11-02T17:01:01.369Z"
   },
   {
    "duration": 45,
    "start_time": "2023-11-02T17:01:01.412Z"
   },
   {
    "duration": 54,
    "start_time": "2023-11-02T17:01:01.459Z"
   },
   {
    "duration": 54,
    "start_time": "2023-11-02T17:01:01.515Z"
   },
   {
    "duration": 48,
    "start_time": "2023-11-02T17:01:01.571Z"
   },
   {
    "duration": 74,
    "start_time": "2023-11-02T17:01:01.620Z"
   },
   {
    "duration": 36,
    "start_time": "2023-11-02T17:01:01.696Z"
   },
   {
    "duration": 151,
    "start_time": "2023-11-02T17:01:01.734Z"
   },
   {
    "duration": 319,
    "start_time": "2023-11-02T17:01:01.887Z"
   },
   {
    "duration": 10,
    "start_time": "2023-11-02T17:01:02.208Z"
   },
   {
    "duration": 97,
    "start_time": "2023-11-02T17:01:02.220Z"
   },
   {
    "duration": 43,
    "start_time": "2023-11-02T17:01:02.319Z"
   },
   {
    "duration": 51,
    "start_time": "2023-11-02T17:01:02.364Z"
   },
   {
    "duration": 91,
    "start_time": "2023-11-02T17:01:02.417Z"
   },
   {
    "duration": 37,
    "start_time": "2023-11-02T17:01:02.510Z"
   },
   {
    "duration": 65,
    "start_time": "2023-11-02T17:01:02.548Z"
   },
   {
    "duration": 97,
    "start_time": "2023-11-02T17:01:02.615Z"
   },
   {
    "duration": 144,
    "start_time": "2023-11-02T17:01:02.713Z"
   },
   {
    "duration": 47,
    "start_time": "2023-11-02T17:01:02.859Z"
   },
   {
    "duration": 30,
    "start_time": "2023-11-02T17:01:02.908Z"
   },
   {
    "duration": 1661,
    "start_time": "2023-11-02T17:01:02.940Z"
   },
   {
    "duration": 64,
    "start_time": "2023-11-02T17:01:04.605Z"
   },
   {
    "duration": 308,
    "start_time": "2023-11-02T17:01:04.670Z"
   },
   {
    "duration": 529,
    "start_time": "2023-11-02T17:01:04.980Z"
   },
   {
    "duration": 15,
    "start_time": "2023-11-02T17:01:05.511Z"
   },
   {
    "duration": 4,
    "start_time": "2023-11-02T17:01:05.528Z"
   },
   {
    "duration": 48,
    "start_time": "2023-11-02T17:01:05.546Z"
   },
   {
    "duration": 224,
    "start_time": "2023-11-02T17:01:05.596Z"
   },
   {
    "duration": 8,
    "start_time": "2023-11-02T17:01:14.187Z"
   },
   {
    "duration": 10,
    "start_time": "2023-11-02T17:01:16.869Z"
   },
   {
    "duration": 7,
    "start_time": "2023-11-02T17:01:31.241Z"
   },
   {
    "duration": 337,
    "start_time": "2023-11-02T17:04:50.936Z"
   },
   {
    "duration": 275,
    "start_time": "2023-11-02T17:04:55.207Z"
   },
   {
    "duration": 234,
    "start_time": "2023-11-02T17:06:50.994Z"
   },
   {
    "duration": 254,
    "start_time": "2023-11-02T17:06:58.979Z"
   },
   {
    "duration": 9,
    "start_time": "2023-11-02T17:07:33.800Z"
   },
   {
    "duration": 14,
    "start_time": "2023-11-02T17:14:05.587Z"
   },
   {
    "duration": 5,
    "start_time": "2023-11-02T17:14:29.822Z"
   },
   {
    "duration": 1298,
    "start_time": "2023-11-03T07:07:56.045Z"
   },
   {
    "duration": 3,
    "start_time": "2023-11-03T07:07:57.345Z"
   },
   {
    "duration": 110,
    "start_time": "2023-11-03T07:07:57.350Z"
   },
   {
    "duration": 179,
    "start_time": "2023-11-03T07:07:57.462Z"
   },
   {
    "duration": 643,
    "start_time": "2023-11-03T07:07:57.644Z"
   },
   {
    "duration": 64,
    "start_time": "2023-11-03T07:07:58.289Z"
   },
   {
    "duration": 10,
    "start_time": "2023-11-03T07:07:58.354Z"
   },
   {
    "duration": 36,
    "start_time": "2023-11-03T07:07:58.366Z"
   },
   {
    "duration": 27,
    "start_time": "2023-11-03T07:07:58.404Z"
   },
   {
    "duration": 30,
    "start_time": "2023-11-03T07:07:58.433Z"
   },
   {
    "duration": 67,
    "start_time": "2023-11-03T07:07:58.465Z"
   },
   {
    "duration": 12,
    "start_time": "2023-11-03T07:07:58.534Z"
   },
   {
    "duration": 143,
    "start_time": "2023-11-03T07:07:58.547Z"
   },
   {
    "duration": 205,
    "start_time": "2023-11-03T07:07:58.693Z"
   },
   {
    "duration": 200,
    "start_time": "2023-11-03T07:07:58.901Z"
   },
   {
    "duration": 29,
    "start_time": "2023-11-03T07:07:59.102Z"
   },
   {
    "duration": 20,
    "start_time": "2023-11-03T07:07:59.132Z"
   },
   {
    "duration": 354,
    "start_time": "2023-11-03T07:07:59.154Z"
   },
   {
    "duration": 12,
    "start_time": "2023-11-03T07:07:59.509Z"
   },
   {
    "duration": 15,
    "start_time": "2023-11-03T07:07:59.522Z"
   },
   {
    "duration": 6,
    "start_time": "2023-11-03T07:07:59.538Z"
   },
   {
    "duration": 17,
    "start_time": "2023-11-03T07:07:59.545Z"
   },
   {
    "duration": 16,
    "start_time": "2023-11-03T07:07:59.564Z"
   },
   {
    "duration": 46,
    "start_time": "2023-11-03T07:07:59.582Z"
   },
   {
    "duration": 26,
    "start_time": "2023-11-03T07:07:59.629Z"
   },
   {
    "duration": 22,
    "start_time": "2023-11-03T07:07:59.656Z"
   },
   {
    "duration": 51,
    "start_time": "2023-11-03T07:07:59.679Z"
   },
   {
    "duration": 268,
    "start_time": "2023-11-03T07:07:59.732Z"
   },
   {
    "duration": 11,
    "start_time": "2023-11-03T07:08:00.002Z"
   },
   {
    "duration": 164,
    "start_time": "2023-11-03T07:08:00.015Z"
   },
   {
    "duration": 86,
    "start_time": "2023-11-03T07:08:00.181Z"
   },
   {
    "duration": 62,
    "start_time": "2023-11-03T07:08:00.269Z"
   },
   {
    "duration": 63,
    "start_time": "2023-11-03T07:08:00.333Z"
   },
   {
    "duration": 42,
    "start_time": "2023-11-03T07:08:00.398Z"
   },
   {
    "duration": 79,
    "start_time": "2023-11-03T07:08:00.441Z"
   },
   {
    "duration": 117,
    "start_time": "2023-11-03T07:08:00.522Z"
   },
   {
    "duration": 0,
    "start_time": "2023-11-03T07:08:00.641Z"
   },
   {
    "duration": 0,
    "start_time": "2023-11-03T07:08:00.642Z"
   },
   {
    "duration": 0,
    "start_time": "2023-11-03T07:08:00.643Z"
   },
   {
    "duration": 0,
    "start_time": "2023-11-03T07:08:00.644Z"
   },
   {
    "duration": 0,
    "start_time": "2023-11-03T07:08:00.645Z"
   },
   {
    "duration": 0,
    "start_time": "2023-11-03T07:08:00.646Z"
   },
   {
    "duration": 0,
    "start_time": "2023-11-03T07:08:00.646Z"
   },
   {
    "duration": 0,
    "start_time": "2023-11-03T07:08:00.647Z"
   },
   {
    "duration": 0,
    "start_time": "2023-11-03T07:08:00.648Z"
   },
   {
    "duration": 0,
    "start_time": "2023-11-03T07:08:00.649Z"
   },
   {
    "duration": 6,
    "start_time": "2023-11-03T07:08:55.157Z"
   },
   {
    "duration": 1145,
    "start_time": "2023-11-03T07:08:59.279Z"
   },
   {
    "duration": 3,
    "start_time": "2023-11-03T07:09:00.426Z"
   },
   {
    "duration": 90,
    "start_time": "2023-11-03T07:09:00.430Z"
   },
   {
    "duration": 93,
    "start_time": "2023-11-03T07:09:00.522Z"
   },
   {
    "duration": 491,
    "start_time": "2023-11-03T07:09:00.617Z"
   },
   {
    "duration": 27,
    "start_time": "2023-11-03T07:09:01.109Z"
   },
   {
    "duration": 72,
    "start_time": "2023-11-03T07:09:01.138Z"
   },
   {
    "duration": 42,
    "start_time": "2023-11-03T07:09:01.212Z"
   },
   {
    "duration": 115,
    "start_time": "2023-11-03T07:09:01.256Z"
   },
   {
    "duration": 58,
    "start_time": "2023-11-03T07:09:01.373Z"
   },
   {
    "duration": 109,
    "start_time": "2023-11-03T07:09:01.433Z"
   },
   {
    "duration": 14,
    "start_time": "2023-11-03T07:09:01.544Z"
   },
   {
    "duration": 365,
    "start_time": "2023-11-03T07:09:01.559Z"
   },
   {
    "duration": 246,
    "start_time": "2023-11-03T07:09:01.927Z"
   },
   {
    "duration": 360,
    "start_time": "2023-11-03T07:09:02.175Z"
   },
   {
    "duration": 40,
    "start_time": "2023-11-03T07:09:02.537Z"
   },
   {
    "duration": 241,
    "start_time": "2023-11-03T07:09:02.578Z"
   },
   {
    "duration": 383,
    "start_time": "2023-11-03T07:09:02.821Z"
   },
   {
    "duration": 12,
    "start_time": "2023-11-03T07:09:03.207Z"
   },
   {
    "duration": 20,
    "start_time": "2023-11-03T07:09:03.221Z"
   },
   {
    "duration": 11,
    "start_time": "2023-11-03T07:09:03.242Z"
   },
   {
    "duration": 47,
    "start_time": "2023-11-03T07:09:03.255Z"
   },
   {
    "duration": 36,
    "start_time": "2023-11-03T07:09:03.303Z"
   },
   {
    "duration": 14,
    "start_time": "2023-11-03T07:09:03.341Z"
   },
   {
    "duration": 51,
    "start_time": "2023-11-03T07:09:03.356Z"
   },
   {
    "duration": 15,
    "start_time": "2023-11-03T07:09:03.409Z"
   },
   {
    "duration": 38,
    "start_time": "2023-11-03T07:09:03.426Z"
   },
   {
    "duration": 267,
    "start_time": "2023-11-03T07:09:03.465Z"
   },
   {
    "duration": 9,
    "start_time": "2023-11-03T07:09:03.733Z"
   },
   {
    "duration": 38,
    "start_time": "2023-11-03T07:09:03.743Z"
   },
   {
    "duration": 29,
    "start_time": "2023-11-03T07:09:03.783Z"
   },
   {
    "duration": 34,
    "start_time": "2023-11-03T07:09:03.814Z"
   },
   {
    "duration": 59,
    "start_time": "2023-11-03T07:09:03.849Z"
   },
   {
    "duration": 17,
    "start_time": "2023-11-03T07:09:03.910Z"
   },
   {
    "duration": 27,
    "start_time": "2023-11-03T07:09:03.928Z"
   },
   {
    "duration": 30,
    "start_time": "2023-11-03T07:09:03.957Z"
   },
   {
    "duration": 30,
    "start_time": "2023-11-03T07:09:03.988Z"
   },
   {
    "duration": 67,
    "start_time": "2023-11-03T07:09:04.019Z"
   },
   {
    "duration": 1479,
    "start_time": "2023-11-03T07:09:04.087Z"
   },
   {
    "duration": 122,
    "start_time": "2023-11-03T07:09:05.567Z"
   },
   {
    "duration": 333,
    "start_time": "2023-11-03T07:09:05.693Z"
   },
   {
    "duration": 462,
    "start_time": "2023-11-03T07:09:06.029Z"
   },
   {
    "duration": 20,
    "start_time": "2023-11-03T07:09:06.492Z"
   },
   {
    "duration": 14,
    "start_time": "2023-11-03T07:09:06.513Z"
   },
   {
    "duration": 57,
    "start_time": "2023-11-03T07:09:06.529Z"
   },
   {
    "duration": 212,
    "start_time": "2023-11-03T07:09:06.588Z"
   },
   {
    "duration": 6,
    "start_time": "2023-11-03T07:10:15.417Z"
   },
   {
    "duration": 6,
    "start_time": "2023-11-03T07:10:38.452Z"
   },
   {
    "duration": 6,
    "start_time": "2023-11-03T07:12:49.929Z"
   },
   {
    "duration": 11,
    "start_time": "2023-11-03T07:47:22.543Z"
   },
   {
    "duration": 9,
    "start_time": "2023-11-03T07:48:15.743Z"
   },
   {
    "duration": 102,
    "start_time": "2023-11-03T07:48:23.757Z"
   },
   {
    "duration": 9,
    "start_time": "2023-11-03T07:48:32.175Z"
   },
   {
    "duration": 6,
    "start_time": "2023-11-03T07:49:01.030Z"
   },
   {
    "duration": 6,
    "start_time": "2023-11-03T07:49:05.804Z"
   },
   {
    "duration": 6,
    "start_time": "2023-11-03T07:49:09.017Z"
   },
   {
    "duration": 5,
    "start_time": "2023-11-03T07:49:11.117Z"
   },
   {
    "duration": 9,
    "start_time": "2023-11-03T07:51:01.994Z"
   },
   {
    "duration": 9,
    "start_time": "2023-11-03T07:51:09.624Z"
   },
   {
    "duration": 1565,
    "start_time": "2023-11-03T07:52:03.220Z"
   },
   {
    "duration": 1373,
    "start_time": "2023-11-03T07:52:22.413Z"
   },
   {
    "duration": 1420,
    "start_time": "2023-11-03T07:52:35.215Z"
   },
   {
    "duration": 3,
    "start_time": "2023-11-03T07:53:17.792Z"
   },
   {
    "duration": 7,
    "start_time": "2023-11-03T07:53:20.196Z"
   },
   {
    "duration": 1863,
    "start_time": "2023-11-03T07:53:23.361Z"
   },
   {
    "duration": 3,
    "start_time": "2023-11-03T07:54:00.499Z"
   },
   {
    "duration": 12,
    "start_time": "2023-11-03T07:54:50.701Z"
   },
   {
    "duration": 13,
    "start_time": "2023-11-03T07:54:55.561Z"
   },
   {
    "duration": 1313,
    "start_time": "2023-11-03T07:55:27.274Z"
   },
   {
    "duration": 15,
    "start_time": "2023-11-03T07:55:41.524Z"
   },
   {
    "duration": 1237,
    "start_time": "2023-11-03T07:55:52.221Z"
   },
   {
    "duration": 5,
    "start_time": "2023-11-03T07:56:10.264Z"
   },
   {
    "duration": 10,
    "start_time": "2023-11-03T07:56:20.687Z"
   },
   {
    "duration": 6,
    "start_time": "2023-11-03T07:56:28.719Z"
   },
   {
    "duration": 1252,
    "start_time": "2023-11-03T07:56:38.029Z"
   },
   {
    "duration": 8,
    "start_time": "2023-11-03T07:56:49.575Z"
   },
   {
    "duration": 7,
    "start_time": "2023-11-03T07:57:00.497Z"
   },
   {
    "duration": 2275,
    "start_time": "2023-11-03T07:58:20.689Z"
   },
   {
    "duration": 1265,
    "start_time": "2023-11-03T07:58:25.103Z"
   },
   {
    "duration": 6,
    "start_time": "2023-11-03T07:58:29.513Z"
   },
   {
    "duration": 5,
    "start_time": "2023-11-03T07:58:38.146Z"
   },
   {
    "duration": 5,
    "start_time": "2023-11-03T07:58:44.819Z"
   },
   {
    "duration": 7,
    "start_time": "2023-11-03T07:58:46.312Z"
   },
   {
    "duration": 7,
    "start_time": "2023-11-03T07:58:53.899Z"
   },
   {
    "duration": 5,
    "start_time": "2023-11-03T07:58:58.633Z"
   },
   {
    "duration": 1410,
    "start_time": "2023-11-03T07:59:01.829Z"
   },
   {
    "duration": 6,
    "start_time": "2023-11-03T07:59:04.575Z"
   },
   {
    "duration": 1291,
    "start_time": "2023-11-03T07:59:09.217Z"
   },
   {
    "duration": 5,
    "start_time": "2023-11-03T07:59:16.978Z"
   },
   {
    "duration": 6,
    "start_time": "2023-11-03T07:59:22.083Z"
   },
   {
    "duration": 3,
    "start_time": "2023-11-03T07:59:31.097Z"
   },
   {
    "duration": 16,
    "start_time": "2023-11-03T07:59:48.012Z"
   },
   {
    "duration": 15,
    "start_time": "2023-11-03T07:59:54.071Z"
   },
   {
    "duration": 15,
    "start_time": "2023-11-03T07:59:59.944Z"
   },
   {
    "duration": 6,
    "start_time": "2023-11-03T08:00:11.299Z"
   },
   {
    "duration": 1501,
    "start_time": "2023-11-03T08:00:26.438Z"
   },
   {
    "duration": 5,
    "start_time": "2023-11-03T08:00:56.691Z"
   },
   {
    "duration": 5,
    "start_time": "2023-11-03T08:01:01.442Z"
   },
   {
    "duration": 5,
    "start_time": "2023-11-03T08:01:04.241Z"
   },
   {
    "duration": 6,
    "start_time": "2023-11-03T08:01:06.457Z"
   },
   {
    "duration": 23,
    "start_time": "2023-11-03T08:01:31.574Z"
   },
   {
    "duration": 3,
    "start_time": "2023-11-03T08:01:52.830Z"
   },
   {
    "duration": 5,
    "start_time": "2023-11-03T08:01:55.139Z"
   },
   {
    "duration": 43,
    "start_time": "2023-11-03T08:01:58.327Z"
   },
   {
    "duration": 4,
    "start_time": "2023-11-03T14:37:45.584Z"
   },
   {
    "duration": 12,
    "start_time": "2023-11-03T14:37:45.590Z"
   },
   {
    "duration": 51,
    "start_time": "2023-11-03T14:37:45.603Z"
   },
   {
    "duration": 74,
    "start_time": "2023-11-03T14:37:45.656Z"
   },
   {
    "duration": 515,
    "start_time": "2023-11-03T14:37:45.732Z"
   },
   {
    "duration": 30,
    "start_time": "2023-11-03T14:37:46.248Z"
   },
   {
    "duration": 10,
    "start_time": "2023-11-03T14:37:46.280Z"
   },
   {
    "duration": 8,
    "start_time": "2023-11-03T14:37:46.291Z"
   },
   {
    "duration": 24,
    "start_time": "2023-11-03T14:37:46.300Z"
   },
   {
    "duration": 13,
    "start_time": "2023-11-03T14:37:46.326Z"
   },
   {
    "duration": 80,
    "start_time": "2023-11-03T14:37:46.341Z"
   },
   {
    "duration": 13,
    "start_time": "2023-11-03T14:37:46.423Z"
   },
   {
    "duration": 110,
    "start_time": "2023-11-03T14:37:46.437Z"
   },
   {
    "duration": 212,
    "start_time": "2023-11-03T14:37:46.550Z"
   },
   {
    "duration": 194,
    "start_time": "2023-11-03T14:37:46.764Z"
   },
   {
    "duration": 59,
    "start_time": "2023-11-03T14:37:46.960Z"
   },
   {
    "duration": 8,
    "start_time": "2023-11-03T14:37:47.021Z"
   },
   {
    "duration": 380,
    "start_time": "2023-11-03T14:37:47.031Z"
   },
   {
    "duration": 16,
    "start_time": "2023-11-03T14:37:47.413Z"
   },
   {
    "duration": 16,
    "start_time": "2023-11-03T14:37:47.430Z"
   },
   {
    "duration": 7,
    "start_time": "2023-11-03T14:37:47.448Z"
   },
   {
    "duration": 30,
    "start_time": "2023-11-03T14:37:47.457Z"
   },
   {
    "duration": 51,
    "start_time": "2023-11-03T14:37:47.488Z"
   },
   {
    "duration": 15,
    "start_time": "2023-11-03T14:37:47.540Z"
   },
   {
    "duration": 28,
    "start_time": "2023-11-03T14:37:47.557Z"
   },
   {
    "duration": 30,
    "start_time": "2023-11-03T14:37:47.586Z"
   },
   {
    "duration": 46,
    "start_time": "2023-11-03T14:37:47.618Z"
   },
   {
    "duration": 268,
    "start_time": "2023-11-03T14:37:47.665Z"
   },
   {
    "duration": 9,
    "start_time": "2023-11-03T14:37:47.935Z"
   },
   {
    "duration": 58,
    "start_time": "2023-11-03T14:37:47.946Z"
   },
   {
    "duration": 18,
    "start_time": "2023-11-03T14:37:48.006Z"
   },
   {
    "duration": 24,
    "start_time": "2023-11-03T14:37:48.026Z"
   },
   {
    "duration": 35,
    "start_time": "2023-11-03T14:37:48.052Z"
   },
   {
    "duration": 12,
    "start_time": "2023-11-03T14:37:48.089Z"
   },
   {
    "duration": 28,
    "start_time": "2023-11-03T14:37:48.103Z"
   },
   {
    "duration": 12,
    "start_time": "2023-11-03T14:37:48.133Z"
   },
   {
    "duration": 16,
    "start_time": "2023-11-03T14:37:48.147Z"
   },
   {
    "duration": 27,
    "start_time": "2023-11-03T14:37:48.164Z"
   },
   {
    "duration": 1516,
    "start_time": "2023-11-03T14:37:48.193Z"
   },
   {
    "duration": 48,
    "start_time": "2023-11-03T14:37:49.711Z"
   },
   {
    "duration": 296,
    "start_time": "2023-11-03T14:37:49.762Z"
   },
   {
    "duration": 519,
    "start_time": "2023-11-03T14:37:50.060Z"
   },
   {
    "duration": 13,
    "start_time": "2023-11-03T14:37:50.581Z"
   },
   {
    "duration": 12,
    "start_time": "2023-11-03T14:37:50.606Z"
   },
   {
    "duration": 71,
    "start_time": "2023-11-03T14:37:50.619Z"
   },
   {
    "duration": 223,
    "start_time": "2023-11-03T14:37:50.692Z"
   },
   {
    "duration": 6,
    "start_time": "2023-11-03T14:37:50.916Z"
   },
   {
    "duration": 72,
    "start_time": "2023-11-03T14:37:50.924Z"
   },
   {
    "duration": 9,
    "start_time": "2023-11-03T14:44:24.419Z"
   },
   {
    "duration": 1393,
    "start_time": "2023-11-03T16:08:02.834Z"
   },
   {
    "duration": 1139,
    "start_time": "2023-11-03T16:08:08.377Z"
   },
   {
    "duration": 3,
    "start_time": "2023-11-03T16:08:09.518Z"
   },
   {
    "duration": 120,
    "start_time": "2023-11-03T16:08:09.522Z"
   },
   {
    "duration": 282,
    "start_time": "2023-11-03T16:08:09.643Z"
   },
   {
    "duration": 1230,
    "start_time": "2023-11-03T16:08:09.928Z"
   },
   {
    "duration": 76,
    "start_time": "2023-11-03T16:08:11.160Z"
   },
   {
    "duration": 11,
    "start_time": "2023-11-03T16:08:11.238Z"
   },
   {
    "duration": 45,
    "start_time": "2023-11-03T16:08:11.251Z"
   },
   {
    "duration": 37,
    "start_time": "2023-11-03T16:08:11.298Z"
   },
   {
    "duration": 29,
    "start_time": "2023-11-03T16:08:11.337Z"
   },
   {
    "duration": 146,
    "start_time": "2023-11-03T16:08:11.367Z"
   },
   {
    "duration": 12,
    "start_time": "2023-11-03T16:08:11.515Z"
   },
   {
    "duration": 154,
    "start_time": "2023-11-03T16:08:11.529Z"
   },
   {
    "duration": 234,
    "start_time": "2023-11-03T16:08:11.687Z"
   },
   {
    "duration": 227,
    "start_time": "2023-11-03T16:08:11.922Z"
   },
   {
    "duration": 29,
    "start_time": "2023-11-03T16:08:12.151Z"
   },
   {
    "duration": 18,
    "start_time": "2023-11-03T16:08:12.182Z"
   },
   {
    "duration": 369,
    "start_time": "2023-11-03T16:08:12.207Z"
   },
   {
    "duration": 13,
    "start_time": "2023-11-03T16:08:12.578Z"
   },
   {
    "duration": 34,
    "start_time": "2023-11-03T16:08:12.592Z"
   },
   {
    "duration": 7,
    "start_time": "2023-11-03T16:08:12.627Z"
   },
   {
    "duration": 23,
    "start_time": "2023-11-03T16:08:12.635Z"
   },
   {
    "duration": 52,
    "start_time": "2023-11-03T16:08:12.660Z"
   },
   {
    "duration": 10,
    "start_time": "2023-11-03T16:08:12.714Z"
   },
   {
    "duration": 37,
    "start_time": "2023-11-03T16:08:12.725Z"
   },
   {
    "duration": 17,
    "start_time": "2023-11-03T16:08:12.764Z"
   },
   {
    "duration": 34,
    "start_time": "2023-11-03T16:08:12.782Z"
   },
   {
    "duration": 278,
    "start_time": "2023-11-03T16:08:12.818Z"
   },
   {
    "duration": 15,
    "start_time": "2023-11-03T16:08:13.098Z"
   },
   {
    "duration": 47,
    "start_time": "2023-11-03T16:08:13.115Z"
   },
   {
    "duration": 12,
    "start_time": "2023-11-03T16:08:13.163Z"
   },
   {
    "duration": 6,
    "start_time": "2023-11-03T16:08:13.177Z"
   },
   {
    "duration": 33,
    "start_time": "2023-11-03T16:08:13.185Z"
   },
   {
    "duration": 15,
    "start_time": "2023-11-03T16:08:13.220Z"
   },
   {
    "duration": 72,
    "start_time": "2023-11-03T16:08:13.236Z"
   },
   {
    "duration": 65,
    "start_time": "2023-11-03T16:08:13.310Z"
   },
   {
    "duration": 38,
    "start_time": "2023-11-03T16:08:13.377Z"
   },
   {
    "duration": 65,
    "start_time": "2023-11-03T16:08:13.417Z"
   },
   {
    "duration": 1578,
    "start_time": "2023-11-03T16:08:13.484Z"
   },
   {
    "duration": 118,
    "start_time": "2023-11-03T16:08:15.065Z"
   },
   {
    "duration": 291,
    "start_time": "2023-11-03T16:08:15.186Z"
   },
   {
    "duration": 433,
    "start_time": "2023-11-03T16:08:15.479Z"
   },
   {
    "duration": 14,
    "start_time": "2023-11-03T16:08:15.914Z"
   },
   {
    "duration": 7,
    "start_time": "2023-11-03T16:08:15.930Z"
   },
   {
    "duration": 68,
    "start_time": "2023-11-03T16:08:15.939Z"
   },
   {
    "duration": 287,
    "start_time": "2023-11-03T16:08:16.010Z"
   },
   {
    "duration": 12,
    "start_time": "2023-11-03T16:08:16.299Z"
   },
   {
    "duration": 145,
    "start_time": "2023-11-03T16:08:16.313Z"
   },
   {
    "duration": 30,
    "start_time": "2023-11-03T16:35:36.623Z"
   },
   {
    "duration": 214,
    "start_time": "2023-11-03T16:37:25.048Z"
   },
   {
    "duration": 1210,
    "start_time": "2023-11-03T16:44:24.997Z"
   },
   {
    "duration": 3,
    "start_time": "2023-11-03T16:44:26.208Z"
   },
   {
    "duration": 77,
    "start_time": "2023-11-03T16:44:26.213Z"
   },
   {
    "duration": 72,
    "start_time": "2023-11-03T16:44:26.292Z"
   },
   {
    "duration": 518,
    "start_time": "2023-11-03T16:44:26.366Z"
   },
   {
    "duration": 28,
    "start_time": "2023-11-03T16:44:26.886Z"
   },
   {
    "duration": 10,
    "start_time": "2023-11-03T16:44:26.915Z"
   },
   {
    "duration": 10,
    "start_time": "2023-11-03T16:44:26.926Z"
   },
   {
    "duration": 24,
    "start_time": "2023-11-03T16:44:26.937Z"
   },
   {
    "duration": 12,
    "start_time": "2023-11-03T16:44:26.963Z"
   },
   {
    "duration": 74,
    "start_time": "2023-11-03T16:44:26.977Z"
   },
   {
    "duration": 17,
    "start_time": "2023-11-03T16:44:27.053Z"
   },
   {
    "duration": 110,
    "start_time": "2023-11-03T16:44:27.072Z"
   },
   {
    "duration": 223,
    "start_time": "2023-11-03T16:44:27.185Z"
   },
   {
    "duration": 207,
    "start_time": "2023-11-03T16:44:27.409Z"
   },
   {
    "duration": 27,
    "start_time": "2023-11-03T16:44:27.618Z"
   },
   {
    "duration": 7,
    "start_time": "2023-11-03T16:44:27.647Z"
   },
   {
    "duration": 410,
    "start_time": "2023-11-03T16:44:27.656Z"
   },
   {
    "duration": 13,
    "start_time": "2023-11-03T16:44:28.068Z"
   },
   {
    "duration": 24,
    "start_time": "2023-11-03T16:44:28.083Z"
   },
   {
    "duration": 116,
    "start_time": "2023-11-03T16:44:28.109Z"
   },
   {
    "duration": 30,
    "start_time": "2023-11-03T16:44:28.227Z"
   },
   {
    "duration": 17,
    "start_time": "2023-11-03T16:44:28.259Z"
   },
   {
    "duration": 19,
    "start_time": "2023-11-03T16:44:28.278Z"
   },
   {
    "duration": 31,
    "start_time": "2023-11-03T16:44:28.299Z"
   },
   {
    "duration": 14,
    "start_time": "2023-11-03T16:44:28.332Z"
   },
   {
    "duration": 156,
    "start_time": "2023-11-03T16:44:28.347Z"
   },
   {
    "duration": 267,
    "start_time": "2023-11-03T16:44:28.504Z"
   },
   {
    "duration": 10,
    "start_time": "2023-11-03T16:44:28.773Z"
   },
   {
    "duration": 54,
    "start_time": "2023-11-03T16:44:28.784Z"
   },
   {
    "duration": 7,
    "start_time": "2023-11-03T16:44:28.839Z"
   },
   {
    "duration": 17,
    "start_time": "2023-11-03T16:44:28.847Z"
   },
   {
    "duration": 27,
    "start_time": "2023-11-03T16:44:28.865Z"
   },
   {
    "duration": 20,
    "start_time": "2023-11-03T16:44:28.894Z"
   },
   {
    "duration": 15,
    "start_time": "2023-11-03T16:44:28.916Z"
   },
   {
    "duration": 10,
    "start_time": "2023-11-03T16:44:28.932Z"
   },
   {
    "duration": 17,
    "start_time": "2023-11-03T16:44:28.944Z"
   },
   {
    "duration": 82,
    "start_time": "2023-11-03T16:44:28.963Z"
   },
   {
    "duration": 1523,
    "start_time": "2023-11-03T16:44:29.047Z"
   },
   {
    "duration": 126,
    "start_time": "2023-11-03T16:44:30.572Z"
   },
   {
    "duration": 314,
    "start_time": "2023-11-03T16:44:30.701Z"
   },
   {
    "duration": 439,
    "start_time": "2023-11-03T16:44:31.017Z"
   },
   {
    "duration": 14,
    "start_time": "2023-11-03T16:44:31.458Z"
   },
   {
    "duration": 43,
    "start_time": "2023-11-03T16:44:31.474Z"
   },
   {
    "duration": 57,
    "start_time": "2023-11-03T16:44:31.518Z"
   },
   {
    "duration": 212,
    "start_time": "2023-11-03T16:44:31.576Z"
   },
   {
    "duration": 5,
    "start_time": "2023-11-03T16:44:31.790Z"
   },
   {
    "duration": 134,
    "start_time": "2023-11-03T16:44:31.797Z"
   },
   {
    "duration": 33,
    "start_time": "2023-11-03T16:44:31.933Z"
   },
   {
    "duration": 222,
    "start_time": "2023-11-03T16:44:31.968Z"
   },
   {
    "duration": 1501,
    "start_time": "2023-11-04T17:54:44.727Z"
   },
   {
    "duration": 4,
    "start_time": "2023-11-04T17:54:46.231Z"
   },
   {
    "duration": 185,
    "start_time": "2023-11-04T17:54:46.237Z"
   },
   {
    "duration": 223,
    "start_time": "2023-11-04T17:54:46.423Z"
   },
   {
    "duration": 751,
    "start_time": "2023-11-04T17:54:46.650Z"
   },
   {
    "duration": 87,
    "start_time": "2023-11-04T17:54:47.402Z"
   },
   {
    "duration": 15,
    "start_time": "2023-11-04T17:54:47.491Z"
   },
   {
    "duration": 24,
    "start_time": "2023-11-04T17:54:47.507Z"
   },
   {
    "duration": 32,
    "start_time": "2023-11-04T17:54:47.533Z"
   },
   {
    "duration": 27,
    "start_time": "2023-11-04T17:54:47.567Z"
   },
   {
    "duration": 98,
    "start_time": "2023-11-04T17:54:47.596Z"
   },
   {
    "duration": 12,
    "start_time": "2023-11-04T17:54:47.695Z"
   },
   {
    "duration": 133,
    "start_time": "2023-11-04T17:54:47.709Z"
   },
   {
    "duration": 272,
    "start_time": "2023-11-04T17:54:47.845Z"
   },
   {
    "duration": 228,
    "start_time": "2023-11-04T17:54:48.119Z"
   },
   {
    "duration": 30,
    "start_time": "2023-11-04T17:54:48.350Z"
   },
   {
    "duration": 27,
    "start_time": "2023-11-04T17:54:48.382Z"
   },
   {
    "duration": 447,
    "start_time": "2023-11-04T17:54:48.411Z"
   },
   {
    "duration": 16,
    "start_time": "2023-11-04T17:54:48.861Z"
   },
   {
    "duration": 30,
    "start_time": "2023-11-04T17:54:48.879Z"
   },
   {
    "duration": 38,
    "start_time": "2023-11-04T17:54:48.911Z"
   },
   {
    "duration": 46,
    "start_time": "2023-11-04T17:54:48.951Z"
   },
   {
    "duration": 43,
    "start_time": "2023-11-04T17:54:48.999Z"
   },
   {
    "duration": 47,
    "start_time": "2023-11-04T17:54:49.044Z"
   },
   {
    "duration": 34,
    "start_time": "2023-11-04T17:54:49.093Z"
   },
   {
    "duration": 16,
    "start_time": "2023-11-04T17:54:49.129Z"
   },
   {
    "duration": 43,
    "start_time": "2023-11-04T17:54:49.147Z"
   },
   {
    "duration": 312,
    "start_time": "2023-11-04T17:54:49.192Z"
   },
   {
    "duration": 18,
    "start_time": "2023-11-04T17:54:49.506Z"
   },
   {
    "duration": 335,
    "start_time": "2023-11-04T17:54:49.526Z"
   },
   {
    "duration": 138,
    "start_time": "2023-11-04T17:54:49.862Z"
   },
   {
    "duration": 68,
    "start_time": "2023-11-04T17:54:50.002Z"
   },
   {
    "duration": 206,
    "start_time": "2023-11-04T17:54:50.071Z"
   },
   {
    "duration": 95,
    "start_time": "2023-11-04T17:54:50.279Z"
   },
   {
    "duration": 253,
    "start_time": "2023-11-04T17:54:50.376Z"
   },
   {
    "duration": 77,
    "start_time": "2023-11-04T17:54:50.632Z"
   },
   {
    "duration": 118,
    "start_time": "2023-11-04T17:54:50.710Z"
   },
   {
    "duration": 308,
    "start_time": "2023-11-04T17:54:50.830Z"
   },
   {
    "duration": 1655,
    "start_time": "2023-11-04T17:54:51.139Z"
   },
   {
    "duration": 149,
    "start_time": "2023-11-04T17:54:52.796Z"
   },
   {
    "duration": 319,
    "start_time": "2023-11-04T17:54:52.949Z"
   },
   {
    "duration": 796,
    "start_time": "2023-11-04T17:54:53.270Z"
   },
   {
    "duration": 65,
    "start_time": "2023-11-04T17:54:54.069Z"
   },
   {
    "duration": 4,
    "start_time": "2023-11-04T17:54:54.136Z"
   },
   {
    "duration": 97,
    "start_time": "2023-11-04T17:54:54.141Z"
   },
   {
    "duration": 422,
    "start_time": "2023-11-04T17:54:54.240Z"
   },
   {
    "duration": 5,
    "start_time": "2023-11-04T17:54:54.664Z"
   },
   {
    "duration": 95,
    "start_time": "2023-11-04T17:54:54.671Z"
   },
   {
    "duration": 93,
    "start_time": "2023-11-04T17:54:54.767Z"
   },
   {
    "duration": 502,
    "start_time": "2023-11-04T17:54:54.862Z"
   },
   {
    "duration": 17,
    "start_time": "2023-11-04T17:58:17.797Z"
   },
   {
    "duration": 4,
    "start_time": "2023-11-04T17:58:22.153Z"
   },
   {
    "duration": 3,
    "start_time": "2023-11-04T17:58:36.755Z"
   },
   {
    "duration": 23,
    "start_time": "2023-11-04T17:58:36.760Z"
   },
   {
    "duration": 61,
    "start_time": "2023-11-04T17:58:36.785Z"
   },
   {
    "duration": 74,
    "start_time": "2023-11-04T17:58:36.848Z"
   },
   {
    "duration": 551,
    "start_time": "2023-11-04T17:58:36.925Z"
   },
   {
    "duration": 27,
    "start_time": "2023-11-04T17:58:37.478Z"
   },
   {
    "duration": 67,
    "start_time": "2023-11-04T17:58:37.507Z"
   },
   {
    "duration": 86,
    "start_time": "2023-11-04T17:58:37.575Z"
   },
   {
    "duration": 45,
    "start_time": "2023-11-04T17:58:37.663Z"
   },
   {
    "duration": 79,
    "start_time": "2023-11-04T17:58:37.710Z"
   },
   {
    "duration": 67,
    "start_time": "2023-11-04T17:58:37.790Z"
   },
   {
    "duration": 13,
    "start_time": "2023-11-04T17:58:37.858Z"
   },
   {
    "duration": 105,
    "start_time": "2023-11-04T17:58:37.873Z"
   },
   {
    "duration": 205,
    "start_time": "2023-11-04T17:58:37.981Z"
   },
   {
    "duration": 189,
    "start_time": "2023-11-04T17:58:38.188Z"
   },
   {
    "duration": 35,
    "start_time": "2023-11-04T17:58:38.379Z"
   },
   {
    "duration": 46,
    "start_time": "2023-11-04T17:58:38.416Z"
   },
   {
    "duration": 263,
    "start_time": "2023-11-04T17:58:38.464Z"
   },
   {
    "duration": 13,
    "start_time": "2023-11-04T17:58:38.729Z"
   },
   {
    "duration": 33,
    "start_time": "2023-11-04T17:58:38.743Z"
   },
   {
    "duration": 6,
    "start_time": "2023-11-04T17:58:38.778Z"
   },
   {
    "duration": 46,
    "start_time": "2023-11-04T17:58:38.785Z"
   },
   {
    "duration": 41,
    "start_time": "2023-11-04T17:58:38.833Z"
   },
   {
    "duration": 25,
    "start_time": "2023-11-04T17:58:38.876Z"
   },
   {
    "duration": 29,
    "start_time": "2023-11-04T17:58:38.903Z"
   },
   {
    "duration": 26,
    "start_time": "2023-11-04T17:58:41.841Z"
   },
   {
    "duration": 18,
    "start_time": "2023-11-04T17:58:46.106Z"
   },
   {
    "duration": 11,
    "start_time": "2023-11-04T17:58:51.727Z"
   },
   {
    "duration": 12,
    "start_time": "2023-11-04T17:59:08.470Z"
   },
   {
    "duration": 9,
    "start_time": "2023-11-04T17:59:21.439Z"
   },
   {
    "duration": 14,
    "start_time": "2023-11-04T17:59:38.582Z"
   },
   {
    "duration": 4,
    "start_time": "2023-11-04T17:59:42.905Z"
   },
   {
    "duration": 13,
    "start_time": "2023-11-04T17:59:50.909Z"
   },
   {
    "duration": 12,
    "start_time": "2023-11-04T18:00:17.025Z"
   },
   {
    "duration": 13,
    "start_time": "2023-11-04T18:00:24.622Z"
   },
   {
    "duration": 15,
    "start_time": "2023-11-04T18:00:36.853Z"
   },
   {
    "duration": 11,
    "start_time": "2023-11-04T18:00:50.668Z"
   },
   {
    "duration": 14,
    "start_time": "2023-11-04T18:02:52.874Z"
   },
   {
    "duration": 105,
    "start_time": "2023-11-04T18:03:51.025Z"
   },
   {
    "duration": 14,
    "start_time": "2023-11-04T18:04:00.957Z"
   },
   {
    "duration": 23,
    "start_time": "2023-11-04T18:04:40.294Z"
   },
   {
    "duration": 16,
    "start_time": "2023-11-04T18:04:45.231Z"
   },
   {
    "duration": 15,
    "start_time": "2023-11-04T18:04:50.451Z"
   },
   {
    "duration": 19,
    "start_time": "2023-11-04T18:08:03.485Z"
   },
   {
    "duration": 12,
    "start_time": "2023-11-04T18:08:30.171Z"
   },
   {
    "duration": 12,
    "start_time": "2023-11-04T18:09:08.571Z"
   },
   {
    "duration": 20,
    "start_time": "2023-11-04T18:09:15.343Z"
   },
   {
    "duration": 1393,
    "start_time": "2023-11-04T18:09:32.188Z"
   },
   {
    "duration": 4,
    "start_time": "2023-11-04T18:09:33.583Z"
   },
   {
    "duration": 73,
    "start_time": "2023-11-04T18:09:33.588Z"
   },
   {
    "duration": 73,
    "start_time": "2023-11-04T18:09:33.664Z"
   },
   {
    "duration": 674,
    "start_time": "2023-11-04T18:09:33.740Z"
   },
   {
    "duration": 44,
    "start_time": "2023-11-04T18:09:34.415Z"
   },
   {
    "duration": 12,
    "start_time": "2023-11-04T18:09:34.461Z"
   },
   {
    "duration": 11,
    "start_time": "2023-11-04T18:09:34.475Z"
   },
   {
    "duration": 42,
    "start_time": "2023-11-04T18:09:34.489Z"
   },
   {
    "duration": 26,
    "start_time": "2023-11-04T18:09:34.533Z"
   },
   {
    "duration": 102,
    "start_time": "2023-11-04T18:09:34.561Z"
   },
   {
    "duration": 14,
    "start_time": "2023-11-04T18:09:34.665Z"
   },
   {
    "duration": 209,
    "start_time": "2023-11-04T18:09:34.681Z"
   },
   {
    "duration": 291,
    "start_time": "2023-11-04T18:09:34.894Z"
   },
   {
    "duration": 256,
    "start_time": "2023-11-04T18:09:35.187Z"
   },
   {
    "duration": 37,
    "start_time": "2023-11-04T18:09:35.446Z"
   },
   {
    "duration": 7,
    "start_time": "2023-11-04T18:09:35.484Z"
   },
   {
    "duration": 506,
    "start_time": "2023-11-04T18:09:35.494Z"
   },
   {
    "duration": 23,
    "start_time": "2023-11-04T18:09:36.003Z"
   },
   {
    "duration": 20,
    "start_time": "2023-11-04T18:09:36.028Z"
   },
   {
    "duration": 9,
    "start_time": "2023-11-04T18:09:36.050Z"
   },
   {
    "duration": 16,
    "start_time": "2023-11-04T18:09:36.061Z"
   },
   {
    "duration": 63,
    "start_time": "2023-11-04T18:09:36.080Z"
   },
   {
    "duration": 12,
    "start_time": "2023-11-04T18:09:36.145Z"
   },
   {
    "duration": 21,
    "start_time": "2023-11-04T18:09:36.159Z"
   },
   {
    "duration": 7,
    "start_time": "2023-11-04T18:09:36.182Z"
   },
   {
    "duration": 47,
    "start_time": "2023-11-04T18:09:36.191Z"
   },
   {
    "duration": 93,
    "start_time": "2023-11-04T18:09:36.242Z"
   },
   {
    "duration": 927,
    "start_time": "2023-11-04T18:09:36.338Z"
   },
   {
    "duration": 68,
    "start_time": "2023-11-04T18:09:37.267Z"
   },
   {
    "duration": 187,
    "start_time": "2023-11-04T18:09:37.337Z"
   },
   {
    "duration": 8,
    "start_time": "2023-11-04T18:09:37.526Z"
   },
   {
    "duration": 14,
    "start_time": "2023-11-04T18:09:37.536Z"
   },
   {
    "duration": 86,
    "start_time": "2023-11-04T18:09:37.553Z"
   },
   {
    "duration": 21,
    "start_time": "2023-11-04T18:09:37.646Z"
   },
   {
    "duration": 81,
    "start_time": "2023-11-04T18:09:37.669Z"
   },
   {
    "duration": 10,
    "start_time": "2023-11-04T18:09:37.753Z"
   },
   {
    "duration": 88,
    "start_time": "2023-11-04T18:09:37.765Z"
   },
   {
    "duration": 196,
    "start_time": "2023-11-04T18:09:37.855Z"
   },
   {
    "duration": 2493,
    "start_time": "2023-11-04T18:09:38.053Z"
   },
   {
    "duration": 154,
    "start_time": "2023-11-04T18:09:40.552Z"
   },
   {
    "duration": 369,
    "start_time": "2023-11-04T18:09:40.707Z"
   },
   {
    "duration": 477,
    "start_time": "2023-11-04T18:09:41.078Z"
   },
   {
    "duration": 17,
    "start_time": "2023-11-04T18:09:41.558Z"
   },
   {
    "duration": 4,
    "start_time": "2023-11-04T18:09:41.576Z"
   },
   {
    "duration": 90,
    "start_time": "2023-11-04T18:09:41.582Z"
   },
   {
    "duration": 317,
    "start_time": "2023-11-04T18:09:41.674Z"
   },
   {
    "duration": 8,
    "start_time": "2023-11-04T18:09:41.994Z"
   },
   {
    "duration": 93,
    "start_time": "2023-11-04T18:09:42.004Z"
   },
   {
    "duration": 54,
    "start_time": "2023-11-04T18:09:42.099Z"
   },
   {
    "duration": 294,
    "start_time": "2023-11-04T18:09:42.155Z"
   },
   {
    "duration": 21,
    "start_time": "2023-11-04T18:20:12.485Z"
   },
   {
    "duration": 27,
    "start_time": "2023-11-04T18:21:53.408Z"
   },
   {
    "duration": 22,
    "start_time": "2023-11-04T18:23:06.387Z"
   },
   {
    "duration": 24,
    "start_time": "2023-11-04T18:23:10.259Z"
   },
   {
    "duration": 372,
    "start_time": "2023-11-04T18:24:18.877Z"
   },
   {
    "duration": 622,
    "start_time": "2023-11-04T18:25:03.684Z"
   },
   {
    "duration": 378,
    "start_time": "2023-11-04T18:25:12.867Z"
   },
   {
    "duration": 335,
    "start_time": "2023-11-04T18:25:58.081Z"
   },
   {
    "duration": 358,
    "start_time": "2023-11-04T18:35:03.962Z"
   },
   {
    "duration": 2159,
    "start_time": "2023-11-04T18:40:15.309Z"
   },
   {
    "duration": 1347,
    "start_time": "2023-11-04T18:40:32.689Z"
   },
   {
    "duration": 3,
    "start_time": "2023-11-04T18:40:34.038Z"
   },
   {
    "duration": 164,
    "start_time": "2023-11-04T18:40:34.043Z"
   },
   {
    "duration": 247,
    "start_time": "2023-11-04T18:40:34.209Z"
   },
   {
    "duration": 631,
    "start_time": "2023-11-04T18:40:34.459Z"
   },
   {
    "duration": 28,
    "start_time": "2023-11-04T18:40:35.093Z"
   },
   {
    "duration": 17,
    "start_time": "2023-11-04T18:40:35.124Z"
   },
   {
    "duration": 7,
    "start_time": "2023-11-04T18:40:35.143Z"
   },
   {
    "duration": 28,
    "start_time": "2023-11-04T18:40:35.153Z"
   },
   {
    "duration": 20,
    "start_time": "2023-11-04T18:40:35.184Z"
   },
   {
    "duration": 121,
    "start_time": "2023-11-04T18:40:35.229Z"
   },
   {
    "duration": 16,
    "start_time": "2023-11-04T18:40:35.353Z"
   },
   {
    "duration": 135,
    "start_time": "2023-11-04T18:40:35.372Z"
   },
   {
    "duration": 349,
    "start_time": "2023-11-04T18:40:35.511Z"
   },
   {
    "duration": 332,
    "start_time": "2023-11-04T18:40:35.868Z"
   },
   {
    "duration": 58,
    "start_time": "2023-11-04T18:40:36.202Z"
   },
   {
    "duration": 16,
    "start_time": "2023-11-04T18:40:36.263Z"
   },
   {
    "duration": 719,
    "start_time": "2023-11-04T18:40:36.281Z"
   },
   {
    "duration": 36,
    "start_time": "2023-11-04T18:40:37.002Z"
   },
   {
    "duration": 34,
    "start_time": "2023-11-04T18:40:37.050Z"
   },
   {
    "duration": 55,
    "start_time": "2023-11-04T18:40:37.085Z"
   },
   {
    "duration": 54,
    "start_time": "2023-11-04T18:40:37.142Z"
   },
   {
    "duration": 39,
    "start_time": "2023-11-04T18:40:37.199Z"
   },
   {
    "duration": 12,
    "start_time": "2023-11-04T18:40:37.241Z"
   },
   {
    "duration": 23,
    "start_time": "2023-11-04T18:40:37.257Z"
   },
   {
    "duration": 15,
    "start_time": "2023-11-04T18:40:37.282Z"
   },
   {
    "duration": 18,
    "start_time": "2023-11-04T18:40:37.299Z"
   },
   {
    "duration": 71,
    "start_time": "2023-11-04T18:40:37.323Z"
   },
   {
    "duration": 397,
    "start_time": "2023-11-04T18:40:37.396Z"
   },
   {
    "duration": 10,
    "start_time": "2023-11-04T18:40:37.795Z"
   },
   {
    "duration": 80,
    "start_time": "2023-11-04T18:40:37.806Z"
   },
   {
    "duration": 7,
    "start_time": "2023-11-04T18:40:37.888Z"
   },
   {
    "duration": 13,
    "start_time": "2023-11-04T18:40:37.897Z"
   },
   {
    "duration": 47,
    "start_time": "2023-11-04T18:40:37.926Z"
   },
   {
    "duration": 15,
    "start_time": "2023-11-04T18:40:37.975Z"
   },
   {
    "duration": 386,
    "start_time": "2023-11-04T18:40:37.992Z"
   },
   {
    "duration": 17,
    "start_time": "2023-11-04T18:40:38.380Z"
   },
   {
    "duration": 45,
    "start_time": "2023-11-04T18:40:38.399Z"
   },
   {
    "duration": 24,
    "start_time": "2023-11-04T18:40:38.447Z"
   },
   {
    "duration": 21,
    "start_time": "2023-11-04T18:40:38.473Z"
   },
   {
    "duration": 91,
    "start_time": "2023-11-04T18:40:38.499Z"
   },
   {
    "duration": 1940,
    "start_time": "2023-11-04T18:40:38.592Z"
   },
   {
    "duration": 79,
    "start_time": "2023-11-04T18:40:40.541Z"
   },
   {
    "duration": 382,
    "start_time": "2023-11-04T18:40:40.622Z"
   },
   {
    "duration": 560,
    "start_time": "2023-11-04T18:40:41.006Z"
   },
   {
    "duration": 24,
    "start_time": "2023-11-04T18:40:41.569Z"
   },
   {
    "duration": 8,
    "start_time": "2023-11-04T18:40:41.595Z"
   },
   {
    "duration": 90,
    "start_time": "2023-11-04T18:40:41.605Z"
   },
   {
    "duration": 289,
    "start_time": "2023-11-04T18:40:41.697Z"
   },
   {
    "duration": 6,
    "start_time": "2023-11-04T18:40:41.988Z"
   },
   {
    "duration": 130,
    "start_time": "2023-11-04T18:40:41.996Z"
   },
   {
    "duration": 40,
    "start_time": "2023-11-04T18:40:42.137Z"
   },
   {
    "duration": 295,
    "start_time": "2023-11-04T18:40:42.178Z"
   },
   {
    "duration": 8,
    "start_time": "2023-11-04T19:08:57.352Z"
   },
   {
    "duration": 87,
    "start_time": "2023-11-04T19:09:00.428Z"
   },
   {
    "duration": 11,
    "start_time": "2023-11-04T19:09:48.432Z"
   },
   {
    "duration": 135,
    "start_time": "2023-11-04T19:09:56.329Z"
   },
   {
    "duration": 6,
    "start_time": "2023-11-04T19:10:02.547Z"
   },
   {
    "duration": 6,
    "start_time": "2023-11-04T19:10:14.108Z"
   },
   {
    "duration": 82,
    "start_time": "2023-11-04T19:10:15.285Z"
   },
   {
    "duration": 10,
    "start_time": "2023-11-04T19:17:47.273Z"
   },
   {
    "duration": 10,
    "start_time": "2023-11-04T19:21:39.085Z"
   },
   {
    "duration": 6,
    "start_time": "2023-11-04T19:22:28.919Z"
   },
   {
    "duration": 14,
    "start_time": "2023-11-04T19:23:43.006Z"
   },
   {
    "duration": 12,
    "start_time": "2023-11-04T19:23:50.891Z"
   },
   {
    "duration": 13,
    "start_time": "2023-11-04T19:24:13.225Z"
   },
   {
    "duration": 19,
    "start_time": "2023-11-04T19:24:13.241Z"
   },
   {
    "duration": 39,
    "start_time": "2023-11-04T19:24:13.263Z"
   },
   {
    "duration": 90,
    "start_time": "2023-11-04T19:24:13.304Z"
   },
   {
    "duration": 594,
    "start_time": "2023-11-04T19:24:13.396Z"
   },
   {
    "duration": 29,
    "start_time": "2023-11-04T19:24:13.992Z"
   },
   {
    "duration": 16,
    "start_time": "2023-11-04T19:24:14.022Z"
   },
   {
    "duration": 6,
    "start_time": "2023-11-04T19:24:14.041Z"
   },
   {
    "duration": 29,
    "start_time": "2023-11-04T19:24:14.050Z"
   },
   {
    "duration": 15,
    "start_time": "2023-11-04T19:24:14.082Z"
   },
   {
    "duration": 90,
    "start_time": "2023-11-04T19:24:14.125Z"
   },
   {
    "duration": 24,
    "start_time": "2023-11-04T19:24:14.223Z"
   },
   {
    "duration": 128,
    "start_time": "2023-11-04T19:24:14.250Z"
   },
   {
    "duration": 253,
    "start_time": "2023-11-04T19:24:14.381Z"
   },
   {
    "duration": 220,
    "start_time": "2023-11-04T19:24:14.654Z"
   },
   {
    "duration": 62,
    "start_time": "2023-11-04T19:24:14.876Z"
   },
   {
    "duration": 19,
    "start_time": "2023-11-04T19:24:14.941Z"
   },
   {
    "duration": 324,
    "start_time": "2023-11-04T19:24:14.963Z"
   },
   {
    "duration": 14,
    "start_time": "2023-11-04T19:24:15.289Z"
   },
   {
    "duration": 55,
    "start_time": "2023-11-04T19:24:15.305Z"
   },
   {
    "duration": 9,
    "start_time": "2023-11-04T19:24:15.365Z"
   },
   {
    "duration": 22,
    "start_time": "2023-11-04T19:24:15.377Z"
   },
   {
    "duration": 49,
    "start_time": "2023-11-04T19:24:15.402Z"
   },
   {
    "duration": 12,
    "start_time": "2023-11-04T19:24:15.453Z"
   },
   {
    "duration": 33,
    "start_time": "2023-11-04T19:24:15.467Z"
   },
   {
    "duration": 7,
    "start_time": "2023-11-04T19:24:15.503Z"
   },
   {
    "duration": 13,
    "start_time": "2023-11-04T19:24:18.823Z"
   },
   {
    "duration": 10,
    "start_time": "2023-11-04T19:24:18.838Z"
   },
   {
    "duration": 49,
    "start_time": "2023-11-04T19:24:18.849Z"
   },
   {
    "duration": 82,
    "start_time": "2023-11-04T19:24:18.899Z"
   },
   {
    "duration": 597,
    "start_time": "2023-11-04T19:24:18.983Z"
   },
   {
    "duration": 29,
    "start_time": "2023-11-04T19:24:19.582Z"
   },
   {
    "duration": 18,
    "start_time": "2023-11-04T19:24:19.613Z"
   },
   {
    "duration": 11,
    "start_time": "2023-11-04T19:24:19.636Z"
   },
   {
    "duration": 26,
    "start_time": "2023-11-04T19:24:19.657Z"
   },
   {
    "duration": 13,
    "start_time": "2023-11-04T19:24:19.685Z"
   },
   {
    "duration": 97,
    "start_time": "2023-11-04T19:24:19.700Z"
   },
   {
    "duration": 12,
    "start_time": "2023-11-04T19:24:19.799Z"
   },
   {
    "duration": 137,
    "start_time": "2023-11-04T19:24:19.824Z"
   },
   {
    "duration": 263,
    "start_time": "2023-11-04T19:24:19.965Z"
   },
   {
    "duration": 262,
    "start_time": "2023-11-04T19:24:20.240Z"
   },
   {
    "duration": 55,
    "start_time": "2023-11-04T19:24:20.504Z"
   },
   {
    "duration": 7,
    "start_time": "2023-11-04T19:24:20.562Z"
   },
   {
    "duration": 330,
    "start_time": "2023-11-04T19:24:20.570Z"
   },
   {
    "duration": 26,
    "start_time": "2023-11-04T19:24:20.902Z"
   },
   {
    "duration": 23,
    "start_time": "2023-11-04T19:24:20.930Z"
   },
   {
    "duration": 12,
    "start_time": "2023-11-04T19:24:20.958Z"
   },
   {
    "duration": 14,
    "start_time": "2023-11-04T19:24:20.973Z"
   },
   {
    "duration": 49,
    "start_time": "2023-11-04T19:24:20.989Z"
   },
   {
    "duration": 18,
    "start_time": "2023-11-04T19:24:21.044Z"
   },
   {
    "duration": 20,
    "start_time": "2023-11-04T19:24:21.064Z"
   },
   {
    "duration": 5,
    "start_time": "2023-11-04T19:24:29.478Z"
   },
   {
    "duration": 9,
    "start_time": "2023-11-04T19:24:34.835Z"
   },
   {
    "duration": 8,
    "start_time": "2023-11-04T19:24:44.894Z"
   },
   {
    "duration": 7,
    "start_time": "2023-11-04T19:24:51.234Z"
   },
   {
    "duration": 10,
    "start_time": "2023-11-04T19:24:53.746Z"
   },
   {
    "duration": 43,
    "start_time": "2023-11-04T19:25:11.464Z"
   },
   {
    "duration": 5,
    "start_time": "2023-11-04T19:25:16.891Z"
   },
   {
    "duration": 20,
    "start_time": "2023-11-04T19:25:24.043Z"
   },
   {
    "duration": 6,
    "start_time": "2023-11-04T19:25:42.631Z"
   },
   {
    "duration": 208,
    "start_time": "2023-11-04T19:25:42.640Z"
   },
   {
    "duration": 240,
    "start_time": "2023-11-04T19:25:42.849Z"
   },
   {
    "duration": 182,
    "start_time": "2023-11-04T19:25:43.091Z"
   },
   {
    "duration": 583,
    "start_time": "2023-11-04T19:25:43.276Z"
   },
   {
    "duration": 29,
    "start_time": "2023-11-04T19:25:43.862Z"
   },
   {
    "duration": 11,
    "start_time": "2023-11-04T19:25:43.894Z"
   },
   {
    "duration": 51,
    "start_time": "2023-11-04T19:25:43.906Z"
   },
   {
    "duration": 37,
    "start_time": "2023-11-04T19:25:43.959Z"
   },
   {
    "duration": 36,
    "start_time": "2023-11-04T19:25:43.998Z"
   },
   {
    "duration": 126,
    "start_time": "2023-11-04T19:25:44.040Z"
   },
   {
    "duration": 14,
    "start_time": "2023-11-04T19:25:44.168Z"
   },
   {
    "duration": 190,
    "start_time": "2023-11-04T19:25:44.184Z"
   },
   {
    "duration": 315,
    "start_time": "2023-11-04T19:25:44.378Z"
   },
   {
    "duration": 304,
    "start_time": "2023-11-04T19:25:44.696Z"
   },
   {
    "duration": 52,
    "start_time": "2023-11-04T19:25:45.002Z"
   },
   {
    "duration": 9,
    "start_time": "2023-11-04T19:25:45.056Z"
   },
   {
    "duration": 414,
    "start_time": "2023-11-04T19:25:45.067Z"
   },
   {
    "duration": 23,
    "start_time": "2023-11-04T19:25:45.485Z"
   },
   {
    "duration": 53,
    "start_time": "2023-11-04T19:25:45.510Z"
   },
   {
    "duration": 31,
    "start_time": "2023-11-04T19:25:45.565Z"
   },
   {
    "duration": 21,
    "start_time": "2023-11-04T19:25:45.599Z"
   },
   {
    "duration": 34,
    "start_time": "2023-11-04T19:25:45.622Z"
   },
   {
    "duration": 15,
    "start_time": "2023-11-04T19:25:45.658Z"
   },
   {
    "duration": 22,
    "start_time": "2023-11-04T19:25:45.675Z"
   },
   {
    "duration": 34,
    "start_time": "2023-11-04T19:25:45.699Z"
   },
   {
    "duration": 21,
    "start_time": "2023-11-04T19:25:45.735Z"
   },
   {
    "duration": 47,
    "start_time": "2023-11-04T19:25:45.758Z"
   },
   {
    "duration": 21,
    "start_time": "2023-11-04T19:25:47.768Z"
   },
   {
    "duration": 4,
    "start_time": "2023-11-04T19:25:59.311Z"
   },
   {
    "duration": 22,
    "start_time": "2023-11-04T19:25:59.318Z"
   },
   {
    "duration": 41,
    "start_time": "2023-11-04T19:25:59.342Z"
   },
   {
    "duration": 74,
    "start_time": "2023-11-04T19:25:59.385Z"
   },
   {
    "duration": 572,
    "start_time": "2023-11-04T19:25:59.462Z"
   },
   {
    "duration": 32,
    "start_time": "2023-11-04T19:26:00.037Z"
   },
   {
    "duration": 28,
    "start_time": "2023-11-04T19:26:00.070Z"
   },
   {
    "duration": 46,
    "start_time": "2023-11-04T19:26:00.100Z"
   },
   {
    "duration": 25,
    "start_time": "2023-11-04T19:26:00.148Z"
   },
   {
    "duration": 20,
    "start_time": "2023-11-04T19:26:00.175Z"
   },
   {
    "duration": 156,
    "start_time": "2023-11-04T19:26:00.196Z"
   },
   {
    "duration": 20,
    "start_time": "2023-11-04T19:26:00.354Z"
   },
   {
    "duration": 207,
    "start_time": "2023-11-04T19:26:00.375Z"
   },
   {
    "duration": 255,
    "start_time": "2023-11-04T19:26:00.585Z"
   },
   {
    "duration": 217,
    "start_time": "2023-11-04T19:26:00.844Z"
   },
   {
    "duration": 29,
    "start_time": "2023-11-04T19:26:01.063Z"
   },
   {
    "duration": 17,
    "start_time": "2023-11-04T19:26:01.094Z"
   },
   {
    "duration": 319,
    "start_time": "2023-11-04T19:26:01.125Z"
   },
   {
    "duration": 16,
    "start_time": "2023-11-04T19:26:01.446Z"
   },
   {
    "duration": 130,
    "start_time": "2023-11-04T19:26:01.464Z"
   },
   {
    "duration": 135,
    "start_time": "2023-11-04T19:26:01.597Z"
   },
   {
    "duration": 48,
    "start_time": "2023-11-04T19:26:01.740Z"
   },
   {
    "duration": 59,
    "start_time": "2023-11-04T19:26:01.790Z"
   },
   {
    "duration": 11,
    "start_time": "2023-11-04T19:26:01.851Z"
   },
   {
    "duration": 69,
    "start_time": "2023-11-04T19:26:01.865Z"
   },
   {
    "duration": 26,
    "start_time": "2023-11-04T19:26:01.936Z"
   },
   {
    "duration": 203,
    "start_time": "2023-11-04T19:26:01.964Z"
   },
   {
    "duration": 284,
    "start_time": "2023-11-04T19:26:02.170Z"
   },
   {
    "duration": 24,
    "start_time": "2023-11-04T19:26:03.216Z"
   },
   {
    "duration": 8,
    "start_time": "2023-11-04T19:26:13.774Z"
   },
   {
    "duration": 13,
    "start_time": "2023-11-04T19:26:32.741Z"
   },
   {
    "duration": 7,
    "start_time": "2023-11-04T19:26:45.350Z"
   },
   {
    "duration": 19,
    "start_time": "2023-11-04T19:26:49.277Z"
   },
   {
    "duration": 13,
    "start_time": "2023-11-04T19:26:59.254Z"
   },
   {
    "duration": 8,
    "start_time": "2023-11-04T19:27:01.755Z"
   },
   {
    "duration": 13,
    "start_time": "2023-11-04T19:27:39.072Z"
   },
   {
    "duration": 10,
    "start_time": "2023-11-04T19:29:15.581Z"
   },
   {
    "duration": 11,
    "start_time": "2023-11-04T19:29:17.904Z"
   },
   {
    "duration": 10,
    "start_time": "2023-11-04T19:29:31.333Z"
   },
   {
    "duration": 32,
    "start_time": "2023-11-04T19:29:31.346Z"
   },
   {
    "duration": 83,
    "start_time": "2023-11-04T19:29:31.380Z"
   },
   {
    "duration": 70,
    "start_time": "2023-11-04T19:29:31.465Z"
   },
   {
    "duration": 541,
    "start_time": "2023-11-04T19:29:31.537Z"
   },
   {
    "duration": 27,
    "start_time": "2023-11-04T19:29:32.080Z"
   },
   {
    "duration": 10,
    "start_time": "2023-11-04T19:29:32.109Z"
   },
   {
    "duration": 36,
    "start_time": "2023-11-04T19:29:32.123Z"
   },
   {
    "duration": 27,
    "start_time": "2023-11-04T19:29:32.161Z"
   },
   {
    "duration": 16,
    "start_time": "2023-11-04T19:29:32.190Z"
   },
   {
    "duration": 92,
    "start_time": "2023-11-04T19:29:32.207Z"
   },
   {
    "duration": 22,
    "start_time": "2023-11-04T19:29:32.300Z"
   },
   {
    "duration": 114,
    "start_time": "2023-11-04T19:29:32.331Z"
   },
   {
    "duration": 210,
    "start_time": "2023-11-04T19:29:32.447Z"
   },
   {
    "duration": 195,
    "start_time": "2023-11-04T19:29:32.659Z"
   },
   {
    "duration": 31,
    "start_time": "2023-11-04T19:29:32.857Z"
   },
   {
    "duration": 8,
    "start_time": "2023-11-04T19:29:32.890Z"
   },
   {
    "duration": 359,
    "start_time": "2023-11-04T19:29:32.900Z"
   },
   {
    "duration": 22,
    "start_time": "2023-11-04T19:29:33.262Z"
   },
   {
    "duration": 14,
    "start_time": "2023-11-04T19:29:33.286Z"
   },
   {
    "duration": 38,
    "start_time": "2023-11-04T19:29:33.302Z"
   },
   {
    "duration": 20,
    "start_time": "2023-11-04T19:29:33.341Z"
   },
   {
    "duration": 20,
    "start_time": "2023-11-04T19:29:33.363Z"
   },
   {
    "duration": 8,
    "start_time": "2023-11-04T19:29:33.385Z"
   },
   {
    "duration": 38,
    "start_time": "2023-11-04T19:29:33.394Z"
   },
   {
    "duration": 8,
    "start_time": "2023-11-04T19:29:33.434Z"
   },
   {
    "duration": 15,
    "start_time": "2023-11-04T19:29:33.445Z"
   },
   {
    "duration": 5,
    "start_time": "2023-11-04T19:29:38.476Z"
   },
   {
    "duration": 8,
    "start_time": "2023-11-04T19:29:48.907Z"
   },
   {
    "duration": 14,
    "start_time": "2023-11-04T19:30:13.082Z"
   },
   {
    "duration": 14,
    "start_time": "2023-11-04T19:30:36.599Z"
   },
   {
    "duration": 11,
    "start_time": "2023-11-04T19:31:09.551Z"
   },
   {
    "duration": 12,
    "start_time": "2023-11-04T19:31:36.361Z"
   },
   {
    "duration": 11,
    "start_time": "2023-11-04T19:31:42.800Z"
   },
   {
    "duration": 30,
    "start_time": "2023-11-04T19:31:50.965Z"
   },
   {
    "duration": 53,
    "start_time": "2023-11-04T19:32:11.280Z"
   },
   {
    "duration": 16,
    "start_time": "2023-11-04T19:32:16.507Z"
   },
   {
    "duration": 64,
    "start_time": "2023-11-04T19:32:31.025Z"
   },
   {
    "duration": 210,
    "start_time": "2023-11-04T19:32:31.091Z"
   },
   {
    "duration": 0,
    "start_time": "2023-11-04T19:32:31.303Z"
   },
   {
    "duration": 0,
    "start_time": "2023-11-04T19:32:31.305Z"
   },
   {
    "duration": 0,
    "start_time": "2023-11-04T19:32:31.306Z"
   },
   {
    "duration": 0,
    "start_time": "2023-11-04T19:32:31.307Z"
   },
   {
    "duration": 0,
    "start_time": "2023-11-04T19:32:31.309Z"
   },
   {
    "duration": 0,
    "start_time": "2023-11-04T19:32:31.310Z"
   },
   {
    "duration": 0,
    "start_time": "2023-11-04T19:32:31.311Z"
   },
   {
    "duration": 0,
    "start_time": "2023-11-04T19:32:31.327Z"
   },
   {
    "duration": 0,
    "start_time": "2023-11-04T19:32:31.329Z"
   },
   {
    "duration": 0,
    "start_time": "2023-11-04T19:32:31.331Z"
   },
   {
    "duration": 0,
    "start_time": "2023-11-04T19:32:31.332Z"
   },
   {
    "duration": 0,
    "start_time": "2023-11-04T19:32:31.334Z"
   },
   {
    "duration": 0,
    "start_time": "2023-11-04T19:32:31.335Z"
   },
   {
    "duration": 0,
    "start_time": "2023-11-04T19:32:31.336Z"
   },
   {
    "duration": 0,
    "start_time": "2023-11-04T19:32:31.337Z"
   },
   {
    "duration": 0,
    "start_time": "2023-11-04T19:32:31.339Z"
   },
   {
    "duration": 0,
    "start_time": "2023-11-04T19:32:31.340Z"
   },
   {
    "duration": 0,
    "start_time": "2023-11-04T19:32:31.341Z"
   },
   {
    "duration": 0,
    "start_time": "2023-11-04T19:32:31.343Z"
   },
   {
    "duration": 0,
    "start_time": "2023-11-04T19:32:31.344Z"
   },
   {
    "duration": 0,
    "start_time": "2023-11-04T19:32:31.345Z"
   },
   {
    "duration": 0,
    "start_time": "2023-11-04T19:32:31.347Z"
   },
   {
    "duration": 0,
    "start_time": "2023-11-04T19:32:31.348Z"
   },
   {
    "duration": 0,
    "start_time": "2023-11-04T19:32:31.350Z"
   },
   {
    "duration": 1285,
    "start_time": "2023-11-04T19:32:38.235Z"
   },
   {
    "duration": 20,
    "start_time": "2023-11-04T19:32:39.522Z"
   },
   {
    "duration": 43,
    "start_time": "2023-11-04T19:32:39.558Z"
   },
   {
    "duration": 90,
    "start_time": "2023-11-04T19:32:39.602Z"
   },
   {
    "duration": 602,
    "start_time": "2023-11-04T19:32:39.694Z"
   },
   {
    "duration": 32,
    "start_time": "2023-11-04T19:32:40.297Z"
   },
   {
    "duration": 19,
    "start_time": "2023-11-04T19:32:40.341Z"
   },
   {
    "duration": 6,
    "start_time": "2023-11-04T19:32:40.363Z"
   },
   {
    "duration": 28,
    "start_time": "2023-11-04T19:32:40.372Z"
   },
   {
    "duration": 28,
    "start_time": "2023-11-04T19:32:40.402Z"
   },
   {
    "duration": 127,
    "start_time": "2023-11-04T19:32:40.439Z"
   },
   {
    "duration": 17,
    "start_time": "2023-11-04T19:32:40.571Z"
   },
   {
    "duration": 148,
    "start_time": "2023-11-04T19:32:40.589Z"
   },
   {
    "duration": 274,
    "start_time": "2023-11-04T19:32:40.743Z"
   },
   {
    "duration": 263,
    "start_time": "2023-11-04T19:32:41.019Z"
   },
   {
    "duration": 28,
    "start_time": "2023-11-04T19:32:41.283Z"
   },
   {
    "duration": 14,
    "start_time": "2023-11-04T19:32:41.323Z"
   },
   {
    "duration": 451,
    "start_time": "2023-11-04T19:32:41.339Z"
   },
   {
    "duration": 12,
    "start_time": "2023-11-04T19:32:41.792Z"
   },
   {
    "duration": 44,
    "start_time": "2023-11-04T19:32:41.806Z"
   },
   {
    "duration": 17,
    "start_time": "2023-11-04T19:32:41.856Z"
   },
   {
    "duration": 11,
    "start_time": "2023-11-04T19:32:41.874Z"
   },
   {
    "duration": 29,
    "start_time": "2023-11-04T19:32:41.887Z"
   },
   {
    "duration": 18,
    "start_time": "2023-11-04T19:32:41.918Z"
   },
   {
    "duration": 23,
    "start_time": "2023-11-04T19:32:41.938Z"
   },
   {
    "duration": 14,
    "start_time": "2023-11-04T19:32:41.964Z"
   },
   {
    "duration": 24,
    "start_time": "2023-11-04T19:32:41.979Z"
   },
   {
    "duration": 69,
    "start_time": "2023-11-04T19:32:42.005Z"
   },
   {
    "duration": 367,
    "start_time": "2023-11-04T19:32:42.076Z"
   },
   {
    "duration": 14,
    "start_time": "2023-11-04T19:32:42.446Z"
   },
   {
    "duration": 69,
    "start_time": "2023-11-04T19:32:42.462Z"
   },
   {
    "duration": 29,
    "start_time": "2023-11-04T19:32:42.537Z"
   },
   {
    "duration": 14,
    "start_time": "2023-11-04T19:32:42.570Z"
   },
   {
    "duration": 34,
    "start_time": "2023-11-04T19:32:42.586Z"
   },
   {
    "duration": 37,
    "start_time": "2023-11-04T19:32:42.622Z"
   },
   {
    "duration": 413,
    "start_time": "2023-11-04T19:32:42.673Z"
   },
   {
    "duration": 16,
    "start_time": "2023-11-04T19:32:43.088Z"
   },
   {
    "duration": 37,
    "start_time": "2023-11-04T19:32:43.106Z"
   },
   {
    "duration": 17,
    "start_time": "2023-11-04T19:32:43.151Z"
   },
   {
    "duration": 17,
    "start_time": "2023-11-04T19:32:43.172Z"
   },
   {
    "duration": 96,
    "start_time": "2023-11-04T19:32:43.193Z"
   },
   {
    "duration": 3635,
    "start_time": "2023-11-04T19:32:43.291Z"
   },
   {
    "duration": 86,
    "start_time": "2023-11-04T19:32:46.929Z"
   },
   {
    "duration": 350,
    "start_time": "2023-11-04T19:32:47.025Z"
   },
   {
    "duration": 486,
    "start_time": "2023-11-04T19:32:47.377Z"
   },
   {
    "duration": 23,
    "start_time": "2023-11-04T19:32:47.865Z"
   },
   {
    "duration": 4,
    "start_time": "2023-11-04T19:32:47.890Z"
   },
   {
    "duration": 90,
    "start_time": "2023-11-04T19:32:47.896Z"
   },
   {
    "duration": 356,
    "start_time": "2023-11-04T19:32:47.988Z"
   },
   {
    "duration": 18,
    "start_time": "2023-11-04T19:32:48.356Z"
   },
   {
    "duration": 80,
    "start_time": "2023-11-04T19:32:48.377Z"
   },
   {
    "duration": 47,
    "start_time": "2023-11-04T19:32:48.459Z"
   },
   {
    "duration": 292,
    "start_time": "2023-11-04T19:32:48.507Z"
   },
   {
    "duration": 8,
    "start_time": "2023-11-04T19:33:46.173Z"
   },
   {
    "duration": 133,
    "start_time": "2023-11-04T19:33:46.184Z"
   },
   {
    "duration": 93,
    "start_time": "2023-11-04T19:33:46.320Z"
   },
   {
    "duration": 107,
    "start_time": "2023-11-04T19:33:46.416Z"
   },
   {
    "duration": 626,
    "start_time": "2023-11-04T19:33:46.534Z"
   },
   {
    "duration": 31,
    "start_time": "2023-11-04T19:33:47.162Z"
   },
   {
    "duration": 93,
    "start_time": "2023-11-04T19:33:47.194Z"
   },
   {
    "duration": 17,
    "start_time": "2023-11-04T19:33:47.289Z"
   },
   {
    "duration": 50,
    "start_time": "2023-11-04T19:33:47.308Z"
   },
   {
    "duration": 29,
    "start_time": "2023-11-04T19:33:47.363Z"
   },
   {
    "duration": 100,
    "start_time": "2023-11-04T19:33:47.394Z"
   },
   {
    "duration": 63,
    "start_time": "2023-11-04T19:33:47.495Z"
   },
   {
    "duration": 128,
    "start_time": "2023-11-04T19:33:47.560Z"
   },
   {
    "duration": 360,
    "start_time": "2023-11-04T19:33:47.691Z"
   },
   {
    "duration": 236,
    "start_time": "2023-11-04T19:33:48.053Z"
   },
   {
    "duration": 53,
    "start_time": "2023-11-04T19:33:48.291Z"
   },
   {
    "duration": 13,
    "start_time": "2023-11-04T19:33:48.351Z"
   },
   {
    "duration": 360,
    "start_time": "2023-11-04T19:33:48.369Z"
   },
   {
    "duration": 29,
    "start_time": "2023-11-04T19:33:48.731Z"
   },
   {
    "duration": 19,
    "start_time": "2023-11-04T19:33:48.762Z"
   },
   {
    "duration": 6,
    "start_time": "2023-11-04T19:33:48.782Z"
   },
   {
    "duration": 65,
    "start_time": "2023-11-04T19:33:48.790Z"
   },
   {
    "duration": 23,
    "start_time": "2023-11-04T19:33:48.871Z"
   },
   {
    "duration": 9,
    "start_time": "2023-11-04T19:33:48.896Z"
   },
   {
    "duration": 32,
    "start_time": "2023-11-04T19:33:48.906Z"
   },
   {
    "duration": 30,
    "start_time": "2023-11-04T19:33:48.940Z"
   },
   {
    "duration": 7,
    "start_time": "2023-11-04T19:33:54.662Z"
   },
   {
    "duration": 1691,
    "start_time": "2023-11-04T19:34:05.884Z"
   },
   {
    "duration": 7,
    "start_time": "2023-11-04T19:34:07.625Z"
   },
   {
    "duration": 102,
    "start_time": "2023-11-04T19:34:07.636Z"
   },
   {
    "duration": 202,
    "start_time": "2023-11-04T19:34:07.740Z"
   },
   {
    "duration": 1590,
    "start_time": "2023-11-04T19:34:07.946Z"
   },
   {
    "duration": 53,
    "start_time": "2023-11-04T19:34:09.539Z"
   },
   {
    "duration": 63,
    "start_time": "2023-11-04T19:34:09.594Z"
   },
   {
    "duration": 9,
    "start_time": "2023-11-04T19:34:09.659Z"
   },
   {
    "duration": 109,
    "start_time": "2023-11-04T19:34:09.672Z"
   },
   {
    "duration": 51,
    "start_time": "2023-11-04T19:34:09.784Z"
   },
   {
    "duration": 125,
    "start_time": "2023-11-04T19:34:09.840Z"
   },
   {
    "duration": 16,
    "start_time": "2023-11-04T19:34:09.968Z"
   },
   {
    "duration": 154,
    "start_time": "2023-11-04T19:34:09.986Z"
   },
   {
    "duration": 351,
    "start_time": "2023-11-04T19:34:10.146Z"
   },
   {
    "duration": 285,
    "start_time": "2023-11-04T19:34:10.499Z"
   },
   {
    "duration": 49,
    "start_time": "2023-11-04T19:34:10.786Z"
   },
   {
    "duration": 12,
    "start_time": "2023-11-04T19:34:10.843Z"
   },
   {
    "duration": 463,
    "start_time": "2023-11-04T19:34:10.857Z"
   },
   {
    "duration": 24,
    "start_time": "2023-11-04T19:34:11.333Z"
   },
   {
    "duration": 24,
    "start_time": "2023-11-04T19:34:11.364Z"
   },
   {
    "duration": 7,
    "start_time": "2023-11-04T19:34:11.390Z"
   },
   {
    "duration": 26,
    "start_time": "2023-11-04T19:34:11.399Z"
   },
   {
    "duration": 47,
    "start_time": "2023-11-04T19:34:11.427Z"
   },
   {
    "duration": 8,
    "start_time": "2023-11-04T19:34:11.476Z"
   },
   {
    "duration": 14,
    "start_time": "2023-11-04T19:34:11.485Z"
   },
   {
    "duration": 27,
    "start_time": "2023-11-04T19:34:11.501Z"
   },
   {
    "duration": 22,
    "start_time": "2023-11-04T19:34:11.535Z"
   },
   {
    "duration": 45,
    "start_time": "2023-11-04T19:34:11.559Z"
   },
   {
    "duration": 390,
    "start_time": "2023-11-04T19:34:11.606Z"
   },
   {
    "duration": 10,
    "start_time": "2023-11-04T19:34:11.997Z"
   },
   {
    "duration": 87,
    "start_time": "2023-11-04T19:34:12.009Z"
   },
   {
    "duration": 7,
    "start_time": "2023-11-04T19:34:12.098Z"
   },
   {
    "duration": 27,
    "start_time": "2023-11-04T19:34:12.106Z"
   },
   {
    "duration": 38,
    "start_time": "2023-11-04T19:34:12.146Z"
   },
   {
    "duration": 15,
    "start_time": "2023-11-04T19:34:12.186Z"
   },
   {
    "duration": 372,
    "start_time": "2023-11-04T19:34:12.203Z"
   },
   {
    "duration": 18,
    "start_time": "2023-11-04T19:34:12.577Z"
   },
   {
    "duration": 48,
    "start_time": "2023-11-04T19:34:12.596Z"
   },
   {
    "duration": 18,
    "start_time": "2023-11-04T19:34:12.649Z"
   },
   {
    "duration": 22,
    "start_time": "2023-11-04T19:34:12.669Z"
   },
   {
    "duration": 81,
    "start_time": "2023-11-04T19:34:12.694Z"
   },
   {
    "duration": 2005,
    "start_time": "2023-11-04T19:34:12.777Z"
   },
   {
    "duration": 74,
    "start_time": "2023-11-04T19:34:14.784Z"
   },
   {
    "duration": 359,
    "start_time": "2023-11-04T19:34:14.859Z"
   },
   {
    "duration": 456,
    "start_time": "2023-11-04T19:34:15.220Z"
   },
   {
    "duration": 23,
    "start_time": "2023-11-04T19:34:15.678Z"
   },
   {
    "duration": 5,
    "start_time": "2023-11-04T19:34:15.702Z"
   },
   {
    "duration": 81,
    "start_time": "2023-11-04T19:34:15.708Z"
   },
   {
    "duration": 304,
    "start_time": "2023-11-04T19:34:15.791Z"
   },
   {
    "duration": 5,
    "start_time": "2023-11-04T19:34:16.097Z"
   },
   {
    "duration": 200,
    "start_time": "2023-11-04T19:34:16.104Z"
   },
   {
    "duration": 54,
    "start_time": "2023-11-04T19:34:16.306Z"
   },
   {
    "duration": 320,
    "start_time": "2023-11-04T19:34:16.364Z"
   },
   {
    "duration": 401,
    "start_time": "2023-11-04T19:37:06.070Z"
   },
   {
    "duration": 1443,
    "start_time": "2023-11-04T19:38:07.864Z"
   },
   {
    "duration": 3,
    "start_time": "2023-11-04T19:38:09.309Z"
   },
   {
    "duration": 77,
    "start_time": "2023-11-04T19:38:09.313Z"
   },
   {
    "duration": 91,
    "start_time": "2023-11-04T19:38:09.392Z"
   },
   {
    "duration": 744,
    "start_time": "2023-11-04T19:38:09.487Z"
   },
   {
    "duration": 46,
    "start_time": "2023-11-04T19:38:10.234Z"
   },
   {
    "duration": 71,
    "start_time": "2023-11-04T19:38:10.282Z"
   },
   {
    "duration": 15,
    "start_time": "2023-11-04T19:38:10.356Z"
   },
   {
    "duration": 66,
    "start_time": "2023-11-04T19:38:10.374Z"
   },
   {
    "duration": 87,
    "start_time": "2023-11-04T19:38:10.444Z"
   },
   {
    "duration": 233,
    "start_time": "2023-11-04T19:38:10.535Z"
   },
   {
    "duration": 61,
    "start_time": "2023-11-04T19:38:10.771Z"
   },
   {
    "duration": 605,
    "start_time": "2023-11-04T19:38:10.834Z"
   },
   {
    "duration": 839,
    "start_time": "2023-11-04T19:38:11.448Z"
   },
   {
    "duration": 767,
    "start_time": "2023-11-04T19:38:12.289Z"
   },
   {
    "duration": 42,
    "start_time": "2023-11-04T19:38:13.058Z"
   },
   {
    "duration": 8,
    "start_time": "2023-11-04T19:38:13.102Z"
   },
   {
    "duration": 505,
    "start_time": "2023-11-04T19:38:13.115Z"
   },
   {
    "duration": 32,
    "start_time": "2023-11-04T19:38:13.632Z"
   },
   {
    "duration": 19,
    "start_time": "2023-11-04T19:38:13.670Z"
   },
   {
    "duration": 8,
    "start_time": "2023-11-04T19:38:13.691Z"
   },
   {
    "duration": 30,
    "start_time": "2023-11-04T19:38:13.700Z"
   },
   {
    "duration": 44,
    "start_time": "2023-11-04T19:38:13.734Z"
   },
   {
    "duration": 14,
    "start_time": "2023-11-04T19:38:13.782Z"
   },
   {
    "duration": 13,
    "start_time": "2023-11-04T19:38:13.798Z"
   },
   {
    "duration": 4,
    "start_time": "2023-11-04T19:38:13.813Z"
   },
   {
    "duration": 33,
    "start_time": "2023-11-04T19:38:13.819Z"
   },
   {
    "duration": 53,
    "start_time": "2023-11-04T19:38:13.857Z"
   },
   {
    "duration": 481,
    "start_time": "2023-11-04T19:38:13.912Z"
   },
   {
    "duration": 9,
    "start_time": "2023-11-04T19:38:14.395Z"
   },
   {
    "duration": 110,
    "start_time": "2023-11-04T19:38:14.406Z"
   },
   {
    "duration": 25,
    "start_time": "2023-11-04T19:38:14.518Z"
   },
   {
    "duration": 33,
    "start_time": "2023-11-04T19:38:14.548Z"
   },
   {
    "duration": 35,
    "start_time": "2023-11-04T19:38:14.583Z"
   },
   {
    "duration": 46,
    "start_time": "2023-11-04T19:38:14.620Z"
   },
   {
    "duration": 382,
    "start_time": "2023-11-04T19:38:14.669Z"
   },
   {
    "duration": 24,
    "start_time": "2023-11-04T19:38:15.056Z"
   },
   {
    "duration": 50,
    "start_time": "2023-11-04T19:38:15.083Z"
   },
   {
    "duration": 53,
    "start_time": "2023-11-04T19:38:15.135Z"
   },
   {
    "duration": 48,
    "start_time": "2023-11-04T19:38:15.190Z"
   },
   {
    "duration": 114,
    "start_time": "2023-11-04T19:38:15.240Z"
   },
   {
    "duration": 2297,
    "start_time": "2023-11-04T19:38:15.357Z"
   },
   {
    "duration": 109,
    "start_time": "2023-11-04T19:38:17.656Z"
   },
   {
    "duration": 329,
    "start_time": "2023-11-04T19:38:17.774Z"
   },
   {
    "duration": 472,
    "start_time": "2023-11-04T19:38:18.104Z"
   },
   {
    "duration": 15,
    "start_time": "2023-11-04T19:38:18.577Z"
   },
   {
    "duration": 27,
    "start_time": "2023-11-04T19:38:18.594Z"
   },
   {
    "duration": 94,
    "start_time": "2023-11-04T19:38:18.623Z"
   },
   {
    "duration": 284,
    "start_time": "2023-11-04T19:38:18.719Z"
   },
   {
    "duration": 5,
    "start_time": "2023-11-04T19:38:19.005Z"
   },
   {
    "duration": 95,
    "start_time": "2023-11-04T19:38:19.012Z"
   },
   {
    "duration": 31,
    "start_time": "2023-11-04T19:38:19.109Z"
   },
   {
    "duration": 268,
    "start_time": "2023-11-04T19:38:19.141Z"
   },
   {
    "duration": 3,
    "start_time": "2023-11-04T19:39:14.565Z"
   },
   {
    "duration": 54,
    "start_time": "2023-11-04T19:39:14.570Z"
   },
   {
    "duration": 67,
    "start_time": "2023-11-04T19:39:14.629Z"
   },
   {
    "duration": 90,
    "start_time": "2023-11-04T19:39:14.698Z"
   },
   {
    "duration": 605,
    "start_time": "2023-11-04T19:39:14.790Z"
   },
   {
    "duration": 42,
    "start_time": "2023-11-04T19:39:15.397Z"
   },
   {
    "duration": 23,
    "start_time": "2023-11-04T19:39:15.447Z"
   },
   {
    "duration": 14,
    "start_time": "2023-11-04T19:39:15.473Z"
   },
   {
    "duration": 32,
    "start_time": "2023-11-04T19:39:15.490Z"
   },
   {
    "duration": 37,
    "start_time": "2023-11-04T19:39:15.523Z"
   },
   {
    "duration": 89,
    "start_time": "2023-11-04T19:39:15.563Z"
   },
   {
    "duration": 20,
    "start_time": "2023-11-04T19:39:15.657Z"
   },
   {
    "duration": 133,
    "start_time": "2023-11-04T19:39:15.679Z"
   },
   {
    "duration": 267,
    "start_time": "2023-11-04T19:39:15.815Z"
   },
   {
    "duration": 238,
    "start_time": "2023-11-04T19:39:16.083Z"
   },
   {
    "duration": 47,
    "start_time": "2023-11-04T19:39:16.323Z"
   },
   {
    "duration": 8,
    "start_time": "2023-11-04T19:39:16.374Z"
   },
   {
    "duration": 393,
    "start_time": "2023-11-04T19:39:16.384Z"
   },
   {
    "duration": 21,
    "start_time": "2023-11-04T19:39:16.782Z"
   },
   {
    "duration": 13,
    "start_time": "2023-11-04T19:39:16.805Z"
   },
   {
    "duration": 21,
    "start_time": "2023-11-04T19:39:16.828Z"
   },
   {
    "duration": 24,
    "start_time": "2023-11-04T19:39:16.864Z"
   },
   {
    "duration": 32,
    "start_time": "2023-11-04T19:39:16.890Z"
   },
   {
    "duration": 16,
    "start_time": "2023-11-04T19:39:16.939Z"
   },
   {
    "duration": 37,
    "start_time": "2023-11-04T19:39:16.958Z"
   },
   {
    "duration": 16,
    "start_time": "2023-11-04T19:39:29.074Z"
   },
   {
    "duration": 24,
    "start_time": "2023-11-04T19:40:07.207Z"
   },
   {
    "duration": 114,
    "start_time": "2023-11-04T19:40:20.315Z"
   },
   {
    "duration": 112,
    "start_time": "2023-11-04T19:40:22.499Z"
   },
   {
    "duration": 19,
    "start_time": "2023-11-04T19:40:37.066Z"
   },
   {
    "duration": 9,
    "start_time": "2023-11-04T19:40:53.560Z"
   },
   {
    "duration": 38,
    "start_time": "2023-11-04T19:40:59.024Z"
   },
   {
    "duration": 25,
    "start_time": "2023-11-04T19:41:46.255Z"
   },
   {
    "duration": 8,
    "start_time": "2023-11-04T19:41:56.282Z"
   },
   {
    "duration": 30,
    "start_time": "2023-11-04T19:42:17.910Z"
   },
   {
    "duration": 14,
    "start_time": "2023-11-04T19:42:22.673Z"
   },
   {
    "duration": 23,
    "start_time": "2023-11-04T19:42:53.750Z"
   },
   {
    "duration": 9,
    "start_time": "2023-11-04T19:42:58.282Z"
   },
   {
    "duration": 12,
    "start_time": "2023-11-04T19:43:09.855Z"
   },
   {
    "duration": 7,
    "start_time": "2023-11-04T19:43:13.173Z"
   },
   {
    "duration": 22,
    "start_time": "2023-11-04T19:43:24.155Z"
   },
   {
    "duration": 5,
    "start_time": "2023-11-04T19:44:02.275Z"
   },
   {
    "duration": 123,
    "start_time": "2023-11-04T19:44:02.283Z"
   },
   {
    "duration": 76,
    "start_time": "2023-11-04T19:44:02.408Z"
   },
   {
    "duration": 86,
    "start_time": "2023-11-04T19:44:02.486Z"
   },
   {
    "duration": 591,
    "start_time": "2023-11-04T19:44:02.575Z"
   },
   {
    "duration": 28,
    "start_time": "2023-11-04T19:44:03.168Z"
   },
   {
    "duration": 169,
    "start_time": "2023-11-04T19:44:03.197Z"
   },
   {
    "duration": 116,
    "start_time": "2023-11-04T19:44:03.368Z"
   },
   {
    "duration": 80,
    "start_time": "2023-11-04T19:44:03.486Z"
   },
   {
    "duration": 40,
    "start_time": "2023-11-04T19:44:03.568Z"
   },
   {
    "duration": 92,
    "start_time": "2023-11-04T19:44:03.610Z"
   },
   {
    "duration": 11,
    "start_time": "2023-11-04T19:44:03.704Z"
   },
   {
    "duration": 176,
    "start_time": "2023-11-04T19:44:03.724Z"
   },
   {
    "duration": 285,
    "start_time": "2023-11-04T19:44:03.903Z"
   },
   {
    "duration": 226,
    "start_time": "2023-11-04T19:44:04.190Z"
   },
   {
    "duration": 43,
    "start_time": "2023-11-04T19:44:04.418Z"
   },
   {
    "duration": 26,
    "start_time": "2023-11-04T19:44:04.463Z"
   },
   {
    "duration": 320,
    "start_time": "2023-11-04T19:44:04.490Z"
   },
   {
    "duration": 20,
    "start_time": "2023-11-04T19:44:04.812Z"
   },
   {
    "duration": 112,
    "start_time": "2023-11-04T19:44:04.834Z"
   },
   {
    "duration": 18,
    "start_time": "2023-11-04T19:44:04.948Z"
   },
   {
    "duration": 43,
    "start_time": "2023-11-04T19:44:04.968Z"
   },
   {
    "duration": 43,
    "start_time": "2023-11-04T19:44:05.013Z"
   },
   {
    "duration": 10,
    "start_time": "2023-11-04T19:44:05.058Z"
   },
   {
    "duration": 31,
    "start_time": "2023-11-04T19:44:05.070Z"
   },
   {
    "duration": 19,
    "start_time": "2023-11-04T19:44:05.103Z"
   },
   {
    "duration": 12,
    "start_time": "2023-11-04T19:44:10.047Z"
   },
   {
    "duration": 18,
    "start_time": "2023-11-04T19:44:15.666Z"
   },
   {
    "duration": 87,
    "start_time": "2023-11-04T19:44:30.783Z"
   },
   {
    "duration": 70,
    "start_time": "2023-11-04T19:44:40.534Z"
   },
   {
    "duration": 51,
    "start_time": "2023-11-04T19:45:27.164Z"
   },
   {
    "duration": 50,
    "start_time": "2023-11-04T19:45:31.264Z"
   },
   {
    "duration": 6,
    "start_time": "2023-11-04T19:45:38.161Z"
   },
   {
    "duration": 11,
    "start_time": "2023-11-04T19:45:42.949Z"
   },
   {
    "duration": 12,
    "start_time": "2023-11-04T19:45:59.544Z"
   },
   {
    "duration": 17,
    "start_time": "2023-11-04T19:46:19.249Z"
   },
   {
    "duration": 16,
    "start_time": "2023-11-04T19:46:36.849Z"
   },
   {
    "duration": 1279,
    "start_time": "2023-11-04T19:47:09.855Z"
   },
   {
    "duration": 7,
    "start_time": "2023-11-04T19:47:11.138Z"
   },
   {
    "duration": 48,
    "start_time": "2023-11-04T19:47:11.147Z"
   },
   {
    "duration": 142,
    "start_time": "2023-11-04T19:47:11.197Z"
   },
   {
    "duration": 1417,
    "start_time": "2023-11-04T19:47:11.341Z"
   },
   {
    "duration": 82,
    "start_time": "2023-11-04T19:47:12.759Z"
   },
   {
    "duration": 17,
    "start_time": "2023-11-04T19:47:12.844Z"
   },
   {
    "duration": 6,
    "start_time": "2023-11-04T19:47:12.863Z"
   },
   {
    "duration": 86,
    "start_time": "2023-11-04T19:47:12.871Z"
   },
   {
    "duration": 73,
    "start_time": "2023-11-04T19:47:12.959Z"
   },
   {
    "duration": 217,
    "start_time": "2023-11-04T19:47:13.035Z"
   },
   {
    "duration": 19,
    "start_time": "2023-11-04T19:47:13.254Z"
   },
   {
    "duration": 324,
    "start_time": "2023-11-04T19:47:13.275Z"
   },
   {
    "duration": 276,
    "start_time": "2023-11-04T19:47:13.603Z"
   },
   {
    "duration": 248,
    "start_time": "2023-11-04T19:47:13.881Z"
   },
   {
    "duration": 40,
    "start_time": "2023-11-04T19:47:14.133Z"
   },
   {
    "duration": 6,
    "start_time": "2023-11-04T19:47:14.175Z"
   },
   {
    "duration": 447,
    "start_time": "2023-11-04T19:47:14.183Z"
   },
   {
    "duration": 18,
    "start_time": "2023-11-04T19:47:14.632Z"
   },
   {
    "duration": 14,
    "start_time": "2023-11-04T19:47:14.656Z"
   },
   {
    "duration": 14,
    "start_time": "2023-11-04T19:47:14.671Z"
   },
   {
    "duration": 17,
    "start_time": "2023-11-04T19:47:14.687Z"
   },
   {
    "duration": 48,
    "start_time": "2023-11-04T19:47:14.706Z"
   },
   {
    "duration": 11,
    "start_time": "2023-11-04T19:47:14.756Z"
   },
   {
    "duration": 27,
    "start_time": "2023-11-04T19:47:14.769Z"
   },
   {
    "duration": 11,
    "start_time": "2023-11-04T19:47:14.798Z"
   },
   {
    "duration": 89,
    "start_time": "2023-11-04T19:47:14.811Z"
   },
   {
    "duration": 32,
    "start_time": "2023-11-04T19:47:14.902Z"
   },
   {
    "duration": 24,
    "start_time": "2023-11-04T19:47:14.936Z"
   },
   {
    "duration": 38,
    "start_time": "2023-11-04T19:47:14.962Z"
   },
   {
    "duration": 361,
    "start_time": "2023-11-04T19:47:15.002Z"
   },
   {
    "duration": 11,
    "start_time": "2023-11-04T19:47:15.365Z"
   },
   {
    "duration": 78,
    "start_time": "2023-11-04T19:47:15.378Z"
   },
   {
    "duration": 7,
    "start_time": "2023-11-04T19:47:15.460Z"
   },
   {
    "duration": 23,
    "start_time": "2023-11-04T19:47:15.469Z"
   },
   {
    "duration": 25,
    "start_time": "2023-11-04T19:47:15.495Z"
   },
   {
    "duration": 20,
    "start_time": "2023-11-04T19:47:15.522Z"
   },
   {
    "duration": 339,
    "start_time": "2023-11-04T19:47:15.544Z"
   },
   {
    "duration": 21,
    "start_time": "2023-11-04T19:47:15.889Z"
   },
   {
    "duration": 35,
    "start_time": "2023-11-04T19:47:15.925Z"
   },
   {
    "duration": 10,
    "start_time": "2023-11-04T19:47:15.966Z"
   },
   {
    "duration": 23,
    "start_time": "2023-11-04T19:47:15.979Z"
   },
   {
    "duration": 133,
    "start_time": "2023-11-04T19:47:16.004Z"
   },
   {
    "duration": 1874,
    "start_time": "2023-11-04T19:47:16.144Z"
   },
   {
    "duration": 85,
    "start_time": "2023-11-04T19:47:18.020Z"
   },
   {
    "duration": 326,
    "start_time": "2023-11-04T19:47:18.106Z"
   },
   {
    "duration": 424,
    "start_time": "2023-11-04T19:47:18.434Z"
   },
   {
    "duration": 16,
    "start_time": "2023-11-04T19:47:18.861Z"
   },
   {
    "duration": 4,
    "start_time": "2023-11-04T19:47:18.879Z"
   },
   {
    "duration": 77,
    "start_time": "2023-11-04T19:47:18.885Z"
   },
   {
    "duration": 239,
    "start_time": "2023-11-04T19:47:18.964Z"
   },
   {
    "duration": 7,
    "start_time": "2023-11-04T19:47:19.204Z"
   },
   {
    "duration": 124,
    "start_time": "2023-11-04T19:47:19.212Z"
   },
   {
    "duration": 38,
    "start_time": "2023-11-04T19:47:19.338Z"
   },
   {
    "duration": 274,
    "start_time": "2023-11-04T19:47:19.378Z"
   },
   {
    "duration": 13,
    "start_time": "2023-11-04T19:47:25.784Z"
   },
   {
    "duration": 9,
    "start_time": "2023-11-04T19:47:28.210Z"
   },
   {
    "duration": 18,
    "start_time": "2023-11-04T19:47:59.099Z"
   },
   {
    "duration": 11,
    "start_time": "2023-11-04T19:48:22.449Z"
   },
   {
    "duration": 8,
    "start_time": "2023-11-04T19:48:25.298Z"
   },
   {
    "duration": 156,
    "start_time": "2023-11-04T19:48:39.003Z"
   },
   {
    "duration": 7,
    "start_time": "2023-11-04T19:48:44.096Z"
   },
   {
    "duration": 5,
    "start_time": "2023-11-04T19:48:47.165Z"
   },
   {
    "duration": 1241,
    "start_time": "2023-11-04T19:50:54.321Z"
   },
   {
    "duration": 4,
    "start_time": "2023-11-04T19:50:55.565Z"
   },
   {
    "duration": 49,
    "start_time": "2023-11-04T19:50:55.571Z"
   },
   {
    "duration": 79,
    "start_time": "2023-11-04T19:50:55.623Z"
   },
   {
    "duration": 1455,
    "start_time": "2023-11-04T19:50:55.705Z"
   },
   {
    "duration": 85,
    "start_time": "2023-11-04T19:50:57.163Z"
   },
   {
    "duration": 12,
    "start_time": "2023-11-04T19:50:57.250Z"
   },
   {
    "duration": 63,
    "start_time": "2023-11-04T19:50:57.264Z"
   },
   {
    "duration": 35,
    "start_time": "2023-11-04T19:50:57.329Z"
   },
   {
    "duration": 80,
    "start_time": "2023-11-04T19:50:57.367Z"
   },
   {
    "duration": 213,
    "start_time": "2023-11-04T19:50:57.449Z"
   },
   {
    "duration": 78,
    "start_time": "2023-11-04T19:50:57.664Z"
   },
   {
    "duration": 323,
    "start_time": "2023-11-04T19:50:57.744Z"
   },
   {
    "duration": 544,
    "start_time": "2023-11-04T19:50:58.125Z"
   },
   {
    "duration": 249,
    "start_time": "2023-11-04T19:50:58.670Z"
   },
   {
    "duration": 40,
    "start_time": "2023-11-04T19:50:58.924Z"
   },
   {
    "duration": 18,
    "start_time": "2023-11-04T19:50:58.966Z"
   },
   {
    "duration": 403,
    "start_time": "2023-11-04T19:50:58.986Z"
   },
   {
    "duration": 15,
    "start_time": "2023-11-04T19:50:59.391Z"
   },
   {
    "duration": 41,
    "start_time": "2023-11-04T19:50:59.408Z"
   },
   {
    "duration": 7,
    "start_time": "2023-11-04T19:50:59.450Z"
   },
   {
    "duration": 13,
    "start_time": "2023-11-04T19:50:59.459Z"
   },
   {
    "duration": 27,
    "start_time": "2023-11-04T19:50:59.474Z"
   },
   {
    "duration": 8,
    "start_time": "2023-11-04T19:50:59.503Z"
   },
   {
    "duration": 18,
    "start_time": "2023-11-04T19:50:59.532Z"
   },
   {
    "duration": 5,
    "start_time": "2023-11-04T19:50:59.552Z"
   },
   {
    "duration": 16,
    "start_time": "2023-11-04T19:50:59.559Z"
   },
   {
    "duration": 75,
    "start_time": "2023-11-04T19:50:59.577Z"
   },
   {
    "duration": 355,
    "start_time": "2023-11-04T19:50:59.654Z"
   },
   {
    "duration": 31,
    "start_time": "2023-11-04T19:51:00.012Z"
   },
   {
    "duration": 109,
    "start_time": "2023-11-04T19:51:00.045Z"
   },
   {
    "duration": 7,
    "start_time": "2023-11-04T19:51:00.156Z"
   },
   {
    "duration": 12,
    "start_time": "2023-11-04T19:51:00.165Z"
   },
   {
    "duration": 50,
    "start_time": "2023-11-04T19:51:00.179Z"
   },
   {
    "duration": 21,
    "start_time": "2023-11-04T19:51:00.239Z"
   },
   {
    "duration": 367,
    "start_time": "2023-11-04T19:51:00.263Z"
   },
   {
    "duration": 22,
    "start_time": "2023-11-04T19:51:00.631Z"
   },
   {
    "duration": 39,
    "start_time": "2023-11-04T19:51:00.655Z"
   },
   {
    "duration": 44,
    "start_time": "2023-11-04T19:51:00.696Z"
   },
   {
    "duration": 61,
    "start_time": "2023-11-04T19:51:00.743Z"
   },
   {
    "duration": 151,
    "start_time": "2023-11-04T19:51:00.809Z"
   },
   {
    "duration": 1820,
    "start_time": "2023-11-04T19:51:00.962Z"
   },
   {
    "duration": 94,
    "start_time": "2023-11-04T19:51:02.784Z"
   },
   {
    "duration": 317,
    "start_time": "2023-11-04T19:51:02.880Z"
   },
   {
    "duration": 436,
    "start_time": "2023-11-04T19:51:03.199Z"
   },
   {
    "duration": 23,
    "start_time": "2023-11-04T19:51:03.637Z"
   },
   {
    "duration": 5,
    "start_time": "2023-11-04T19:51:03.662Z"
   },
   {
    "duration": 77,
    "start_time": "2023-11-04T19:51:03.668Z"
   },
   {
    "duration": 253,
    "start_time": "2023-11-04T19:51:03.747Z"
   },
   {
    "duration": 6,
    "start_time": "2023-11-04T19:51:04.002Z"
   },
   {
    "duration": 80,
    "start_time": "2023-11-04T19:51:04.010Z"
   },
   {
    "duration": 59,
    "start_time": "2023-11-04T19:51:04.092Z"
   },
   {
    "duration": 305,
    "start_time": "2023-11-04T19:51:04.153Z"
   },
   {
    "duration": 80,
    "start_time": "2023-11-04T19:53:10.969Z"
   },
   {
    "duration": 89,
    "start_time": "2023-11-04T19:53:14.515Z"
   },
   {
    "duration": 33,
    "start_time": "2023-11-04T19:53:17.011Z"
   },
   {
    "duration": 8,
    "start_time": "2023-11-04T19:53:56.767Z"
   },
   {
    "duration": 30,
    "start_time": "2023-11-04T19:54:04.906Z"
   },
   {
    "duration": 12,
    "start_time": "2023-11-04T19:56:20.835Z"
   },
   {
    "duration": 9,
    "start_time": "2023-11-04T20:01:04.103Z"
   },
   {
    "duration": 1248,
    "start_time": "2023-11-04T20:06:35.683Z"
   },
   {
    "duration": 8,
    "start_time": "2023-11-04T20:06:36.933Z"
   },
   {
    "duration": 43,
    "start_time": "2023-11-04T20:06:36.943Z"
   },
   {
    "duration": 75,
    "start_time": "2023-11-04T20:06:36.988Z"
   },
   {
    "duration": 554,
    "start_time": "2023-11-04T20:06:37.064Z"
   },
   {
    "duration": 32,
    "start_time": "2023-11-04T20:06:37.620Z"
   },
   {
    "duration": 10,
    "start_time": "2023-11-04T20:06:37.653Z"
   },
   {
    "duration": 7,
    "start_time": "2023-11-04T20:06:37.665Z"
   },
   {
    "duration": 22,
    "start_time": "2023-11-04T20:06:37.673Z"
   },
   {
    "duration": 26,
    "start_time": "2023-11-04T20:06:37.698Z"
   },
   {
    "duration": 74,
    "start_time": "2023-11-04T20:06:37.729Z"
   },
   {
    "duration": 33,
    "start_time": "2023-11-04T20:06:37.804Z"
   },
   {
    "duration": 111,
    "start_time": "2023-11-04T20:06:37.838Z"
   },
   {
    "duration": 242,
    "start_time": "2023-11-04T20:06:37.951Z"
   },
   {
    "duration": 228,
    "start_time": "2023-11-04T20:06:38.194Z"
   },
   {
    "duration": 36,
    "start_time": "2023-11-04T20:06:38.428Z"
   },
   {
    "duration": 8,
    "start_time": "2023-11-04T20:06:38.465Z"
   },
   {
    "duration": 376,
    "start_time": "2023-11-04T20:06:38.474Z"
   },
   {
    "duration": 13,
    "start_time": "2023-11-04T20:06:38.852Z"
   },
   {
    "duration": 15,
    "start_time": "2023-11-04T20:06:38.867Z"
   },
   {
    "duration": 6,
    "start_time": "2023-11-04T20:06:38.884Z"
   },
   {
    "duration": 44,
    "start_time": "2023-11-04T20:06:38.892Z"
   },
   {
    "duration": 21,
    "start_time": "2023-11-04T20:06:38.937Z"
   },
   {
    "duration": 153,
    "start_time": "2023-11-04T20:06:38.960Z"
   },
   {
    "duration": 55,
    "start_time": "2023-11-04T20:06:39.115Z"
   },
   {
    "duration": 9,
    "start_time": "2023-11-04T20:06:39.171Z"
   },
   {
    "duration": 33,
    "start_time": "2023-11-04T20:06:39.182Z"
   },
   {
    "duration": 47,
    "start_time": "2023-11-04T20:06:39.219Z"
   },
   {
    "duration": 328,
    "start_time": "2023-11-04T20:06:39.268Z"
   },
   {
    "duration": 11,
    "start_time": "2023-11-04T20:06:39.598Z"
   },
   {
    "duration": 59,
    "start_time": "2023-11-04T20:06:39.625Z"
   },
   {
    "duration": 51,
    "start_time": "2023-11-04T20:06:39.686Z"
   },
   {
    "duration": 9,
    "start_time": "2023-11-04T20:06:39.740Z"
   },
   {
    "duration": 36,
    "start_time": "2023-11-04T20:06:39.751Z"
   },
   {
    "duration": 13,
    "start_time": "2023-11-04T20:06:39.789Z"
   },
   {
    "duration": 308,
    "start_time": "2023-11-04T20:06:39.803Z"
   },
   {
    "duration": 30,
    "start_time": "2023-11-04T20:06:40.113Z"
   },
   {
    "duration": 22,
    "start_time": "2023-11-04T20:06:40.145Z"
   },
   {
    "duration": 28,
    "start_time": "2023-11-04T20:06:40.168Z"
   },
   {
    "duration": 42,
    "start_time": "2023-11-04T20:06:40.198Z"
   },
   {
    "duration": 71,
    "start_time": "2023-11-04T20:06:40.242Z"
   },
   {
    "duration": 1721,
    "start_time": "2023-11-04T20:06:40.315Z"
   },
   {
    "duration": 58,
    "start_time": "2023-11-04T20:06:42.038Z"
   },
   {
    "duration": 314,
    "start_time": "2023-11-04T20:06:42.098Z"
   },
   {
    "duration": 431,
    "start_time": "2023-11-04T20:06:42.414Z"
   },
   {
    "duration": 16,
    "start_time": "2023-11-04T20:06:42.846Z"
   },
   {
    "duration": 11,
    "start_time": "2023-11-04T20:06:42.863Z"
   },
   {
    "duration": 80,
    "start_time": "2023-11-04T20:06:42.875Z"
   },
   {
    "duration": 236,
    "start_time": "2023-11-04T20:06:42.957Z"
   },
   {
    "duration": 6,
    "start_time": "2023-11-04T20:06:43.194Z"
   },
   {
    "duration": 190,
    "start_time": "2023-11-04T20:06:43.201Z"
   },
   {
    "duration": 94,
    "start_time": "2023-11-04T20:06:43.393Z"
   },
   {
    "duration": 217,
    "start_time": "2023-11-04T20:06:43.489Z"
   }
  ],
  "kernelspec": {
   "display_name": "Python 3 (ipykernel)",
   "language": "python",
   "name": "python3"
  },
  "language_info": {
   "codemirror_mode": {
    "name": "ipython",
    "version": 3
   },
   "file_extension": ".py",
   "mimetype": "text/x-python",
   "name": "python",
   "nbconvert_exporter": "python",
   "pygments_lexer": "ipython3",
   "version": "3.11.4"
  },
  "toc": {
   "base_numbering": 1,
   "nav_menu": {},
   "number_sections": true,
   "sideBar": true,
   "skip_h1_title": true,
   "title_cell": "Table of Contents",
   "title_sidebar": "Contents",
   "toc_cell": false,
   "toc_position": {
    "height": "calc(100% - 180px)",
    "left": "10px",
    "top": "150px",
    "width": "307.328px"
   },
   "toc_section_display": true,
   "toc_window_display": true
  }
 },
 "nbformat": 4,
 "nbformat_minor": 2
}
