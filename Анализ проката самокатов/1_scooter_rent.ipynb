{
 "cells": [
  {
   "cell_type": "markdown",
   "id": "9b420f97",
   "metadata": {},
   "source": [
    "# Статистический анализ: исследование сервиса аренды самокатов"
   ]
  },
  {
   "cell_type": "markdown",
   "id": "63d3758a",
   "metadata": {},
   "source": [
    "В моем распоряжении данные сервиса аренды самокатов. Пользователи сервиса делятся на два типа: с подпиской и без. Пользователи без подписки платят 50р. за старт поездки и 8р. за минуту пользования. Пользователи с подпиской платят 199р. абонентской платы в месяц и 6р. за минуту поездки.\n",
    "\n",
    "**Цели исследования:**\n",
    "1. Изучить пользователей сервиса, продолжительность их поездок\n",
    "2. Оценить выручку, которую приносят пользователи с подпиской и без нее\n",
    "3. Проверить гипотезы о различиях пользователей\n",
    "\n",
    "**Ход исследования**\n",
    "\n",
    "Данные я получу из трех файлов\n",
    "- `users_go.csv` данные о пользователях\n",
    "- `rides_go.csv` данные о их поездках\n",
    "- `subscriptions_go.csv` данные об условиях подписки\n",
    "\n",
    "Для начала оценю данные, приведу их к необходимому формату, если потребуется, проверю данные на количество пропусков, дубликатов, обработаю их. Затем проведу исследовательский анализ данных, подсчитаю выручку и проверю поставленные гипотезы."
   ]
  },
  {
   "cell_type": "markdown",
   "id": "3069d6fa",
   "metadata": {},
   "source": [
    "Для выполнения проекта необходимо несколько библиотек, загружу их:"
   ]
  },
  {
   "cell_type": "code",
   "execution_count": 1,
   "id": "72576667",
   "metadata": {},
   "outputs": [],
   "source": [
    "import pandas as pd\n",
    "import numpy as np\n",
    "from scipy import stats as st\n",
    "from math import factorial\n",
    "import matplotlib.pyplot as plt"
   ]
  },
  {
   "cell_type": "markdown",
   "id": "c42cbe00",
   "metadata": {},
   "source": [
    "## Загрузка и обзор данных"
   ]
  },
  {
   "cell_type": "code",
   "execution_count": 2,
   "id": "eff9f206",
   "metadata": {},
   "outputs": [],
   "source": [
    "users = pd.read_csv(r'C:\\Users\\HOME\\Desktop\\Practicum\\datasets\\scooter_rent\\users_go.csv')\n",
    "rides = pd.read_csv(r'C:\\Users\\HOME\\Desktop\\Practicum\\datasets\\scooter_rent\\rides_go.csv')\n",
    "subs = pd.read_csv(r'C:\\Users\\HOME\\Desktop\\Practicum\\datasets\\scooter_rent\\subscriptions_go.csv')"
   ]
  },
  {
   "cell_type": "markdown",
   "id": "1a88b835",
   "metadata": {},
   "source": [
    "### Изучу данные о пользователях в `users`"
   ]
  },
  {
   "cell_type": "code",
   "execution_count": 3,
   "id": "b801f29a",
   "metadata": {},
   "outputs": [
    {
     "name": "stdout",
     "output_type": "stream",
     "text": [
      "   user_id        name  age            city subscription_type\n",
      "0        1        Кира   22          Тюмень             ultra\n",
      "1        2   Станислав   31            Омск             ultra\n",
      "2        3     Алексей   20          Москва             ultra\n",
      "3        4  Константин   26  Ростов-на-Дону             ultra\n",
      "4        5       Адель   28            Омск             ultra\n",
      "<class 'pandas.core.frame.DataFrame'>\n",
      "RangeIndex: 1565 entries, 0 to 1564\n",
      "Data columns (total 5 columns):\n",
      " #   Column             Non-Null Count  Dtype \n",
      "---  ------             --------------  ----- \n",
      " 0   user_id            1565 non-null   int64 \n",
      " 1   name               1565 non-null   object\n",
      " 2   age                1565 non-null   int64 \n",
      " 3   city               1565 non-null   object\n",
      " 4   subscription_type  1565 non-null   object\n",
      "dtypes: int64(2), object(3)\n",
      "memory usage: 61.3+ KB\n"
     ]
    }
   ],
   "source": [
    "print(users.head())\n",
    "users.info()"
   ]
  },
  {
   "cell_type": "markdown",
   "id": "5897560a",
   "metadata": {},
   "source": [
    " "
   ]
  },
  {
   "cell_type": "code",
   "execution_count": 4,
   "id": "a9b52c43",
   "metadata": {},
   "outputs": [
    {
     "data": {
      "text/plain": [
       "array(['Тюмень', 'Омск', 'Москва', 'Ростов-на-Дону', 'Краснодар',\n",
       "       'Пятигорск', 'Екатеринбург', 'Сочи'], dtype=object)"
      ]
     },
     "execution_count": 4,
     "metadata": {},
     "output_type": "execute_result"
    }
   ],
   "source": [
    "users.city.unique()"
   ]
  },
  {
   "cell_type": "markdown",
   "id": "6f1f6ebf",
   "metadata": {},
   "source": [
    "Отлично, в данных нет пропусков, и видно, что сервис представлен сразу в 6 разных городах, есть западные, восточные и южные города. Будет интересно узнать как отличаются данные в зависимости от города."
   ]
  },
  {
   "cell_type": "markdown",
   "id": "a3026198",
   "metadata": {},
   "source": [
    "### Изучу данные о поездках в `rides`"
   ]
  },
  {
   "cell_type": "code",
   "execution_count": 5,
   "id": "0bf69d75",
   "metadata": {},
   "outputs": [
    {
     "name": "stdout",
     "output_type": "stream",
     "text": [
      "   user_id     distance   duration        date\n",
      "0        1  4409.919140  25.599769  2021-01-01\n",
      "1        1  2617.592153  15.816871  2021-01-18\n",
      "2        1   754.159807   6.232113  2021-04-20\n",
      "3        1  2694.783254  18.511000  2021-08-11\n",
      "4        1  4028.687306  26.265803  2021-08-28\n",
      "<class 'pandas.core.frame.DataFrame'>\n",
      "RangeIndex: 18068 entries, 0 to 18067\n",
      "Data columns (total 4 columns):\n",
      " #   Column    Non-Null Count  Dtype  \n",
      "---  ------    --------------  -----  \n",
      " 0   user_id   18068 non-null  int64  \n",
      " 1   distance  18068 non-null  float64\n",
      " 2   duration  18068 non-null  float64\n",
      " 3   date      18068 non-null  object \n",
      "dtypes: float64(2), int64(1), object(1)\n",
      "memory usage: 564.8+ KB\n"
     ]
    }
   ],
   "source": [
    "print(rides.head())\n",
    "rides.info()"
   ]
  },
  {
   "cell_type": "markdown",
   "id": "d0bfd607",
   "metadata": {},
   "source": [
    "Тут тоже нет пропусков, только дату необходимо привести к подобающему формату."
   ]
  },
  {
   "cell_type": "code",
   "execution_count": 6,
   "id": "2a1a4e57",
   "metadata": {},
   "outputs": [],
   "source": [
    "rides['date'] = pd.to_datetime(rides['date'], format='%Y-%m-%d')"
   ]
  },
  {
   "cell_type": "markdown",
   "id": "7e294a0a",
   "metadata": {},
   "source": [
    "### Изучу данные о подписках в `subs`"
   ]
  },
  {
   "cell_type": "code",
   "execution_count": 7,
   "id": "4103438e",
   "metadata": {},
   "outputs": [
    {
     "data": {
      "text/html": [
       "<div>\n",
       "<style scoped>\n",
       "    .dataframe tbody tr th:only-of-type {\n",
       "        vertical-align: middle;\n",
       "    }\n",
       "\n",
       "    .dataframe tbody tr th {\n",
       "        vertical-align: top;\n",
       "    }\n",
       "\n",
       "    .dataframe thead th {\n",
       "        text-align: right;\n",
       "    }\n",
       "</style>\n",
       "<table border=\"1\" class=\"dataframe\">\n",
       "  <thead>\n",
       "    <tr style=\"text-align: right;\">\n",
       "      <th></th>\n",
       "      <th>subscription_type</th>\n",
       "      <th>minute_price</th>\n",
       "      <th>start_ride_price</th>\n",
       "      <th>subscription_fee</th>\n",
       "    </tr>\n",
       "  </thead>\n",
       "  <tbody>\n",
       "    <tr>\n",
       "      <th>0</th>\n",
       "      <td>free</td>\n",
       "      <td>8</td>\n",
       "      <td>50</td>\n",
       "      <td>0</td>\n",
       "    </tr>\n",
       "    <tr>\n",
       "      <th>1</th>\n",
       "      <td>ultra</td>\n",
       "      <td>6</td>\n",
       "      <td>0</td>\n",
       "      <td>199</td>\n",
       "    </tr>\n",
       "  </tbody>\n",
       "</table>\n",
       "</div>"
      ],
      "text/plain": [
       "  subscription_type  minute_price  start_ride_price  subscription_fee\n",
       "0              free             8                50                 0\n",
       "1             ultra             6                 0               199"
      ]
     },
     "execution_count": 7,
     "metadata": {},
     "output_type": "execute_result"
    }
   ],
   "source": [
    "subs"
   ]
  },
  {
   "cell_type": "markdown",
   "id": "28640cf8",
   "metadata": {},
   "source": [
    "Как и говорилось в введении, у пользователей есть два варианта пользоваться сервисом - с подпиской и ежемесячным платежом, но с пониженной стоимостью минут. Или без подписки, но с платой за старт и более высокой ценой за минуту поездки."
   ]
  },
  {
   "cell_type": "markdown",
   "id": "e95ebca7",
   "metadata": {},
   "source": [
    "## Предобработка данных"
   ]
  },
  {
   "cell_type": "markdown",
   "id": "d72f4114",
   "metadata": {},
   "source": [
    "### Удаление дубликатов"
   ]
  },
  {
   "cell_type": "markdown",
   "id": "9b41aa1b",
   "metadata": {},
   "source": [
    "Проверю все файлы на наличие дубликатов"
   ]
  },
  {
   "cell_type": "code",
   "execution_count": 8,
   "id": "af6d202c",
   "metadata": {},
   "outputs": [
    {
     "name": "stdout",
     "output_type": "stream",
     "text": [
      "31\n",
      "0\n",
      "0\n"
     ]
    }
   ],
   "source": [
    "for i in [users, rides, subs]:\n",
    "    print(i.duplicated().sum())"
   ]
  },
  {
   "cell_type": "markdown",
   "id": "146b982c",
   "metadata": {},
   "source": [
    "Дубликаты есть только в файле `users`. Удалю их:"
   ]
  },
  {
   "cell_type": "code",
   "execution_count": 9,
   "id": "af6cfdce",
   "metadata": {},
   "outputs": [],
   "source": [
    "users.drop_duplicates(inplace=True)"
   ]
  },
  {
   "cell_type": "markdown",
   "id": "e3786109",
   "metadata": {},
   "source": [
    "### Добавление столбца с номером месяца"
   ]
  },
  {
   "cell_type": "markdown",
   "id": "703664ce",
   "metadata": {},
   "source": [
    "Все данные в датафрейме собраны за 2021 год. Добавлю для них обозначение месяца"
   ]
  },
  {
   "cell_type": "code",
   "execution_count": 10,
   "id": "bb28ef6a",
   "metadata": {},
   "outputs": [],
   "source": [
    "rides['month'] = rides['date'].dt.month"
   ]
  },
  {
   "cell_type": "markdown",
   "id": "212593c7",
   "metadata": {},
   "source": [
    "## Исследовательский анализ данных"
   ]
  },
  {
   "cell_type": "markdown",
   "id": "42c2081b",
   "metadata": {},
   "source": [
    "### Частота встречаемости городов в данных"
   ]
  },
  {
   "cell_type": "code",
   "execution_count": 11,
   "id": "e3a4274c",
   "metadata": {},
   "outputs": [
    {
     "data": {
      "image/png": "[encoded data removed]",
      "text/plain": [
       "<Figure size 640x480 with 1 Axes>"
      ]
     },
     "metadata": {},
     "output_type": "display_data"
    }
   ],
   "source": [
    "(users\n",
    " .pivot_table(index='city', values='user_id', aggfunc='count')\n",
    " .sort_values(by='user_id', ascending=False)\n",
    " .plot(kind='bar', title='Количество пользователей по городам (чел.)',\n",
    "       legend=False))\n",
    "plt.xlabel('Города')\n",
    "plt.ylabel('Количество');"
   ]
  },
  {
   "cell_type": "markdown",
   "id": "20832794",
   "metadata": {},
   "source": [
    "\n",
    "\n",
    "Распределение пользователей по городам на удивление равномерное. Так, количество пользователей не зависит от численности населения. Например, больше всего пользователей в Пятигорске (всего 219 пользователей), хотя это город с маленьким населением в 145 тыс. человек"
   ]
  },
  {
   "cell_type": "markdown",
   "id": "379302e7",
   "metadata": {},
   "source": [
    "### Доли пользователей по типу подписки"
   ]
  },
  {
   "cell_type": "code",
   "execution_count": 12,
   "id": "1247a026",
   "metadata": {},
   "outputs": [
    {
     "data": {
      "image/png": "[encoded data removed]",
      "text/plain": [
       "<Figure size 640x480 with 1 Axes>"
      ]
     },
     "metadata": {},
     "output_type": "display_data"
    }
   ],
   "source": [
    "(users\n",
    " .pivot_table(index='subscription_type', values='user_id', aggfunc='count')\n",
    " .plot(kind='pie', y='user_id', autopct='%1.0f%%', title='Доли пользователей по типу подписки'))\n",
    "plt.ylabel('Пользователи');"
   ]
  },
  {
   "cell_type": "markdown",
   "id": "e4b12171",
   "metadata": {},
   "source": [
    "Большая часть пользователей арендует самокаты без подписки. Хотя доля тех, кто пользуется подпиской, тоже велика."
   ]
  },
  {
   "cell_type": "markdown",
   "id": "5c7a0d77",
   "metadata": {},
   "source": [
    "### Возраст пользователей"
   ]
  },
  {
   "cell_type": "code",
   "execution_count": 13,
   "id": "d86b7b67",
   "metadata": {},
   "outputs": [
    {
     "name": "stdout",
     "output_type": "stream",
     "text": [
      "Медианный возраст пользователей сервиса: 25.0\n"
     ]
    },
    {
     "data": {
      "image/png": "[encoded data removed]",
      "text/plain": [
       "<Figure size 640x480 with 1 Axes>"
      ]
     },
     "metadata": {},
     "output_type": "display_data"
    }
   ],
   "source": [
    "print('Медианный возраст пользователей сервиса:', users.age.median())\n",
    "users.plot(kind='hist', y='age', grid=True, title='Гистограмма возраста пользователей (лет)', legend=False)\n",
    "plt.xlabel('Возраст')\n",
    "plt.ylabel('Частота');"
   ]
  },
  {
   "cell_type": "markdown",
   "id": "d57b05ff",
   "metadata": {},
   "source": [
    "Распределение по возрасту - нормальное. И больше всего пользователей в возрастном диапозоне от 20 до 30.\n",
    "<br> Посмотрим, меняется ли медианный возраст пользователей в зависимости от города."
   ]
  },
  {
   "cell_type": "code",
   "execution_count": 89,
   "id": "012a4674",
   "metadata": {},
   "outputs": [
    {
     "data": {
      "text/html": [
       "<style type=\"text/css\">\n",
       "#T_b2de8_row0_col0, #T_b2de8_row1_col0, #T_b2de8_row2_col0, #T_b2de8_row4_col0, #T_b2de8_row5_col0, #T_b2de8_row6_col0, #T_b2de8_row7_col0 {\n",
       "  background-color: #f7fcf5;\n",
       "  color: #000000;\n",
       "}\n",
       "#T_b2de8_row3_col0 {\n",
       "  background-color: #00441b;\n",
       "  color: #f1f1f1;\n",
       "}\n",
       "</style>\n",
       "<table id=\"T_b2de8\">\n",
       "  <thead>\n",
       "    <tr>\n",
       "      <th class=\"blank level0\" >&nbsp;</th>\n",
       "      <th id=\"T_b2de8_level0_col0\" class=\"col_heading level0 col0\" >age</th>\n",
       "    </tr>\n",
       "    <tr>\n",
       "      <th class=\"index_name level0\" >city</th>\n",
       "      <th class=\"blank col0\" >&nbsp;</th>\n",
       "    </tr>\n",
       "  </thead>\n",
       "  <tbody>\n",
       "    <tr>\n",
       "      <th id=\"T_b2de8_level0_row0\" class=\"row_heading level0 row0\" >Екатеринбург</th>\n",
       "      <td id=\"T_b2de8_row0_col0\" class=\"data row0 col0\" >25</td>\n",
       "    </tr>\n",
       "    <tr>\n",
       "      <th id=\"T_b2de8_level0_row1\" class=\"row_heading level0 row1\" >Краснодар</th>\n",
       "      <td id=\"T_b2de8_row1_col0\" class=\"data row1 col0\" >25</td>\n",
       "    </tr>\n",
       "    <tr>\n",
       "      <th id=\"T_b2de8_level0_row2\" class=\"row_heading level0 row2\" >Москва</th>\n",
       "      <td id=\"T_b2de8_row2_col0\" class=\"data row2 col0\" >25</td>\n",
       "    </tr>\n",
       "    <tr>\n",
       "      <th id=\"T_b2de8_level0_row3\" class=\"row_heading level0 row3\" >Омск</th>\n",
       "      <td id=\"T_b2de8_row3_col0\" class=\"data row3 col0\" >26</td>\n",
       "    </tr>\n",
       "    <tr>\n",
       "      <th id=\"T_b2de8_level0_row4\" class=\"row_heading level0 row4\" >Пятигорск</th>\n",
       "      <td id=\"T_b2de8_row4_col0\" class=\"data row4 col0\" >25</td>\n",
       "    </tr>\n",
       "    <tr>\n",
       "      <th id=\"T_b2de8_level0_row5\" class=\"row_heading level0 row5\" >Ростов-на-Дону</th>\n",
       "      <td id=\"T_b2de8_row5_col0\" class=\"data row5 col0\" >25</td>\n",
       "    </tr>\n",
       "    <tr>\n",
       "      <th id=\"T_b2de8_level0_row6\" class=\"row_heading level0 row6\" >Сочи</th>\n",
       "      <td id=\"T_b2de8_row6_col0\" class=\"data row6 col0\" >25</td>\n",
       "    </tr>\n",
       "    <tr>\n",
       "      <th id=\"T_b2de8_level0_row7\" class=\"row_heading level0 row7\" >Тюмень</th>\n",
       "      <td id=\"T_b2de8_row7_col0\" class=\"data row7 col0\" >25</td>\n",
       "    </tr>\n",
       "  </tbody>\n",
       "</table>\n"
      ],
      "text/plain": [
       "<pandas.io.formats.style.Styler at 0x1ece5f76f90>"
      ]
     },
     "execution_count": 89,
     "metadata": {},
     "output_type": "execute_result"
    }
   ],
   "source": [
    "pd.DataFrame(users.pivot_table(index='city', values='age', aggfunc='median')\n",
    "            ).style.background_gradient('Greens')"
   ]
  },
  {
   "cell_type": "markdown",
   "id": "b382988c",
   "metadata": {},
   "source": [
    "Во всех представленных городах медианный возраст пользователей составляет 25 лет. За исключением Омска, в котором пользователи на год старше. Но такая разница совсем не существенна."
   ]
  },
  {
   "cell_type": "markdown",
   "id": "a98df4d4",
   "metadata": {},
   "source": [
    "### Расстояние, которое преодолевают пользователи"
   ]
  },
  {
   "cell_type": "code",
   "execution_count": 15,
   "id": "c658e56f",
   "metadata": {},
   "outputs": [
    {
     "name": "stdout",
     "output_type": "stream",
     "text": [
      "Медианное расстояние, которое преодолевают пользователи: 3134 метров\n"
     ]
    },
    {
     "data": {
      "image/png": "[encoded data removed]",
      "text/plain": [
       "<Figure size 640x480 with 1 Axes>"
      ]
     },
     "metadata": {},
     "output_type": "display_data"
    }
   ],
   "source": [
    "print('Медианное расстояние, которое преодолевают пользователи:', round(rides.distance.median()), 'метров')\n",
    "rides['distance'].plot(kind='hist', grid=True, title='Гистограмма преодолеваемых расстояний (м.)')\n",
    "plt.xlabel('Расстояние')\n",
    "plt.ylabel('Частота');"
   ]
  },
  {
   "cell_type": "code",
   "execution_count": 16,
   "id": "71a36a11",
   "metadata": {},
   "outputs": [
    {
     "data": {
      "text/plain": [
       "count    18068.00\n",
       "mean      3070.66\n",
       "std       1116.83\n",
       "min          0.86\n",
       "25%       2543.23\n",
       "50%       3133.61\n",
       "75%       3776.22\n",
       "max       7211.01\n",
       "Name: distance, dtype: object"
      ]
     },
     "execution_count": 16,
     "metadata": {},
     "output_type": "execute_result"
    }
   ],
   "source": [
    "rides.distance.describe().apply('{0:.2f}'.format)"
   ]
  },
  {
   "cell_type": "markdown",
   "id": "ef823c36",
   "metadata": {},
   "source": [
    "И тут распределение близится к нормальному, но с выраженным пиком между 2500 и 3700 метров. В этот диапозон укладывается половина всех поездок!"
   ]
  },
  {
   "cell_type": "markdown",
   "id": "cc519b87",
   "metadata": {},
   "source": [
    "### Продолжительность поездки"
   ]
  },
  {
   "cell_type": "markdown",
   "id": "ca207cdb",
   "metadata": {},
   "source": [
    "По логике время поездки должно коррелировать с расстоянием. Проверю это:"
   ]
  },
  {
   "cell_type": "code",
   "execution_count": 17,
   "id": "fafea499",
   "metadata": {},
   "outputs": [
    {
     "name": "stdout",
     "output_type": "stream",
     "text": [
      "Корреляция между временем и расстоянием поездки: 0.54\n"
     ]
    }
   ],
   "source": [
    "print('Корреляция между временем и расстоянием поездки:', round(rides.distance.corr(rides.duration), 2))"
   ]
  },
  {
   "cell_type": "markdown",
   "id": "b1eee6cc",
   "metadata": {},
   "source": [
    "Корреляция действительно наблюдается. Рассмотрю распределение продолжительности поездки на гистограмме"
   ]
  },
  {
   "cell_type": "code",
   "execution_count": 18,
   "id": "00f2cf3b",
   "metadata": {},
   "outputs": [
    {
     "data": {
      "text/plain": [
       "count    18068.00\n",
       "mean        17.81\n",
       "std          6.09\n",
       "min          0.50\n",
       "25%         13.60\n",
       "50%         17.68\n",
       "75%         21.72\n",
       "max         40.82\n",
       "Name: duration, dtype: object"
      ]
     },
     "execution_count": 18,
     "metadata": {},
     "output_type": "execute_result"
    },
    {
     "data": {
      "image/png": "[encoded data removed]",
      "text/plain": [
       "<Figure size 640x480 with 1 Axes>"
      ]
     },
     "metadata": {},
     "output_type": "display_data"
    }
   ],
   "source": [
    "rides['duration'].plot(kind='hist', grid=True, title='Гистограмма продолжительности поездки (мин.)')\n",
    "plt.xlabel('Время поездки')\n",
    "plt.ylabel('Частота')\n",
    "rides.duration.describe().apply('{0:.2f}'.format)"
   ]
  },
  {
   "cell_type": "markdown",
   "id": "9a74034e",
   "metadata": {},
   "source": [
    "Опять-таки, продолжительность поездки, ожидаемо, напоминает нормальное распределение, <br>где половина поездок умещается в диапозон от 13 до 21 минуты."
   ]
  },
  {
   "cell_type": "code",
   "execution_count": 19,
   "id": "31f831df",
   "metadata": {},
   "outputs": [
    {
     "data": {
      "image/png": "[encoded data removed]",
      "text/plain": [
       "<Figure size 500x300 with 1 Axes>"
      ]
     },
     "metadata": {},
     "output_type": "display_data"
    }
   ],
   "source": [
    "(rides\n",
    " .groupby('month')['duration'].median()\n",
    " .plot(kind='bar', figsize=(5,3), title='Медианная продолжительность поездки по месяцам (мин.)'))\n",
    "plt.xlabel('Месяц')\n",
    "plt.ylabel('Продолжительность');"
   ]
  },
  {
   "cell_type": "markdown",
   "id": "1a9d192d",
   "metadata": {},
   "source": [
    "На удивление, во все сезоны пользователи преодолевают одинаковые расстояния."
   ]
  },
  {
   "cell_type": "code",
   "execution_count": 20,
   "id": "f897ccb4",
   "metadata": {},
   "outputs": [
    {
     "data": {
      "image/png": "[encoded data removed]",
      "text/plain": [
       "<Figure size 500x300 with 1 Axes>"
      ]
     },
     "metadata": {},
     "output_type": "display_data"
    }
   ],
   "source": [
    "(rides.groupby('month')['user_id'].count()\n",
    " .plot(kind='bar', figsize=(5,3), title='Количество поездок по месяцам'))\n",
    "plt.xlabel('Месяц')\n",
    "plt.ylabel('Количество');"
   ]
  },
  {
   "cell_type": "markdown",
   "id": "7d296428",
   "metadata": {},
   "source": [
    "И количество поездок сильно не разнится."
   ]
  },
  {
   "cell_type": "markdown",
   "id": "4ef51331",
   "metadata": {},
   "source": [
    "## Объединение данных"
   ]
  },
  {
   "cell_type": "markdown",
   "id": "ae0c4ec9",
   "metadata": {},
   "source": [
    "### Объединю в один датафрейм все три набора данных"
   ]
  },
  {
   "cell_type": "markdown",
   "id": "a56bedfc",
   "metadata": {},
   "source": [
    "Набор данных, в котором будут объединена информация о пользователях, поездках и условиях подписки назову `full_data` "
   ]
  },
  {
   "cell_type": "code",
   "execution_count": 21,
   "id": "6bf288b5",
   "metadata": {},
   "outputs": [],
   "source": [
    "#Сначала присоединю к поездкам данные о пользователях по user_id\n",
    "full_data = rides.merge(users, on='user_id', how='left')\n",
    "\n",
    "#Затем присоединю к готовому набору информацию об условиях подписки\n",
    "full_data = full_data.merge(subs, on='subscription_type')"
   ]
  },
  {
   "cell_type": "markdown",
   "id": "326e8215",
   "metadata": {},
   "source": [
    "Посмотрим, как теперь выглядит `full_data`"
   ]
  },
  {
   "cell_type": "code",
   "execution_count": 22,
   "id": "4bf1aa76",
   "metadata": {},
   "outputs": [
    {
     "data": {
      "text/html": [
       "<div>\n",
       "<style scoped>\n",
       "    .dataframe tbody tr th:only-of-type {\n",
       "        vertical-align: middle;\n",
       "    }\n",
       "\n",
       "    .dataframe tbody tr th {\n",
       "        vertical-align: top;\n",
       "    }\n",
       "\n",
       "    .dataframe thead th {\n",
       "        text-align: right;\n",
       "    }\n",
       "</style>\n",
       "<table border=\"1\" class=\"dataframe\">\n",
       "  <thead>\n",
       "    <tr style=\"text-align: right;\">\n",
       "      <th></th>\n",
       "      <th>user_id</th>\n",
       "      <th>distance</th>\n",
       "      <th>duration</th>\n",
       "      <th>date</th>\n",
       "      <th>month</th>\n",
       "      <th>name</th>\n",
       "      <th>age</th>\n",
       "      <th>city</th>\n",
       "      <th>subscription_type</th>\n",
       "      <th>minute_price</th>\n",
       "      <th>start_ride_price</th>\n",
       "      <th>subscription_fee</th>\n",
       "    </tr>\n",
       "  </thead>\n",
       "  <tbody>\n",
       "    <tr>\n",
       "      <th>0</th>\n",
       "      <td>1</td>\n",
       "      <td>4409.919140</td>\n",
       "      <td>25.599769</td>\n",
       "      <td>2021-01-01</td>\n",
       "      <td>1</td>\n",
       "      <td>Кира</td>\n",
       "      <td>22</td>\n",
       "      <td>Тюмень</td>\n",
       "      <td>ultra</td>\n",
       "      <td>6</td>\n",
       "      <td>0</td>\n",
       "      <td>199</td>\n",
       "    </tr>\n",
       "    <tr>\n",
       "      <th>1</th>\n",
       "      <td>1</td>\n",
       "      <td>2617.592153</td>\n",
       "      <td>15.816871</td>\n",
       "      <td>2021-01-18</td>\n",
       "      <td>1</td>\n",
       "      <td>Кира</td>\n",
       "      <td>22</td>\n",
       "      <td>Тюмень</td>\n",
       "      <td>ultra</td>\n",
       "      <td>6</td>\n",
       "      <td>0</td>\n",
       "      <td>199</td>\n",
       "    </tr>\n",
       "    <tr>\n",
       "      <th>2</th>\n",
       "      <td>1</td>\n",
       "      <td>754.159807</td>\n",
       "      <td>6.232113</td>\n",
       "      <td>2021-04-20</td>\n",
       "      <td>4</td>\n",
       "      <td>Кира</td>\n",
       "      <td>22</td>\n",
       "      <td>Тюмень</td>\n",
       "      <td>ultra</td>\n",
       "      <td>6</td>\n",
       "      <td>0</td>\n",
       "      <td>199</td>\n",
       "    </tr>\n",
       "    <tr>\n",
       "      <th>3</th>\n",
       "      <td>1</td>\n",
       "      <td>2694.783254</td>\n",
       "      <td>18.511000</td>\n",
       "      <td>2021-08-11</td>\n",
       "      <td>8</td>\n",
       "      <td>Кира</td>\n",
       "      <td>22</td>\n",
       "      <td>Тюмень</td>\n",
       "      <td>ultra</td>\n",
       "      <td>6</td>\n",
       "      <td>0</td>\n",
       "      <td>199</td>\n",
       "    </tr>\n",
       "    <tr>\n",
       "      <th>4</th>\n",
       "      <td>1</td>\n",
       "      <td>4028.687306</td>\n",
       "      <td>26.265803</td>\n",
       "      <td>2021-08-28</td>\n",
       "      <td>8</td>\n",
       "      <td>Кира</td>\n",
       "      <td>22</td>\n",
       "      <td>Тюмень</td>\n",
       "      <td>ultra</td>\n",
       "      <td>6</td>\n",
       "      <td>0</td>\n",
       "      <td>199</td>\n",
       "    </tr>\n",
       "  </tbody>\n",
       "</table>\n",
       "</div>"
      ],
      "text/plain": [
       "   user_id     distance   duration       date  month  name  age    city  \\\n",
       "0        1  4409.919140  25.599769 2021-01-01      1  Кира   22  Тюмень   \n",
       "1        1  2617.592153  15.816871 2021-01-18      1  Кира   22  Тюмень   \n",
       "2        1   754.159807   6.232113 2021-04-20      4  Кира   22  Тюмень   \n",
       "3        1  2694.783254  18.511000 2021-08-11      8  Кира   22  Тюмень   \n",
       "4        1  4028.687306  26.265803 2021-08-28      8  Кира   22  Тюмень   \n",
       "\n",
       "  subscription_type  minute_price  start_ride_price  subscription_fee  \n",
       "0             ultra             6                 0               199  \n",
       "1             ultra             6                 0               199  \n",
       "2             ultra             6                 0               199  \n",
       "3             ultra             6                 0               199  \n",
       "4             ultra             6                 0               199  "
      ]
     },
     "execution_count": 22,
     "metadata": {},
     "output_type": "execute_result"
    }
   ],
   "source": [
    "full_data.head()"
   ]
  },
  {
   "cell_type": "markdown",
   "id": "6d3f5f11",
   "metadata": {},
   "source": [
    "Так как новый датафрейм был собран на основе `rides`, проверю, все ли его строки вошли в `full_data`"
   ]
  },
  {
   "cell_type": "code",
   "execution_count": 23,
   "id": "f7659b90",
   "metadata": {},
   "outputs": [
    {
     "name": "stdout",
     "output_type": "stream",
     "text": [
      "Количество упущенных строк: 0\n"
     ]
    }
   ],
   "source": [
    "print('Количество упущенных строк:', len(rides) - len(full_data))"
   ]
  },
  {
   "cell_type": "markdown",
   "id": "a7bcfab1",
   "metadata": {},
   "source": [
    "### Посмотрю, зависит ли продолжительность поездки и дистанция от города"
   ]
  },
  {
   "cell_type": "code",
   "execution_count": 80,
   "id": "1c4d24c9",
   "metadata": {},
   "outputs": [
    {
     "name": "stdout",
     "output_type": "stream",
     "text": [
      "\u001b[1mМедианное расстояние поездки по городам\n"
     ]
    },
    {
     "data": {
      "text/html": [
       "<style type=\"text/css\">\n",
       "#T_e3889_row0_col0 {\n",
       "  background-color: #084081;\n",
       "  color: #f1f1f1;\n",
       "}\n",
       "#T_e3889_row1_col0 {\n",
       "  background-color: #77cac5;\n",
       "  color: #000000;\n",
       "}\n",
       "#T_e3889_row2_col0 {\n",
       "  background-color: #2788bc;\n",
       "  color: #f1f1f1;\n",
       "}\n",
       "#T_e3889_row3_col0 {\n",
       "  background-color: #d0edca;\n",
       "  color: #000000;\n",
       "}\n",
       "#T_e3889_row4_col0 {\n",
       "  background-color: #2d8fbf;\n",
       "  color: #f1f1f1;\n",
       "}\n",
       "#T_e3889_row5_col0 {\n",
       "  background-color: #f7fcf0;\n",
       "  color: #000000;\n",
       "}\n",
       "#T_e3889_row6_col0 {\n",
       "  background-color: #ddf2d7;\n",
       "  color: #000000;\n",
       "}\n",
       "#T_e3889_row7_col0 {\n",
       "  background-color: #87d1c0;\n",
       "  color: #000000;\n",
       "}\n",
       "</style>\n",
       "<table id=\"T_e3889\">\n",
       "  <thead>\n",
       "    <tr>\n",
       "      <th class=\"blank level0\" >&nbsp;</th>\n",
       "      <th id=\"T_e3889_level0_col0\" class=\"col_heading level0 col0\" >distance</th>\n",
       "    </tr>\n",
       "    <tr>\n",
       "      <th class=\"index_name level0\" >city</th>\n",
       "      <th class=\"blank col0\" >&nbsp;</th>\n",
       "    </tr>\n",
       "  </thead>\n",
       "  <tbody>\n",
       "    <tr>\n",
       "      <th id=\"T_e3889_level0_row0\" class=\"row_heading level0 row0\" >Екатеринбург</th>\n",
       "      <td id=\"T_e3889_row0_col0\" class=\"data row0 col0\" >3182.11</td>\n",
       "    </tr>\n",
       "    <tr>\n",
       "      <th id=\"T_e3889_level0_row1\" class=\"row_heading level0 row1\" >Краснодар</th>\n",
       "      <td id=\"T_e3889_row1_col0\" class=\"data row1 col0\" >3136.90</td>\n",
       "    </tr>\n",
       "    <tr>\n",
       "      <th id=\"T_e3889_level0_row2\" class=\"row_heading level0 row2\" >Москва</th>\n",
       "      <td id=\"T_e3889_row2_col0\" class=\"data row2 col0\" >3160.41</td>\n",
       "    </tr>\n",
       "    <tr>\n",
       "      <th id=\"T_e3889_level0_row3\" class=\"row_heading level0 row3\" >Омск</th>\n",
       "      <td id=\"T_e3889_row3_col0\" class=\"data row3 col0\" >3110.42</td>\n",
       "    </tr>\n",
       "    <tr>\n",
       "      <th id=\"T_e3889_level0_row4\" class=\"row_heading level0 row4\" >Пятигорск</th>\n",
       "      <td id=\"T_e3889_row4_col0\" class=\"data row4 col0\" >3157.96</td>\n",
       "    </tr>\n",
       "    <tr>\n",
       "      <th id=\"T_e3889_level0_row5\" class=\"row_heading level0 row5\" >Ростов-на-Дону</th>\n",
       "      <td id=\"T_e3889_row5_col0\" class=\"data row5 col0\" >3089.69</td>\n",
       "    </tr>\n",
       "    <tr>\n",
       "      <th id=\"T_e3889_level0_row6\" class=\"row_heading level0 row6\" >Сочи</th>\n",
       "      <td id=\"T_e3889_row6_col0\" class=\"data row6 col0\" >3103.13</td>\n",
       "    </tr>\n",
       "    <tr>\n",
       "      <th id=\"T_e3889_level0_row7\" class=\"row_heading level0 row7\" >Тюмень</th>\n",
       "      <td id=\"T_e3889_row7_col0\" class=\"data row7 col0\" >3132.91</td>\n",
       "    </tr>\n",
       "  </tbody>\n",
       "</table>\n"
      ],
      "text/plain": [
       "<pandas.io.formats.style.Styler at 0x1ecdffcab50>"
      ]
     },
     "execution_count": 80,
     "metadata": {},
     "output_type": "execute_result"
    }
   ],
   "source": [
    "print('\\033[1m'+'Медианное расстояние поездки по городам')\n",
    "pd.DataFrame(full_data.pivot_table(index='city',\n",
    "                                   values='distance',\n",
    "                                   aggfunc='median')).style.background_gradient('GnBu').format('{0:.2f}')"
   ]
  },
  {
   "cell_type": "code",
   "execution_count": 82,
   "id": "8a4b30ac",
   "metadata": {},
   "outputs": [
    {
     "name": "stdout",
     "output_type": "stream",
     "text": [
      "\u001b[1mМедианная длительность поездки по городам\n"
     ]
    },
    {
     "data": {
      "text/html": [
       "<style type=\"text/css\">\n",
       "#T_76e2a_row0_col0 {\n",
       "  background-color: #c9eac4;\n",
       "  color: #000000;\n",
       "}\n",
       "#T_76e2a_row1_col0 {\n",
       "  background-color: #b9e3bc;\n",
       "  color: #000000;\n",
       "}\n",
       "#T_76e2a_row2_col0 {\n",
       "  background-color: #084081;\n",
       "  color: #f1f1f1;\n",
       "}\n",
       "#T_76e2a_row3_col0 {\n",
       "  background-color: #a3dbb7;\n",
       "  color: #000000;\n",
       "}\n",
       "#T_76e2a_row4_col0 {\n",
       "  background-color: #41a5cb;\n",
       "  color: #f1f1f1;\n",
       "}\n",
       "#T_76e2a_row5_col0 {\n",
       "  background-color: #dbf1d5;\n",
       "  color: #000000;\n",
       "}\n",
       "#T_76e2a_row6_col0 {\n",
       "  background-color: #f7fcf0;\n",
       "  color: #000000;\n",
       "}\n",
       "#T_76e2a_row7_col0 {\n",
       "  background-color: #77cac5;\n",
       "  color: #000000;\n",
       "}\n",
       "</style>\n",
       "<table id=\"T_76e2a\">\n",
       "  <thead>\n",
       "    <tr>\n",
       "      <th class=\"blank level0\" >&nbsp;</th>\n",
       "      <th id=\"T_76e2a_level0_col0\" class=\"col_heading level0 col0\" >duration</th>\n",
       "    </tr>\n",
       "    <tr>\n",
       "      <th class=\"index_name level0\" >city</th>\n",
       "      <th class=\"blank col0\" >&nbsp;</th>\n",
       "    </tr>\n",
       "  </thead>\n",
       "  <tbody>\n",
       "    <tr>\n",
       "      <th id=\"T_76e2a_level0_row0\" class=\"row_heading level0 row0\" >Екатеринбург</th>\n",
       "      <td id=\"T_76e2a_row0_col0\" class=\"data row0 col0\" >17.56</td>\n",
       "    </tr>\n",
       "    <tr>\n",
       "      <th id=\"T_76e2a_level0_row1\" class=\"row_heading level0 row1\" >Краснодар</th>\n",
       "      <td id=\"T_76e2a_row1_col0\" class=\"data row1 col0\" >17.61</td>\n",
       "    </tr>\n",
       "    <tr>\n",
       "      <th id=\"T_76e2a_level0_row2\" class=\"row_heading level0 row2\" >Москва</th>\n",
       "      <td id=\"T_76e2a_row2_col0\" class=\"data row2 col0\" >18.15</td>\n",
       "    </tr>\n",
       "    <tr>\n",
       "      <th id=\"T_76e2a_level0_row3\" class=\"row_heading level0 row3\" >Омск</th>\n",
       "      <td id=\"T_76e2a_row3_col0\" class=\"data row3 col0\" >17.66</td>\n",
       "    </tr>\n",
       "    <tr>\n",
       "      <th id=\"T_76e2a_level0_row4\" class=\"row_heading level0 row4\" >Пятигорск</th>\n",
       "      <td id=\"T_76e2a_row4_col0\" class=\"data row4 col0\" >17.89</td>\n",
       "    </tr>\n",
       "    <tr>\n",
       "      <th id=\"T_76e2a_level0_row5\" class=\"row_heading level0 row5\" >Ростов-на-Дону</th>\n",
       "      <td id=\"T_76e2a_row5_col0\" class=\"data row5 col0\" >17.48</td>\n",
       "    </tr>\n",
       "    <tr>\n",
       "      <th id=\"T_76e2a_level0_row6\" class=\"row_heading level0 row6\" >Сочи</th>\n",
       "      <td id=\"T_76e2a_row6_col0\" class=\"data row6 col0\" >17.36</td>\n",
       "    </tr>\n",
       "    <tr>\n",
       "      <th id=\"T_76e2a_level0_row7\" class=\"row_heading level0 row7\" >Тюмень</th>\n",
       "      <td id=\"T_76e2a_row7_col0\" class=\"data row7 col0\" >17.76</td>\n",
       "    </tr>\n",
       "  </tbody>\n",
       "</table>\n"
      ],
      "text/plain": [
       "<pandas.io.formats.style.Styler at 0x1ece00a2190>"
      ]
     },
     "execution_count": 82,
     "metadata": {},
     "output_type": "execute_result"
    }
   ],
   "source": [
    "print('\\033[1m'+'Медианная длительность поездки по городам')\n",
    "pd.DataFrame(full_data.pivot_table(index='city',\n",
    "                                   values='duration',\n",
    "                                   aggfunc='median')).style.background_gradient('GnBu').format('{0:.2f}')"
   ]
  },
  {
   "cell_type": "markdown",
   "id": "2cfb770a",
   "metadata": {},
   "source": [
    "Значения снова не сильно отличаются друг от друга. Однако заметно, что в Москве, самом крупном городе из представленных, длительность поездки и расстояние - выше других, что соответствует логике.\n",
    "<br> Любопытно также, что хоть в Екатеринбурге преодолевают самые большие расстояния, но длительность поездки одна из самых низких. Это может быть связано как с дорожной инфраструктурой (загруженностью, кол-вом светофоров), так и со скоростью поездки или с другими факторами. Но так как данных, чтобы проверить такие гипотезы нет - пропущу этот любопытный момент."
   ]
  },
  {
   "cell_type": "markdown",
   "id": "f1a21335",
   "metadata": {},
   "source": [
    "### Отдельно выделю данные о пользователях по их подпискам "
   ]
  },
  {
   "cell_type": "markdown",
   "id": "c2ae930d",
   "metadata": {},
   "source": [
    "Датафреймы, в котором будут собраны данные о пользователях по типу подписок назову соответственно подпискам: `ultra_sub` и `free_sub`"
   ]
  },
  {
   "cell_type": "code",
   "execution_count": 26,
   "id": "0841946d",
   "metadata": {},
   "outputs": [],
   "source": [
    "ultra_sub = full_data.query('subscription_type == \"ultra\"')\n",
    "free_sub = full_data.query('subscription_type == \"free\"')"
   ]
  },
  {
   "cell_type": "markdown",
   "id": "69780fe0",
   "metadata": {},
   "source": [
    "**Расстояние поездок в зависимости от типа подписки**"
   ]
  },
  {
   "cell_type": "markdown",
   "id": "d567c031",
   "metadata": {},
   "source": [
    "По расстояниям построю гистограммы для двух типов подписок."
   ]
  },
  {
   "cell_type": "code",
   "execution_count": 27,
   "id": "45a6a5c4",
   "metadata": {},
   "outputs": [
    {
     "data": {
      "text/plain": [
       "<Axes: title={'center': 'Гистограмма расстояния поездки у подписок ultra (м.)'}, ylabel='Frequency'>"
      ]
     },
     "execution_count": 27,
     "metadata": {},
     "output_type": "execute_result"
    },
    {
     "data": {
      "image/png": "[encoded data removed]",
      "text/plain": [
       "<Figure size 640x480 with 1 Axes>"
      ]
     },
     "metadata": {},
     "output_type": "display_data"
    }
   ],
   "source": [
    "ultra_sub['distance'].plot(kind='hist', color='orange', title='Гистограмма расстояния поездки у подписок ultra (м.)');"
   ]
  },
  {
   "cell_type": "code",
   "execution_count": 83,
   "id": "bcfeb372",
   "metadata": {},
   "outputs": [
    {
     "data": {
      "image/png": "[encoded data removed]",
      "text/plain": [
       "<Figure size 640x480 with 1 Axes>"
      ]
     },
     "metadata": {},
     "output_type": "display_data"
    }
   ],
   "source": [
    "free_sub['distance'].plot(kind='hist', title='Гистограмма расстояния поездки у подписок free (м.)');"
   ]
  },
  {
   "cell_type": "markdown",
   "id": "ec345811",
   "metadata": {},
   "source": [
    "По гистограммам видно, что пользователи, которые пользуются ultra подпиской имеют выраженный пик расстояния поездки, в то время как пользователи бесплатной подписки ездят в том же диапозоне, но разброс больше.\n",
    "<br> Изучу их квартили:"
   ]
  },
  {
   "cell_type": "code",
   "execution_count": 29,
   "id": "ebcf313b",
   "metadata": {},
   "outputs": [
    {
     "name": "stdout",
     "output_type": "stream",
     "text": [
      "Квартили 1 и 3 для ultra: от 2785 до 3561\n",
      "Квартили 1 и 3 для free: от 2367 до 3906\n"
     ]
    }
   ],
   "source": [
    "print('Квартили 1 и 3 для ultra: от', round(ultra_sub['distance'].quantile(0.25)), \\\n",
    "     'до', round(ultra_sub['distance'].quantile(0.75)))\n",
    "\n",
    "print('Квартили 1 и 3 для free: от', round(free_sub['distance'].quantile(0.25)), \\\n",
    "     'до', round(free_sub['distance'].quantile(0.75)))"
   ]
  },
  {
   "cell_type": "code",
   "execution_count": 30,
   "id": "6b024d3a",
   "metadata": {},
   "outputs": [
    {
     "name": "stdout",
     "output_type": "stream",
     "text": [
      "Медианная дистанция у подписок ultra больше на 34 метра\n"
     ]
    }
   ],
   "source": [
    "print('Медианная дистанция у подписок ultra больше на', \\\n",
    "      round(ultra_sub['distance'].median() - free_sub['distance'].median()), 'метра')"
   ]
  },
  {
   "cell_type": "markdown",
   "id": "19fa43df",
   "metadata": {},
   "source": [
    "По этим данным видно, что подписчики ultra ездят в основном в диапозоне от 2,7  до 3,5 километров.\n",
    "<br>В то время как пользователи без подписки ездят в диапозоне от 2,3 до 3,9 километрах.\n",
    "<br>\n",
    "<br>Скорее всего это связано с тем, что пользователся подписки ultra выбирают одни и те же маршруты и ездят на них регулярно (например, от метро до работы или до дома), в то время как пользователи без платной подписки могут ездить по разным маршрутам, от чего разброс у них - выше."
   ]
  },
  {
   "cell_type": "markdown",
   "id": "2321318b",
   "metadata": {},
   "source": [
    "**Длительность поездок в зависимости от типа подписки**"
   ]
  },
  {
   "cell_type": "markdown",
   "id": "009ae809",
   "metadata": {},
   "source": [
    "Таким же образом построю гистограмму по столбцу длительности."
   ]
  },
  {
   "cell_type": "code",
   "execution_count": 31,
   "id": "42f9d8a3",
   "metadata": {},
   "outputs": [
    {
     "data": {
      "text/plain": [
       "<Axes: title={'center': 'Гистограмма длительности поездки у подписок ultra (мин.)'}, ylabel='Frequency'>"
      ]
     },
     "execution_count": 31,
     "metadata": {},
     "output_type": "execute_result"
    },
    {
     "data": {
      "image/png": "[encoded data removed]",
      "text/plain": [
       "<Figure size 640x480 with 1 Axes>"
      ]
     },
     "metadata": {},
     "output_type": "display_data"
    }
   ],
   "source": [
    "ultra_sub['duration'].plot(kind='hist', color='orange', title='Гистограмма длительности поездки у подписок ultra (мин.)');"
   ]
  },
  {
   "cell_type": "code",
   "execution_count": 32,
   "id": "e3d6d7b8",
   "metadata": {},
   "outputs": [
    {
     "data": {
      "text/plain": [
       "<Axes: title={'center': 'Гистограмма длительности поездки у подписок free (мин.)'}, ylabel='Frequency'>"
      ]
     },
     "execution_count": 32,
     "metadata": {},
     "output_type": "execute_result"
    },
    {
     "data": {
      "image/png": "[encoded data removed]",
      "text/plain": [
       "<Figure size 640x480 with 1 Axes>"
      ]
     },
     "metadata": {},
     "output_type": "display_data"
    }
   ],
   "source": [
    "free_sub['duration'].plot(kind='hist', title='Гистограмма длительности поездки у подписок free (мин.)');"
   ]
  },
  {
   "cell_type": "code",
   "execution_count": 33,
   "id": "9ab4427f",
   "metadata": {},
   "outputs": [
    {
     "name": "stdout",
     "output_type": "stream",
     "text": [
      "Квартили 1 и 3 для ultra: от 15 до 22\n",
      "Квартили 1 и 3 для free: от 13 до 22\n"
     ]
    }
   ],
   "source": [
    "print('Квартили 1 и 3 для ultra: от', round(ultra_sub['duration'].quantile(0.25)), \\\n",
    "     'до', round(ultra_sub['duration'].quantile(0.75)))\n",
    "\n",
    "print('Квартили 1 и 3 для free: от', round(free_sub['duration'].quantile(0.25)), \\\n",
    "     'до', round(free_sub['duration'].quantile(0.75)))"
   ]
  },
  {
   "cell_type": "markdown",
   "id": "d8836da5",
   "metadata": {},
   "source": [
    "Здесь наблюдается ровно та же тенденция - у пользователей подписки ultra разброс затрачиваемого времени на поездку меньше, чем у пользователей без платной подписки. "
   ]
  },
  {
   "cell_type": "markdown",
   "id": "402d620f",
   "metadata": {},
   "source": [
    "## Подсчёт выручки"
   ]
  },
  {
   "cell_type": "markdown",
   "id": "ffacc450",
   "metadata": {},
   "source": [
    "Номера месяцев были добавлены в `full_data`, чтобы рассчитать выручку, которую пользователи сформировали сервису помесячно.\n",
    "<br>Создам новый датафрейм, в котором помесячно будет указываться информация по пользователям, на основе которой будет рассчитана выручка."
   ]
  },
  {
   "cell_type": "code",
   "execution_count": 34,
   "id": "53049e0a",
   "metadata": {},
   "outputs": [],
   "source": [
    "monthly_sales = full_data.groupby(['month','user_id'])\\\n",
    "        .agg({'subscription_type':'first', 'distance':['count', 'sum'], 'duration':'sum'})\n",
    "\n",
    "#Переименую столбцы\n",
    "monthly_sales.columns = ['subscription_type', 'drives_amount', 'dist_sum', 'dur_sum']"
   ]
  },
  {
   "cell_type": "markdown",
   "id": "348032f4",
   "metadata": {},
   "source": [
    "Длительность поездок приведу к целым числам"
   ]
  },
  {
   "cell_type": "code",
   "execution_count": 35,
   "id": "4cc4647c",
   "metadata": {},
   "outputs": [],
   "source": [
    "monthly_sales['dur_sum'] = np.ceil(monthly_sales['dur_sum'])\n",
    "monthly_sales['dur_sum'] = monthly_sales['dur_sum'].astype('int64')"
   ]
  },
  {
   "cell_type": "markdown",
   "id": "266f6f81",
   "metadata": {},
   "source": [
    "Определю функцию, которая рассчитает выручку для каждой строки, основываясь на типе подписки."
   ]
  },
  {
   "cell_type": "code",
   "execution_count": 36,
   "id": "e20ff6d9",
   "metadata": {},
   "outputs": [],
   "source": [
    "def sales(row):\n",
    "    if row['subscription_type'] == 'ultra':\n",
    "        sale = 199 + row['dur_sum']*6\n",
    "        return sale\n",
    "    if row['subscription_type'] == 'free':\n",
    "        sale = row['drives_amount']*50 + row['dur_sum']*8\n",
    "        return sale"
   ]
  },
  {
   "cell_type": "markdown",
   "id": "bf1870dc",
   "metadata": {},
   "source": [
    "Применю функцию к датафрейму и ее результат запишу в новом столбце"
   ]
  },
  {
   "cell_type": "code",
   "execution_count": 37,
   "id": "0f1c3326",
   "metadata": {},
   "outputs": [],
   "source": [
    "monthly_sales['sales'] = monthly_sales.apply(sales, axis=1)"
   ]
  },
  {
   "cell_type": "markdown",
   "id": "769edd26",
   "metadata": {},
   "source": [
    "Посмотрим, как теперь выглядит `monthly_sales`"
   ]
  },
  {
   "cell_type": "code",
   "execution_count": 38,
   "id": "bbed7a7d",
   "metadata": {},
   "outputs": [
    {
     "data": {
      "text/html": [
       "<div>\n",
       "<style scoped>\n",
       "    .dataframe tbody tr th:only-of-type {\n",
       "        vertical-align: middle;\n",
       "    }\n",
       "\n",
       "    .dataframe tbody tr th {\n",
       "        vertical-align: top;\n",
       "    }\n",
       "\n",
       "    .dataframe thead th {\n",
       "        text-align: right;\n",
       "    }\n",
       "</style>\n",
       "<table border=\"1\" class=\"dataframe\">\n",
       "  <thead>\n",
       "    <tr style=\"text-align: right;\">\n",
       "      <th></th>\n",
       "      <th></th>\n",
       "      <th>subscription_type</th>\n",
       "      <th>drives_amount</th>\n",
       "      <th>dist_sum</th>\n",
       "      <th>dur_sum</th>\n",
       "      <th>sales</th>\n",
       "    </tr>\n",
       "    <tr>\n",
       "      <th>month</th>\n",
       "      <th>user_id</th>\n",
       "      <th></th>\n",
       "      <th></th>\n",
       "      <th></th>\n",
       "      <th></th>\n",
       "      <th></th>\n",
       "    </tr>\n",
       "  </thead>\n",
       "  <tbody>\n",
       "    <tr>\n",
       "      <th rowspan=\"5\" valign=\"top\">1</th>\n",
       "      <th>1</th>\n",
       "      <td>ultra</td>\n",
       "      <td>2</td>\n",
       "      <td>7027.511294</td>\n",
       "      <td>42</td>\n",
       "      <td>451</td>\n",
       "    </tr>\n",
       "    <tr>\n",
       "      <th>3</th>\n",
       "      <td>ultra</td>\n",
       "      <td>1</td>\n",
       "      <td>3061.777147</td>\n",
       "      <td>13</td>\n",
       "      <td>277</td>\n",
       "    </tr>\n",
       "    <tr>\n",
       "      <th>5</th>\n",
       "      <td>ultra</td>\n",
       "      <td>1</td>\n",
       "      <td>3914.646990</td>\n",
       "      <td>13</td>\n",
       "      <td>277</td>\n",
       "    </tr>\n",
       "    <tr>\n",
       "      <th>7</th>\n",
       "      <td>ultra</td>\n",
       "      <td>2</td>\n",
       "      <td>6478.080979</td>\n",
       "      <td>28</td>\n",
       "      <td>367</td>\n",
       "    </tr>\n",
       "    <tr>\n",
       "      <th>12</th>\n",
       "      <td>ultra</td>\n",
       "      <td>1</td>\n",
       "      <td>3577.151148</td>\n",
       "      <td>33</td>\n",
       "      <td>397</td>\n",
       "    </tr>\n",
       "  </tbody>\n",
       "</table>\n",
       "</div>"
      ],
      "text/plain": [
       "              subscription_type  drives_amount     dist_sum  dur_sum  sales\n",
       "month user_id                                                              \n",
       "1     1                   ultra              2  7027.511294       42    451\n",
       "      3                   ultra              1  3061.777147       13    277\n",
       "      5                   ultra              1  3914.646990       13    277\n",
       "      7                   ultra              2  6478.080979       28    367\n",
       "      12                  ultra              1  3577.151148       33    397"
      ]
     },
     "execution_count": 38,
     "metadata": {},
     "output_type": "execute_result"
    }
   ],
   "source": [
    "monthly_sales.head()"
   ]
  },
  {
   "cell_type": "markdown",
   "id": "63fd230c",
   "metadata": {},
   "source": [
    "Построю график динамики выручки по месяцам"
   ]
  },
  {
   "cell_type": "code",
   "execution_count": 39,
   "id": "6ae6d782",
   "metadata": {
    "scrolled": false
   },
   "outputs": [
    {
     "data": {
      "image/png": "[encoded data removed]",
      "text/plain": [
       "<Figure size 640x480 with 1 Axes>"
      ]
     },
     "metadata": {},
     "output_type": "display_data"
    }
   ],
   "source": [
    "monthly_sales.groupby(level=['month'])['sales'].sum().plot(kind='bar', title='Динамика выручки по месяцам');"
   ]
  },
  {
   "cell_type": "markdown",
   "id": "41545ac0",
   "metadata": {},
   "source": [
    "## Проверка гипотез"
   ]
  },
  {
   "cell_type": "markdown",
   "id": "f59bf218",
   "metadata": {},
   "source": [
    "### Проверю гипотезу о том, что пользователи с подпиской тратят больше времени на поездки"
   ]
  },
  {
   "cell_type": "markdown",
   "id": "a7e70dde",
   "metadata": {},
   "source": [
    "_Нулевая гипотеза:_ длительность поездок с подпиской **=** длительности поездок без подписки\n",
    "<br> _Альтернативная гипотеза:_ длительность поездок с подпиской **>** длительности поездок без подписки\n",
    "\n",
    "В качестве статистической значимости возьму 5%"
   ]
  },
  {
   "cell_type": "code",
   "execution_count": 40,
   "id": "e27b52c1",
   "metadata": {},
   "outputs": [
    {
     "name": "stdout",
     "output_type": "stream",
     "text": [
      "P-value гипотезы 1.2804098316645618e-34\n",
      "Нулевая гипотеза отвергается\n"
     ]
    }
   ],
   "source": [
    "#Посколько для этой гипотезы необходимо проверить две выборки - воспользуюсь методом ttest_ind\n",
    "hyp1 = st.ttest_ind(ultra_sub['duration'], free_sub['duration'], alternative='greater')\n",
    "\n",
    "print('P-value гипотезы', hyp1.pvalue)\n",
    "\n",
    "if hyp1.pvalue < 0.05:\n",
    "    print('Нулевая гипотеза отвергается')\n",
    "else:\n",
    "    print('Нулевая гипотеза не может быть отвергнута')"
   ]
  },
  {
   "cell_type": "markdown",
   "id": "1aa03b30",
   "metadata": {},
   "source": [
    "P-value крайне мала. Поэтому гипотеза о равенстве продолжительности поездки отвергается. Есть основания всерьез рассматривать гипотезу о том, что продолжительность поездки с подпиской ultra - выше."
   ]
  },
  {
   "cell_type": "markdown",
   "id": "18787484",
   "metadata": {},
   "source": [
    "### Проверю гипотезу о том, что расстояние поездки c подпиской не превышает 3130 метров"
   ]
  },
  {
   "cell_type": "markdown",
   "id": "fd91cecd",
   "metadata": {},
   "source": [
    "Поездка в 3130 метров оптимальна с точки зрения износа самоката. Проверю, не превышает ли поездка c подпиской 3130 метров, или нет.\n",
    "\n",
    "_Нулевая гипотеза:_ Расстояние поездки с подпиской ultra **=** 3130 метрам\n",
    "<br>_Альтернативная гипотеза:_ Расстояние поездки с подпиской ultra **>** 3130 метров"
   ]
  },
  {
   "cell_type": "code",
   "execution_count": 41,
   "id": "2d6e0e2b",
   "metadata": {},
   "outputs": [
    {
     "name": "stdout",
     "output_type": "stream",
     "text": [
      "P-value гипотезы 0.9195368847849785\n",
      "Нулевая гипотеза не может быть отвергнута\n"
     ]
    }
   ],
   "source": [
    "#Так как это проверка гипотезу по одной выборке - воспользуюсь методом ttest_1samp,\n",
    "#где за popmean приму оптимальные для износа 3130 метров\n",
    "\n",
    "hyp2 = st.ttest_1samp(ultra_sub['distance'], popmean=3130, alternative='greater')\n",
    "\n",
    "print('P-value гипотезы', hyp2.pvalue)\n",
    "\n",
    "if hyp2.pvalue < 0.05:\n",
    "    print('Нулевая гипотеза отвергается')\n",
    "else:\n",
    "    print('Нулевая гипотеза не может быть отвергнута')"
   ]
  },
  {
   "cell_type": "markdown",
   "id": "c928ea6f",
   "metadata": {},
   "source": [
    "Нулевая гипотеза не отвергается. По-видимому, поездки не превышают расстояние износа.\n",
    "<br>И судя по p-value, расстояние даже меньше, чем 3130 метров. Чтобы убедиться в этом, посмотрим на сколько стандартных отклонений наблюдаемое среднее отклоняется от 3130. "
   ]
  },
  {
   "cell_type": "code",
   "execution_count": 42,
   "id": "912693f5",
   "metadata": {},
   "outputs": [
    {
     "data": {
      "text/plain": [
       "-1.402123166869486"
      ]
     },
     "execution_count": 42,
     "metadata": {},
     "output_type": "execute_result"
    }
   ],
   "source": [
    "hyp2.statistic"
   ]
  },
  {
   "cell_type": "markdown",
   "id": "c4d7340f",
   "metadata": {},
   "source": [
    "Она отклоняется влево на 1,4 ст. отклонения. Действительно, судя по имеющимся данным, расстояние поездки достаточно далеко от значения износа"
   ]
  },
  {
   "cell_type": "markdown",
   "id": "7a22be3b",
   "metadata": {},
   "source": [
    "### Проверю гипотезу, выше ли помесячная выручка от пользователей с подпиской, чем выручка пользователей без подписки"
   ]
  },
  {
   "cell_type": "markdown",
   "id": "5de2d4b0",
   "metadata": {},
   "source": [
    "Затем проверю гипотезу.\n",
    "\n",
    "_Нулевая гипотеза:_ помесячная выручка от пользователей с подпиской = помесячной выручке пользователей без подписки\n",
    "<br>_Альтернативная гипотеза:_ помесячная выручка от пользователей с подпиской > помесячной выручки пользователей без подписки"
   ]
  },
  {
   "cell_type": "code",
   "execution_count": 54,
   "id": "6b632a96",
   "metadata": {},
   "outputs": [
    {
     "name": "stdout",
     "output_type": "stream",
     "text": [
      "P-value гипотезы 2.8130926188487286e-35\n",
      "Нулевая гипотеза отвергается\n"
     ]
    }
   ],
   "source": [
    "#Так как эта гипотеза проверяет две выборки - воспользуюсь методом ttest_ind\n",
    "\n",
    "hyp4 = st.ttest_ind(\n",
    "                    monthly_sales.query('subscription_type == \"ultra\"')['sales'],\n",
    "                    monthly_sales.query('subscription_type == \"free\"')['sales'],\n",
    "                    alternative='greater')\n",
    "\n",
    "print('P-value гипотезы', hyp4.pvalue)\n",
    "\n",
    "if hyp4.pvalue < 0.05:\n",
    "    print('Нулевая гипотеза отвергается')\n",
    "else:\n",
    "    print('Нулевая гипотеза не может быть отвергнута')"
   ]
  },
  {
   "cell_type": "markdown",
   "id": "db1aecbe",
   "metadata": {},
   "source": [
    "В таком случае есть основания считать, что средний пользователь с подпиской ultra приносит больше выручки, чем пользователь с бесплатной подпиской. Однако, если смотерть помесячную выручку, в среднем она выше у пользователей с бесплатной подпиской. Возможно, это обсуловлено тем, что пользователей с бесплатной подпиской больше в общем объеме."
   ]
  },
  {
   "cell_type": "markdown",
   "id": "61213c5e",
   "metadata": {},
   "source": [
    "## Распределения"
   ]
  },
  {
   "cell_type": "markdown",
   "id": "14ce843d",
   "metadata": {},
   "source": [
    "### Количество промокодов"
   ]
  },
  {
   "cell_type": "markdown",
   "id": "bc513ec7",
   "metadata": {},
   "source": [
    "Отделу маркетинга GoFast поставили задачу: нужно провести акцию с раздачей промокодов на один бесплатный месяц подписки, в рамках которой как минимум 100 существующих клиентов должны продлить эту подписку. То есть по завершении периода действия подписки пользователь может либо отказаться от неё, либо продлить, совершив соотвествующий платёж.\n",
    "\n",
    "Эта акция уже проводилась ранее и по итогу выяснилось, что после бесплатного пробного периода подписку продлевают 10 % пользователей.\n",
    "\n",
    "Какое минимальное количество промокодов нужно разослать, чтобы вероятность не выполнить план была примерно 5%?"
   ]
  },
  {
   "cell_type": "markdown",
   "id": "eac96dad",
   "metadata": {},
   "source": [
    "Такая ситуация может быть описана биномиальным распределением, ведь есть только удача или неудача (продление подписки или нет)."
   ]
  },
  {
   "cell_type": "markdown",
   "id": "6bdd14ca",
   "metadata": {},
   "source": [
    "Задам биномиальное распределение с вероятностью 10% и буду перебирать количество отправленных промокодов.  \n",
    "Для кадждого распределения буду смотреть, какова вероятность получить 100 и более продлений.  \n",
    "И когда процент успеха того, что 100 пользователей продлят подписку - будет 95% или больше, верну число отправленных промокодов, с которыми удалось получить такой результат."
   ]
  },
  {
   "cell_type": "code",
   "execution_count": 48,
   "id": "cf8b4c27",
   "metadata": {},
   "outputs": [
    {
     "name": "stdout",
     "output_type": "stream",
     "text": [
      "Если отправить 1172 промокода, то\n",
      "вероятость успеха 0.95\n"
     ]
    }
   ],
   "source": [
    "for i in range(100, 9999):\n",
    "    res = st.binom(i, 0.1).cdf(100)\n",
    "    if 1 - res >= 0.95:\n",
    "        print('Если отправить', i, 'промокода, то')\n",
    "        print('вероятость успеха', round(1-res, 2))\n",
    "        break"
   ]
  },
  {
   "cell_type": "markdown",
   "id": "f1fb06a6",
   "metadata": {},
   "source": [
    "### Отправка уведомлений"
   ]
  },
  {
   "cell_type": "markdown",
   "id": "a07b6390",
   "metadata": {},
   "source": [
    "Отдел маркетинга рассылает клиентам push-уведомления в мобильном приложении. Клиенты могут открыть его или не открывать. Известно, что уведомления открывают около 40%получивших клиентов. Отдел планирует разослать 1 млн уведомлений. С помощью аппроксимации постройте примерный график распределения и оцените вероятность того, что уведомление откроют не более 399,5 тыс. пользователей."
   ]
  },
  {
   "cell_type": "code",
   "execution_count": 49,
   "id": "1b869b2d",
   "metadata": {},
   "outputs": [
    {
     "name": "stdout",
     "output_type": "stream",
     "text": [
      "Вероятность того, что уведомление откроют не более 399,5 тыс. пользвателей: 0.15371708296369768\n"
     ]
    }
   ],
   "source": [
    "#параметры биноминального распределения\n",
    "n = 1000000\n",
    "p = 0.4\n",
    "\n",
    "#Задам параметры нормального распределения равными мат.ожиданию и дисперсии биномиального распределения\n",
    "mu = n * p\n",
    "sigma = (n * p * (1 - p))**(1/2)\n",
    "\n",
    "#задаю аппроксимированное норм распределение\n",
    "distr = st.norm(mu, sigma)\n",
    "\n",
    "print('Вероятность того, что уведомление откроют не более 399,5 тыс. пользвателей:', distr.cdf(399500))"
   ]
  },
  {
   "cell_type": "markdown",
   "id": "09e2e715",
   "metadata": {},
   "source": [
    "## Заключение"
   ]
  },
  {
   "cell_type": "markdown",
   "id": "978239f9",
   "metadata": {},
   "source": [
    "Работа состояла из 6 этапов.\n",
    "\n",
    "1. Загрузка и обзор данных\n",
    "<br> На этом этапе были изучены имеющиеся данные о пользователях, поездках и условиях подписок:\n",
    "- Ultima: 6 руб./мин., 199 руб. ежемесячный платеж\n",
    "- Free: 8 руб./мин., 50 руб. за старт каждой поездки\n",
    "\n",
    "2. Предобработка данных\n",
    "<br> На этом этапе были удалены дубликаты и добавлен столбец с обозначением номера месяца.\n",
    "\n",
    "3. Исследовательский анализ данных\n",
    "<br> Рассмотрена частота встречаемости городов, доли пользователей по типу подписки, возраст пользователей, преодолеваемое расстояние и продолжительность поездок.\n",
    "\n",
    "4. Объединение данных\n",
    "<br> Для дальнейшего анализа все данные были объединены в один датафрейм и разделены по типу подписки.\n",
    "\n",
    "5. Подсчет выручки\n",
    "<br> Помесячно была подсчитана выручка, которую принес каждый пользователь.\n",
    "\n",
    "6. Проверка гипотез\n",
    "<br> Были проверены гипотезы о пользователях с подпиской: тратят больше времени на поездки, не превышают 3130 метров, приносят больше выручки.\n",
    "****\n",
    "\n",
    "**Ключевые выводы по данным**\n",
    "\n",
    "**1. Описание потребителей и пользования сервисом**\n",
    "<br> Примерно одинаковое количество пользователей (по 200 чел.) представлены во всех 6 городах: Екатеринбург, Краснодар, Москва, Омск, Пятигорск, Ростов-на-Дону, Сочи, Тюмень.\n",
    "<br>**54%** пользователей пользуются бесплатной подпиской, **46%** пользуются подпиской ultra.\n",
    "<br>Возраст потребителей услуг во всех городах одинаковый - преимущественно **от 22 до 28 лет**.\n",
    "<br>Половина поездок имеет **расстояние от 2500 до 3700 м.** и **временную продолжительность от 13 до 21 минуты.** Данные не меняются даже с течением месяцев или в зависимости от города.\n",
    "\n",
    "\n",
    "**2. Поездки в зависимости от подписки**\n",
    "<br> Пользователи с платной подпиской медианно ездят на 34 м. дальше пользователей бесплатной версии.\n",
    "<br> Подписчики ultra ездят в основном в диапозоне от **2,7**  до **3,5** километров.\n",
    "<br> Пользователи без подписки ездят в диапозоне от **2,3** до **3,9** километрах.\n",
    "<br> Должно быть, меньший разброс у платных подписчиков обусловлен тем, что они ездят регулярно по одинаковым маршрутам.\n",
    "<br> 50% поездок подписчиков ultra укладывается в 15-22 минут, тогда как у пользователей беспл. верс. в 13-22 мин. \n",
    "\n",
    "**3. Динамика выручки**\n",
    "<br> Пользователи приносят каждый месяц стабильно около 330 тыс. руб.\n",
    "\n",
    "**4. Гипотезы**\n",
    "<br> Вероятно, что пользователи с платной подпиской тратят **больше** времени на поездки.\n",
    "<br> Пользователи с подпиской в среднем **не** ездят дальше 3130 метров и не изнашивают самокаты.\n",
    "<br> Помесяная выручка пользователей с подпиской в среднем **меньше** выручки пользователей без подписки, однако средний пользователь с подпиской ultra приносит больше выручки, чем пользователь без платной подписки.\n",
    "\n",
    "**5. Промокоды и уведомления**  \n",
    "Чтобы подписку продлило минимум 100 человек с вероятностью успеха в 95%, нужно отправить 1172 промокода.  \n",
    "Если отправить миллиону пользователей уведомления, шанс, что их откроет не более 399,5 тыс. пользователей, составляет 15%."
   ]
  }
 ],
 "metadata": {
  "ExecuteTimeLog": [
   {
    "duration": 506,
    "start_time": "2023-06-23T09:09:43.159Z"
   },
   {
    "duration": 141,
    "start_time": "2023-06-23T09:30:05.045Z"
   },
   {
    "duration": 108,
    "start_time": "2023-06-23T09:30:24.955Z"
   },
   {
    "duration": 22,
    "start_time": "2023-06-23T09:30:35.824Z"
   },
   {
    "duration": 282,
    "start_time": "2023-06-23T09:32:05.875Z"
   },
   {
    "duration": 11,
    "start_time": "2023-06-23T09:32:12.536Z"
   },
   {
    "duration": 89,
    "start_time": "2023-06-23T09:32:19.036Z"
   },
   {
    "duration": 9,
    "start_time": "2023-06-23T09:32:22.732Z"
   },
   {
    "duration": 37,
    "start_time": "2023-06-23T09:33:39.696Z"
   },
   {
    "duration": 17,
    "start_time": "2023-06-23T09:33:53.101Z"
   },
   {
    "duration": 39,
    "start_time": "2023-06-23T09:33:55.173Z"
   },
   {
    "duration": 15,
    "start_time": "2023-06-23T09:33:58.529Z"
   },
   {
    "duration": 12,
    "start_time": "2023-06-23T09:34:00.552Z"
   },
   {
    "duration": 13,
    "start_time": "2023-06-23T09:34:36.823Z"
   },
   {
    "duration": 7,
    "start_time": "2023-06-23T09:34:43.357Z"
   },
   {
    "duration": 27,
    "start_time": "2023-06-23T09:34:52.512Z"
   },
   {
    "duration": 6,
    "start_time": "2023-06-23T09:35:39.359Z"
   },
   {
    "duration": 12,
    "start_time": "2023-06-23T09:36:07.046Z"
   },
   {
    "duration": 25,
    "start_time": "2023-06-23T09:36:58.320Z"
   },
   {
    "duration": 25,
    "start_time": "2023-06-23T09:37:27.071Z"
   },
   {
    "duration": 11,
    "start_time": "2023-06-23T09:37:44.115Z"
   },
   {
    "duration": 6,
    "start_time": "2023-06-23T09:38:55.825Z"
   },
   {
    "duration": 7,
    "start_time": "2023-06-23T09:43:40.619Z"
   },
   {
    "duration": 6,
    "start_time": "2023-06-23T09:44:10.728Z"
   },
   {
    "duration": 4,
    "start_time": "2023-06-23T09:44:16.423Z"
   },
   {
    "duration": 11,
    "start_time": "2023-06-23T09:44:19.016Z"
   },
   {
    "duration": 2,
    "start_time": "2023-06-23T09:44:50.462Z"
   },
   {
    "duration": 15,
    "start_time": "2023-06-23T09:53:38.813Z"
   },
   {
    "duration": 12,
    "start_time": "2023-06-23T09:53:52.536Z"
   },
   {
    "duration": 8,
    "start_time": "2023-06-23T09:54:10.856Z"
   },
   {
    "duration": 21,
    "start_time": "2023-06-23T09:54:16.997Z"
   },
   {
    "duration": 22,
    "start_time": "2023-06-23T09:54:34.196Z"
   },
   {
    "duration": 365,
    "start_time": "2023-06-23T09:54:49.201Z"
   },
   {
    "duration": 8,
    "start_time": "2023-06-23T09:54:52.159Z"
   },
   {
    "duration": 13,
    "start_time": "2023-06-23T09:55:02.928Z"
   },
   {
    "duration": 20,
    "start_time": "2023-06-23T09:59:10.267Z"
   },
   {
    "duration": 10,
    "start_time": "2023-06-23T09:59:17.330Z"
   },
   {
    "duration": 10,
    "start_time": "2023-06-23T09:59:29.133Z"
   },
   {
    "duration": 39,
    "start_time": "2023-06-23T09:59:33.404Z"
   },
   {
    "duration": 9,
    "start_time": "2023-06-23T09:59:37.354Z"
   },
   {
    "duration": 18,
    "start_time": "2023-06-23T10:00:48.213Z"
   },
   {
    "duration": 8,
    "start_time": "2023-06-23T10:00:50.965Z"
   },
   {
    "duration": 16,
    "start_time": "2023-06-23T10:01:10.030Z"
   },
   {
    "duration": 5,
    "start_time": "2023-06-23T10:01:19.355Z"
   },
   {
    "duration": 13,
    "start_time": "2023-06-23T10:01:21.165Z"
   },
   {
    "duration": 11,
    "start_time": "2023-06-23T10:01:28.653Z"
   },
   {
    "duration": 6,
    "start_time": "2023-06-23T10:56:10.703Z"
   },
   {
    "duration": 14,
    "start_time": "2023-06-23T10:56:16.127Z"
   },
   {
    "duration": 20,
    "start_time": "2023-06-23T10:59:59.630Z"
   },
   {
    "duration": 873,
    "start_time": "2023-06-23T11:00:51.671Z"
   },
   {
    "duration": 52,
    "start_time": "2023-06-23T11:03:25.462Z"
   },
   {
    "duration": 31,
    "start_time": "2023-06-23T11:03:31.637Z"
   },
   {
    "duration": 17,
    "start_time": "2023-06-23T11:03:57.697Z"
   },
   {
    "duration": 8,
    "start_time": "2023-06-23T11:04:04.434Z"
   },
   {
    "duration": 13,
    "start_time": "2023-06-23T11:06:25.548Z"
   },
   {
    "duration": 12,
    "start_time": "2023-06-23T11:06:34.633Z"
   },
   {
    "duration": 10,
    "start_time": "2023-06-23T11:07:14.352Z"
   },
   {
    "duration": 22,
    "start_time": "2023-06-23T11:07:45.424Z"
   },
   {
    "duration": 20,
    "start_time": "2023-06-23T11:07:51.003Z"
   },
   {
    "duration": 165,
    "start_time": "2023-06-23T11:08:00.602Z"
   },
   {
    "duration": 222,
    "start_time": "2023-06-23T11:08:59.066Z"
   },
   {
    "duration": 201,
    "start_time": "2023-06-23T11:09:11.729Z"
   },
   {
    "duration": 263,
    "start_time": "2023-06-23T11:09:17.131Z"
   },
   {
    "duration": 218,
    "start_time": "2023-06-23T11:09:44.326Z"
   },
   {
    "duration": 238,
    "start_time": "2023-06-23T11:09:48.958Z"
   },
   {
    "duration": 35,
    "start_time": "2023-06-23T11:09:59.370Z"
   },
   {
    "duration": 244,
    "start_time": "2023-06-23T11:10:53.028Z"
   },
   {
    "duration": 228,
    "start_time": "2023-06-23T11:11:06.591Z"
   },
   {
    "duration": 237,
    "start_time": "2023-06-23T11:11:10.741Z"
   },
   {
    "duration": 185,
    "start_time": "2023-06-23T11:13:32.027Z"
   },
   {
    "duration": 254,
    "start_time": "2023-06-23T11:13:57.804Z"
   },
   {
    "duration": 250,
    "start_time": "2023-06-23T11:14:03.417Z"
   },
   {
    "duration": 251,
    "start_time": "2023-06-23T11:14:56.033Z"
   },
   {
    "duration": 14,
    "start_time": "2023-06-23T11:16:08.651Z"
   },
   {
    "duration": 13,
    "start_time": "2023-06-23T11:16:27.428Z"
   },
   {
    "duration": 30,
    "start_time": "2023-06-23T11:16:31.901Z"
   },
   {
    "duration": 15,
    "start_time": "2023-06-23T11:16:39.324Z"
   },
   {
    "duration": 233,
    "start_time": "2023-06-23T11:17:43.010Z"
   },
   {
    "duration": 202,
    "start_time": "2023-06-23T11:17:48.112Z"
   },
   {
    "duration": 15,
    "start_time": "2023-06-23T11:33:53.940Z"
   },
   {
    "duration": 7,
    "start_time": "2023-06-23T11:34:04.257Z"
   },
   {
    "duration": 227,
    "start_time": "2023-06-23T11:34:09.774Z"
   },
   {
    "duration": 194,
    "start_time": "2023-06-23T11:35:26.097Z"
   },
   {
    "duration": 25,
    "start_time": "2023-06-23T11:37:02.028Z"
   },
   {
    "duration": 33,
    "start_time": "2023-06-23T11:37:46.206Z"
   },
   {
    "duration": 5,
    "start_time": "2023-06-23T11:41:30.169Z"
   },
   {
    "duration": 594,
    "start_time": "2023-06-23T11:41:57.466Z"
   },
   {
    "duration": 10,
    "start_time": "2023-06-23T11:42:00.101Z"
   },
   {
    "duration": 5,
    "start_time": "2023-06-23T11:42:04.635Z"
   },
   {
    "duration": 6,
    "start_time": "2023-06-23T11:42:16.748Z"
   },
   {
    "duration": 167,
    "start_time": "2023-06-23T11:43:18.666Z"
   },
   {
    "duration": 187,
    "start_time": "2023-06-23T11:43:26.274Z"
   },
   {
    "duration": 185,
    "start_time": "2023-06-23T11:43:42.852Z"
   },
   {
    "duration": 194,
    "start_time": "2023-06-23T11:44:02.259Z"
   },
   {
    "duration": 15,
    "start_time": "2023-06-23T11:49:05.226Z"
   },
   {
    "duration": 11,
    "start_time": "2023-06-23T11:50:19.527Z"
   },
   {
    "duration": 18,
    "start_time": "2023-06-23T11:50:42.897Z"
   },
   {
    "duration": 26,
    "start_time": "2023-06-23T11:50:49.727Z"
   },
   {
    "duration": 8,
    "start_time": "2023-06-23T11:51:16.729Z"
   },
   {
    "duration": 30,
    "start_time": "2023-06-23T11:51:36.806Z"
   },
   {
    "duration": 9,
    "start_time": "2023-06-23T11:52:06.011Z"
   },
   {
    "duration": 5,
    "start_time": "2023-06-23T11:52:08.449Z"
   },
   {
    "duration": 7,
    "start_time": "2023-06-23T11:52:39.329Z"
   },
   {
    "duration": 5,
    "start_time": "2023-06-23T11:52:41.331Z"
   },
   {
    "duration": 20,
    "start_time": "2023-06-23T11:53:41.569Z"
   },
   {
    "duration": 5,
    "start_time": "2023-06-23T11:54:46.239Z"
   },
   {
    "duration": 10,
    "start_time": "2023-06-23T11:54:50.617Z"
   },
   {
    "duration": 241,
    "start_time": "2023-06-23T11:55:14.771Z"
   },
   {
    "duration": 218,
    "start_time": "2023-06-23T11:55:27.647Z"
   },
   {
    "duration": 178,
    "start_time": "2023-06-23T11:55:30.954Z"
   },
   {
    "duration": 209,
    "start_time": "2023-06-23T11:55:37.494Z"
   },
   {
    "duration": 220,
    "start_time": "2023-06-23T11:55:53.563Z"
   },
   {
    "duration": 177,
    "start_time": "2023-06-23T11:55:56.773Z"
   },
   {
    "duration": 380,
    "start_time": "2023-06-23T11:56:06.105Z"
   },
   {
    "duration": 216,
    "start_time": "2023-06-23T11:56:16.309Z"
   },
   {
    "duration": 189,
    "start_time": "2023-06-23T11:56:23.843Z"
   },
   {
    "duration": 5,
    "start_time": "2023-06-23T11:57:53.965Z"
   },
   {
    "duration": 22,
    "start_time": "2023-06-23T11:58:05.134Z"
   },
   {
    "duration": 194,
    "start_time": "2023-06-23T11:58:44.603Z"
   },
   {
    "duration": 201,
    "start_time": "2023-06-23T11:59:06.966Z"
   },
   {
    "duration": 163,
    "start_time": "2023-06-23T11:59:17.619Z"
   },
   {
    "duration": 220,
    "start_time": "2023-06-23T11:59:39.775Z"
   },
   {
    "duration": 10,
    "start_time": "2023-06-23T11:59:50.355Z"
   },
   {
    "duration": 245,
    "start_time": "2023-06-23T11:59:56.563Z"
   },
   {
    "duration": 192,
    "start_time": "2023-06-23T12:00:11.444Z"
   },
   {
    "duration": 180,
    "start_time": "2023-06-23T12:00:16.151Z"
   },
   {
    "duration": 214,
    "start_time": "2023-06-23T12:00:21.553Z"
   },
   {
    "duration": 240,
    "start_time": "2023-06-23T12:01:03.160Z"
   },
   {
    "duration": 168,
    "start_time": "2023-06-23T12:01:24.599Z"
   },
   {
    "duration": 252,
    "start_time": "2023-06-23T12:01:49.273Z"
   },
   {
    "duration": 180,
    "start_time": "2023-06-23T12:02:14.258Z"
   },
   {
    "duration": 286,
    "start_time": "2023-06-23T12:02:31.302Z"
   },
   {
    "duration": 278,
    "start_time": "2023-06-23T12:02:36.272Z"
   },
   {
    "duration": 131,
    "start_time": "2023-06-23T12:02:44.137Z"
   },
   {
    "duration": 236,
    "start_time": "2023-06-23T12:02:47.235Z"
   },
   {
    "duration": 243,
    "start_time": "2023-06-23T12:02:54.448Z"
   },
   {
    "duration": 195,
    "start_time": "2023-06-23T12:03:15.403Z"
   },
   {
    "duration": 259,
    "start_time": "2023-06-23T12:03:26.228Z"
   },
   {
    "duration": 196,
    "start_time": "2023-06-23T12:03:40.405Z"
   },
   {
    "duration": 166,
    "start_time": "2023-06-23T12:04:41.162Z"
   },
   {
    "duration": 190,
    "start_time": "2023-06-23T12:04:50.571Z"
   },
   {
    "duration": 21,
    "start_time": "2023-06-23T12:06:44.933Z"
   },
   {
    "duration": 6,
    "start_time": "2023-06-23T12:06:48.319Z"
   },
   {
    "duration": 24,
    "start_time": "2023-06-23T12:06:53.844Z"
   },
   {
    "duration": 14,
    "start_time": "2023-06-23T12:07:02.542Z"
   },
   {
    "duration": 16,
    "start_time": "2023-06-23T12:07:06.222Z"
   },
   {
    "duration": 24,
    "start_time": "2023-06-23T12:07:12.702Z"
   },
   {
    "duration": 15,
    "start_time": "2023-06-23T12:07:19.431Z"
   },
   {
    "duration": 4,
    "start_time": "2023-06-23T12:07:38.645Z"
   },
   {
    "duration": 19,
    "start_time": "2023-06-23T12:08:53.349Z"
   },
   {
    "duration": 27,
    "start_time": "2023-06-23T12:08:55.706Z"
   },
   {
    "duration": 53,
    "start_time": "2023-06-23T12:28:27.772Z"
   },
   {
    "duration": 21,
    "start_time": "2023-06-23T12:29:24.237Z"
   },
   {
    "duration": 26,
    "start_time": "2023-06-23T12:29:42.403Z"
   },
   {
    "duration": 26,
    "start_time": "2023-06-23T12:29:46.587Z"
   },
   {
    "duration": 22,
    "start_time": "2023-06-23T12:29:51.660Z"
   },
   {
    "duration": 19,
    "start_time": "2023-06-23T12:30:15.717Z"
   },
   {
    "duration": 11,
    "start_time": "2023-06-23T12:30:55.971Z"
   },
   {
    "duration": 15,
    "start_time": "2023-06-23T12:31:23.767Z"
   },
   {
    "duration": 7,
    "start_time": "2023-06-23T12:31:57.433Z"
   },
   {
    "duration": 8,
    "start_time": "2023-06-23T12:32:36.656Z"
   },
   {
    "duration": 8,
    "start_time": "2023-06-23T12:33:21.161Z"
   },
   {
    "duration": 9,
    "start_time": "2023-06-23T12:33:33.537Z"
   },
   {
    "duration": 14,
    "start_time": "2023-06-23T12:33:52.705Z"
   },
   {
    "duration": 12,
    "start_time": "2023-06-23T12:34:04.520Z"
   },
   {
    "duration": 4,
    "start_time": "2023-06-23T13:34:41.805Z"
   },
   {
    "duration": 7,
    "start_time": "2023-06-23T13:34:55.300Z"
   },
   {
    "duration": 39,
    "start_time": "2023-06-23T13:35:48.693Z"
   },
   {
    "duration": 260,
    "start_time": "2023-06-23T13:36:00.053Z"
   },
   {
    "duration": 13,
    "start_time": "2023-06-23T13:36:13.792Z"
   },
   {
    "duration": 22,
    "start_time": "2023-06-23T13:36:21.306Z"
   },
   {
    "duration": 9,
    "start_time": "2023-06-23T13:36:33.481Z"
   },
   {
    "duration": 10,
    "start_time": "2023-06-23T13:36:51.339Z"
   },
   {
    "duration": 5,
    "start_time": "2023-06-23T13:38:03.746Z"
   },
   {
    "duration": 143,
    "start_time": "2023-06-23T13:38:17.556Z"
   },
   {
    "duration": 139,
    "start_time": "2023-06-23T13:38:29.400Z"
   },
   {
    "duration": 142,
    "start_time": "2023-06-23T13:39:21.462Z"
   },
   {
    "duration": 187,
    "start_time": "2023-06-23T13:39:32.213Z"
   },
   {
    "duration": 363,
    "start_time": "2023-06-23T13:40:40.646Z"
   },
   {
    "duration": 170,
    "start_time": "2023-06-23T13:41:03.975Z"
   },
   {
    "duration": 141,
    "start_time": "2023-06-23T13:41:08.951Z"
   },
   {
    "duration": 128,
    "start_time": "2023-06-23T13:41:12.405Z"
   },
   {
    "duration": 154,
    "start_time": "2023-06-23T13:41:18.175Z"
   },
   {
    "duration": 150,
    "start_time": "2023-06-23T13:41:55.712Z"
   },
   {
    "duration": 125,
    "start_time": "2023-06-23T13:42:27.065Z"
   },
   {
    "duration": 210,
    "start_time": "2023-06-23T13:42:29.827Z"
   },
   {
    "duration": 209,
    "start_time": "2023-06-23T13:42:55.250Z"
   },
   {
    "duration": 175,
    "start_time": "2023-06-23T13:43:07.170Z"
   },
   {
    "duration": 3,
    "start_time": "2023-06-23T13:44:16.570Z"
   },
   {
    "duration": 6,
    "start_time": "2023-06-23T13:45:46.547Z"
   },
   {
    "duration": 5,
    "start_time": "2023-06-23T13:46:45.443Z"
   },
   {
    "duration": 5,
    "start_time": "2023-06-23T13:47:38.845Z"
   },
   {
    "duration": 10,
    "start_time": "2023-06-23T13:48:07.917Z"
   },
   {
    "duration": 11,
    "start_time": "2023-06-23T13:48:16.870Z"
   },
   {
    "duration": 8,
    "start_time": "2023-06-23T13:48:49.014Z"
   },
   {
    "duration": 7,
    "start_time": "2023-06-23T13:49:01.302Z"
   },
   {
    "duration": 5,
    "start_time": "2023-06-23T13:49:24.239Z"
   },
   {
    "duration": 6,
    "start_time": "2023-06-23T13:50:57.707Z"
   },
   {
    "duration": 142,
    "start_time": "2023-06-23T13:51:09.055Z"
   },
   {
    "duration": 6,
    "start_time": "2023-06-23T13:51:12.215Z"
   },
   {
    "duration": 7,
    "start_time": "2023-06-23T13:51:37.839Z"
   },
   {
    "duration": 8,
    "start_time": "2023-06-23T13:52:06.240Z"
   },
   {
    "duration": 10,
    "start_time": "2023-06-23T13:57:28.240Z"
   },
   {
    "duration": 8,
    "start_time": "2023-06-23T13:57:52.144Z"
   },
   {
    "duration": 188,
    "start_time": "2023-06-23T14:02:36.634Z"
   },
   {
    "duration": 159,
    "start_time": "2023-06-23T14:03:03.797Z"
   },
   {
    "duration": 18,
    "start_time": "2023-06-23T14:03:33.503Z"
   },
   {
    "duration": 5,
    "start_time": "2023-06-23T14:10:20.313Z"
   },
   {
    "duration": 16,
    "start_time": "2023-06-23T14:11:16.703Z"
   },
   {
    "duration": 23,
    "start_time": "2023-06-23T14:11:42.604Z"
   },
   {
    "duration": 21,
    "start_time": "2023-06-23T14:12:04.022Z"
   },
   {
    "duration": 10,
    "start_time": "2023-06-23T14:12:14.856Z"
   },
   {
    "duration": 12,
    "start_time": "2023-06-23T14:12:19.149Z"
   },
   {
    "duration": 1942,
    "start_time": "2023-06-23T14:12:28.423Z"
   },
   {
    "duration": 16,
    "start_time": "2023-06-23T14:12:36.707Z"
   },
   {
    "duration": 7,
    "start_time": "2023-06-23T14:12:41.722Z"
   },
   {
    "duration": 21,
    "start_time": "2023-06-23T14:12:53.695Z"
   },
   {
    "duration": 11,
    "start_time": "2023-06-23T14:13:23.216Z"
   },
   {
    "duration": 12,
    "start_time": "2023-06-23T14:13:26.040Z"
   },
   {
    "duration": 10,
    "start_time": "2023-06-23T14:13:37.448Z"
   },
   {
    "duration": 12,
    "start_time": "2023-06-23T14:13:40.041Z"
   },
   {
    "duration": 9,
    "start_time": "2023-06-23T14:14:29.521Z"
   },
   {
    "duration": 7,
    "start_time": "2023-06-23T14:14:32.753Z"
   },
   {
    "duration": 9,
    "start_time": "2023-06-23T14:14:37.163Z"
   },
   {
    "duration": 24,
    "start_time": "2023-06-23T14:19:23.087Z"
   },
   {
    "duration": 17,
    "start_time": "2023-06-23T14:19:38.872Z"
   },
   {
    "duration": 23,
    "start_time": "2023-06-23T14:19:43.669Z"
   },
   {
    "duration": 10,
    "start_time": "2023-06-23T14:20:01.246Z"
   },
   {
    "duration": 16,
    "start_time": "2023-06-23T14:20:12.148Z"
   },
   {
    "duration": 19,
    "start_time": "2023-06-23T14:22:12.768Z"
   },
   {
    "duration": 12,
    "start_time": "2023-06-23T14:22:14.622Z"
   },
   {
    "duration": 23,
    "start_time": "2023-06-23T14:22:18.271Z"
   },
   {
    "duration": 9,
    "start_time": "2023-06-23T14:22:32.919Z"
   },
   {
    "duration": 1932,
    "start_time": "2023-06-23T14:25:44.564Z"
   },
   {
    "duration": 6,
    "start_time": "2023-06-23T14:36:26.935Z"
   },
   {
    "duration": 11,
    "start_time": "2023-06-23T14:36:35.942Z"
   },
   {
    "duration": 5,
    "start_time": "2023-06-23T14:37:00.577Z"
   },
   {
    "duration": 8,
    "start_time": "2023-06-23T14:37:21.742Z"
   },
   {
    "duration": 13,
    "start_time": "2023-06-23T14:37:24.006Z"
   },
   {
    "duration": 11,
    "start_time": "2023-06-23T14:37:25.858Z"
   },
   {
    "duration": 510,
    "start_time": "2023-06-23T14:38:00.138Z"
   },
   {
    "duration": 13,
    "start_time": "2023-06-23T14:38:04.847Z"
   },
   {
    "duration": 15,
    "start_time": "2023-06-23T14:38:07.143Z"
   },
   {
    "duration": 5,
    "start_time": "2023-06-23T14:38:13.969Z"
   },
   {
    "duration": 19,
    "start_time": "2023-06-23T14:38:26.335Z"
   },
   {
    "duration": 305,
    "start_time": "2023-06-23T15:13:35.828Z"
   },
   {
    "duration": 141,
    "start_time": "2023-06-23T15:13:39.600Z"
   },
   {
    "duration": 17,
    "start_time": "2023-06-23T15:13:49.362Z"
   },
   {
    "duration": 20,
    "start_time": "2023-06-23T15:13:51.652Z"
   },
   {
    "duration": 17,
    "start_time": "2023-06-23T15:14:31.747Z"
   },
   {
    "duration": 16,
    "start_time": "2023-06-23T15:14:33.935Z"
   },
   {
    "duration": 4,
    "start_time": "2023-06-23T15:20:25.892Z"
   },
   {
    "duration": 19,
    "start_time": "2023-06-23T15:20:30.360Z"
   },
   {
    "duration": 24,
    "start_time": "2023-06-23T15:21:43.225Z"
   },
   {
    "duration": 1701,
    "start_time": "2023-06-23T15:21:49.678Z"
   },
   {
    "duration": 1892,
    "start_time": "2023-06-23T15:21:55.200Z"
   },
   {
    "duration": 7,
    "start_time": "2023-06-23T15:22:02.162Z"
   },
   {
    "duration": 17,
    "start_time": "2023-06-23T15:22:08.249Z"
   },
   {
    "duration": 14,
    "start_time": "2023-06-23T15:22:12.792Z"
   },
   {
    "duration": 26,
    "start_time": "2023-06-23T15:24:45.164Z"
   },
   {
    "duration": 6,
    "start_time": "2023-06-23T15:25:04.531Z"
   },
   {
    "duration": 27,
    "start_time": "2023-06-23T15:25:08.467Z"
   },
   {
    "duration": 5,
    "start_time": "2023-06-23T15:25:13.123Z"
   },
   {
    "duration": 17,
    "start_time": "2023-06-23T15:25:28.212Z"
   },
   {
    "duration": 1694,
    "start_time": "2023-06-23T15:26:19.778Z"
   },
   {
    "duration": 12,
    "start_time": "2023-06-23T15:26:24.652Z"
   },
   {
    "duration": 7,
    "start_time": "2023-06-23T15:26:30.334Z"
   },
   {
    "duration": 13,
    "start_time": "2023-06-23T15:26:34.359Z"
   },
   {
    "duration": 7,
    "start_time": "2023-06-23T15:29:34.919Z"
   },
   {
    "duration": 5,
    "start_time": "2023-06-23T15:32:21.400Z"
   },
   {
    "duration": 17,
    "start_time": "2023-06-23T15:33:11.911Z"
   },
   {
    "duration": 8,
    "start_time": "2023-06-23T15:33:14.514Z"
   },
   {
    "duration": 4,
    "start_time": "2023-06-23T15:33:35.116Z"
   },
   {
    "duration": 22,
    "start_time": "2023-06-23T15:33:37.859Z"
   },
   {
    "duration": 7,
    "start_time": "2023-06-23T15:34:16.019Z"
   },
   {
    "duration": 21,
    "start_time": "2023-06-23T15:34:33.212Z"
   },
   {
    "duration": 1254,
    "start_time": "2023-06-23T15:34:53.325Z"
   },
   {
    "duration": 162,
    "start_time": "2023-06-23T15:35:03.652Z"
   },
   {
    "duration": 9,
    "start_time": "2023-06-23T15:35:10.699Z"
   },
   {
    "duration": 20,
    "start_time": "2023-06-23T15:35:15.235Z"
   },
   {
    "duration": 3,
    "start_time": "2023-06-23T15:36:33.348Z"
   },
   {
    "duration": 193,
    "start_time": "2023-06-23T15:36:35.702Z"
   },
   {
    "duration": 21,
    "start_time": "2023-06-23T15:36:37.600Z"
   },
   {
    "duration": 5,
    "start_time": "2023-06-23T15:36:46.602Z"
   },
   {
    "duration": 143,
    "start_time": "2023-06-23T15:36:49.100Z"
   },
   {
    "duration": 19,
    "start_time": "2023-06-23T15:36:51.005Z"
   },
   {
    "duration": 15,
    "start_time": "2023-06-23T15:37:02.600Z"
   },
   {
    "duration": 173,
    "start_time": "2023-06-23T15:37:04.271Z"
   },
   {
    "duration": 21,
    "start_time": "2023-06-23T15:37:06.303Z"
   },
   {
    "duration": 9,
    "start_time": "2023-06-23T15:38:43.235Z"
   },
   {
    "duration": 13,
    "start_time": "2023-06-23T15:39:35.528Z"
   },
   {
    "duration": 7,
    "start_time": "2023-06-23T15:39:48.448Z"
   },
   {
    "duration": 8,
    "start_time": "2023-06-23T15:39:52.775Z"
   },
   {
    "duration": 5,
    "start_time": "2023-06-23T15:41:30.658Z"
   },
   {
    "duration": 94,
    "start_time": "2023-06-23T15:41:40.248Z"
   },
   {
    "duration": 4,
    "start_time": "2023-06-23T15:41:43.753Z"
   },
   {
    "duration": 9,
    "start_time": "2023-06-23T15:42:29.003Z"
   },
   {
    "duration": 8,
    "start_time": "2023-06-23T15:42:59.218Z"
   },
   {
    "duration": 9,
    "start_time": "2023-06-23T15:43:02.629Z"
   },
   {
    "duration": 12,
    "start_time": "2023-06-23T15:44:04.403Z"
   },
   {
    "duration": 21,
    "start_time": "2023-06-23T15:44:16.397Z"
   },
   {
    "duration": 10,
    "start_time": "2023-06-23T15:44:34.795Z"
   },
   {
    "duration": 8,
    "start_time": "2023-06-23T15:45:23.493Z"
   },
   {
    "duration": 13,
    "start_time": "2023-06-23T15:45:38.956Z"
   },
   {
    "duration": 6,
    "start_time": "2023-06-23T15:45:53.951Z"
   },
   {
    "duration": 14,
    "start_time": "2023-06-23T15:46:11.900Z"
   },
   {
    "duration": 12,
    "start_time": "2023-06-23T15:46:16.212Z"
   },
   {
    "duration": 12,
    "start_time": "2023-06-23T15:46:58.934Z"
   },
   {
    "duration": 11,
    "start_time": "2023-06-23T15:47:03.422Z"
   },
   {
    "duration": 7,
    "start_time": "2023-06-23T15:47:20.601Z"
   },
   {
    "duration": 7,
    "start_time": "2023-06-23T15:47:24.261Z"
   },
   {
    "duration": 9,
    "start_time": "2023-06-23T15:47:41.862Z"
   },
   {
    "duration": 8,
    "start_time": "2023-06-23T15:47:45.099Z"
   },
   {
    "duration": 4,
    "start_time": "2023-06-23T15:47:50.200Z"
   },
   {
    "duration": 5,
    "start_time": "2023-06-23T15:49:19.399Z"
   },
   {
    "duration": 8,
    "start_time": "2023-06-23T15:49:22.558Z"
   },
   {
    "duration": 13,
    "start_time": "2023-06-23T15:50:12.616Z"
   },
   {
    "duration": 394,
    "start_time": "2023-06-23T15:55:17.716Z"
   },
   {
    "duration": 36,
    "start_time": "2023-06-23T15:58:08.503Z"
   },
   {
    "duration": 13,
    "start_time": "2023-06-23T15:58:33.532Z"
   },
   {
    "duration": 4,
    "start_time": "2023-06-23T15:58:48.055Z"
   },
   {
    "duration": 6,
    "start_time": "2023-06-23T16:03:29.955Z"
   },
   {
    "duration": 5,
    "start_time": "2023-06-23T16:03:34.200Z"
   },
   {
    "duration": 6,
    "start_time": "2023-06-23T16:04:08.444Z"
   },
   {
    "duration": 14,
    "start_time": "2023-06-23T16:04:21.899Z"
   },
   {
    "duration": 8,
    "start_time": "2023-06-23T16:04:40.391Z"
   },
   {
    "duration": 6,
    "start_time": "2023-06-23T16:05:36.996Z"
   },
   {
    "duration": 6,
    "start_time": "2023-06-23T16:31:43.618Z"
   },
   {
    "duration": 7,
    "start_time": "2023-06-23T16:31:49.850Z"
   },
   {
    "duration": 5,
    "start_time": "2023-06-23T16:32:20.955Z"
   },
   {
    "duration": 10,
    "start_time": "2023-06-23T16:32:26.395Z"
   },
   {
    "duration": 5,
    "start_time": "2023-06-23T16:41:42.650Z"
   },
   {
    "duration": 4,
    "start_time": "2023-06-23T16:42:14.420Z"
   },
   {
    "duration": 5,
    "start_time": "2023-06-23T16:42:54.714Z"
   },
   {
    "duration": 4,
    "start_time": "2023-06-23T16:43:15.655Z"
   },
   {
    "duration": 5,
    "start_time": "2023-06-23T16:43:32.661Z"
   },
   {
    "duration": 11,
    "start_time": "2023-06-23T16:44:08.395Z"
   },
   {
    "duration": 5,
    "start_time": "2023-06-23T16:46:19.526Z"
   },
   {
    "duration": 4,
    "start_time": "2023-06-23T16:46:26.537Z"
   },
   {
    "duration": 10,
    "start_time": "2023-06-23T16:52:06.403Z"
   },
   {
    "duration": 17,
    "start_time": "2023-06-23T16:52:13.404Z"
   },
   {
    "duration": 12,
    "start_time": "2023-06-23T16:53:01.564Z"
   },
   {
    "duration": 6,
    "start_time": "2023-06-23T16:53:10.298Z"
   },
   {
    "duration": 201,
    "start_time": "2023-06-23T16:53:15.156Z"
   },
   {
    "duration": 9,
    "start_time": "2023-06-23T16:53:28.980Z"
   },
   {
    "duration": 7,
    "start_time": "2023-06-23T16:53:32.956Z"
   },
   {
    "duration": 5,
    "start_time": "2023-06-23T16:55:43.511Z"
   },
   {
    "duration": 8,
    "start_time": "2023-06-23T16:55:59.006Z"
   },
   {
    "duration": 145,
    "start_time": "2023-06-23T16:56:14.558Z"
   },
   {
    "duration": 12,
    "start_time": "2023-06-23T16:56:24.975Z"
   },
   {
    "duration": 8,
    "start_time": "2023-06-23T16:57:31.024Z"
   },
   {
    "duration": 11,
    "start_time": "2023-06-23T16:57:37.402Z"
   },
   {
    "duration": 10,
    "start_time": "2023-06-23T16:57:49.360Z"
   },
   {
    "duration": 17,
    "start_time": "2023-06-23T16:59:34.266Z"
   },
   {
    "duration": 7,
    "start_time": "2023-06-23T16:59:37.106Z"
   },
   {
    "duration": 8,
    "start_time": "2023-06-23T16:59:52.219Z"
   },
   {
    "duration": 4,
    "start_time": "2023-06-23T17:03:45.159Z"
   },
   {
    "duration": 5,
    "start_time": "2023-06-23T17:03:56.604Z"
   },
   {
    "duration": 11,
    "start_time": "2023-06-23T17:04:17.483Z"
   },
   {
    "duration": 9,
    "start_time": "2023-06-23T17:04:19.436Z"
   },
   {
    "duration": 5,
    "start_time": "2023-06-23T17:04:43.158Z"
   },
   {
    "duration": 7,
    "start_time": "2023-06-23T17:05:41.975Z"
   },
   {
    "duration": 5,
    "start_time": "2023-06-23T17:05:49.159Z"
   },
   {
    "duration": 5,
    "start_time": "2023-06-23T17:06:52.224Z"
   },
   {
    "duration": 8,
    "start_time": "2023-06-23T17:07:07.070Z"
   },
   {
    "duration": 6,
    "start_time": "2023-06-23T17:07:35.848Z"
   },
   {
    "duration": 6,
    "start_time": "2023-06-23T17:07:45.968Z"
   },
   {
    "duration": 9,
    "start_time": "2023-06-23T17:08:14.961Z"
   },
   {
    "duration": 6,
    "start_time": "2023-06-23T17:08:18.419Z"
   },
   {
    "duration": 10,
    "start_time": "2023-06-23T17:08:29.167Z"
   },
   {
    "duration": 3,
    "start_time": "2023-06-23T17:09:04.250Z"
   },
   {
    "duration": 14,
    "start_time": "2023-06-23T17:09:15.193Z"
   },
   {
    "duration": 6,
    "start_time": "2023-06-23T17:09:33.390Z"
   },
   {
    "duration": 5,
    "start_time": "2023-06-23T17:10:33.093Z"
   },
   {
    "duration": 6,
    "start_time": "2023-06-23T17:10:39.962Z"
   },
   {
    "duration": 6,
    "start_time": "2023-06-23T17:10:57.210Z"
   },
   {
    "duration": 5,
    "start_time": "2023-06-23T17:11:04.866Z"
   },
   {
    "duration": 12,
    "start_time": "2023-06-23T17:11:16.437Z"
   },
   {
    "duration": 8,
    "start_time": "2023-06-23T17:11:20.381Z"
   },
   {
    "duration": 12,
    "start_time": "2023-06-23T17:11:54.277Z"
   },
   {
    "duration": 4,
    "start_time": "2023-06-23T17:12:25.221Z"
   },
   {
    "duration": 7,
    "start_time": "2023-06-23T17:12:34.275Z"
   },
   {
    "duration": 5,
    "start_time": "2023-06-23T17:18:23.322Z"
   },
   {
    "duration": 6,
    "start_time": "2023-06-23T17:18:48.923Z"
   },
   {
    "duration": 5,
    "start_time": "2023-06-23T17:18:59.595Z"
   },
   {
    "duration": 4,
    "start_time": "2023-06-23T17:19:15.458Z"
   },
   {
    "duration": 5,
    "start_time": "2023-06-23T17:19:25.562Z"
   },
   {
    "duration": 5,
    "start_time": "2023-06-23T17:22:15.133Z"
   },
   {
    "duration": 5,
    "start_time": "2023-06-23T17:22:22.895Z"
   },
   {
    "duration": 9,
    "start_time": "2023-06-23T17:42:52.703Z"
   },
   {
    "duration": 3,
    "start_time": "2023-06-23T17:43:18.127Z"
   },
   {
    "duration": 89,
    "start_time": "2023-06-23T17:43:23.760Z"
   },
   {
    "duration": 1443,
    "start_time": "2023-06-23T17:43:57.043Z"
   },
   {
    "duration": 280,
    "start_time": "2023-06-23T17:44:07.457Z"
   },
   {
    "duration": 267,
    "start_time": "2023-06-23T17:44:43.849Z"
   },
   {
    "duration": 1436,
    "start_time": "2023-06-23T17:46:09.851Z"
   },
   {
    "duration": 160,
    "start_time": "2023-06-23T17:49:59.245Z"
   },
   {
    "duration": 246,
    "start_time": "2023-06-23T17:50:37.687Z"
   },
   {
    "duration": 238,
    "start_time": "2023-06-23T17:50:56.415Z"
   },
   {
    "duration": 262,
    "start_time": "2023-06-23T17:51:33.160Z"
   },
   {
    "duration": 1449,
    "start_time": "2023-06-23T17:53:30.840Z"
   },
   {
    "duration": 2,
    "start_time": "2023-06-23T17:54:01.297Z"
   },
   {
    "duration": 3,
    "start_time": "2023-06-23T17:55:43.431Z"
   },
   {
    "duration": 2437,
    "start_time": "2023-06-23T17:56:01.961Z"
   },
   {
    "duration": 192,
    "start_time": "2023-06-23T17:57:25.267Z"
   },
   {
    "duration": 184,
    "start_time": "2023-06-23T17:57:31.804Z"
   },
   {
    "duration": 197,
    "start_time": "2023-06-23T17:57:37.748Z"
   },
   {
    "duration": 208,
    "start_time": "2023-06-23T18:01:33.668Z"
   },
   {
    "duration": 253,
    "start_time": "2023-06-23T18:01:38.414Z"
   },
   {
    "duration": 283,
    "start_time": "2023-06-23T18:01:50.622Z"
   },
   {
    "duration": 350,
    "start_time": "2023-06-23T18:01:55.374Z"
   },
   {
    "duration": 43,
    "start_time": "2023-06-23T18:01:59.991Z"
   },
   {
    "duration": 236,
    "start_time": "2023-06-23T18:02:05.381Z"
   },
   {
    "duration": 263,
    "start_time": "2023-06-23T18:10:31.044Z"
   },
   {
    "duration": 137,
    "start_time": "2023-06-23T18:10:38.071Z"
   },
   {
    "duration": 9,
    "start_time": "2023-06-23T18:11:14.336Z"
   },
   {
    "duration": 119,
    "start_time": "2023-06-23T18:11:30.565Z"
   },
   {
    "duration": 6,
    "start_time": "2023-06-23T18:11:38.112Z"
   },
   {
    "duration": 8,
    "start_time": "2023-06-23T18:13:08.829Z"
   },
   {
    "duration": 13,
    "start_time": "2023-06-23T18:24:49.090Z"
   },
   {
    "duration": 153,
    "start_time": "2023-06-23T18:25:08.307Z"
   },
   {
    "duration": 216,
    "start_time": "2023-06-23T18:25:56.293Z"
   },
   {
    "duration": 156,
    "start_time": "2023-06-23T18:26:18.051Z"
   },
   {
    "duration": 159,
    "start_time": "2023-06-23T18:26:32.653Z"
   },
   {
    "duration": 162,
    "start_time": "2023-06-23T18:26:52.534Z"
   },
   {
    "duration": 15,
    "start_time": "2023-06-23T18:28:20.304Z"
   },
   {
    "duration": 262,
    "start_time": "2023-06-23T18:28:46.152Z"
   },
   {
    "duration": 7,
    "start_time": "2023-06-23T18:36:16.836Z"
   },
   {
    "duration": 5,
    "start_time": "2023-06-23T18:50:39.855Z"
   },
   {
    "duration": 4,
    "start_time": "2023-06-23T18:50:44.952Z"
   },
   {
    "duration": 5,
    "start_time": "2023-06-23T18:51:24.104Z"
   },
   {
    "duration": 12,
    "start_time": "2023-06-23T18:51:32.199Z"
   },
   {
    "duration": 4,
    "start_time": "2023-06-23T18:51:37.471Z"
   },
   {
    "duration": 1055,
    "start_time": "2023-06-23T18:55:20.802Z"
   },
   {
    "duration": 148,
    "start_time": "2023-06-23T18:55:21.859Z"
   },
   {
    "duration": 15,
    "start_time": "2023-06-23T18:55:22.010Z"
   },
   {
    "duration": 12,
    "start_time": "2023-06-23T18:55:22.027Z"
   },
   {
    "duration": 16,
    "start_time": "2023-06-23T18:55:22.041Z"
   },
   {
    "duration": 7,
    "start_time": "2023-06-23T18:55:22.058Z"
   },
   {
    "duration": 20,
    "start_time": "2023-06-23T18:55:22.066Z"
   },
   {
    "duration": 39,
    "start_time": "2023-06-23T18:55:22.088Z"
   },
   {
    "duration": 6,
    "start_time": "2023-06-23T18:55:22.128Z"
   },
   {
    "duration": 6,
    "start_time": "2023-06-23T18:55:22.135Z"
   },
   {
    "duration": 195,
    "start_time": "2023-06-23T18:55:22.142Z"
   },
   {
    "duration": 144,
    "start_time": "2023-06-23T18:55:22.338Z"
   },
   {
    "duration": 181,
    "start_time": "2023-06-23T18:55:22.489Z"
   },
   {
    "duration": 15,
    "start_time": "2023-06-23T18:55:22.673Z"
   },
   {
    "duration": 173,
    "start_time": "2023-06-23T18:55:22.692Z"
   },
   {
    "duration": 14,
    "start_time": "2023-06-23T18:55:22.867Z"
   },
   {
    "duration": 19,
    "start_time": "2023-06-23T18:55:22.882Z"
   },
   {
    "duration": 181,
    "start_time": "2023-06-23T18:55:22.903Z"
   },
   {
    "duration": 169,
    "start_time": "2023-06-23T18:55:23.085Z"
   },
   {
    "duration": 176,
    "start_time": "2023-06-23T18:55:23.255Z"
   },
   {
    "duration": 16,
    "start_time": "2023-06-23T18:55:23.433Z"
   },
   {
    "duration": 11,
    "start_time": "2023-06-23T18:55:23.451Z"
   },
   {
    "duration": 41,
    "start_time": "2023-06-23T18:55:23.479Z"
   },
   {
    "duration": 14,
    "start_time": "2023-06-23T18:55:23.522Z"
   },
   {
    "duration": 23,
    "start_time": "2023-06-23T18:55:23.538Z"
   },
   {
    "duration": 179,
    "start_time": "2023-06-23T18:55:23.563Z"
   },
   {
    "duration": 157,
    "start_time": "2023-06-23T18:55:23.744Z"
   },
   {
    "duration": 9,
    "start_time": "2023-06-23T18:55:23.903Z"
   },
   {
    "duration": 19,
    "start_time": "2023-06-23T18:55:23.914Z"
   },
   {
    "duration": 178,
    "start_time": "2023-06-23T18:55:23.935Z"
   },
   {
    "duration": 225,
    "start_time": "2023-06-23T18:55:24.115Z"
   },
   {
    "duration": 8,
    "start_time": "2023-06-23T18:55:24.342Z"
   },
   {
    "duration": 28,
    "start_time": "2023-06-23T18:55:24.351Z"
   },
   {
    "duration": 10,
    "start_time": "2023-06-23T18:55:24.386Z"
   },
   {
    "duration": 13,
    "start_time": "2023-06-23T18:55:24.404Z"
   },
   {
    "duration": 152,
    "start_time": "2023-06-23T18:55:24.418Z"
   },
   {
    "duration": 33,
    "start_time": "2023-06-23T18:55:24.572Z"
   },
   {
    "duration": 167,
    "start_time": "2023-06-23T18:55:24.606Z"
   },
   {
    "duration": 7,
    "start_time": "2023-06-23T18:55:24.778Z"
   },
   {
    "duration": 40,
    "start_time": "2023-06-23T18:55:24.787Z"
   },
   {
    "duration": 5,
    "start_time": "2023-06-23T18:55:24.831Z"
   },
   {
    "duration": 10,
    "start_time": "2023-06-23T18:55:24.837Z"
   },
   {
    "duration": 7,
    "start_time": "2023-06-23T18:55:24.848Z"
   },
   {
    "duration": 6,
    "start_time": "2023-06-23T18:55:24.856Z"
   },
   {
    "duration": 10,
    "start_time": "2023-06-23T18:55:24.863Z"
   },
   {
    "duration": 44,
    "start_time": "2023-06-23T18:55:24.874Z"
   },
   {
    "duration": 1167,
    "start_time": "2023-06-24T12:14:25.865Z"
   },
   {
    "duration": 155,
    "start_time": "2023-06-24T12:14:27.035Z"
   },
   {
    "duration": 16,
    "start_time": "2023-06-24T12:14:27.192Z"
   },
   {
    "duration": 20,
    "start_time": "2023-06-24T12:14:27.210Z"
   },
   {
    "duration": 27,
    "start_time": "2023-06-24T12:14:27.232Z"
   },
   {
    "duration": 11,
    "start_time": "2023-06-24T12:14:27.268Z"
   },
   {
    "duration": 15,
    "start_time": "2023-06-24T12:14:27.282Z"
   },
   {
    "duration": 24,
    "start_time": "2023-06-24T12:14:27.299Z"
   },
   {
    "duration": 8,
    "start_time": "2023-06-24T12:14:27.325Z"
   },
   {
    "duration": 25,
    "start_time": "2023-06-24T12:14:27.335Z"
   },
   {
    "duration": 220,
    "start_time": "2023-06-24T12:14:27.362Z"
   },
   {
    "duration": 158,
    "start_time": "2023-06-24T12:14:27.584Z"
   },
   {
    "duration": 199,
    "start_time": "2023-06-24T12:14:27.744Z"
   },
   {
    "duration": 19,
    "start_time": "2023-06-24T12:14:27.953Z"
   },
   {
    "duration": 183,
    "start_time": "2023-06-24T12:14:27.974Z"
   },
   {
    "duration": 11,
    "start_time": "2023-06-24T12:14:28.162Z"
   },
   {
    "duration": 9,
    "start_time": "2023-06-24T12:14:28.175Z"
   },
   {
    "duration": 222,
    "start_time": "2023-06-24T12:14:28.185Z"
   },
   {
    "duration": 222,
    "start_time": "2023-06-24T12:14:28.409Z"
   },
   {
    "duration": 184,
    "start_time": "2023-06-24T12:14:28.633Z"
   },
   {
    "duration": 18,
    "start_time": "2023-06-24T12:14:28.819Z"
   },
   {
    "duration": 33,
    "start_time": "2023-06-24T12:14:28.838Z"
   },
   {
    "duration": 29,
    "start_time": "2023-06-24T12:14:28.873Z"
   },
   {
    "duration": 76,
    "start_time": "2023-06-24T12:14:28.904Z"
   },
   {
    "duration": 48,
    "start_time": "2023-06-24T12:14:28.982Z"
   },
   {
    "duration": 185,
    "start_time": "2023-06-24T12:14:29.033Z"
   },
   {
    "duration": 189,
    "start_time": "2023-06-24T12:14:29.220Z"
   },
   {
    "duration": 12,
    "start_time": "2023-06-24T12:14:29.411Z"
   },
   {
    "duration": 11,
    "start_time": "2023-06-24T12:14:29.426Z"
   },
   {
    "duration": 196,
    "start_time": "2023-06-24T12:14:29.458Z"
   },
   {
    "duration": 257,
    "start_time": "2023-06-24T12:14:29.658Z"
   },
   {
    "duration": 10,
    "start_time": "2023-06-24T12:14:29.917Z"
   },
   {
    "duration": 61,
    "start_time": "2023-06-24T12:14:29.929Z"
   },
   {
    "duration": 6,
    "start_time": "2023-06-24T12:14:29.992Z"
   },
   {
    "duration": 125,
    "start_time": "2023-06-24T12:14:29.999Z"
   },
   {
    "duration": 183,
    "start_time": "2023-06-24T12:14:30.126Z"
   },
   {
    "duration": 11,
    "start_time": "2023-06-24T12:14:30.311Z"
   },
   {
    "duration": 283,
    "start_time": "2023-06-24T12:14:30.324Z"
   },
   {
    "duration": 7,
    "start_time": "2023-06-24T12:14:30.609Z"
   },
   {
    "duration": 203,
    "start_time": "2023-06-24T12:14:30.618Z"
   },
   {
    "duration": 44,
    "start_time": "2023-06-24T12:14:30.825Z"
   },
   {
    "duration": 91,
    "start_time": "2023-06-24T12:14:30.871Z"
   },
   {
    "duration": 44,
    "start_time": "2023-06-24T12:14:30.964Z"
   },
   {
    "duration": 36,
    "start_time": "2023-06-24T12:14:31.010Z"
   },
   {
    "duration": 53,
    "start_time": "2023-06-24T12:14:31.048Z"
   },
   {
    "duration": 69,
    "start_time": "2023-06-24T12:14:31.103Z"
   },
   {
    "duration": 93,
    "start_time": "2023-06-24T12:23:41.536Z"
   },
   {
    "duration": 6,
    "start_time": "2023-06-24T12:29:09.205Z"
   },
   {
    "duration": 9,
    "start_time": "2023-06-24T12:29:21.303Z"
   },
   {
    "duration": 7,
    "start_time": "2023-06-24T12:31:31.199Z"
   },
   {
    "duration": 12,
    "start_time": "2023-06-24T12:31:31.444Z"
   },
   {
    "duration": 183,
    "start_time": "2023-06-24T12:31:32.315Z"
   },
   {
    "duration": 7,
    "start_time": "2023-06-24T12:32:33.131Z"
   },
   {
    "duration": 9,
    "start_time": "2023-06-24T12:32:33.307Z"
   },
   {
    "duration": 7,
    "start_time": "2023-06-24T12:32:34.278Z"
   },
   {
    "duration": 11,
    "start_time": "2023-06-24T12:32:48.915Z"
   },
   {
    "duration": 6,
    "start_time": "2023-06-24T12:32:51.306Z"
   },
   {
    "duration": 65,
    "start_time": "2023-06-24T14:44:27.314Z"
   },
   {
    "duration": 7,
    "start_time": "2023-06-24T14:44:32.776Z"
   },
   {
    "duration": 8,
    "start_time": "2023-06-24T14:44:37.579Z"
   },
   {
    "duration": 1167,
    "start_time": "2023-06-24T14:44:46.098Z"
   },
   {
    "duration": 224,
    "start_time": "2023-06-24T14:44:47.267Z"
   },
   {
    "duration": 17,
    "start_time": "2023-06-24T14:44:47.493Z"
   },
   {
    "duration": 15,
    "start_time": "2023-06-24T14:44:47.512Z"
   },
   {
    "duration": 22,
    "start_time": "2023-06-24T14:44:47.530Z"
   },
   {
    "duration": 18,
    "start_time": "2023-06-24T14:44:47.554Z"
   },
   {
    "duration": 16,
    "start_time": "2023-06-24T14:44:47.574Z"
   },
   {
    "duration": 18,
    "start_time": "2023-06-24T14:44:47.592Z"
   },
   {
    "duration": 5,
    "start_time": "2023-06-24T14:44:47.612Z"
   },
   {
    "duration": 16,
    "start_time": "2023-06-24T14:44:47.618Z"
   },
   {
    "duration": 168,
    "start_time": "2023-06-24T14:44:47.635Z"
   },
   {
    "duration": 124,
    "start_time": "2023-06-24T14:44:47.805Z"
   },
   {
    "duration": 157,
    "start_time": "2023-06-24T14:44:47.930Z"
   },
   {
    "duration": 17,
    "start_time": "2023-06-24T14:44:48.090Z"
   },
   {
    "duration": 157,
    "start_time": "2023-06-24T14:44:48.109Z"
   },
   {
    "duration": 11,
    "start_time": "2023-06-24T14:44:48.268Z"
   },
   {
    "duration": 4,
    "start_time": "2023-06-24T14:44:48.281Z"
   },
   {
    "duration": 146,
    "start_time": "2023-06-24T14:44:48.287Z"
   },
   {
    "duration": 147,
    "start_time": "2023-06-24T14:44:48.436Z"
   },
   {
    "duration": 152,
    "start_time": "2023-06-24T14:44:48.585Z"
   },
   {
    "duration": 15,
    "start_time": "2023-06-24T14:44:48.739Z"
   },
   {
    "duration": 13,
    "start_time": "2023-06-24T14:44:48.755Z"
   },
   {
    "duration": 25,
    "start_time": "2023-06-24T14:44:48.770Z"
   },
   {
    "duration": 17,
    "start_time": "2023-06-24T14:44:48.800Z"
   },
   {
    "duration": 29,
    "start_time": "2023-06-24T14:44:48.818Z"
   },
   {
    "duration": 110,
    "start_time": "2023-06-24T14:44:48.849Z"
   },
   {
    "duration": 140,
    "start_time": "2023-06-24T14:44:48.961Z"
   },
   {
    "duration": 9,
    "start_time": "2023-06-24T14:44:49.103Z"
   },
   {
    "duration": 16,
    "start_time": "2023-06-24T14:44:49.114Z"
   },
   {
    "duration": 132,
    "start_time": "2023-06-24T14:44:49.132Z"
   },
   {
    "duration": 178,
    "start_time": "2023-06-24T14:44:49.266Z"
   },
   {
    "duration": 10,
    "start_time": "2023-06-24T14:44:49.446Z"
   },
   {
    "duration": 33,
    "start_time": "2023-06-24T14:44:49.458Z"
   },
   {
    "duration": 11,
    "start_time": "2023-06-24T14:44:49.493Z"
   },
   {
    "duration": 17,
    "start_time": "2023-06-24T14:44:49.506Z"
   },
   {
    "duration": 182,
    "start_time": "2023-06-24T14:44:49.525Z"
   },
   {
    "duration": 9,
    "start_time": "2023-06-24T14:44:49.709Z"
   },
   {
    "duration": 147,
    "start_time": "2023-06-24T14:44:49.719Z"
   },
   {
    "duration": 6,
    "start_time": "2023-06-24T14:44:49.868Z"
   },
   {
    "duration": 23,
    "start_time": "2023-06-24T14:44:49.875Z"
   },
   {
    "duration": 14,
    "start_time": "2023-06-24T14:44:49.903Z"
   },
   {
    "duration": 16,
    "start_time": "2023-06-24T14:44:49.919Z"
   },
   {
    "duration": 27,
    "start_time": "2023-06-24T14:44:49.937Z"
   },
   {
    "duration": 11,
    "start_time": "2023-06-24T14:44:49.966Z"
   },
   {
    "duration": 29,
    "start_time": "2023-06-24T14:44:49.978Z"
   },
   {
    "duration": 30,
    "start_time": "2023-06-24T14:44:50.008Z"
   },
   {
    "duration": 159,
    "start_time": "2023-06-24T14:45:00.132Z"
   },
   {
    "duration": 86,
    "start_time": "2023-06-25T08:52:35.075Z"
   },
   {
    "duration": 1250,
    "start_time": "2023-06-25T08:52:49.275Z"
   },
   {
    "duration": 388,
    "start_time": "2023-06-25T08:52:50.528Z"
   },
   {
    "duration": 16,
    "start_time": "2023-06-25T08:52:50.919Z"
   },
   {
    "duration": 29,
    "start_time": "2023-06-25T08:52:50.938Z"
   },
   {
    "duration": 38,
    "start_time": "2023-06-25T08:52:50.969Z"
   },
   {
    "duration": 32,
    "start_time": "2023-06-25T08:52:51.009Z"
   },
   {
    "duration": 32,
    "start_time": "2023-06-25T08:52:51.043Z"
   },
   {
    "duration": 50,
    "start_time": "2023-06-25T08:52:51.076Z"
   },
   {
    "duration": 30,
    "start_time": "2023-06-25T08:52:51.128Z"
   },
   {
    "duration": 30,
    "start_time": "2023-06-25T08:52:51.161Z"
   },
   {
    "duration": 191,
    "start_time": "2023-06-25T08:52:51.193Z"
   },
   {
    "duration": 150,
    "start_time": "2023-06-25T08:52:51.386Z"
   },
   {
    "duration": 179,
    "start_time": "2023-06-25T08:52:51.538Z"
   },
   {
    "duration": 13,
    "start_time": "2023-06-25T08:52:51.718Z"
   },
   {
    "duration": 180,
    "start_time": "2023-06-25T08:52:51.732Z"
   },
   {
    "duration": 9,
    "start_time": "2023-06-25T08:52:51.914Z"
   },
   {
    "duration": 60,
    "start_time": "2023-06-25T08:52:51.924Z"
   },
   {
    "duration": 202,
    "start_time": "2023-06-25T08:52:51.985Z"
   },
   {
    "duration": 183,
    "start_time": "2023-06-25T08:52:52.189Z"
   },
   {
    "duration": 179,
    "start_time": "2023-06-25T08:52:52.374Z"
   },
   {
    "duration": 26,
    "start_time": "2023-06-25T08:52:52.555Z"
   },
   {
    "duration": 41,
    "start_time": "2023-06-25T08:52:52.583Z"
   },
   {
    "duration": 15,
    "start_time": "2023-06-25T08:52:52.625Z"
   },
   {
    "duration": 12,
    "start_time": "2023-06-25T08:52:52.642Z"
   },
   {
    "duration": 17,
    "start_time": "2023-06-25T08:52:52.657Z"
   },
   {
    "duration": 165,
    "start_time": "2023-06-25T08:52:52.676Z"
   },
   {
    "duration": 196,
    "start_time": "2023-06-25T08:52:52.843Z"
   },
   {
    "duration": 11,
    "start_time": "2023-06-25T08:52:53.043Z"
   },
   {
    "duration": 49,
    "start_time": "2023-06-25T08:52:53.066Z"
   },
   {
    "duration": 217,
    "start_time": "2023-06-25T08:52:53.117Z"
   },
   {
    "duration": 237,
    "start_time": "2023-06-25T08:52:53.336Z"
   },
   {
    "duration": 10,
    "start_time": "2023-06-25T08:52:53.575Z"
   },
   {
    "duration": 23,
    "start_time": "2023-06-25T08:52:53.586Z"
   },
   {
    "duration": 65,
    "start_time": "2023-06-25T08:52:53.611Z"
   },
   {
    "duration": 15,
    "start_time": "2023-06-25T08:52:53.678Z"
   },
   {
    "duration": 157,
    "start_time": "2023-06-25T08:52:53.694Z"
   },
   {
    "duration": 14,
    "start_time": "2023-06-25T08:52:53.853Z"
   },
   {
    "duration": 233,
    "start_time": "2023-06-25T08:52:53.869Z"
   },
   {
    "duration": 8,
    "start_time": "2023-06-25T08:52:54.104Z"
   },
   {
    "duration": 22,
    "start_time": "2023-06-25T08:52:54.114Z"
   },
   {
    "duration": 11,
    "start_time": "2023-06-25T08:52:54.138Z"
   },
   {
    "duration": 23,
    "start_time": "2023-06-25T08:52:54.152Z"
   },
   {
    "duration": 10,
    "start_time": "2023-06-25T08:52:54.178Z"
   },
   {
    "duration": 8,
    "start_time": "2023-06-25T08:52:54.190Z"
   },
   {
    "duration": 21,
    "start_time": "2023-06-25T08:52:54.200Z"
   },
   {
    "duration": 39,
    "start_time": "2023-06-25T08:52:54.223Z"
   },
   {
    "duration": 69,
    "start_time": "2023-06-25T08:53:25.064Z"
   },
   {
    "duration": 164,
    "start_time": "2023-06-25T08:53:36.152Z"
   },
   {
    "duration": 173,
    "start_time": "2023-06-25T08:53:44.808Z"
   },
   {
    "duration": 147,
    "start_time": "2023-06-25T08:53:56.175Z"
   },
   {
    "duration": 153,
    "start_time": "2023-06-25T08:54:08.085Z"
   },
   {
    "duration": 119,
    "start_time": "2023-06-25T08:55:41.210Z"
   },
   {
    "duration": 177,
    "start_time": "2023-06-25T08:55:48.297Z"
   },
   {
    "duration": 147,
    "start_time": "2023-06-25T08:56:52.389Z"
   },
   {
    "duration": 154,
    "start_time": "2023-06-25T08:57:44.254Z"
   },
   {
    "duration": 252,
    "start_time": "2023-06-25T08:57:49.485Z"
   },
   {
    "duration": 151,
    "start_time": "2023-06-25T08:58:15.829Z"
   },
   {
    "duration": 146,
    "start_time": "2023-06-25T08:58:20.299Z"
   },
   {
    "duration": 171,
    "start_time": "2023-06-25T08:58:39.140Z"
   },
   {
    "duration": 160,
    "start_time": "2023-06-25T08:58:59.532Z"
   },
   {
    "duration": 80,
    "start_time": "2023-06-25T08:59:08.508Z"
   },
   {
    "duration": 157,
    "start_time": "2023-06-25T08:59:12.533Z"
   },
   {
    "duration": 162,
    "start_time": "2023-06-25T08:59:24.668Z"
   },
   {
    "duration": 146,
    "start_time": "2023-06-25T09:00:03.630Z"
   },
   {
    "duration": 148,
    "start_time": "2023-06-25T09:00:13.662Z"
   },
   {
    "duration": 163,
    "start_time": "2023-06-25T09:00:18.701Z"
   },
   {
    "duration": 157,
    "start_time": "2023-06-25T09:00:27.290Z"
   },
   {
    "duration": 165,
    "start_time": "2023-06-25T09:00:55.802Z"
   },
   {
    "duration": 175,
    "start_time": "2023-06-25T09:01:01.454Z"
   },
   {
    "duration": 292,
    "start_time": "2023-06-25T09:02:48.824Z"
   },
   {
    "duration": 173,
    "start_time": "2023-06-25T09:03:14.088Z"
   },
   {
    "duration": 171,
    "start_time": "2023-06-25T09:04:18.786Z"
   },
   {
    "duration": 144,
    "start_time": "2023-06-25T09:04:44.163Z"
   },
   {
    "duration": 170,
    "start_time": "2023-06-25T09:05:30.533Z"
   },
   {
    "duration": 160,
    "start_time": "2023-06-25T09:05:45.236Z"
   },
   {
    "duration": 162,
    "start_time": "2023-06-25T09:06:01.156Z"
   },
   {
    "duration": 150,
    "start_time": "2023-06-25T09:06:24.211Z"
   },
   {
    "duration": 159,
    "start_time": "2023-06-25T09:06:30.348Z"
   },
   {
    "duration": 158,
    "start_time": "2023-06-25T09:06:53.684Z"
   },
   {
    "duration": 158,
    "start_time": "2023-06-25T09:07:06.524Z"
   },
   {
    "duration": 146,
    "start_time": "2023-06-25T09:07:13.260Z"
   },
   {
    "duration": 161,
    "start_time": "2023-06-25T09:09:14.559Z"
   },
   {
    "duration": 284,
    "start_time": "2023-06-25T09:09:22.574Z"
   },
   {
    "duration": 158,
    "start_time": "2023-06-25T09:09:28.134Z"
   },
   {
    "duration": 177,
    "start_time": "2023-06-25T09:09:34.790Z"
   },
   {
    "duration": 161,
    "start_time": "2023-06-25T09:10:16.422Z"
   },
   {
    "duration": 9,
    "start_time": "2023-06-25T09:21:21.777Z"
   },
   {
    "duration": 12,
    "start_time": "2023-06-25T09:21:28.065Z"
   },
   {
    "duration": 10,
    "start_time": "2023-06-25T09:21:52.610Z"
   },
   {
    "duration": 4,
    "start_time": "2023-06-25T09:21:57.000Z"
   },
   {
    "duration": 9,
    "start_time": "2023-06-25T09:22:02.762Z"
   },
   {
    "duration": 4,
    "start_time": "2023-06-25T09:22:07.040Z"
   },
   {
    "duration": 4,
    "start_time": "2023-06-25T09:22:12.737Z"
   },
   {
    "duration": 4,
    "start_time": "2023-06-25T09:22:26.786Z"
   },
   {
    "duration": 4,
    "start_time": "2023-06-25T09:23:18.163Z"
   },
   {
    "duration": 6,
    "start_time": "2023-06-25T09:24:29.667Z"
   },
   {
    "duration": 12,
    "start_time": "2023-06-25T09:36:28.606Z"
   },
   {
    "duration": 12,
    "start_time": "2023-06-25T09:36:33.269Z"
   },
   {
    "duration": 10,
    "start_time": "2023-06-25T09:36:38.301Z"
   },
   {
    "duration": 18,
    "start_time": "2023-06-25T09:36:51.702Z"
   },
   {
    "duration": 10,
    "start_time": "2023-06-25T09:37:14.703Z"
   },
   {
    "duration": 6,
    "start_time": "2023-06-25T09:37:31.294Z"
   },
   {
    "duration": 19,
    "start_time": "2023-06-25T09:37:35.101Z"
   },
   {
    "duration": 10,
    "start_time": "2023-06-25T09:37:43.487Z"
   },
   {
    "duration": 7,
    "start_time": "2023-06-25T09:38:11.830Z"
   },
   {
    "duration": 8,
    "start_time": "2023-06-25T09:38:14.413Z"
   },
   {
    "duration": 11,
    "start_time": "2023-06-25T09:38:19.214Z"
   },
   {
    "duration": 9,
    "start_time": "2023-06-25T09:38:22.311Z"
   },
   {
    "duration": 8,
    "start_time": "2023-06-25T09:38:32.471Z"
   },
   {
    "duration": 7,
    "start_time": "2023-06-25T09:38:41.175Z"
   },
   {
    "duration": 6,
    "start_time": "2023-06-25T09:38:47.887Z"
   },
   {
    "duration": 6,
    "start_time": "2023-06-25T09:39:10.455Z"
   },
   {
    "duration": 8,
    "start_time": "2023-06-25T09:39:31.666Z"
   },
   {
    "duration": 8,
    "start_time": "2023-06-25T09:39:39.229Z"
   },
   {
    "duration": 6,
    "start_time": "2023-06-25T09:39:48.639Z"
   },
   {
    "duration": 11,
    "start_time": "2023-06-25T09:40:49.475Z"
   },
   {
    "duration": 11,
    "start_time": "2023-06-25T09:40:58.175Z"
   },
   {
    "duration": 10,
    "start_time": "2023-06-25T09:41:11.472Z"
   },
   {
    "duration": 9,
    "start_time": "2023-06-25T09:41:13.297Z"
   },
   {
    "duration": 5,
    "start_time": "2023-06-25T09:41:33.122Z"
   },
   {
    "duration": 5,
    "start_time": "2023-06-25T09:41:38.234Z"
   },
   {
    "duration": 6,
    "start_time": "2023-06-25T09:42:02.875Z"
   },
   {
    "duration": 5,
    "start_time": "2023-06-25T09:42:11.618Z"
   },
   {
    "duration": 11,
    "start_time": "2023-06-25T10:15:05.982Z"
   },
   {
    "duration": 6,
    "start_time": "2023-06-25T10:15:40.118Z"
   },
   {
    "duration": 6,
    "start_time": "2023-06-25T10:15:42.063Z"
   },
   {
    "duration": 6,
    "start_time": "2023-06-25T10:18:21.452Z"
   },
   {
    "duration": 11,
    "start_time": "2023-06-25T10:19:09.130Z"
   },
   {
    "duration": 13,
    "start_time": "2023-06-25T10:19:15.352Z"
   },
   {
    "duration": 12,
    "start_time": "2023-06-25T10:19:19.681Z"
   },
   {
    "duration": 156,
    "start_time": "2023-06-25T10:23:15.523Z"
   },
   {
    "duration": 151,
    "start_time": "2023-06-25T10:23:28.988Z"
   },
   {
    "duration": 166,
    "start_time": "2023-06-25T10:23:39.355Z"
   },
   {
    "duration": 151,
    "start_time": "2023-06-25T10:23:56.452Z"
   },
   {
    "duration": 149,
    "start_time": "2023-06-25T10:24:07.925Z"
   },
   {
    "duration": 162,
    "start_time": "2023-06-25T10:24:11.420Z"
   },
   {
    "duration": 6,
    "start_time": "2023-06-25T10:33:06.303Z"
   },
   {
    "duration": 8,
    "start_time": "2023-06-25T10:33:12.797Z"
   },
   {
    "duration": 7,
    "start_time": "2023-06-25T10:33:42.828Z"
   },
   {
    "duration": 6,
    "start_time": "2023-06-25T10:34:20.205Z"
   },
   {
    "duration": 6,
    "start_time": "2023-06-25T10:34:54.079Z"
   },
   {
    "duration": 6,
    "start_time": "2023-06-25T10:35:06.422Z"
   },
   {
    "duration": 6,
    "start_time": "2023-06-25T10:35:26.030Z"
   },
   {
    "duration": 6,
    "start_time": "2023-06-25T10:35:31.214Z"
   },
   {
    "duration": 6,
    "start_time": "2023-06-25T10:35:37.701Z"
   },
   {
    "duration": 70,
    "start_time": "2023-06-25T10:36:08.192Z"
   },
   {
    "duration": 6,
    "start_time": "2023-06-25T10:39:13.632Z"
   },
   {
    "duration": 11,
    "start_time": "2023-06-25T10:55:22.783Z"
   },
   {
    "duration": 8,
    "start_time": "2023-06-25T10:55:26.867Z"
   },
   {
    "duration": 5,
    "start_time": "2023-06-25T10:55:33.016Z"
   },
   {
    "duration": 2,
    "start_time": "2023-06-25T10:56:39.487Z"
   },
   {
    "duration": 1680,
    "start_time": "2023-06-25T10:57:31.530Z"
   },
   {
    "duration": 1923,
    "start_time": "2023-06-25T10:57:52.812Z"
   },
   {
    "duration": 1816,
    "start_time": "2023-06-25T10:57:58.378Z"
   },
   {
    "duration": 1689,
    "start_time": "2023-06-25T10:58:09.463Z"
   },
   {
    "duration": 1714,
    "start_time": "2023-06-25T10:58:16.666Z"
   },
   {
    "duration": 248,
    "start_time": "2023-06-25T10:58:59.698Z"
   },
   {
    "duration": 256,
    "start_time": "2023-06-25T10:59:03.322Z"
   },
   {
    "duration": 252,
    "start_time": "2023-06-25T10:59:15.490Z"
   },
   {
    "duration": 245,
    "start_time": "2023-06-25T10:59:26.066Z"
   },
   {
    "duration": 270,
    "start_time": "2023-06-25T10:59:28.761Z"
   },
   {
    "duration": 97,
    "start_time": "2023-06-25T11:01:48.260Z"
   },
   {
    "duration": 76,
    "start_time": "2023-06-25T11:02:00.074Z"
   },
   {
    "duration": 474,
    "start_time": "2023-06-25T11:02:50.726Z"
   },
   {
    "duration": 204,
    "start_time": "2023-06-25T11:02:58.677Z"
   },
   {
    "duration": 169,
    "start_time": "2023-06-25T11:07:46.226Z"
   },
   {
    "duration": 269,
    "start_time": "2023-06-25T11:07:52.338Z"
   },
   {
    "duration": 394,
    "start_time": "2023-06-25T11:12:44.814Z"
   },
   {
    "duration": 5,
    "start_time": "2023-06-25T12:25:58.895Z"
   },
   {
    "duration": 5,
    "start_time": "2023-06-25T12:26:14.398Z"
   },
   {
    "duration": 5,
    "start_time": "2023-06-25T12:26:17.917Z"
   },
   {
    "duration": 6,
    "start_time": "2023-06-25T12:26:22.854Z"
   },
   {
    "duration": 5,
    "start_time": "2023-06-25T12:27:44.625Z"
   },
   {
    "duration": 5,
    "start_time": "2023-06-25T12:27:54.287Z"
   },
   {
    "duration": 126,
    "start_time": "2023-06-25T12:27:59.535Z"
   },
   {
    "duration": 5,
    "start_time": "2023-06-25T12:28:02.390Z"
   },
   {
    "duration": 6,
    "start_time": "2023-06-25T12:28:04.991Z"
   },
   {
    "duration": 6,
    "start_time": "2023-06-25T12:28:10.142Z"
   },
   {
    "duration": 7,
    "start_time": "2023-06-25T12:28:13.886Z"
   },
   {
    "duration": 5,
    "start_time": "2023-06-25T12:28:17.240Z"
   },
   {
    "duration": 5,
    "start_time": "2023-06-25T12:28:20.487Z"
   },
   {
    "duration": 5,
    "start_time": "2023-06-25T12:28:25.527Z"
   },
   {
    "duration": 6,
    "start_time": "2023-06-25T12:29:11.591Z"
   },
   {
    "duration": 5,
    "start_time": "2023-06-25T12:29:17.432Z"
   },
   {
    "duration": 5,
    "start_time": "2023-06-25T12:29:21.290Z"
   },
   {
    "duration": 6,
    "start_time": "2023-06-25T12:29:25.697Z"
   },
   {
    "duration": 4,
    "start_time": "2023-06-25T12:29:29.737Z"
   },
   {
    "duration": 10,
    "start_time": "2023-06-25T12:30:12.864Z"
   },
   {
    "duration": 6,
    "start_time": "2023-06-25T12:30:19.157Z"
   },
   {
    "duration": 5,
    "start_time": "2023-06-25T12:30:24.801Z"
   },
   {
    "duration": 5,
    "start_time": "2023-06-25T12:30:29.600Z"
   },
   {
    "duration": 6,
    "start_time": "2023-06-25T12:31:14.147Z"
   },
   {
    "duration": 5,
    "start_time": "2023-06-25T12:31:19.493Z"
   },
   {
    "duration": 5,
    "start_time": "2023-06-25T12:31:26.591Z"
   },
   {
    "duration": 4,
    "start_time": "2023-06-25T12:34:17.932Z"
   },
   {
    "duration": 4,
    "start_time": "2023-06-25T12:34:21.740Z"
   },
   {
    "duration": 7,
    "start_time": "2023-06-25T12:34:35.123Z"
   },
   {
    "duration": 6,
    "start_time": "2023-06-25T12:34:39.460Z"
   },
   {
    "duration": 6,
    "start_time": "2023-06-25T12:34:57.044Z"
   },
   {
    "duration": 7,
    "start_time": "2023-06-25T12:35:34.446Z"
   },
   {
    "duration": 5,
    "start_time": "2023-06-25T12:35:40.533Z"
   },
   {
    "duration": 6,
    "start_time": "2023-06-25T12:35:43.868Z"
   },
   {
    "duration": 5,
    "start_time": "2023-06-25T12:35:48.141Z"
   },
   {
    "duration": 10,
    "start_time": "2023-06-25T12:37:16.383Z"
   },
   {
    "duration": 6,
    "start_time": "2023-06-25T12:37:22.598Z"
   },
   {
    "duration": 5,
    "start_time": "2023-06-25T12:37:35.743Z"
   },
   {
    "duration": 6,
    "start_time": "2023-06-25T12:37:41.502Z"
   },
   {
    "duration": 5,
    "start_time": "2023-06-25T12:37:46.776Z"
   },
   {
    "duration": 7,
    "start_time": "2023-06-25T12:38:07.190Z"
   },
   {
    "duration": 6,
    "start_time": "2023-06-25T12:38:13.359Z"
   },
   {
    "duration": 11,
    "start_time": "2023-06-25T12:39:09.675Z"
   },
   {
    "duration": 5,
    "start_time": "2023-06-25T12:39:13.072Z"
   },
   {
    "duration": 6,
    "start_time": "2023-06-25T12:39:24.679Z"
   },
   {
    "duration": 6,
    "start_time": "2023-06-25T12:39:29.289Z"
   },
   {
    "duration": 5,
    "start_time": "2023-06-25T12:39:33.657Z"
   },
   {
    "duration": 6,
    "start_time": "2023-06-25T12:39:36.760Z"
   },
   {
    "duration": 7,
    "start_time": "2023-06-25T12:39:40.152Z"
   },
   {
    "duration": 6,
    "start_time": "2023-06-25T12:39:43.633Z"
   },
   {
    "duration": 6,
    "start_time": "2023-06-25T12:39:48.234Z"
   },
   {
    "duration": 6,
    "start_time": "2023-06-25T12:39:51.945Z"
   },
   {
    "duration": 37,
    "start_time": "2023-06-25T12:42:10.613Z"
   },
   {
    "duration": 0,
    "start_time": "2023-06-25T12:42:43.611Z"
   },
   {
    "duration": 7864,
    "start_time": "2023-06-25T12:42:45.339Z"
   },
   {
    "duration": 6,
    "start_time": "2023-06-25T12:43:16.562Z"
   },
   {
    "duration": 7,
    "start_time": "2023-06-25T12:43:21.922Z"
   },
   {
    "duration": 6,
    "start_time": "2023-06-25T12:43:32.348Z"
   },
   {
    "duration": 4,
    "start_time": "2023-06-25T12:44:23.636Z"
   },
   {
    "duration": 5,
    "start_time": "2023-06-25T12:44:25.988Z"
   },
   {
    "duration": 720,
    "start_time": "2023-06-25T12:44:55.238Z"
   },
   {
    "duration": 5,
    "start_time": "2023-06-25T12:45:06.276Z"
   },
   {
    "duration": 758,
    "start_time": "2023-06-25T12:45:14.293Z"
   },
   {
    "duration": 846,
    "start_time": "2023-06-25T12:45:25.693Z"
   },
   {
    "duration": 6,
    "start_time": "2023-06-25T12:45:51.069Z"
   },
   {
    "duration": 6,
    "start_time": "2023-06-25T12:45:55.437Z"
   },
   {
    "duration": 949,
    "start_time": "2023-06-25T12:51:23.275Z"
   },
   {
    "duration": 7,
    "start_time": "2023-06-25T12:52:02.842Z"
   },
   {
    "duration": 6,
    "start_time": "2023-06-25T12:52:16.299Z"
   },
   {
    "duration": 6,
    "start_time": "2023-06-25T12:52:33.899Z"
   },
   {
    "duration": 6,
    "start_time": "2023-06-25T13:00:48.594Z"
   },
   {
    "duration": 6,
    "start_time": "2023-06-25T13:01:09.819Z"
   },
   {
    "duration": 6,
    "start_time": "2023-06-25T13:01:13.747Z"
   },
   {
    "duration": 6,
    "start_time": "2023-06-25T13:01:17.825Z"
   },
   {
    "duration": 5,
    "start_time": "2023-06-25T13:01:23.482Z"
   },
   {
    "duration": 6,
    "start_time": "2023-06-25T13:01:28.858Z"
   },
   {
    "duration": 6,
    "start_time": "2023-06-25T13:01:34.250Z"
   },
   {
    "duration": 5,
    "start_time": "2023-06-25T13:01:39.402Z"
   },
   {
    "duration": 6,
    "start_time": "2023-06-25T13:01:43.009Z"
   },
   {
    "duration": 6,
    "start_time": "2023-06-25T13:01:57.650Z"
   },
   {
    "duration": 5,
    "start_time": "2023-06-25T13:02:09.851Z"
   },
   {
    "duration": 5,
    "start_time": "2023-06-25T13:02:26.082Z"
   },
   {
    "duration": 6,
    "start_time": "2023-06-25T13:03:01.427Z"
   },
   {
    "duration": 872,
    "start_time": "2023-06-25T13:03:10.027Z"
   },
   {
    "duration": 860,
    "start_time": "2023-06-25T13:03:17.884Z"
   },
   {
    "duration": 5,
    "start_time": "2023-06-25T13:03:30.433Z"
   },
   {
    "duration": 6,
    "start_time": "2023-06-25T13:03:35.436Z"
   },
   {
    "duration": 6,
    "start_time": "2023-06-25T13:03:39.586Z"
   },
   {
    "duration": 863,
    "start_time": "2023-06-25T13:05:37.975Z"
   },
   {
    "duration": 854,
    "start_time": "2023-06-25T13:06:54.023Z"
   },
   {
    "duration": 839,
    "start_time": "2023-06-25T13:07:19.487Z"
   },
   {
    "duration": 3,
    "start_time": "2023-06-25T13:07:45.750Z"
   },
   {
    "duration": 71,
    "start_time": "2023-06-25T13:07:45.758Z"
   },
   {
    "duration": 13,
    "start_time": "2023-06-25T13:07:45.831Z"
   },
   {
    "duration": 6,
    "start_time": "2023-06-25T13:07:45.846Z"
   },
   {
    "duration": 25,
    "start_time": "2023-06-25T13:07:45.854Z"
   },
   {
    "duration": 9,
    "start_time": "2023-06-25T13:07:45.881Z"
   },
   {
    "duration": 14,
    "start_time": "2023-06-25T13:07:45.893Z"
   },
   {
    "duration": 17,
    "start_time": "2023-06-25T13:07:45.909Z"
   },
   {
    "duration": 5,
    "start_time": "2023-06-25T13:07:45.928Z"
   },
   {
    "duration": 32,
    "start_time": "2023-06-25T13:07:45.935Z"
   },
   {
    "duration": 179,
    "start_time": "2023-06-25T13:07:45.970Z"
   },
   {
    "duration": 176,
    "start_time": "2023-06-25T13:07:46.151Z"
   },
   {
    "duration": 177,
    "start_time": "2023-06-25T13:07:46.329Z"
   },
   {
    "duration": 14,
    "start_time": "2023-06-25T13:07:46.507Z"
   },
   {
    "duration": 182,
    "start_time": "2023-06-25T13:07:46.523Z"
   },
   {
    "duration": 10,
    "start_time": "2023-06-25T13:07:46.707Z"
   },
   {
    "duration": 12,
    "start_time": "2023-06-25T13:07:46.718Z"
   },
   {
    "duration": 198,
    "start_time": "2023-06-25T13:07:46.732Z"
   },
   {
    "duration": 170,
    "start_time": "2023-06-25T13:07:46.932Z"
   },
   {
    "duration": 378,
    "start_time": "2023-06-25T13:07:47.104Z"
   },
   {
    "duration": 16,
    "start_time": "2023-06-25T13:07:47.484Z"
   },
   {
    "duration": 13,
    "start_time": "2023-06-25T13:07:47.502Z"
   },
   {
    "duration": 11,
    "start_time": "2023-06-25T13:07:47.518Z"
   },
   {
    "duration": 38,
    "start_time": "2023-06-25T13:07:47.530Z"
   },
   {
    "duration": 11,
    "start_time": "2023-06-25T13:07:47.571Z"
   },
   {
    "duration": 16,
    "start_time": "2023-06-25T13:07:47.583Z"
   },
   {
    "duration": 183,
    "start_time": "2023-06-25T13:07:47.601Z"
   },
   {
    "duration": 200,
    "start_time": "2023-06-25T13:07:47.786Z"
   },
   {
    "duration": 9,
    "start_time": "2023-06-25T13:07:47.988Z"
   },
   {
    "duration": 14,
    "start_time": "2023-06-25T13:07:47.998Z"
   },
   {
    "duration": 177,
    "start_time": "2023-06-25T13:07:48.014Z"
   },
   {
    "duration": 153,
    "start_time": "2023-06-25T13:07:48.193Z"
   },
   {
    "duration": 22,
    "start_time": "2023-06-25T13:07:48.348Z"
   },
   {
    "duration": 19,
    "start_time": "2023-06-25T13:07:48.371Z"
   },
   {
    "duration": 5,
    "start_time": "2023-06-25T13:07:48.392Z"
   },
   {
    "duration": 11,
    "start_time": "2023-06-25T13:07:48.398Z"
   },
   {
    "duration": 184,
    "start_time": "2023-06-25T13:07:48.410Z"
   },
   {
    "duration": 11,
    "start_time": "2023-06-25T13:07:48.595Z"
   },
   {
    "duration": 194,
    "start_time": "2023-06-25T13:07:48.608Z"
   },
   {
    "duration": 7,
    "start_time": "2023-06-25T13:07:48.803Z"
   },
   {
    "duration": 13,
    "start_time": "2023-06-25T13:07:48.811Z"
   },
   {
    "duration": 13,
    "start_time": "2023-06-25T13:07:48.826Z"
   },
   {
    "duration": 44,
    "start_time": "2023-06-25T13:07:48.840Z"
   },
   {
    "duration": 11,
    "start_time": "2023-06-25T13:07:48.886Z"
   },
   {
    "duration": 6,
    "start_time": "2023-06-25T13:07:48.899Z"
   },
   {
    "duration": 11,
    "start_time": "2023-06-25T13:07:48.907Z"
   },
   {
    "duration": 16,
    "start_time": "2023-06-25T13:07:48.919Z"
   },
   {
    "duration": 878,
    "start_time": "2023-06-25T13:07:48.936Z"
   },
   {
    "duration": 4,
    "start_time": "2023-06-25T13:07:49.816Z"
   },
   {
    "duration": 1282,
    "start_time": "2023-06-25T14:19:23.527Z"
   },
   {
    "duration": 361,
    "start_time": "2023-06-25T14:19:24.812Z"
   },
   {
    "duration": 18,
    "start_time": "2023-06-25T14:19:25.175Z"
   },
   {
    "duration": 7,
    "start_time": "2023-06-25T14:19:25.194Z"
   },
   {
    "duration": 17,
    "start_time": "2023-06-25T14:19:25.203Z"
   },
   {
    "duration": 11,
    "start_time": "2023-06-25T14:19:25.222Z"
   },
   {
    "duration": 22,
    "start_time": "2023-06-25T14:19:25.235Z"
   },
   {
    "duration": 12,
    "start_time": "2023-06-25T14:19:25.259Z"
   },
   {
    "duration": 5,
    "start_time": "2023-06-25T14:19:25.273Z"
   },
   {
    "duration": 6,
    "start_time": "2023-06-25T14:19:25.279Z"
   },
   {
    "duration": 190,
    "start_time": "2023-06-25T14:19:25.286Z"
   },
   {
    "duration": 164,
    "start_time": "2023-06-25T14:19:25.479Z"
   },
   {
    "duration": 160,
    "start_time": "2023-06-25T14:19:25.644Z"
   },
   {
    "duration": 14,
    "start_time": "2023-06-25T14:19:25.807Z"
   },
   {
    "duration": 174,
    "start_time": "2023-06-25T14:19:25.822Z"
   },
   {
    "duration": 12,
    "start_time": "2023-06-25T14:19:25.998Z"
   },
   {
    "duration": 4,
    "start_time": "2023-06-25T14:19:26.012Z"
   },
   {
    "duration": 181,
    "start_time": "2023-06-25T14:19:26.018Z"
   },
   {
    "duration": 174,
    "start_time": "2023-06-25T14:19:26.201Z"
   },
   {
    "duration": 169,
    "start_time": "2023-06-25T14:19:26.377Z"
   },
   {
    "duration": 23,
    "start_time": "2023-06-25T14:19:26.548Z"
   },
   {
    "duration": 13,
    "start_time": "2023-06-25T14:19:26.574Z"
   },
   {
    "duration": 4,
    "start_time": "2023-06-25T14:19:26.588Z"
   },
   {
    "duration": 11,
    "start_time": "2023-06-25T14:19:26.594Z"
   },
   {
    "duration": 23,
    "start_time": "2023-06-25T14:19:26.606Z"
   },
   {
    "duration": 40,
    "start_time": "2023-06-25T14:19:26.632Z"
   },
   {
    "duration": 149,
    "start_time": "2023-06-25T14:19:26.674Z"
   },
   {
    "duration": 157,
    "start_time": "2023-06-25T14:19:26.826Z"
   },
   {
    "duration": 10,
    "start_time": "2023-06-25T14:19:26.986Z"
   },
   {
    "duration": 6,
    "start_time": "2023-06-25T14:19:26.997Z"
   },
   {
    "duration": 187,
    "start_time": "2023-06-25T14:19:27.005Z"
   },
   {
    "duration": 243,
    "start_time": "2023-06-25T14:19:27.194Z"
   },
   {
    "duration": 19,
    "start_time": "2023-06-25T14:19:27.438Z"
   },
   {
    "duration": 17,
    "start_time": "2023-06-25T14:19:27.459Z"
   },
   {
    "duration": 5,
    "start_time": "2023-06-25T14:19:27.478Z"
   },
   {
    "duration": 4,
    "start_time": "2023-06-25T14:19:27.485Z"
   },
   {
    "duration": 157,
    "start_time": "2023-06-25T14:19:27.490Z"
   },
   {
    "duration": 14,
    "start_time": "2023-06-25T14:19:27.649Z"
   },
   {
    "duration": 293,
    "start_time": "2023-06-25T14:19:27.665Z"
   },
   {
    "duration": 15,
    "start_time": "2023-06-25T14:19:27.960Z"
   },
   {
    "duration": 7,
    "start_time": "2023-06-25T14:19:27.981Z"
   },
   {
    "duration": 23,
    "start_time": "2023-06-25T14:19:27.989Z"
   },
   {
    "duration": 97,
    "start_time": "2023-06-25T14:19:28.014Z"
   },
   {
    "duration": 10,
    "start_time": "2023-06-25T14:19:28.113Z"
   },
   {
    "duration": 6,
    "start_time": "2023-06-25T14:19:28.157Z"
   },
   {
    "duration": 9,
    "start_time": "2023-06-25T14:19:28.165Z"
   },
   {
    "duration": 17,
    "start_time": "2023-06-25T14:19:28.176Z"
   },
   {
    "duration": 263,
    "start_time": "2023-06-25T14:19:28.195Z"
   },
   {
    "duration": 0,
    "start_time": "2023-06-25T14:19:28.460Z"
   },
   {
    "duration": 7,
    "start_time": "2023-06-25T14:34:41.848Z"
   },
   {
    "duration": 8,
    "start_time": "2023-06-25T14:34:42.048Z"
   },
   {
    "duration": 6,
    "start_time": "2023-06-25T14:34:46.585Z"
   },
   {
    "duration": 9,
    "start_time": "2023-06-25T14:35:00.241Z"
   },
   {
    "duration": 10,
    "start_time": "2023-06-25T14:35:00.400Z"
   },
   {
    "duration": 6,
    "start_time": "2023-06-25T14:35:02.394Z"
   },
   {
    "duration": 119,
    "start_time": "2023-06-25T14:38:12.126Z"
   },
   {
    "duration": 1130,
    "start_time": "2023-06-25T14:38:54.825Z"
   },
   {
    "duration": 131,
    "start_time": "2023-06-25T14:38:55.958Z"
   },
   {
    "duration": 16,
    "start_time": "2023-06-25T14:38:56.091Z"
   },
   {
    "duration": 13,
    "start_time": "2023-06-25T14:38:56.110Z"
   },
   {
    "duration": 23,
    "start_time": "2023-06-25T14:38:56.125Z"
   },
   {
    "duration": 8,
    "start_time": "2023-06-25T14:38:56.150Z"
   },
   {
    "duration": 11,
    "start_time": "2023-06-25T14:38:56.161Z"
   },
   {
    "duration": 13,
    "start_time": "2023-06-25T14:38:56.173Z"
   },
   {
    "duration": 6,
    "start_time": "2023-06-25T14:38:56.188Z"
   },
   {
    "duration": 37,
    "start_time": "2023-06-25T14:38:56.197Z"
   },
   {
    "duration": 193,
    "start_time": "2023-06-25T14:38:56.236Z"
   },
   {
    "duration": 153,
    "start_time": "2023-06-25T14:38:56.432Z"
   },
   {
    "duration": 179,
    "start_time": "2023-06-25T14:38:56.587Z"
   },
   {
    "duration": 16,
    "start_time": "2023-06-25T14:38:56.768Z"
   },
   {
    "duration": 200,
    "start_time": "2023-06-25T14:38:56.786Z"
   },
   {
    "duration": 10,
    "start_time": "2023-06-25T14:38:56.988Z"
   },
   {
    "duration": 5,
    "start_time": "2023-06-25T14:38:57.000Z"
   },
   {
    "duration": 217,
    "start_time": "2023-06-25T14:38:57.007Z"
   },
   {
    "duration": 191,
    "start_time": "2023-06-25T14:38:57.226Z"
   },
   {
    "duration": 176,
    "start_time": "2023-06-25T14:38:57.420Z"
   },
   {
    "duration": 24,
    "start_time": "2023-06-25T14:38:57.598Z"
   },
   {
    "duration": 33,
    "start_time": "2023-06-25T14:38:57.624Z"
   },
   {
    "duration": 4,
    "start_time": "2023-06-25T14:38:57.659Z"
   },
   {
    "duration": 14,
    "start_time": "2023-06-25T14:38:57.665Z"
   },
   {
    "duration": 9,
    "start_time": "2023-06-25T14:38:57.681Z"
   },
   {
    "duration": 25,
    "start_time": "2023-06-25T14:38:57.692Z"
   },
   {
    "duration": 242,
    "start_time": "2023-06-25T14:38:57.719Z"
   },
   {
    "duration": 170,
    "start_time": "2023-06-25T14:38:57.965Z"
   },
   {
    "duration": 23,
    "start_time": "2023-06-25T14:38:58.137Z"
   },
   {
    "duration": 6,
    "start_time": "2023-06-25T14:38:58.161Z"
   },
   {
    "duration": 182,
    "start_time": "2023-06-25T14:38:58.169Z"
   },
   {
    "duration": 270,
    "start_time": "2023-06-25T14:38:58.357Z"
   },
   {
    "duration": 12,
    "start_time": "2023-06-25T14:38:58.629Z"
   },
   {
    "duration": 26,
    "start_time": "2023-06-25T14:38:58.657Z"
   },
   {
    "duration": 6,
    "start_time": "2023-06-25T14:38:58.685Z"
   },
   {
    "duration": 9,
    "start_time": "2023-06-25T14:38:58.693Z"
   },
   {
    "duration": 194,
    "start_time": "2023-06-25T14:38:58.703Z"
   },
   {
    "duration": 11,
    "start_time": "2023-06-25T14:38:58.900Z"
   },
   {
    "duration": 258,
    "start_time": "2023-06-25T14:38:58.913Z"
   },
   {
    "duration": 10,
    "start_time": "2023-06-25T14:38:59.174Z"
   },
   {
    "duration": 26,
    "start_time": "2023-06-25T14:38:59.187Z"
   },
   {
    "duration": 19,
    "start_time": "2023-06-25T14:38:59.218Z"
   },
   {
    "duration": 13,
    "start_time": "2023-06-25T14:38:59.240Z"
   },
   {
    "duration": 14,
    "start_time": "2023-06-25T14:38:59.256Z"
   },
   {
    "duration": 8,
    "start_time": "2023-06-25T14:38:59.274Z"
   },
   {
    "duration": 7,
    "start_time": "2023-06-25T14:38:59.284Z"
   },
   {
    "duration": 23,
    "start_time": "2023-06-25T14:38:59.293Z"
   },
   {
    "duration": 129,
    "start_time": "2023-06-25T14:38:59.319Z"
   },
   {
    "duration": 0,
    "start_time": "2023-06-25T14:38:59.450Z"
   },
   {
    "duration": 1478,
    "start_time": "2023-06-26T08:14:06.272Z"
   },
   {
    "duration": 303,
    "start_time": "2023-06-26T08:14:07.752Z"
   },
   {
    "duration": 20,
    "start_time": "2023-06-26T08:14:08.058Z"
   },
   {
    "duration": 52,
    "start_time": "2023-06-26T08:14:08.082Z"
   },
   {
    "duration": 27,
    "start_time": "2023-06-26T08:14:08.137Z"
   },
   {
    "duration": 27,
    "start_time": "2023-06-26T08:14:08.166Z"
   },
   {
    "duration": 41,
    "start_time": "2023-06-26T08:14:08.196Z"
   },
   {
    "duration": 29,
    "start_time": "2023-06-26T08:14:08.239Z"
   },
   {
    "duration": 10,
    "start_time": "2023-06-26T08:14:08.271Z"
   },
   {
    "duration": 15,
    "start_time": "2023-06-26T08:14:08.283Z"
   },
   {
    "duration": 234,
    "start_time": "2023-06-26T08:14:08.301Z"
   },
   {
    "duration": 170,
    "start_time": "2023-06-26T08:14:08.537Z"
   },
   {
    "duration": 219,
    "start_time": "2023-06-26T08:14:08.714Z"
   },
   {
    "duration": 18,
    "start_time": "2023-06-26T08:14:08.943Z"
   },
   {
    "duration": 265,
    "start_time": "2023-06-26T08:14:08.963Z"
   },
   {
    "duration": 11,
    "start_time": "2023-06-26T08:14:09.230Z"
   },
   {
    "duration": 135,
    "start_time": "2023-06-26T08:14:09.243Z"
   },
   {
    "duration": 389,
    "start_time": "2023-06-26T08:14:09.380Z"
   },
   {
    "duration": 216,
    "start_time": "2023-06-26T08:14:09.772Z"
   },
   {
    "duration": 229,
    "start_time": "2023-06-26T08:14:09.990Z"
   },
   {
    "duration": 25,
    "start_time": "2023-06-26T08:14:10.221Z"
   },
   {
    "duration": 23,
    "start_time": "2023-06-26T08:14:10.248Z"
   },
   {
    "duration": 30,
    "start_time": "2023-06-26T08:14:10.274Z"
   },
   {
    "duration": 74,
    "start_time": "2023-06-26T08:14:10.310Z"
   },
   {
    "duration": 18,
    "start_time": "2023-06-26T08:14:10.387Z"
   },
   {
    "duration": 54,
    "start_time": "2023-06-26T08:14:10.406Z"
   },
   {
    "duration": 234,
    "start_time": "2023-06-26T08:14:10.463Z"
   },
   {
    "duration": 188,
    "start_time": "2023-06-26T08:14:10.699Z"
   },
   {
    "duration": 32,
    "start_time": "2023-06-26T08:14:10.889Z"
   },
   {
    "duration": 45,
    "start_time": "2023-06-26T08:14:10.922Z"
   },
   {
    "duration": 295,
    "start_time": "2023-06-26T08:14:10.969Z"
   },
   {
    "duration": 304,
    "start_time": "2023-06-26T08:14:11.267Z"
   },
   {
    "duration": 13,
    "start_time": "2023-06-26T08:14:11.573Z"
   },
   {
    "duration": 33,
    "start_time": "2023-06-26T08:14:11.608Z"
   },
   {
    "duration": 7,
    "start_time": "2023-06-26T08:14:11.643Z"
   },
   {
    "duration": 7,
    "start_time": "2023-06-26T08:14:11.651Z"
   },
   {
    "duration": 206,
    "start_time": "2023-06-26T08:14:11.660Z"
   },
   {
    "duration": 16,
    "start_time": "2023-06-26T08:14:11.868Z"
   },
   {
    "duration": 253,
    "start_time": "2023-06-26T08:14:11.886Z"
   },
   {
    "duration": 8,
    "start_time": "2023-06-26T08:14:12.141Z"
   },
   {
    "duration": 12,
    "start_time": "2023-06-26T08:14:12.153Z"
   },
   {
    "duration": 9,
    "start_time": "2023-06-26T08:14:12.168Z"
   },
   {
    "duration": 52,
    "start_time": "2023-06-26T08:14:12.179Z"
   },
   {
    "duration": 11,
    "start_time": "2023-06-26T08:14:12.233Z"
   },
   {
    "duration": 7,
    "start_time": "2023-06-26T08:14:12.246Z"
   },
   {
    "duration": 28,
    "start_time": "2023-06-26T08:14:12.256Z"
   },
   {
    "duration": 53,
    "start_time": "2023-06-26T08:14:12.286Z"
   },
   {
    "duration": 139,
    "start_time": "2023-06-26T08:14:12.342Z"
   },
   {
    "duration": 0,
    "start_time": "2023-06-26T08:14:12.484Z"
   },
   {
    "duration": 16,
    "start_time": "2023-06-26T08:14:20.645Z"
   },
   {
    "duration": 9,
    "start_time": "2023-06-26T08:14:56.527Z"
   },
   {
    "duration": 913,
    "start_time": "2023-06-26T08:15:02.734Z"
   },
   {
    "duration": 1368,
    "start_time": "2023-06-26T08:15:23.498Z"
   },
   {
    "duration": 132,
    "start_time": "2023-06-26T08:15:24.868Z"
   },
   {
    "duration": 36,
    "start_time": "2023-06-26T08:15:25.006Z"
   },
   {
    "duration": 17,
    "start_time": "2023-06-26T08:15:25.044Z"
   },
   {
    "duration": 37,
    "start_time": "2023-06-26T08:15:25.063Z"
   },
   {
    "duration": 40,
    "start_time": "2023-06-26T08:15:25.108Z"
   },
   {
    "duration": 16,
    "start_time": "2023-06-26T08:15:25.150Z"
   },
   {
    "duration": 25,
    "start_time": "2023-06-26T08:15:25.168Z"
   },
   {
    "duration": 40,
    "start_time": "2023-06-26T08:15:25.195Z"
   },
   {
    "duration": 20,
    "start_time": "2023-06-26T08:15:25.237Z"
   },
   {
    "duration": 203,
    "start_time": "2023-06-26T08:15:25.258Z"
   },
   {
    "duration": 168,
    "start_time": "2023-06-26T08:15:25.464Z"
   },
   {
    "duration": 191,
    "start_time": "2023-06-26T08:15:25.634Z"
   },
   {
    "duration": 15,
    "start_time": "2023-06-26T08:15:25.829Z"
   },
   {
    "duration": 198,
    "start_time": "2023-06-26T08:15:25.846Z"
   },
   {
    "duration": 15,
    "start_time": "2023-06-26T08:15:26.046Z"
   },
   {
    "duration": 23,
    "start_time": "2023-06-26T08:15:26.063Z"
   },
   {
    "duration": 227,
    "start_time": "2023-06-26T08:15:26.087Z"
   },
   {
    "duration": 182,
    "start_time": "2023-06-26T08:15:26.316Z"
   },
   {
    "duration": 188,
    "start_time": "2023-06-26T08:15:26.501Z"
   },
   {
    "duration": 33,
    "start_time": "2023-06-26T08:15:26.691Z"
   },
   {
    "duration": 36,
    "start_time": "2023-06-26T08:15:26.726Z"
   },
   {
    "duration": 26,
    "start_time": "2023-06-26T08:15:26.764Z"
   },
   {
    "duration": 36,
    "start_time": "2023-06-26T08:15:26.792Z"
   },
   {
    "duration": 41,
    "start_time": "2023-06-26T08:15:26.829Z"
   },
   {
    "duration": 35,
    "start_time": "2023-06-26T08:15:26.872Z"
   },
   {
    "duration": 177,
    "start_time": "2023-06-26T08:15:26.909Z"
   },
   {
    "duration": 182,
    "start_time": "2023-06-26T08:15:27.088Z"
   },
   {
    "duration": 16,
    "start_time": "2023-06-26T08:15:27.272Z"
   },
   {
    "duration": 50,
    "start_time": "2023-06-26T08:15:27.290Z"
   },
   {
    "duration": 195,
    "start_time": "2023-06-26T08:15:27.342Z"
   },
   {
    "duration": 254,
    "start_time": "2023-06-26T08:15:27.538Z"
   },
   {
    "duration": 20,
    "start_time": "2023-06-26T08:15:27.805Z"
   },
   {
    "duration": 33,
    "start_time": "2023-06-26T08:15:27.827Z"
   },
   {
    "duration": 17,
    "start_time": "2023-06-26T08:15:27.861Z"
   },
   {
    "duration": 21,
    "start_time": "2023-06-26T08:15:27.879Z"
   },
   {
    "duration": 217,
    "start_time": "2023-06-26T08:15:27.904Z"
   },
   {
    "duration": 12,
    "start_time": "2023-06-26T08:15:28.123Z"
   },
   {
    "duration": 192,
    "start_time": "2023-06-26T08:15:28.137Z"
   },
   {
    "duration": 7,
    "start_time": "2023-06-26T08:15:28.331Z"
   },
   {
    "duration": 35,
    "start_time": "2023-06-26T08:15:28.343Z"
   },
   {
    "duration": 41,
    "start_time": "2023-06-26T08:15:28.381Z"
   },
   {
    "duration": 38,
    "start_time": "2023-06-26T08:15:28.424Z"
   },
   {
    "duration": 18,
    "start_time": "2023-06-26T08:15:28.464Z"
   },
   {
    "duration": 6,
    "start_time": "2023-06-26T08:15:28.485Z"
   },
   {
    "duration": 17,
    "start_time": "2023-06-26T08:15:28.493Z"
   },
   {
    "duration": 23,
    "start_time": "2023-06-26T08:15:28.515Z"
   },
   {
    "duration": 918,
    "start_time": "2023-06-26T08:15:28.540Z"
   },
   {
    "duration": 7,
    "start_time": "2023-06-26T08:15:29.460Z"
   },
   {
    "duration": 8,
    "start_time": "2023-06-26T08:16:46.764Z"
   },
   {
    "duration": 10,
    "start_time": "2023-06-26T08:16:50.836Z"
   },
   {
    "duration": 1321,
    "start_time": "2023-06-26T08:18:50.416Z"
   },
   {
    "duration": 142,
    "start_time": "2023-06-26T08:18:51.739Z"
   },
   {
    "duration": 14,
    "start_time": "2023-06-26T08:18:51.883Z"
   },
   {
    "duration": 48,
    "start_time": "2023-06-26T08:18:51.898Z"
   },
   {
    "duration": 55,
    "start_time": "2023-06-26T08:18:51.948Z"
   },
   {
    "duration": 50,
    "start_time": "2023-06-26T08:18:52.005Z"
   },
   {
    "duration": 34,
    "start_time": "2023-06-26T08:18:52.056Z"
   },
   {
    "duration": 35,
    "start_time": "2023-06-26T08:18:52.092Z"
   },
   {
    "duration": 22,
    "start_time": "2023-06-26T08:18:52.128Z"
   },
   {
    "duration": 39,
    "start_time": "2023-06-26T08:18:52.152Z"
   },
   {
    "duration": 202,
    "start_time": "2023-06-26T08:18:52.192Z"
   },
   {
    "duration": 145,
    "start_time": "2023-06-26T08:18:52.403Z"
   },
   {
    "duration": 190,
    "start_time": "2023-06-26T08:18:52.550Z"
   },
   {
    "duration": 13,
    "start_time": "2023-06-26T08:18:52.743Z"
   },
   {
    "duration": 181,
    "start_time": "2023-06-26T08:18:52.759Z"
   },
   {
    "duration": 10,
    "start_time": "2023-06-26T08:18:52.942Z"
   },
   {
    "duration": 16,
    "start_time": "2023-06-26T08:18:52.953Z"
   },
   {
    "duration": 198,
    "start_time": "2023-06-26T08:18:52.971Z"
   },
   {
    "duration": 179,
    "start_time": "2023-06-26T08:18:53.171Z"
   },
   {
    "duration": 172,
    "start_time": "2023-06-26T08:18:53.351Z"
   },
   {
    "duration": 16,
    "start_time": "2023-06-26T08:18:53.525Z"
   },
   {
    "duration": 21,
    "start_time": "2023-06-26T08:18:53.543Z"
   },
   {
    "duration": 16,
    "start_time": "2023-06-26T08:18:53.566Z"
   },
   {
    "duration": 35,
    "start_time": "2023-06-26T08:18:53.584Z"
   },
   {
    "duration": 32,
    "start_time": "2023-06-26T08:18:53.621Z"
   },
   {
    "duration": 84,
    "start_time": "2023-06-26T08:18:53.655Z"
   },
   {
    "duration": 154,
    "start_time": "2023-06-26T08:18:53.740Z"
   },
   {
    "duration": 177,
    "start_time": "2023-06-26T08:18:53.896Z"
   },
   {
    "duration": 9,
    "start_time": "2023-06-26T08:18:54.075Z"
   },
   {
    "duration": 72,
    "start_time": "2023-06-26T08:18:54.085Z"
   },
   {
    "duration": 235,
    "start_time": "2023-06-26T08:18:54.159Z"
   },
   {
    "duration": 249,
    "start_time": "2023-06-26T08:18:54.396Z"
   },
   {
    "duration": 9,
    "start_time": "2023-06-26T08:18:54.647Z"
   },
   {
    "duration": 23,
    "start_time": "2023-06-26T08:18:54.657Z"
   },
   {
    "duration": 27,
    "start_time": "2023-06-26T08:18:54.682Z"
   },
   {
    "duration": 15,
    "start_time": "2023-06-26T08:18:54.711Z"
   },
   {
    "duration": 159,
    "start_time": "2023-06-26T08:18:54.728Z"
   },
   {
    "duration": 11,
    "start_time": "2023-06-26T08:18:54.889Z"
   },
   {
    "duration": 217,
    "start_time": "2023-06-26T08:18:54.902Z"
   },
   {
    "duration": 7,
    "start_time": "2023-06-26T08:18:55.121Z"
   },
   {
    "duration": 13,
    "start_time": "2023-06-26T08:18:55.131Z"
   },
   {
    "duration": 25,
    "start_time": "2023-06-26T08:18:55.145Z"
   },
   {
    "duration": 26,
    "start_time": "2023-06-26T08:18:55.173Z"
   },
   {
    "duration": 28,
    "start_time": "2023-06-26T08:18:55.201Z"
   },
   {
    "duration": 11,
    "start_time": "2023-06-26T08:18:55.231Z"
   },
   {
    "duration": 15,
    "start_time": "2023-06-26T08:18:55.244Z"
   },
   {
    "duration": 34,
    "start_time": "2023-06-26T08:18:55.260Z"
   },
   {
    "duration": 877,
    "start_time": "2023-06-26T08:18:55.296Z"
   },
   {
    "duration": 6,
    "start_time": "2023-06-26T08:18:56.174Z"
   },
   {
    "duration": 101,
    "start_time": "2023-06-26T08:19:10.663Z"
   },
   {
    "duration": 13,
    "start_time": "2023-06-26T08:19:14.902Z"
   },
   {
    "duration": 1176,
    "start_time": "2023-06-26T08:22:39.649Z"
   },
   {
    "duration": 145,
    "start_time": "2023-06-26T08:22:40.827Z"
   },
   {
    "duration": 15,
    "start_time": "2023-06-26T08:22:40.974Z"
   },
   {
    "duration": 29,
    "start_time": "2023-06-26T08:22:40.991Z"
   },
   {
    "duration": 38,
    "start_time": "2023-06-26T08:22:41.022Z"
   },
   {
    "duration": 27,
    "start_time": "2023-06-26T08:22:41.062Z"
   },
   {
    "duration": 32,
    "start_time": "2023-06-26T08:22:41.090Z"
   },
   {
    "duration": 18,
    "start_time": "2023-06-26T08:22:41.124Z"
   },
   {
    "duration": 5,
    "start_time": "2023-06-26T08:22:41.143Z"
   },
   {
    "duration": 18,
    "start_time": "2023-06-26T08:22:41.151Z"
   },
   {
    "duration": 184,
    "start_time": "2023-06-26T08:22:41.171Z"
   },
   {
    "duration": 149,
    "start_time": "2023-06-26T08:22:41.357Z"
   },
   {
    "duration": 169,
    "start_time": "2023-06-26T08:22:41.508Z"
   },
   {
    "duration": 24,
    "start_time": "2023-06-26T08:22:41.679Z"
   },
   {
    "duration": 178,
    "start_time": "2023-06-26T08:22:41.704Z"
   },
   {
    "duration": 22,
    "start_time": "2023-06-26T08:22:41.883Z"
   },
   {
    "duration": 9,
    "start_time": "2023-06-26T08:22:41.907Z"
   },
   {
    "duration": 186,
    "start_time": "2023-06-26T08:22:41.918Z"
   },
   {
    "duration": 177,
    "start_time": "2023-06-26T08:22:42.106Z"
   },
   {
    "duration": 163,
    "start_time": "2023-06-26T08:22:42.285Z"
   },
   {
    "duration": 17,
    "start_time": "2023-06-26T08:22:42.450Z"
   },
   {
    "duration": 42,
    "start_time": "2023-06-26T08:22:42.468Z"
   },
   {
    "duration": 78,
    "start_time": "2023-06-26T08:22:42.512Z"
   },
   {
    "duration": 138,
    "start_time": "2023-06-26T08:22:42.592Z"
   },
   {
    "duration": 21,
    "start_time": "2023-06-26T08:22:42.732Z"
   },
   {
    "duration": 32,
    "start_time": "2023-06-26T08:22:42.754Z"
   },
   {
    "duration": 149,
    "start_time": "2023-06-26T08:22:42.788Z"
   },
   {
    "duration": 163,
    "start_time": "2023-06-26T08:22:42.941Z"
   },
   {
    "duration": 10,
    "start_time": "2023-06-26T08:22:43.107Z"
   },
   {
    "duration": 6,
    "start_time": "2023-06-26T08:22:43.119Z"
   },
   {
    "duration": 196,
    "start_time": "2023-06-26T08:22:43.127Z"
   },
   {
    "duration": 238,
    "start_time": "2023-06-26T08:22:43.325Z"
   },
   {
    "duration": 9,
    "start_time": "2023-06-26T08:22:43.565Z"
   },
   {
    "duration": 34,
    "start_time": "2023-06-26T08:22:43.576Z"
   },
   {
    "duration": 5,
    "start_time": "2023-06-26T08:22:43.611Z"
   },
   {
    "duration": 11,
    "start_time": "2023-06-26T08:22:43.617Z"
   },
   {
    "duration": 188,
    "start_time": "2023-06-26T08:22:43.630Z"
   },
   {
    "duration": 10,
    "start_time": "2023-06-26T08:22:43.820Z"
   },
   {
    "duration": 264,
    "start_time": "2023-06-26T08:22:43.831Z"
   },
   {
    "duration": 8,
    "start_time": "2023-06-26T08:22:44.096Z"
   },
   {
    "duration": 14,
    "start_time": "2023-06-26T08:22:44.106Z"
   },
   {
    "duration": 11,
    "start_time": "2023-06-26T08:22:44.121Z"
   },
   {
    "duration": 15,
    "start_time": "2023-06-26T08:22:44.134Z"
   },
   {
    "duration": 17,
    "start_time": "2023-06-26T08:22:44.151Z"
   },
   {
    "duration": 12,
    "start_time": "2023-06-26T08:22:44.170Z"
   },
   {
    "duration": 11,
    "start_time": "2023-06-26T08:22:44.183Z"
   },
   {
    "duration": 24,
    "start_time": "2023-06-26T08:22:44.196Z"
   },
   {
    "duration": 837,
    "start_time": "2023-06-26T08:22:44.222Z"
   },
   {
    "duration": 7,
    "start_time": "2023-06-26T08:22:45.061Z"
   },
   {
    "duration": 1188,
    "start_time": "2023-06-26T08:24:02.724Z"
   },
   {
    "duration": 144,
    "start_time": "2023-06-26T08:24:03.915Z"
   },
   {
    "duration": 16,
    "start_time": "2023-06-26T08:24:04.060Z"
   },
   {
    "duration": 12,
    "start_time": "2023-06-26T08:24:04.078Z"
   },
   {
    "duration": 36,
    "start_time": "2023-06-26T08:24:04.091Z"
   },
   {
    "duration": 16,
    "start_time": "2023-06-26T08:24:04.128Z"
   },
   {
    "duration": 19,
    "start_time": "2023-06-26T08:24:04.146Z"
   },
   {
    "duration": 18,
    "start_time": "2023-06-26T08:24:04.168Z"
   },
   {
    "duration": 14,
    "start_time": "2023-06-26T08:24:04.188Z"
   },
   {
    "duration": 18,
    "start_time": "2023-06-26T08:24:04.206Z"
   },
   {
    "duration": 188,
    "start_time": "2023-06-26T08:24:04.226Z"
   },
   {
    "duration": 145,
    "start_time": "2023-06-26T08:24:04.416Z"
   },
   {
    "duration": 166,
    "start_time": "2023-06-26T08:24:04.563Z"
   },
   {
    "duration": 13,
    "start_time": "2023-06-26T08:24:04.730Z"
   },
   {
    "duration": 178,
    "start_time": "2023-06-26T08:24:04.744Z"
   },
   {
    "duration": 10,
    "start_time": "2023-06-26T08:24:04.924Z"
   },
   {
    "duration": 33,
    "start_time": "2023-06-26T08:24:04.936Z"
   },
   {
    "duration": 178,
    "start_time": "2023-06-26T08:24:04.970Z"
   },
   {
    "duration": 180,
    "start_time": "2023-06-26T08:24:05.149Z"
   },
   {
    "duration": 168,
    "start_time": "2023-06-26T08:24:05.331Z"
   },
   {
    "duration": 18,
    "start_time": "2023-06-26T08:24:05.502Z"
   },
   {
    "duration": 75,
    "start_time": "2023-06-26T08:24:05.522Z"
   },
   {
    "duration": 21,
    "start_time": "2023-06-26T08:24:05.599Z"
   },
   {
    "duration": 34,
    "start_time": "2023-06-26T08:24:05.622Z"
   },
   {
    "duration": 20,
    "start_time": "2023-06-26T08:24:05.658Z"
   },
   {
    "duration": 24,
    "start_time": "2023-06-26T08:24:05.680Z"
   },
   {
    "duration": 164,
    "start_time": "2023-06-26T08:24:05.706Z"
   },
   {
    "duration": 156,
    "start_time": "2023-06-26T08:24:05.873Z"
   },
   {
    "duration": 15,
    "start_time": "2023-06-26T08:24:06.031Z"
   },
   {
    "duration": 10,
    "start_time": "2023-06-26T08:24:06.048Z"
   },
   {
    "duration": 181,
    "start_time": "2023-06-26T08:24:06.059Z"
   },
   {
    "duration": 240,
    "start_time": "2023-06-26T08:24:06.242Z"
   },
   {
    "duration": 18,
    "start_time": "2023-06-26T08:24:06.484Z"
   },
   {
    "duration": 22,
    "start_time": "2023-06-26T08:24:06.504Z"
   },
   {
    "duration": 5,
    "start_time": "2023-06-26T08:24:06.527Z"
   },
   {
    "duration": 16,
    "start_time": "2023-06-26T08:24:06.534Z"
   },
   {
    "duration": 153,
    "start_time": "2023-06-26T08:24:06.552Z"
   },
   {
    "duration": 11,
    "start_time": "2023-06-26T08:24:06.707Z"
   },
   {
    "duration": 198,
    "start_time": "2023-06-26T08:24:06.720Z"
   },
   {
    "duration": 6,
    "start_time": "2023-06-26T08:24:06.920Z"
   },
   {
    "duration": 48,
    "start_time": "2023-06-26T08:24:06.927Z"
   },
   {
    "duration": 45,
    "start_time": "2023-06-26T08:24:06.977Z"
   },
   {
    "duration": 39,
    "start_time": "2023-06-26T08:24:07.024Z"
   },
   {
    "duration": 41,
    "start_time": "2023-06-26T08:24:07.065Z"
   },
   {
    "duration": 27,
    "start_time": "2023-06-26T08:24:07.108Z"
   },
   {
    "duration": 32,
    "start_time": "2023-06-26T08:24:07.137Z"
   },
   {
    "duration": 40,
    "start_time": "2023-06-26T08:24:07.171Z"
   },
   {
    "duration": 845,
    "start_time": "2023-06-26T08:24:07.213Z"
   },
   {
    "duration": 5,
    "start_time": "2023-06-26T08:24:08.060Z"
   },
   {
    "duration": 1426,
    "start_time": "2023-06-26T20:29:22.737Z"
   },
   {
    "duration": 248,
    "start_time": "2023-06-26T20:29:24.167Z"
   },
   {
    "duration": 16,
    "start_time": "2023-06-26T20:29:24.417Z"
   },
   {
    "duration": 10,
    "start_time": "2023-06-26T20:29:24.435Z"
   },
   {
    "duration": 23,
    "start_time": "2023-06-26T20:29:24.447Z"
   },
   {
    "duration": 11,
    "start_time": "2023-06-26T20:29:24.473Z"
   },
   {
    "duration": 14,
    "start_time": "2023-06-26T20:29:24.486Z"
   },
   {
    "duration": 13,
    "start_time": "2023-06-26T20:29:24.501Z"
   },
   {
    "duration": 5,
    "start_time": "2023-06-26T20:29:24.515Z"
   },
   {
    "duration": 30,
    "start_time": "2023-06-26T20:29:24.522Z"
   },
   {
    "duration": 196,
    "start_time": "2023-06-26T20:29:24.555Z"
   },
   {
    "duration": 157,
    "start_time": "2023-06-26T20:29:24.754Z"
   },
   {
    "duration": 197,
    "start_time": "2023-06-26T20:29:24.913Z"
   },
   {
    "duration": 13,
    "start_time": "2023-06-26T20:29:25.113Z"
   },
   {
    "duration": 208,
    "start_time": "2023-06-26T20:29:25.127Z"
   },
   {
    "duration": 22,
    "start_time": "2023-06-26T20:29:25.337Z"
   },
   {
    "duration": 7,
    "start_time": "2023-06-26T20:29:25.361Z"
   },
   {
    "duration": 194,
    "start_time": "2023-06-26T20:29:25.372Z"
   },
   {
    "duration": 189,
    "start_time": "2023-06-26T20:29:25.569Z"
   },
   {
    "duration": 184,
    "start_time": "2023-06-26T20:29:25.761Z"
   },
   {
    "duration": 28,
    "start_time": "2023-06-26T20:29:25.952Z"
   },
   {
    "duration": 13,
    "start_time": "2023-06-26T20:29:25.982Z"
   },
   {
    "duration": 7,
    "start_time": "2023-06-26T20:29:25.997Z"
   },
   {
    "duration": 13,
    "start_time": "2023-06-26T20:29:26.006Z"
   },
   {
    "duration": 40,
    "start_time": "2023-06-26T20:29:26.021Z"
   },
   {
    "duration": 25,
    "start_time": "2023-06-26T20:29:26.063Z"
   },
   {
    "duration": 153,
    "start_time": "2023-06-26T20:29:26.089Z"
   },
   {
    "duration": 171,
    "start_time": "2023-06-26T20:29:26.244Z"
   },
   {
    "duration": 10,
    "start_time": "2023-06-26T20:29:26.416Z"
   },
   {
    "duration": 5,
    "start_time": "2023-06-26T20:29:26.427Z"
   },
   {
    "duration": 185,
    "start_time": "2023-06-26T20:29:26.457Z"
   },
   {
    "duration": 258,
    "start_time": "2023-06-26T20:29:26.643Z"
   },
   {
    "duration": 10,
    "start_time": "2023-06-26T20:29:26.902Z"
   },
   {
    "duration": 39,
    "start_time": "2023-06-26T20:29:26.913Z"
   },
   {
    "duration": 8,
    "start_time": "2023-06-26T20:29:26.956Z"
   },
   {
    "duration": 18,
    "start_time": "2023-06-26T20:29:26.967Z"
   },
   {
    "duration": 176,
    "start_time": "2023-06-26T20:29:26.987Z"
   },
   {
    "duration": 15,
    "start_time": "2023-06-26T20:29:27.166Z"
   },
   {
    "duration": 209,
    "start_time": "2023-06-26T20:29:27.182Z"
   },
   {
    "duration": 8,
    "start_time": "2023-06-26T20:29:27.392Z"
   },
   {
    "duration": 22,
    "start_time": "2023-06-26T20:29:27.403Z"
   },
   {
    "duration": 7,
    "start_time": "2023-06-26T20:29:27.426Z"
   },
   {
    "duration": 15,
    "start_time": "2023-06-26T20:29:27.435Z"
   },
   {
    "duration": 23,
    "start_time": "2023-06-26T20:29:27.454Z"
   },
   {
    "duration": 11,
    "start_time": "2023-06-26T20:29:27.478Z"
   },
   {
    "duration": 7,
    "start_time": "2023-06-26T20:29:27.491Z"
   },
   {
    "duration": 21,
    "start_time": "2023-06-26T20:29:27.500Z"
   },
   {
    "duration": 1018,
    "start_time": "2023-06-26T20:29:27.523Z"
   },
   {
    "duration": 19,
    "start_time": "2023-06-26T20:29:28.543Z"
   },
   {
    "duration": 1337,
    "start_time": "2023-06-26T20:31:44.839Z"
   },
   {
    "duration": 137,
    "start_time": "2023-06-26T20:31:46.178Z"
   },
   {
    "duration": 20,
    "start_time": "2023-06-26T20:31:46.317Z"
   },
   {
    "duration": 8,
    "start_time": "2023-06-26T20:31:46.340Z"
   },
   {
    "duration": 43,
    "start_time": "2023-06-26T20:31:46.351Z"
   },
   {
    "duration": 21,
    "start_time": "2023-06-26T20:31:46.396Z"
   },
   {
    "duration": 8,
    "start_time": "2023-06-26T20:31:46.419Z"
   },
   {
    "duration": 21,
    "start_time": "2023-06-26T20:31:46.429Z"
   },
   {
    "duration": 33,
    "start_time": "2023-06-26T20:31:46.452Z"
   },
   {
    "duration": 6,
    "start_time": "2023-06-26T20:31:46.486Z"
   },
   {
    "duration": 207,
    "start_time": "2023-06-26T20:31:46.493Z"
   },
   {
    "duration": 195,
    "start_time": "2023-06-26T20:31:46.702Z"
   },
   {
    "duration": 227,
    "start_time": "2023-06-26T20:31:46.900Z"
   },
   {
    "duration": 24,
    "start_time": "2023-06-26T20:31:47.131Z"
   },
   {
    "duration": 237,
    "start_time": "2023-06-26T20:31:47.158Z"
   },
   {
    "duration": 11,
    "start_time": "2023-06-26T20:31:47.397Z"
   },
   {
    "duration": 7,
    "start_time": "2023-06-26T20:31:47.451Z"
   },
   {
    "duration": 501,
    "start_time": "2023-06-26T20:31:47.460Z"
   },
   {
    "duration": 542,
    "start_time": "2023-06-26T20:31:47.963Z"
   },
   {
    "duration": 553,
    "start_time": "2023-06-26T20:31:48.508Z"
   },
   {
    "duration": 34,
    "start_time": "2023-06-26T20:31:49.065Z"
   },
   {
    "duration": 82,
    "start_time": "2023-06-26T20:31:49.101Z"
   },
   {
    "duration": 14,
    "start_time": "2023-06-26T20:31:49.187Z"
   },
   {
    "duration": 64,
    "start_time": "2023-06-26T20:31:49.203Z"
   },
   {
    "duration": 31,
    "start_time": "2023-06-26T20:31:49.271Z"
   },
   {
    "duration": 88,
    "start_time": "2023-06-26T20:31:49.305Z"
   },
   {
    "duration": 466,
    "start_time": "2023-06-26T20:31:49.396Z"
   },
   {
    "duration": 313,
    "start_time": "2023-06-26T20:31:49.865Z"
   },
   {
    "duration": 19,
    "start_time": "2023-06-26T20:31:50.185Z"
   },
   {
    "duration": 47,
    "start_time": "2023-06-26T20:31:50.206Z"
   },
   {
    "duration": 267,
    "start_time": "2023-06-26T20:31:50.254Z"
   },
   {
    "duration": 302,
    "start_time": "2023-06-26T20:31:50.525Z"
   },
   {
    "duration": 10,
    "start_time": "2023-06-26T20:31:50.829Z"
   },
   {
    "duration": 33,
    "start_time": "2023-06-26T20:31:50.858Z"
   },
   {
    "duration": 17,
    "start_time": "2023-06-26T20:31:50.894Z"
   },
   {
    "duration": 10,
    "start_time": "2023-06-26T20:31:50.913Z"
   },
   {
    "duration": 174,
    "start_time": "2023-06-26T20:31:50.925Z"
   },
   {
    "duration": 10,
    "start_time": "2023-06-26T20:31:51.101Z"
   },
   {
    "duration": 264,
    "start_time": "2023-06-26T20:31:51.113Z"
   },
   {
    "duration": 12,
    "start_time": "2023-06-26T20:31:51.384Z"
   },
   {
    "duration": 18,
    "start_time": "2023-06-26T20:31:51.401Z"
   },
   {
    "duration": 13,
    "start_time": "2023-06-26T20:31:51.421Z"
   },
   {
    "duration": 16,
    "start_time": "2023-06-26T20:31:51.435Z"
   },
   {
    "duration": 43,
    "start_time": "2023-06-26T20:31:51.452Z"
   },
   {
    "duration": 6,
    "start_time": "2023-06-26T20:31:51.497Z"
   },
   {
    "duration": 14,
    "start_time": "2023-06-26T20:31:51.505Z"
   },
   {
    "duration": 24,
    "start_time": "2023-06-26T20:31:51.521Z"
   },
   {
    "duration": 1023,
    "start_time": "2023-06-26T20:31:51.547Z"
   },
   {
    "duration": 7,
    "start_time": "2023-06-26T20:31:52.572Z"
   },
   {
    "duration": 107,
    "start_time": "2023-06-26T21:24:16.257Z"
   },
   {
    "duration": 8,
    "start_time": "2023-06-26T21:24:43.557Z"
   },
   {
    "duration": 7,
    "start_time": "2023-06-26T21:24:43.899Z"
   },
   {
    "duration": 7,
    "start_time": "2023-06-26T21:24:45.811Z"
   },
   {
    "duration": 8,
    "start_time": "2023-06-26T21:25:02.632Z"
   },
   {
    "duration": 9,
    "start_time": "2023-06-26T21:25:08.132Z"
   },
   {
    "duration": 10,
    "start_time": "2023-06-26T21:25:13.335Z"
   },
   {
    "duration": 5,
    "start_time": "2023-06-26T21:25:15.877Z"
   }
  ],
  "kernelspec": {
   "display_name": "Python 3 (ipykernel)",
   "language": "python",
   "name": "python3"
  },
  "language_info": {
   "codemirror_mode": {
    "name": "ipython",
    "version": 3
   },
   "file_extension": ".py",
   "mimetype": "text/x-python",
   "name": "python",
   "nbconvert_exporter": "python",
   "pygments_lexer": "ipython3",
   "version": "3.11.4"
  },
  "toc": {
   "base_numbering": 1,
   "nav_menu": {},
   "number_sections": true,
   "sideBar": true,
   "skip_h1_title": true,
   "title_cell": "Table of Contents",
   "title_sidebar": "Contents",
   "toc_cell": false,
   "toc_position": {
    "height": "calc(100% - 180px)",
    "left": "10px",
    "top": "150px",
    "width": "407.016px"
   },
   "toc_section_display": true,
   "toc_window_display": true
  }
 },
 "nbformat": 4,
 "nbformat_minor": 5
}
