{
 "cells": [
  {
   "cell_type": "markdown",
   "metadata": {},
   "source": [
    "# Анализ A/B теста"
   ]
  },
  {
   "cell_type": "markdown",
   "metadata": {},
   "source": [
    "Крупный онлайн-магазин проверяет различные гипотезы.  \n",
    "Мне предстоит приоретизировать гипотезы, используя фреймворки ICE и RICE, а также изучить результаты проведенного A/B теста.  \n",
    "\n",
    "\n",
    "**Цель анализа:** определить, значимы ли статистически изменения между группами A и B.\n",
    "\n",
    "**Задачи:**  \n",
    "1. Провести приоретизацию гипотез\n",
    "2. Проанализировать кумулятивные графики выручки, среднего чека, отношения средних чеков групп к друг другу  \n",
    "3. Изучить данные на наличие аномальных значений и очистить их, если аномалии найдутся  \n",
    "4. Проверить гипотезы о равенстве количества заказов у пользователей и о равенстве средних чеков на сырых и очищенных данных  \n",
    "5. Принять решение о целесообразности продолжения эксперимента и зафиксировать результаты"
   ]
  },
  {
   "cell_type": "markdown",
   "metadata": {},
   "source": [
    "Прежде чем приступить к анализу - загружу необходимые мне библиотеки для работы в Python."
   ]
  },
  {
   "cell_type": "code",
   "execution_count": 58,
   "metadata": {},
   "outputs": [],
   "source": [
    "import pandas as pd\n",
    "import datetime as dt\n",
    "import numpy as np\n",
    "import matplotlib.pyplot as plt\n",
    "import scipy.stats as stats"
   ]
  },
  {
   "cell_type": "markdown",
   "metadata": {},
   "source": [
    "Сохраню данные, необходимые для анализа, в переменные:"
   ]
  },
  {
   "cell_type": "code",
   "execution_count": 59,
   "metadata": {},
   "outputs": [],
   "source": [
    "#Данные о гипотезах\n",
    "hypothesis = pd.read_csv(r'C:\\Users\\HOME\\Desktop\\Practicum\\datasets\\A_B_tests\\hypothesis.csv')\n",
    "\n",
    "#О заказах\n",
    "orders = pd.read_csv(r'C:\\Users\\HOME\\Desktop\\Practicum\\datasets\\A_B_tests\\orders.csv')\n",
    "#и о посетителях\n",
    "visitors = pd.read_csv(r'C:\\Users\\HOME\\Desktop\\Practicum\\datasets\\A_B_tests\\visitors.csv')"
   ]
  },
  {
   "cell_type": "markdown",
   "metadata": {},
   "source": [
    "## Обзор данных и предобработка"
   ]
  },
  {
   "cell_type": "markdown",
   "metadata": {},
   "source": [
    "### Обзор данных"
   ]
  },
  {
   "cell_type": "markdown",
   "metadata": {},
   "source": [
    "Начну с данных о гипотезах"
   ]
  },
  {
   "cell_type": "code",
   "execution_count": 3,
   "metadata": {
    "scrolled": true
   },
   "outputs": [
    {
     "data": {
      "text/html": [
       "<div>\n",
       "<style scoped>\n",
       "    .dataframe tbody tr th:only-of-type {\n",
       "        vertical-align: middle;\n",
       "    }\n",
       "\n",
       "    .dataframe tbody tr th {\n",
       "        vertical-align: top;\n",
       "    }\n",
       "\n",
       "    .dataframe thead th {\n",
       "        text-align: right;\n",
       "    }\n",
       "</style>\n",
       "<table border=\"1\" class=\"dataframe\">\n",
       "  <thead>\n",
       "    <tr style=\"text-align: right;\">\n",
       "      <th></th>\n",
       "      <th>Hypothesis</th>\n",
       "      <th>Reach</th>\n",
       "      <th>Impact</th>\n",
       "      <th>Confidence</th>\n",
       "      <th>Efforts</th>\n",
       "    </tr>\n",
       "  </thead>\n",
       "  <tbody>\n",
       "    <tr>\n",
       "      <th>0</th>\n",
       "      <td>Добавить два новых канала привлечения трафика,...</td>\n",
       "      <td>3</td>\n",
       "      <td>10</td>\n",
       "      <td>8</td>\n",
       "      <td>6</td>\n",
       "    </tr>\n",
       "    <tr>\n",
       "      <th>1</th>\n",
       "      <td>Запустить собственную службу доставки, что сок...</td>\n",
       "      <td>2</td>\n",
       "      <td>5</td>\n",
       "      <td>4</td>\n",
       "      <td>10</td>\n",
       "    </tr>\n",
       "    <tr>\n",
       "      <th>2</th>\n",
       "      <td>Добавить блоки рекомендаций товаров на сайт ин...</td>\n",
       "      <td>8</td>\n",
       "      <td>3</td>\n",
       "      <td>7</td>\n",
       "      <td>3</td>\n",
       "    </tr>\n",
       "  </tbody>\n",
       "</table>\n",
       "</div>"
      ],
      "text/plain": [
       "                                          Hypothesis  Reach  Impact  \\\n",
       "0  Добавить два новых канала привлечения трафика,...      3      10   \n",
       "1  Запустить собственную службу доставки, что сок...      2       5   \n",
       "2  Добавить блоки рекомендаций товаров на сайт ин...      8       3   \n",
       "\n",
       "   Confidence  Efforts  \n",
       "0           8        6  \n",
       "1           4       10  \n",
       "2           7        3  "
      ]
     },
     "execution_count": 3,
     "metadata": {},
     "output_type": "execute_result"
    }
   ],
   "source": [
    "hypothesis.head(3)"
   ]
  },
  {
   "cell_type": "markdown",
   "metadata": {},
   "source": [
    "Приведу столбцы к единому стилю с нижним регистром"
   ]
  },
  {
   "cell_type": "code",
   "execution_count": 4,
   "metadata": {},
   "outputs": [],
   "source": [
    "hypothesis.columns = hypothesis.columns.str.lower()"
   ]
  },
  {
   "cell_type": "markdown",
   "metadata": {},
   "source": [
    "В данных о гипотезах пять столбцов:  \n",
    "- `hypothesis` - непосредственно описание гипотезы;\n",
    "- `reach` - оценка параметра, который показывает охват пользователей, которых затронет реализация гипотезы;\n",
    "- `impact` - параметр, оценивающий силу влияния изменения метрики на пользователей;\n",
    "- `confidence` - параметр, показывающий степень уверенности в оценки других параметров;\n",
    "- `efforts` - параметр, оценивающий сложность исследования гипотезы\n",
    "\n",
    "Каждый из параметров оценен по 10-и бальной шкале."
   ]
  },
  {
   "cell_type": "markdown",
   "metadata": {},
   "source": [
    "Посмотрю также наборы данных с заказами и посетителями в рамках A/B-теста"
   ]
  },
  {
   "cell_type": "code",
   "execution_count": 5,
   "metadata": {},
   "outputs": [
    {
     "data": {
      "text/html": [
       "<div>\n",
       "<style scoped>\n",
       "    .dataframe tbody tr th:only-of-type {\n",
       "        vertical-align: middle;\n",
       "    }\n",
       "\n",
       "    .dataframe tbody tr th {\n",
       "        vertical-align: top;\n",
       "    }\n",
       "\n",
       "    .dataframe thead th {\n",
       "        text-align: right;\n",
       "    }\n",
       "</style>\n",
       "<table border=\"1\" class=\"dataframe\">\n",
       "  <thead>\n",
       "    <tr style=\"text-align: right;\">\n",
       "      <th></th>\n",
       "      <th>transactionId</th>\n",
       "      <th>visitorId</th>\n",
       "      <th>date</th>\n",
       "      <th>revenue</th>\n",
       "      <th>group</th>\n",
       "    </tr>\n",
       "  </thead>\n",
       "  <tbody>\n",
       "    <tr>\n",
       "      <th>0</th>\n",
       "      <td>3667963787</td>\n",
       "      <td>3312258926</td>\n",
       "      <td>2019-08-15</td>\n",
       "      <td>1650</td>\n",
       "      <td>B</td>\n",
       "    </tr>\n",
       "    <tr>\n",
       "      <th>1</th>\n",
       "      <td>2804400009</td>\n",
       "      <td>3642806036</td>\n",
       "      <td>2019-08-15</td>\n",
       "      <td>730</td>\n",
       "      <td>B</td>\n",
       "    </tr>\n",
       "    <tr>\n",
       "      <th>2</th>\n",
       "      <td>2961555356</td>\n",
       "      <td>4069496402</td>\n",
       "      <td>2019-08-15</td>\n",
       "      <td>400</td>\n",
       "      <td>A</td>\n",
       "    </tr>\n",
       "  </tbody>\n",
       "</table>\n",
       "</div>"
      ],
      "text/plain": [
       "   transactionId   visitorId        date  revenue group\n",
       "0     3667963787  3312258926  2019-08-15     1650     B\n",
       "1     2804400009  3642806036  2019-08-15      730     B\n",
       "2     2961555356  4069496402  2019-08-15      400     A"
      ]
     },
     "execution_count": 5,
     "metadata": {},
     "output_type": "execute_result"
    }
   ],
   "source": [
    "orders.head(3)"
   ]
  },
  {
   "cell_type": "code",
   "execution_count": 6,
   "metadata": {},
   "outputs": [
    {
     "data": {
      "text/html": [
       "<div>\n",
       "<style scoped>\n",
       "    .dataframe tbody tr th:only-of-type {\n",
       "        vertical-align: middle;\n",
       "    }\n",
       "\n",
       "    .dataframe tbody tr th {\n",
       "        vertical-align: top;\n",
       "    }\n",
       "\n",
       "    .dataframe thead th {\n",
       "        text-align: right;\n",
       "    }\n",
       "</style>\n",
       "<table border=\"1\" class=\"dataframe\">\n",
       "  <thead>\n",
       "    <tr style=\"text-align: right;\">\n",
       "      <th></th>\n",
       "      <th>date</th>\n",
       "      <th>group</th>\n",
       "      <th>visitors</th>\n",
       "    </tr>\n",
       "  </thead>\n",
       "  <tbody>\n",
       "    <tr>\n",
       "      <th>0</th>\n",
       "      <td>2019-08-01</td>\n",
       "      <td>A</td>\n",
       "      <td>719</td>\n",
       "    </tr>\n",
       "    <tr>\n",
       "      <th>1</th>\n",
       "      <td>2019-08-02</td>\n",
       "      <td>A</td>\n",
       "      <td>619</td>\n",
       "    </tr>\n",
       "    <tr>\n",
       "      <th>2</th>\n",
       "      <td>2019-08-03</td>\n",
       "      <td>A</td>\n",
       "      <td>507</td>\n",
       "    </tr>\n",
       "  </tbody>\n",
       "</table>\n",
       "</div>"
      ],
      "text/plain": [
       "         date group  visitors\n",
       "0  2019-08-01     A       719\n",
       "1  2019-08-02     A       619\n",
       "2  2019-08-03     A       507"
      ]
     },
     "execution_count": 6,
     "metadata": {},
     "output_type": "execute_result"
    }
   ],
   "source": [
    "visitors.head(3)"
   ]
  },
  {
   "cell_type": "markdown",
   "metadata": {},
   "source": [
    "Столбцы в **orders**:\n",
    "- `transactionId` — идентификатор заказа;\n",
    "- `visitorId` — идентификатор пользователя, совершившего заказ;\n",
    "- `date` — дата, когда был совершён заказ;\n",
    "- `revenue` — выручка заказа;\n",
    "- `group` — группа A/B-теста, в которую попал заказ.\n",
    "\n",
    "Столбцы в **visitors**:\n",
    "- `date` — дата;\n",
    "- `group` — группа A/B-теста;\n",
    "- `visitors` — количество пользователей в указанную дату в указанной группе A/B-теста"
   ]
  },
  {
   "cell_type": "markdown",
   "metadata": {},
   "source": [
    "Столбцы с датой приведу к временному формату."
   ]
  },
  {
   "cell_type": "code",
   "execution_count": 7,
   "metadata": {},
   "outputs": [],
   "source": [
    "orders['date'] = orders['date'].map(\n",
    "    lambda x: dt.datetime.strptime(x, '%Y-%m-%d')\n",
    ")\n",
    "\n",
    "visitors['date'] = visitors['date'].map(\n",
    "    lambda x: dt.datetime.strptime(x, '%Y-%m-%d')\n",
    ")"
   ]
  },
  {
   "cell_type": "markdown",
   "metadata": {},
   "source": [
    "### Проверка на дубликаты и пропуски"
   ]
  },
  {
   "cell_type": "markdown",
   "metadata": {},
   "source": [
    "Проверю данные на наличие дубликатов:"
   ]
  },
  {
   "cell_type": "code",
   "execution_count": 8,
   "metadata": {},
   "outputs": [
    {
     "data": {
      "text/plain": [
       "0"
      ]
     },
     "execution_count": 8,
     "metadata": {},
     "output_type": "execute_result"
    }
   ],
   "source": [
    "orders.duplicated(subset=['transactionId', 'visitorId']).sum()"
   ]
  },
  {
   "cell_type": "markdown",
   "metadata": {},
   "source": [
    "В таблице с данными о заказах дубликатов нет."
   ]
  },
  {
   "cell_type": "code",
   "execution_count": 9,
   "metadata": {},
   "outputs": [
    {
     "data": {
      "text/plain": [
       "0"
      ]
     },
     "execution_count": 9,
     "metadata": {},
     "output_type": "execute_result"
    }
   ],
   "source": [
    "visitors.duplicated().sum()"
   ]
  },
  {
   "cell_type": "markdown",
   "metadata": {},
   "source": [
    "В таблице с посетителями - тоже.\n",
    "\n",
    "Посмотрю информацию о датафреймах, чтобы убедиться, что в данных нет пропусков."
   ]
  },
  {
   "cell_type": "code",
   "execution_count": 10,
   "metadata": {},
   "outputs": [
    {
     "name": "stdout",
     "output_type": "stream",
     "text": [
      "<class 'pandas.core.frame.DataFrame'>\n",
      "RangeIndex: 1197 entries, 0 to 1196\n",
      "Data columns (total 5 columns):\n",
      " #   Column         Non-Null Count  Dtype         \n",
      "---  ------         --------------  -----         \n",
      " 0   transactionId  1197 non-null   int64         \n",
      " 1   visitorId      1197 non-null   int64         \n",
      " 2   date           1197 non-null   datetime64[ns]\n",
      " 3   revenue        1197 non-null   int64         \n",
      " 4   group          1197 non-null   object        \n",
      "dtypes: datetime64[ns](1), int64(3), object(1)\n",
      "memory usage: 46.9+ KB\n"
     ]
    }
   ],
   "source": [
    "orders.info()"
   ]
  },
  {
   "cell_type": "code",
   "execution_count": 11,
   "metadata": {},
   "outputs": [
    {
     "name": "stdout",
     "output_type": "stream",
     "text": [
      "<class 'pandas.core.frame.DataFrame'>\n",
      "RangeIndex: 62 entries, 0 to 61\n",
      "Data columns (total 3 columns):\n",
      " #   Column    Non-Null Count  Dtype         \n",
      "---  ------    --------------  -----         \n",
      " 0   date      62 non-null     datetime64[ns]\n",
      " 1   group     62 non-null     object        \n",
      " 2   visitors  62 non-null     int64         \n",
      "dtypes: datetime64[ns](1), int64(1), object(1)\n",
      "memory usage: 1.6+ KB\n"
     ]
    }
   ],
   "source": [
    "visitors.info()"
   ]
  },
  {
   "cell_type": "markdown",
   "metadata": {},
   "source": [
    "В обоих датафреймах нет ни дубликатов, ни пропусков."
   ]
  },
  {
   "cell_type": "markdown",
   "metadata": {},
   "source": [
    "### Проверка распределения пользователей на группы"
   ]
  },
  {
   "cell_type": "markdown",
   "metadata": {},
   "source": [
    "Возможно, в данных есть пользователи, которые по ошибке попали в обе группы. Проверю, есть ли такие пользователи"
   ]
  },
  {
   "cell_type": "code",
   "execution_count": 12,
   "metadata": {},
   "outputs": [
    {
     "name": "stdout",
     "output_type": "stream",
     "text": [
      "Количество пользователей, которым присвоено больше одной группы: visitorId    58\n",
      "dtype: int64\n"
     ]
    }
   ],
   "source": [
    "print('Количество пользователей, которым присвоено больше одной группы:',\n",
    "     orders[orders['visitorId'].isin(\n",
    "     orders.groupby('visitorId', as_index=False)\n",
    "     .agg({'group':'nunique'})\n",
    "     .query('group > 1')['visitorId'])\n",
    "           ].agg({'visitorId':'nunique'})\n",
    "     )"
   ]
  },
  {
   "cell_type": "markdown",
   "metadata": {},
   "source": [
    "Посмотрю также на количество пользователей в каждой из групп по первой присвоенной группе."
   ]
  },
  {
   "cell_type": "code",
   "execution_count": 13,
   "metadata": {},
   "outputs": [
    {
     "data": {
      "text/plain": [
       "group\n",
       "B        556\n",
       "A        475\n",
       "dtype: int64"
      ]
     },
     "execution_count": 13,
     "metadata": {},
     "output_type": "execute_result"
    }
   ],
   "source": [
    "orders.groupby('visitorId').agg({'group':'first'}).value_counts()"
   ]
  },
  {
   "cell_type": "code",
   "execution_count": 14,
   "metadata": {},
   "outputs": [
    {
     "name": "stdout",
     "output_type": "stream",
     "text": [
      "Доля пользователей с двумя группами от общего числа пользователей: 0.056\n"
     ]
    }
   ],
   "source": [
    "print('Доля пользователей с двумя группами от общего числа пользователей:',\n",
    "     round((orders.groupby('visitorId', as_index=False)\n",
    "     .agg({'group':'nunique'})\n",
    "     .query('group > 1')['visitorId']).count() / orders['visitorId'].nunique(), 3)\n",
    "     )"
   ]
  },
  {
   "cell_type": "markdown",
   "metadata": {},
   "source": [
    "Немного больше 5% пользователей попали сразу в обе группы.  \n",
    "Работать с такими пользователями можно по-разному: присвоить им ту группу, которая была присвоена изначально, либо присвоить последнюю, либо вовсе сбалансировать количество групп присваивая такую, чтобы добиться примерно равных долей пользователей в каждой из групп, но все это грозит искажением результатов, поскольку я не знаю, как присваивалось значение группы пользователей в таблице заказов.  \n",
    "Поэтому лучшим вариантом представляется избавиться от всех записей с этими пользователями.\n",
    "\n",
    "Очищу данные от пользователей, которые попали в две группы сразу:"
   ]
  },
  {
   "cell_type": "code",
   "execution_count": 15,
   "metadata": {},
   "outputs": [],
   "source": [
    "orders = orders[~orders['visitorId'].isin(orders.groupby('visitorId', as_index=False)\n",
    "                                          .agg({'group':'nunique'})\n",
    "                                          .query('group > 1')['visitorId']\n",
    "                                         )]"
   ]
  },
  {
   "cell_type": "markdown",
   "metadata": {},
   "source": [
    "Проверю новое распределение по количесту пользователей в группах."
   ]
  },
  {
   "cell_type": "code",
   "execution_count": 16,
   "metadata": {},
   "outputs": [
    {
     "data": {
      "text/plain": [
       "group\n",
       "B        528\n",
       "A        445\n",
       "dtype: int64"
      ]
     },
     "execution_count": 16,
     "metadata": {},
     "output_type": "execute_result"
    }
   ],
   "source": [
    "orders.groupby('visitorId').agg({'group':'first'}).value_counts()"
   ]
  },
  {
   "cell_type": "markdown",
   "metadata": {},
   "source": [
    "Распределение осталось примерно таким же."
   ]
  },
  {
   "cell_type": "markdown",
   "metadata": {},
   "source": [
    "## Приоритизация гипотез"
   ]
  },
  {
   "cell_type": "markdown",
   "metadata": {},
   "source": [
    "Для приоритизации гипотез воспользуюсь фреймворками ICE и RICE"
   ]
  },
  {
   "cell_type": "code",
   "execution_count": 17,
   "metadata": {},
   "outputs": [
    {
     "data": {
      "text/html": [
       "<div>\n",
       "<style scoped>\n",
       "    .dataframe tbody tr th:only-of-type {\n",
       "        vertical-align: middle;\n",
       "    }\n",
       "\n",
       "    .dataframe tbody tr th {\n",
       "        vertical-align: top;\n",
       "    }\n",
       "\n",
       "    .dataframe thead th {\n",
       "        text-align: right;\n",
       "    }\n",
       "</style>\n",
       "<table border=\"1\" class=\"dataframe\">\n",
       "  <thead>\n",
       "    <tr style=\"text-align: right;\">\n",
       "      <th></th>\n",
       "      <th>hypothesis</th>\n",
       "      <th>reach</th>\n",
       "      <th>impact</th>\n",
       "      <th>confidence</th>\n",
       "      <th>efforts</th>\n",
       "      <th>ice</th>\n",
       "    </tr>\n",
       "  </thead>\n",
       "  <tbody>\n",
       "    <tr>\n",
       "      <th>8</th>\n",
       "      <td>Запустить акцию, дающую скидку на товар в день...</td>\n",
       "      <td>1</td>\n",
       "      <td>9</td>\n",
       "      <td>9</td>\n",
       "      <td>5</td>\n",
       "      <td>16.20</td>\n",
       "    </tr>\n",
       "    <tr>\n",
       "      <th>0</th>\n",
       "      <td>Добавить два новых канала привлечения трафика,...</td>\n",
       "      <td>3</td>\n",
       "      <td>10</td>\n",
       "      <td>8</td>\n",
       "      <td>6</td>\n",
       "      <td>13.33</td>\n",
       "    </tr>\n",
       "    <tr>\n",
       "      <th>7</th>\n",
       "      <td>Добавить форму подписки на все основные страни...</td>\n",
       "      <td>10</td>\n",
       "      <td>7</td>\n",
       "      <td>8</td>\n",
       "      <td>5</td>\n",
       "      <td>11.20</td>\n",
       "    </tr>\n",
       "    <tr>\n",
       "      <th>6</th>\n",
       "      <td>Показать на главной странице баннеры с актуаль...</td>\n",
       "      <td>5</td>\n",
       "      <td>3</td>\n",
       "      <td>8</td>\n",
       "      <td>3</td>\n",
       "      <td>8.00</td>\n",
       "    </tr>\n",
       "    <tr>\n",
       "      <th>2</th>\n",
       "      <td>Добавить блоки рекомендаций товаров на сайт ин...</td>\n",
       "      <td>8</td>\n",
       "      <td>3</td>\n",
       "      <td>7</td>\n",
       "      <td>3</td>\n",
       "      <td>7.00</td>\n",
       "    </tr>\n",
       "    <tr>\n",
       "      <th>1</th>\n",
       "      <td>Запустить собственную службу доставки, что сок...</td>\n",
       "      <td>2</td>\n",
       "      <td>5</td>\n",
       "      <td>4</td>\n",
       "      <td>10</td>\n",
       "      <td>2.00</td>\n",
       "    </tr>\n",
       "    <tr>\n",
       "      <th>5</th>\n",
       "      <td>Добавить страницу отзывов клиентов о магазине,...</td>\n",
       "      <td>3</td>\n",
       "      <td>2</td>\n",
       "      <td>2</td>\n",
       "      <td>3</td>\n",
       "      <td>1.33</td>\n",
       "    </tr>\n",
       "    <tr>\n",
       "      <th>3</th>\n",
       "      <td>Изменить структура категорий, что увеличит кон...</td>\n",
       "      <td>8</td>\n",
       "      <td>3</td>\n",
       "      <td>3</td>\n",
       "      <td>8</td>\n",
       "      <td>1.12</td>\n",
       "    </tr>\n",
       "    <tr>\n",
       "      <th>4</th>\n",
       "      <td>Изменить цвет фона главной страницы, чтобы уве...</td>\n",
       "      <td>3</td>\n",
       "      <td>1</td>\n",
       "      <td>1</td>\n",
       "      <td>1</td>\n",
       "      <td>1.00</td>\n",
       "    </tr>\n",
       "  </tbody>\n",
       "</table>\n",
       "</div>"
      ],
      "text/plain": [
       "                                          hypothesis  reach  impact  \\\n",
       "8  Запустить акцию, дающую скидку на товар в день...      1       9   \n",
       "0  Добавить два новых канала привлечения трафика,...      3      10   \n",
       "7  Добавить форму подписки на все основные страни...     10       7   \n",
       "6  Показать на главной странице баннеры с актуаль...      5       3   \n",
       "2  Добавить блоки рекомендаций товаров на сайт ин...      8       3   \n",
       "1  Запустить собственную службу доставки, что сок...      2       5   \n",
       "5  Добавить страницу отзывов клиентов о магазине,...      3       2   \n",
       "3  Изменить структура категорий, что увеличит кон...      8       3   \n",
       "4  Изменить цвет фона главной страницы, чтобы уве...      3       1   \n",
       "\n",
       "   confidence  efforts    ice  \n",
       "8           9        5  16.20  \n",
       "0           8        6  13.33  \n",
       "7           8        5  11.20  \n",
       "6           8        3   8.00  \n",
       "2           7        3   7.00  \n",
       "1           4       10   2.00  \n",
       "5           2        3   1.33  \n",
       "3           3        8   1.12  \n",
       "4           1        1   1.00  "
      ]
     },
     "execution_count": 17,
     "metadata": {},
     "output_type": "execute_result"
    }
   ],
   "source": [
    "hypothesis['ice'] = (hypothesis['impact'] * hypothesis['confidence']) / hypothesis['efforts']\n",
    "hypothesis['ice'] = round(hypothesis['ice'], 2)\n",
    "hypothesis.sort_values('ice', ascending=False)"
   ]
  },
  {
   "cell_type": "markdown",
   "metadata": {},
   "source": [
    "По фреймворку ICE наиболее приоритетными для реализации являются гипотезы под номерами 8, 0 и 7.  \n",
    "Но если учесть и параметр reach - скорее всего приоритетность изменится."
   ]
  },
  {
   "cell_type": "code",
   "execution_count": 18,
   "metadata": {},
   "outputs": [
    {
     "data": {
      "text/html": [
       "<style type=\"text/css\">\n",
       "#T_2315e_row0_col1 {\n",
       "  background-color: #41a5cb;\n",
       "  color: #f1f1f1;\n",
       "}\n",
       "#T_2315e_row0_col2, #T_2315e_row4_col1 {\n",
       "  background-color: #084081;\n",
       "  color: #f1f1f1;\n",
       "}\n",
       "#T_2315e_row1_col1 {\n",
       "  background-color: #a0dab8;\n",
       "  color: #000000;\n",
       "}\n",
       "#T_2315e_row1_col2 {\n",
       "  background-color: #80cec2;\n",
       "  color: #000000;\n",
       "}\n",
       "#T_2315e_row2_col1 {\n",
       "  background-color: #1a7ab5;\n",
       "  color: #f1f1f1;\n",
       "}\n",
       "#T_2315e_row2_col2, #T_2315e_row3_col2 {\n",
       "  background-color: #b3e1ba;\n",
       "  color: #000000;\n",
       "}\n",
       "#T_2315e_row3_col1 {\n",
       "  background-color: #8ad2bf;\n",
       "  color: #000000;\n",
       "}\n",
       "#T_2315e_row4_col2 {\n",
       "  background-color: #e1f3dc;\n",
       "  color: #000000;\n",
       "}\n",
       "#T_2315e_row5_col1, #T_2315e_row6_col2, #T_2315e_row7_col2 {\n",
       "  background-color: #f6fbef;\n",
       "  color: #000000;\n",
       "}\n",
       "#T_2315e_row5_col2 {\n",
       "  background-color: #edf8e7;\n",
       "  color: #000000;\n",
       "}\n",
       "#T_2315e_row6_col1 {\n",
       "  background-color: #ebf7e5;\n",
       "  color: #000000;\n",
       "}\n",
       "#T_2315e_row7_col1 {\n",
       "  background-color: #f3fbed;\n",
       "  color: #000000;\n",
       "}\n",
       "#T_2315e_row8_col1, #T_2315e_row8_col2 {\n",
       "  background-color: #f7fcf0;\n",
       "  color: #000000;\n",
       "}\n",
       "</style>\n",
       "<table id=\"T_2315e\">\n",
       "  <thead>\n",
       "    <tr>\n",
       "      <th class=\"blank level0\" >&nbsp;</th>\n",
       "      <th id=\"T_2315e_level0_col0\" class=\"col_heading level0 col0\" >hypothesis</th>\n",
       "      <th id=\"T_2315e_level0_col1\" class=\"col_heading level0 col1\" >ice</th>\n",
       "      <th id=\"T_2315e_level0_col2\" class=\"col_heading level0 col2\" >rice</th>\n",
       "    </tr>\n",
       "  </thead>\n",
       "  <tbody>\n",
       "    <tr>\n",
       "      <th id=\"T_2315e_level0_row0\" class=\"row_heading level0 row0\" >7</th>\n",
       "      <td id=\"T_2315e_row0_col0\" class=\"data row0 col0\" >Добавить форму подписки на все основные страницы, чтобы собрать базу клиентов для email-рассылок</td>\n",
       "      <td id=\"T_2315e_row0_col1\" class=\"data row0 col1\" >11.20</td>\n",
       "      <td id=\"T_2315e_row0_col2\" class=\"data row0 col2\" >112.00</td>\n",
       "    </tr>\n",
       "    <tr>\n",
       "      <th id=\"T_2315e_level0_row1\" class=\"row_heading level0 row1\" >2</th>\n",
       "      <td id=\"T_2315e_row1_col0\" class=\"data row1 col0\" >Добавить блоки рекомендаций товаров на сайт интернет магазина, чтобы повысить конверсию и средний чек заказа</td>\n",
       "      <td id=\"T_2315e_row1_col1\" class=\"data row1 col1\" >7.00</td>\n",
       "      <td id=\"T_2315e_row1_col2\" class=\"data row1 col2\" >56.00</td>\n",
       "    </tr>\n",
       "    <tr>\n",
       "      <th id=\"T_2315e_level0_row2\" class=\"row_heading level0 row2\" >0</th>\n",
       "      <td id=\"T_2315e_row2_col0\" class=\"data row2 col0\" >Добавить два новых канала привлечения трафика, что позволит привлекать на 30% больше пользователей</td>\n",
       "      <td id=\"T_2315e_row2_col1\" class=\"data row2 col1\" >13.33</td>\n",
       "      <td id=\"T_2315e_row2_col2\" class=\"data row2 col2\" >40.00</td>\n",
       "    </tr>\n",
       "    <tr>\n",
       "      <th id=\"T_2315e_level0_row3\" class=\"row_heading level0 row3\" >6</th>\n",
       "      <td id=\"T_2315e_row3_col0\" class=\"data row3 col0\" >Показать на главной странице баннеры с актуальными акциями и распродажами, чтобы увеличить конверсию</td>\n",
       "      <td id=\"T_2315e_row3_col1\" class=\"data row3 col1\" >8.00</td>\n",
       "      <td id=\"T_2315e_row3_col2\" class=\"data row3 col2\" >40.00</td>\n",
       "    </tr>\n",
       "    <tr>\n",
       "      <th id=\"T_2315e_level0_row4\" class=\"row_heading level0 row4\" >8</th>\n",
       "      <td id=\"T_2315e_row4_col0\" class=\"data row4 col0\" >Запустить акцию, дающую скидку на товар в день рождения</td>\n",
       "      <td id=\"T_2315e_row4_col1\" class=\"data row4 col1\" >16.20</td>\n",
       "      <td id=\"T_2315e_row4_col2\" class=\"data row4 col2\" >16.20</td>\n",
       "    </tr>\n",
       "    <tr>\n",
       "      <th id=\"T_2315e_level0_row5\" class=\"row_heading level0 row5\" >3</th>\n",
       "      <td id=\"T_2315e_row5_col0\" class=\"data row5 col0\" >Изменить структура категорий, что увеличит конверсию, т.к. пользователи быстрее найдут нужный товар</td>\n",
       "      <td id=\"T_2315e_row5_col1\" class=\"data row5 col1\" >1.12</td>\n",
       "      <td id=\"T_2315e_row5_col2\" class=\"data row5 col2\" >9.00</td>\n",
       "    </tr>\n",
       "    <tr>\n",
       "      <th id=\"T_2315e_level0_row6\" class=\"row_heading level0 row6\" >1</th>\n",
       "      <td id=\"T_2315e_row6_col0\" class=\"data row6 col0\" >Запустить собственную службу доставки, что сократит срок доставки заказов</td>\n",
       "      <td id=\"T_2315e_row6_col1\" class=\"data row6 col1\" >2.00</td>\n",
       "      <td id=\"T_2315e_row6_col2\" class=\"data row6 col2\" >4.00</td>\n",
       "    </tr>\n",
       "    <tr>\n",
       "      <th id=\"T_2315e_level0_row7\" class=\"row_heading level0 row7\" >5</th>\n",
       "      <td id=\"T_2315e_row7_col0\" class=\"data row7 col0\" >Добавить страницу отзывов клиентов о магазине, что позволит увеличить количество заказов</td>\n",
       "      <td id=\"T_2315e_row7_col1\" class=\"data row7 col1\" >1.33</td>\n",
       "      <td id=\"T_2315e_row7_col2\" class=\"data row7 col2\" >4.00</td>\n",
       "    </tr>\n",
       "    <tr>\n",
       "      <th id=\"T_2315e_level0_row8\" class=\"row_heading level0 row8\" >4</th>\n",
       "      <td id=\"T_2315e_row8_col0\" class=\"data row8 col0\" >Изменить цвет фона главной страницы, чтобы увеличить вовлеченность пользователей</td>\n",
       "      <td id=\"T_2315e_row8_col1\" class=\"data row8 col1\" >1.00</td>\n",
       "      <td id=\"T_2315e_row8_col2\" class=\"data row8 col2\" >3.00</td>\n",
       "    </tr>\n",
       "  </tbody>\n",
       "</table>\n"
      ],
      "text/plain": [
       "<pandas.io.formats.style.Styler at 0x1f40be73250>"
      ]
     },
     "execution_count": 18,
     "metadata": {},
     "output_type": "execute_result"
    }
   ],
   "source": [
    "hypothesis['rice'] = (hypothesis['reach'] * hypothesis['impact'] * hypothesis['confidence']) / hypothesis['efforts']\n",
    "hypothesis['rice'] = round(hypothesis['rice'], 2)\n",
    "pd.DataFrame(hypothesis[['hypothesis', 'ice', 'rice']]\\\n",
    "             .sort_values('rice', ascending=False))\\\n",
    "             .style.background_gradient('GnBu')\\\n",
    "             .format({'ice': '{0:.2f}', 'rice':'{0:0.2f}'})"
   ]
  },
  {
   "cell_type": "markdown",
   "metadata": {},
   "source": [
    "Действительно, с учетом параметра, отвечающего за охват пользователей, в лидеры выбирается гипотеза №7, так как она охватывает всех пользователей.  \n",
    "В связи с большим охватом пользователей также выбирается в топ гипотеза №2, которая по фреймворку ICE занимала лишь 5-е место.  \n",
    "Гипотеза №8 утратила высокий приоритет, так как имеет оценку reach в один балл."
   ]
  },
  {
   "cell_type": "markdown",
   "metadata": {},
   "source": [
    "Итак, три гипотезы, которые имеют самую высокую приоритетность по RICE звучат следующим образом:"
   ]
  },
  {
   "cell_type": "code",
   "execution_count": 19,
   "metadata": {
    "scrolled": true
   },
   "outputs": [
    {
     "data": {
      "text/plain": [
       "['Добавить форму подписки на все основные страницы, чтобы собрать базу клиентов для email-рассылок',\n",
       " 'Добавить блоки рекомендаций товаров на сайт интернет магазина, чтобы повысить конверсию и средний чек заказа',\n",
       " 'Добавить два новых канала привлечения трафика, что позволит привлекать на 30% больше пользователей']"
      ]
     },
     "execution_count": 19,
     "metadata": {},
     "output_type": "execute_result"
    }
   ],
   "source": [
    "hypothesis.sort_values('rice', ascending=False)['hypothesis'].head(3).values.tolist()"
   ]
  },
  {
   "cell_type": "markdown",
   "metadata": {},
   "source": [
    "## Анализ собранных для A/B-теста данных"
   ]
  },
  {
   "cell_type": "markdown",
   "metadata": {},
   "source": [
    "### Анализ кумулятивных графиков"
   ]
  },
  {
   "cell_type": "markdown",
   "metadata": {},
   "source": [
    "При анализе результатов A/B-теста лучше ориентироваться на кумулятивные графики, чтобы было ясно видно, установилось ли четкое среднее измеряемого параметра для каждой из групп теста.\n",
    "\n",
    "Изучу кумулятивную выручку, средний чек, относительное изменение кумулятивного среднего чека группы B к группе A, а также кумулятивное среднее количества заказов на посетителя."
   ]
  },
  {
   "cell_type": "markdown",
   "metadata": {},
   "source": [
    "#### Кумулятивная выручка и средний чек"
   ]
  },
  {
   "cell_type": "code",
   "execution_count": 19,
   "metadata": {},
   "outputs": [
    {
     "data": {
      "text/html": [
       "<div>\n",
       "<style scoped>\n",
       "    .dataframe tbody tr th:only-of-type {\n",
       "        vertical-align: middle;\n",
       "    }\n",
       "\n",
       "    .dataframe tbody tr th {\n",
       "        vertical-align: top;\n",
       "    }\n",
       "\n",
       "    .dataframe thead th {\n",
       "        text-align: right;\n",
       "    }\n",
       "</style>\n",
       "<table border=\"1\" class=\"dataframe\">\n",
       "  <thead>\n",
       "    <tr style=\"text-align: right;\">\n",
       "      <th></th>\n",
       "      <th>date</th>\n",
       "      <th>group</th>\n",
       "      <th>orders</th>\n",
       "      <th>buyers</th>\n",
       "      <th>revenue</th>\n",
       "      <th>visitors</th>\n",
       "    </tr>\n",
       "  </thead>\n",
       "  <tbody>\n",
       "    <tr>\n",
       "      <th>0</th>\n",
       "      <td>2019-08-01</td>\n",
       "      <td>A</td>\n",
       "      <td>23</td>\n",
       "      <td>19</td>\n",
       "      <td>142779</td>\n",
       "      <td>719</td>\n",
       "    </tr>\n",
       "    <tr>\n",
       "      <th>1</th>\n",
       "      <td>2019-08-01</td>\n",
       "      <td>B</td>\n",
       "      <td>17</td>\n",
       "      <td>17</td>\n",
       "      <td>59758</td>\n",
       "      <td>713</td>\n",
       "    </tr>\n",
       "    <tr>\n",
       "      <th>2</th>\n",
       "      <td>2019-08-02</td>\n",
       "      <td>A</td>\n",
       "      <td>42</td>\n",
       "      <td>36</td>\n",
       "      <td>234381</td>\n",
       "      <td>1338</td>\n",
       "    </tr>\n",
       "  </tbody>\n",
       "</table>\n",
       "</div>"
      ],
      "text/plain": [
       "        date group  orders  buyers  revenue  visitors\n",
       "0 2019-08-01     A      23      19   142779       719\n",
       "1 2019-08-01     B      17      17    59758       713\n",
       "2 2019-08-02     A      42      36   234381      1338"
      ]
     },
     "execution_count": 19,
     "metadata": {},
     "output_type": "execute_result"
    }
   ],
   "source": [
    "# Создам массив с набором уникальных дат и групп теста\n",
    "datesGroups = orders[['date','group']].drop_duplicates()\n",
    "\n",
    "# В переменную вложу кумулятивные данные о заказах по дням\n",
    "ordersAggregated = (datesGroups\n",
    "                    .apply(lambda x: orders[\n",
    "                        np.logical_and(orders['date'] <= x['date'],\n",
    "                                       orders['group'] == x['group'])]\n",
    "                                 .agg({'date' : 'max',\n",
    "                                 'group' : 'max',\n",
    "                                 'transactionId' : 'nunique',\n",
    "                                 'visitorId' : 'nunique',\n",
    "                                 'revenue' : 'sum'}), axis=1)\n",
    "                    .sort_values(by=['date','group']))\n",
    "\n",
    "# И агрегированные кумулятивные данные о посетителях по дням\n",
    "visitorsAggregated = (datesGroups\n",
    "                      .apply(lambda x: visitors[\n",
    "                          np.logical_and(visitors['date'] <= x['date'],\n",
    "                                         visitors['group'] == x['group'])]\n",
    "                             .agg({'date' : 'max',\n",
    "                                   'group' : 'max',\n",
    "                                   'visitors' : 'sum'}), axis=1)\n",
    "                      .sort_values(by=['date','group']))\n",
    "\n",
    "# Кумулятивные данные объединю в одной таблице\n",
    "cumulativeData = ordersAggregated.merge(visitorsAggregated,\n",
    "                                        left_on=['date', 'group'],\n",
    "                                        right_on=['date', 'group'])\n",
    "\n",
    "# Переименую столбцы для простоты работы\n",
    "cumulativeData.columns = ['date', 'group', 'orders', 'buyers', 'revenue', 'visitors']\n",
    "\n",
    "cumulativeData.head(3)"
   ]
  },
  {
   "cell_type": "markdown",
   "metadata": {},
   "source": [
    "Чтобы построить график - разделю данные о выручке по группам"
   ]
  },
  {
   "cell_type": "code",
   "execution_count": 20,
   "metadata": {},
   "outputs": [
    {
     "data": {
      "image/png": "[encoded data removed]",
      "text/plain": [
       "<Figure size 1000x500 with 1 Axes>"
      ]
     },
     "metadata": {},
     "output_type": "display_data"
    }
   ],
   "source": [
    "cumulativeRevenueA = cumulativeData[cumulativeData['group']=='A'][['date','revenue', 'orders']]\n",
    "cumulativeRevenueB = cumulativeData[cumulativeData['group']=='B'][['date','revenue', 'orders']]\n",
    "\n",
    "plt.figure(figsize=(10, 5))\n",
    "\n",
    "# График выручки группы А\n",
    "plt.plot(cumulativeRevenueA['date'], cumulativeRevenueA['revenue'], label='A')\n",
    "\n",
    "# График выручки группы B\n",
    "plt.plot(cumulativeRevenueB['date'], cumulativeRevenueB['revenue'], label='B')\n",
    "\n",
    "plt.title('Кумулятивная выручка по дням, руб.')\n",
    "plt.xlabel('Дата')\n",
    "plt.ylabel('Выручка')\n",
    "plt.legend();"
   ]
  },
  {
   "cell_type": "markdown",
   "metadata": {},
   "source": [
    "Группа B почти во все дни обгоняет группу A по выручке. В глаза бросается сильный скачок между 17 и 21 августа. Возможно, тогда случился выброс и кто-то оформил чрезмерно дорогой заказ. Но тем не менее на первый взгляд кажется, что и без него у группы B есть преимущество в выручке.  \n",
    "\n",
    "Посмотрю также на график среднего чека по группам."
   ]
  },
  {
   "cell_type": "markdown",
   "metadata": {},
   "source": [
    "#### Величина среднего чека по группам"
   ]
  },
  {
   "cell_type": "code",
   "execution_count": 21,
   "metadata": {},
   "outputs": [
    {
     "data": {
      "image/png": "[encoded data removed]",
      "text/plain": [
       "<Figure size 1000x500 with 1 Axes>"
      ]
     },
     "metadata": {},
     "output_type": "display_data"
    }
   ],
   "source": [
    "plt.figure(figsize=(10, 5))\n",
    "\n",
    "# График среднего чека группы А\n",
    "plt.plot(cumulativeRevenueA['date'], cumulativeRevenueA['revenue']/cumulativeRevenueA['orders'], label='A')\n",
    "# График среднего чека группы B\n",
    "plt.plot(cumulativeRevenueB['date'], cumulativeRevenueB['revenue']/cumulativeRevenueB['orders'], label='B')\n",
    "\n",
    "plt.title('Величина среднего чека по дням, руб.')\n",
    "plt.xlabel('Дата')\n",
    "plt.ylabel('Средний чек')\n",
    "plt.legend();"
   ]
  },
  {
   "cell_type": "markdown",
   "metadata": {},
   "source": [
    "На графике среднего чека даже отчетливее виден сильный скачок в тот же период (с 19 августа).  \n",
    "Предположение о том, что его образовал выброс, только укрепляется."
   ]
  },
  {
   "cell_type": "markdown",
   "metadata": {},
   "source": [
    "#### Отношение среднего чека группы В к группе А"
   ]
  },
  {
   "cell_type": "markdown",
   "metadata": {},
   "source": [
    "Для наглядности построю и график отношения среднего чека группы B к группе А."
   ]
  },
  {
   "cell_type": "code",
   "execution_count": 25,
   "metadata": {
    "scrolled": false
   },
   "outputs": [
    {
     "data": {
      "image/png": "[encoded data removed]",
      "text/plain": [
       "<Figure size 700x400 with 1 Axes>"
      ]
     },
     "metadata": {},
     "output_type": "display_data"
    }
   ],
   "source": [
    "mergedCumulativeRevenue = cumulativeRevenueA.merge(cumulativeRevenueB,\n",
    "                                                   left_on='date',\n",
    "                                                   right_on='date',\n",
    "                                                   how='left',\n",
    "                                                   suffixes=['A', 'B'])\n",
    "\n",
    "plt.figure(figsize=(7, 4))\n",
    "\n",
    "plt.plot(mergedCumulativeRevenue['date'],\n",
    "         (mergedCumulativeRevenue['revenueB']/mergedCumulativeRevenue['ordersB'])\n",
    "         / (mergedCumulativeRevenue['revenueA']/mergedCumulativeRevenue['ordersA'])-1)\n",
    "\n",
    "\n",
    "plt.axhline(y=0, color='black', linestyle='--')\n",
    "\n",
    "plt.title('Отношение среднего чека группы B к группе А')\n",
    "plt.xlabel('Дата')\n",
    "plt.ylabel('Отношение');"
   ]
  },
  {
   "cell_type": "markdown",
   "metadata": {},
   "source": [
    "В течение эксперемента только около четырех дней средний чек в группе А был выше, чем в группе B.  \n",
    "Визуально кажется, что у группы B есть преимущество. Но не стоит забывать о возможном выбросе, который образовал преимущество на 50% для группы B."
   ]
  },
  {
   "cell_type": "markdown",
   "metadata": {},
   "source": [
    "#### Кумулятивное среднее количество заказов"
   ]
  },
  {
   "cell_type": "markdown",
   "metadata": {},
   "source": [
    "Посмотрю на график кумулятивного среднего количества заказов на пользователя"
   ]
  },
  {
   "cell_type": "code",
   "execution_count": 26,
   "metadata": {},
   "outputs": [
    {
     "data": {
      "image/png": "[encoded data removed]",
      "text/plain": [
       "<Figure size 1000x500 with 1 Axes>"
      ]
     },
     "metadata": {},
     "output_type": "display_data"
    }
   ],
   "source": [
    "cumulativeOrdersA = cumulativeData[cumulativeData['group']=='A'][['date', 'orders', 'visitors']]\n",
    "cumulativeOrdersB = cumulativeData[cumulativeData['group']=='B'][['date', 'orders', 'visitors']]\n",
    "\n",
    "plt.figure(figsize=(10, 5))\n",
    "\n",
    "plt.plot(cumulativeOrdersA['date'],\n",
    "         cumulativeOrdersA['orders']/ cumulativeOrdersA['visitors'],\n",
    "         label='A')\n",
    "\n",
    "plt.plot(cumulativeOrdersB['date'],\n",
    "         cumulativeOrdersB['orders']/ cumulativeOrdersB['visitors'],\n",
    "         label='B')\n",
    "\n",
    "plt.title('Кумулятивное среднее количество заказов на посетителя')\n",
    "plt.xlabel('Дата')\n",
    "plt.ylabel('Среднее кол-во заказов на посетителя')\n",
    "plt.legend();"
   ]
  },
  {
   "cell_type": "markdown",
   "metadata": {},
   "source": [
    "Кажется, что группа B лидирует по среднему количеству заказов на пользователя, к тому же и очевидные выбросы на графике в глаза не бросаются."
   ]
  },
  {
   "cell_type": "code",
   "execution_count": 27,
   "metadata": {},
   "outputs": [
    {
     "data": {
      "image/png": "[encoded data removed]",
      "text/plain": [
       "<Figure size 1000x500 with 1 Axes>"
      ]
     },
     "metadata": {},
     "output_type": "display_data"
    }
   ],
   "source": [
    "mergedCumulativeOrders = cumulativeOrdersA.merge(cumulativeOrdersB,\n",
    "                                                   left_on='date',\n",
    "                                                   right_on='date',\n",
    "                                                   how='left',\n",
    "                                                   suffixes=['A', 'B'])\n",
    "\n",
    "plt.figure(figsize=(10, 5))\n",
    "\n",
    "plt.plot(mergedCumulativeOrders['date'],\n",
    "         (mergedCumulativeOrders['ordersB']/mergedCumulativeOrders['visitorsB'])\n",
    "         / (mergedCumulativeOrders['ordersA']/mergedCumulativeOrders['visitorsA'])-1)\n",
    "\n",
    "\n",
    "plt.axhline(y=0, color='black', linestyle='--')\n",
    "\n",
    "plt.title('Относительное изменение кумулятивного среднего количества заказов на посетителя группы B к группе A')\n",
    "plt.xlabel('Дата')\n",
    "plt.ylabel('Отношение');"
   ]
  },
  {
   "cell_type": "markdown",
   "metadata": {},
   "source": [
    "Группа B имеет преимущество в среднем кол-ве заказов на пользователя в районе 15%."
   ]
  },
  {
   "cell_type": "markdown",
   "metadata": {},
   "source": [
    "### Определение аномальных значений"
   ]
  },
  {
   "cell_type": "markdown",
   "metadata": {},
   "source": [
    "Чтобы тест был достоверным - важно очистить его от выбросов.  \n",
    "В рамках анализа результатов данного A/B-теста я определю границы аномальных значений для двух показателей: количество заказов на пользователя и стоимость заказа."
   ]
  },
  {
   "cell_type": "markdown",
   "metadata": {},
   "source": [
    "#### Определение границы аномальных значений для количества заказов на пользователя"
   ]
  },
  {
   "cell_type": "markdown",
   "metadata": {},
   "source": [
    "Сначала определю переменную, в которой будет храниться информация о пользователях и количестве их заказов:"
   ]
  },
  {
   "cell_type": "code",
   "execution_count": 28,
   "metadata": {},
   "outputs": [
    {
     "data": {
      "text/html": [
       "<div>\n",
       "<style scoped>\n",
       "    .dataframe tbody tr th:only-of-type {\n",
       "        vertical-align: middle;\n",
       "    }\n",
       "\n",
       "    .dataframe tbody tr th {\n",
       "        vertical-align: top;\n",
       "    }\n",
       "\n",
       "    .dataframe thead th {\n",
       "        text-align: right;\n",
       "    }\n",
       "</style>\n",
       "<table border=\"1\" class=\"dataframe\">\n",
       "  <thead>\n",
       "    <tr style=\"text-align: right;\">\n",
       "      <th></th>\n",
       "      <th>visitorId</th>\n",
       "      <th>orders_amount</th>\n",
       "    </tr>\n",
       "  </thead>\n",
       "  <tbody>\n",
       "    <tr>\n",
       "      <th>908</th>\n",
       "      <td>3967698036</td>\n",
       "      <td>3</td>\n",
       "    </tr>\n",
       "    <tr>\n",
       "      <th>55</th>\n",
       "      <td>249864742</td>\n",
       "      <td>3</td>\n",
       "    </tr>\n",
       "    <tr>\n",
       "      <th>478</th>\n",
       "      <td>2108163459</td>\n",
       "      <td>3</td>\n",
       "    </tr>\n",
       "    <tr>\n",
       "      <th>687</th>\n",
       "      <td>2988190573</td>\n",
       "      <td>3</td>\n",
       "    </tr>\n",
       "    <tr>\n",
       "      <th>890</th>\n",
       "      <td>3908431265</td>\n",
       "      <td>3</td>\n",
       "    </tr>\n",
       "  </tbody>\n",
       "</table>\n",
       "</div>"
      ],
      "text/plain": [
       "      visitorId  orders_amount\n",
       "908  3967698036              3\n",
       "55    249864742              3\n",
       "478  2108163459              3\n",
       "687  2988190573              3\n",
       "890  3908431265              3"
      ]
     },
     "execution_count": 28,
     "metadata": {},
     "output_type": "execute_result"
    }
   ],
   "source": [
    "ordersByVisitors = (orders.groupby('visitorId', as_index=False)\n",
    "                    .agg({'transactionId':'nunique'})\n",
    "                    .sort_values('transactionId', ascending=False)\n",
    "                   )\n",
    "ordersByVisitors.columns = ['visitorId', 'orders_amount']\n",
    "ordersByVisitors.head()"
   ]
  },
  {
   "cell_type": "markdown",
   "metadata": {},
   "source": [
    "Посмотрю на разброс, используя точечную диаграмму."
   ]
  },
  {
   "cell_type": "code",
   "execution_count": 32,
   "metadata": {},
   "outputs": [
    {
     "data": {
      "image/png": "[encoded data removed]",
      "text/plain": [
       "<Figure size 700x300 with 1 Axes>"
      ]
     },
     "metadata": {},
     "output_type": "display_data"
    }
   ],
   "source": [
    "plt.figure(figsize=(7, 3))\n",
    "\n",
    "plt.scatter(pd.Series(range(0, len(ordersByVisitors))),\n",
    "            ordersByVisitors['orders_amount'],\n",
    "            alpha=0.3)\n",
    "\n",
    "plt.title('Диаграмма распределения количества заказов')\n",
    "plt.xlabel('Порядковый номер пользователя')\n",
    "plt.ylabel('Кол-во заказов');"
   ]
  },
  {
   "cell_type": "markdown",
   "metadata": {},
   "source": [
    "Подавляющее большинство пользователей делают один заказ, и кажется, что выбросами будут являться 2 и более заказа.  \n",
    "Но вместо того, чтобы определять границу на глаз - воспользуюься процентилями"
   ]
  },
  {
   "cell_type": "code",
   "execution_count": 33,
   "metadata": {},
   "outputs": [
    {
     "data": {
      "text/plain": [
       "array([1., 1., 2.])"
      ]
     },
     "execution_count": 33,
     "metadata": {},
     "output_type": "execute_result"
    }
   ],
   "source": [
    "np.percentile(ordersByVisitors['orders_amount'], [90,95,99])"
   ]
  },
  {
   "cell_type": "markdown",
   "metadata": {},
   "source": [
    "Не более 1% пользователей совершили два заказа и больше."
   ]
  },
  {
   "cell_type": "code",
   "execution_count": 34,
   "metadata": {},
   "outputs": [
    {
     "name": "stdout",
     "output_type": "stream",
     "text": [
      "\u001b[1mКоличество пользователей с n заказов\n"
     ]
    },
    {
     "data": {
      "text/html": [
       "<style type=\"text/css\">\n",
       "#T_63879_row0_col0 {\n",
       "  background-color: #084081;\n",
       "  color: #f1f1f1;\n",
       "}\n",
       "#T_63879_row1_col0 {\n",
       "  background-color: #f3faec;\n",
       "  color: #000000;\n",
       "}\n",
       "#T_63879_row2_col0 {\n",
       "  background-color: #f7fcf0;\n",
       "  color: #000000;\n",
       "}\n",
       "</style>\n",
       "<table id=\"T_63879\">\n",
       "  <thead>\n",
       "    <tr>\n",
       "      <th class=\"blank level0\" >&nbsp;</th>\n",
       "      <th id=\"T_63879_level0_col0\" class=\"col_heading level0 col0\" >orders_amount</th>\n",
       "    </tr>\n",
       "  </thead>\n",
       "  <tbody>\n",
       "    <tr>\n",
       "      <th id=\"T_63879_level0_row0\" class=\"row_heading level0 row0\" >1</th>\n",
       "      <td id=\"T_63879_row0_col0\" class=\"data row0 col0\" >937</td>\n",
       "    </tr>\n",
       "    <tr>\n",
       "      <th id=\"T_63879_level0_row1\" class=\"row_heading level0 row1\" >2</th>\n",
       "      <td id=\"T_63879_row1_col0\" class=\"data row1 col0\" >29</td>\n",
       "    </tr>\n",
       "    <tr>\n",
       "      <th id=\"T_63879_level0_row2\" class=\"row_heading level0 row2\" >3</th>\n",
       "      <td id=\"T_63879_row2_col0\" class=\"data row2 col0\" >7</td>\n",
       "    </tr>\n",
       "  </tbody>\n",
       "</table>\n"
      ],
      "text/plain": [
       "<pandas.io.formats.style.Styler at 0x1f40e3dd090>"
      ]
     },
     "execution_count": 34,
     "metadata": {},
     "output_type": "execute_result"
    }
   ],
   "source": [
    "print('\\033[1m'+'Количество пользователей с n заказов')\n",
    "pd.DataFrame(ordersByVisitors['orders_amount'].value_counts().sort_index()).style.background_gradient('GnBu')"
   ]
  },
  {
   "cell_type": "markdown",
   "metadata": {},
   "source": [
    "В качестве границы установлю количество заказов менее 2, так как это статистический выброс."
   ]
  },
  {
   "cell_type": "markdown",
   "metadata": {},
   "source": [
    "#### Определение границы аномальных значений для стоимости заказа"
   ]
  },
  {
   "cell_type": "markdown",
   "metadata": {},
   "source": [
    "Аналогично с количеством заказов - сначала посмотрю на точечную диаграмму, и затем посчитаю процентили."
   ]
  },
  {
   "cell_type": "code",
   "execution_count": 37,
   "metadata": {},
   "outputs": [
    {
     "data": {
      "image/png": "[encoded data removed]",
      "text/plain": [
       "<Figure size 700x500 with 1 Axes>"
      ]
     },
     "metadata": {},
     "output_type": "display_data"
    }
   ],
   "source": [
    "plt.figure(figsize=(7, 5))\n",
    "\n",
    "plt.scatter(pd.Series(range(0, len(orders))),\n",
    "            orders['revenue'],\n",
    "            alpha=0.5)\n",
    "\n",
    "plt.axhline(y=0.1, color='grey', linestyle='--')\n",
    "plt.title('Диаграмма распределения стоимости заказов')\n",
    "plt.xlabel('Порядковый номер заказа')\n",
    "plt.ylabel('Стоимость, млн руб.');"
   ]
  },
  {
   "cell_type": "markdown",
   "metadata": {},
   "source": [
    "Заметно, что большинство заказов располагается в районе до ~~100~~ 50 тысяч, но присутствуют и заказы за 200 тыс. и более чем за 1.2 млн."
   ]
  },
  {
   "cell_type": "code",
   "execution_count": 38,
   "metadata": {},
   "outputs": [
    {
     "data": {
      "text/plain": [
       "array([17990., 26785., 53904.])"
      ]
     },
     "execution_count": 38,
     "metadata": {},
     "output_type": "execute_result"
    }
   ],
   "source": [
    "np.percentile(orders['revenue'], [90,95,99])"
   ]
  },
  {
   "cell_type": "markdown",
   "metadata": {},
   "source": [
    "В данном случае, как и с числом заказов приму за аномальные значения заказы, сумма которых составляет в общей доле 1%."
   ]
  },
  {
   "cell_type": "markdown",
   "metadata": {},
   "source": [
    "Так, **аномальными будут считаться** пользователи, совершившие 4 и более заказов, и заказы с суммой равной ~~58 233~~ 53 904 руб. и более."
   ]
  },
  {
   "cell_type": "markdown",
   "metadata": {},
   "source": [
    "### Вывод предварительного анализа"
   ]
  },
  {
   "cell_type": "markdown",
   "metadata": {},
   "source": [
    "По графику кумулятивной выручки группа B обгоняла группу A начиная со второго дня эксперимента и до его завершения.  \n",
    "Но на графике 18 августа заметен сильный скачок у группы B, который вероятно вызван присутствием выбросов в данных.  \n",
    "\n",
    "Средний чек у группы B также обычно выше, чем у группы А. У группы В наблюдается такой же сильный скачок 18 августа от 7 тыс. до 10 тыс. руб.  \n",
    "Отношение среднего чека группы B к группе A показывает преимущество у группы B.\n",
    "\n",
    "В связи с проведенным анализом выбросов решено определить аномальные значения для количества заказов на пользователя равным 2 и более, а сумму заказа равную 53 904 руб. и более."
   ]
  },
  {
   "cell_type": "markdown",
   "metadata": {},
   "source": [
    "## Анализ статистической значимости различий"
   ]
  },
  {
   "cell_type": "markdown",
   "metadata": {},
   "source": [
    "Теперь, когда был проведен обзор данных и были определены аномальные значения - можно приступить к выявлению статистической значимости.  \n",
    "Проверю гипотезы о разности количества заказов на пользователя и о разности среднего чека.  \n",
    "Проведу тест как для сырых, так и для очищенных данных."
   ]
  },
  {
   "cell_type": "markdown",
   "metadata": {},
   "source": [
    "### Статистический анализ сырых данных"
   ]
  },
  {
   "cell_type": "markdown",
   "metadata": {},
   "source": [
    "#### Гипотеза о количестве заказов на пользователя"
   ]
  },
  {
   "cell_type": "markdown",
   "metadata": {},
   "source": [
    "Прежде чем приступить к тесту - необходимо подготовить данные.  \n",
    "Дла каждой из групп теста определю даты и количество пользователей, взаимодействовавших с сервисом в эти даты."
   ]
  },
  {
   "cell_type": "code",
   "execution_count": 39,
   "metadata": {},
   "outputs": [],
   "source": [
    "visitorsADaily = visitors[visitors['group'] == 'A'][['date', 'visitors']]\n",
    "visitorsADaily.columns = ['date', 'visitorsPerDateA']\n",
    "\n",
    "visitorsACummulative = visitorsADaily.apply(\n",
    "    lambda x: visitorsADaily[visitorsADaily['date'] <= x['date']].agg({'date': 'max',\n",
    "                                                                       'visitorsPerDateA': 'sum'}\n",
    "    ),\n",
    "    axis=1,\n",
    ")\n",
    "visitorsACummulative.columns = ['date', 'visitorsCummulativeA']\n",
    "\n",
    "visitorsBDaily = visitors[visitors['group'] == 'B'][['date', 'visitors']]\n",
    "visitorsBDaily.columns = ['date', 'visitorsPerDateB']\n",
    "\n",
    "visitorsBCummulative = visitorsBDaily.apply(\n",
    "    lambda x: visitorsBDaily[visitorsBDaily['date'] <= x['date']].agg({'date': 'max',\n",
    "                                                                       'visitorsPerDateB': 'sum'}\n",
    "    ),\n",
    "    axis=1,\n",
    ")\n",
    "visitorsBCummulative.columns = ['date', 'visitorsCummulativeB']"
   ]
  },
  {
   "cell_type": "markdown",
   "metadata": {},
   "source": [
    "А также для каждой из групп посчитаю кумулятивную стоимость заказов."
   ]
  },
  {
   "cell_type": "code",
   "execution_count": 40,
   "metadata": {},
   "outputs": [],
   "source": [
    "ordersADaily = (\n",
    "    orders[orders['group'] == 'A'][['date', 'transactionId', 'visitorId', 'revenue']]\n",
    "    .groupby('date', as_index=False)\n",
    "    .agg({'transactionId': pd.Series.nunique, 'revenue': 'sum'})\n",
    ")\n",
    "ordersADaily.columns = ['date', 'ordersPerDateA', 'revenuePerDateA']\n",
    "\n",
    "ordersACummulative = ordersADaily.apply(\n",
    "    lambda x: ordersADaily[ordersADaily['date'] <= x['date']].agg(\n",
    "        {'date': 'max', 'ordersPerDateA': 'sum', 'revenuePerDateA': 'sum'}\n",
    "    ),\n",
    "    axis=1,\n",
    ").sort_values(by=['date'])\n",
    "ordersACummulative.columns = [\n",
    "    'date',\n",
    "    'ordersCummulativeA',\n",
    "    'revenueCummulativeA',\n",
    "]\n",
    "\n",
    "ordersBDaily = (\n",
    "    orders[orders['group'] == 'B'][['date', 'transactionId', 'visitorId', 'revenue']]\n",
    "    .groupby('date', as_index=False)\n",
    "    .agg({'transactionId': pd.Series.nunique, 'revenue': 'sum'})\n",
    ")\n",
    "ordersBDaily.columns = ['date', 'ordersPerDateB', 'revenuePerDateB']\n",
    "\n",
    "ordersBCummulative = ordersBDaily.apply(\n",
    "    lambda x: ordersBDaily[ordersBDaily['date'] <= x['date']].agg(\n",
    "        {'date': 'max', 'ordersPerDateB': 'sum', 'revenuePerDateB': 'sum'}\n",
    "    ),\n",
    "    axis=1,\n",
    ").sort_values(by=['date'])\n",
    "ordersBCummulative.columns = [\n",
    "    'date',\n",
    "    'ordersCummulativeB',\n",
    "    'revenueCummulativeB',\n",
    "]"
   ]
  },
  {
   "cell_type": "markdown",
   "metadata": {},
   "source": [
    "Все переменные объединю в одну"
   ]
  },
  {
   "cell_type": "code",
   "execution_count": 41,
   "metadata": {},
   "outputs": [
    {
     "data": {
      "text/html": [
       "<div>\n",
       "<style scoped>\n",
       "    .dataframe tbody tr th:only-of-type {\n",
       "        vertical-align: middle;\n",
       "    }\n",
       "\n",
       "    .dataframe tbody tr th {\n",
       "        vertical-align: top;\n",
       "    }\n",
       "\n",
       "    .dataframe thead th {\n",
       "        text-align: right;\n",
       "    }\n",
       "</style>\n",
       "<table border=\"1\" class=\"dataframe\">\n",
       "  <thead>\n",
       "    <tr style=\"text-align: right;\">\n",
       "      <th></th>\n",
       "      <th>date</th>\n",
       "      <th>ordersPerDateA</th>\n",
       "      <th>revenuePerDateA</th>\n",
       "      <th>ordersPerDateB</th>\n",
       "      <th>revenuePerDateB</th>\n",
       "      <th>ordersCummulativeA</th>\n",
       "      <th>revenueCummulativeA</th>\n",
       "      <th>ordersCummulativeB</th>\n",
       "      <th>revenueCummulativeB</th>\n",
       "      <th>visitorsPerDateA</th>\n",
       "      <th>visitorsPerDateB</th>\n",
       "      <th>visitorsCummulativeA</th>\n",
       "      <th>visitorsCummulativeB</th>\n",
       "    </tr>\n",
       "  </thead>\n",
       "  <tbody>\n",
       "    <tr>\n",
       "      <th>0</th>\n",
       "      <td>2019-08-01</td>\n",
       "      <td>23</td>\n",
       "      <td>142779</td>\n",
       "      <td>17</td>\n",
       "      <td>59758</td>\n",
       "      <td>23</td>\n",
       "      <td>142779</td>\n",
       "      <td>17</td>\n",
       "      <td>59758</td>\n",
       "      <td>719</td>\n",
       "      <td>713</td>\n",
       "      <td>719</td>\n",
       "      <td>713</td>\n",
       "    </tr>\n",
       "    <tr>\n",
       "      <th>1</th>\n",
       "      <td>2019-08-02</td>\n",
       "      <td>19</td>\n",
       "      <td>91602</td>\n",
       "      <td>23</td>\n",
       "      <td>162043</td>\n",
       "      <td>42</td>\n",
       "      <td>234381</td>\n",
       "      <td>40</td>\n",
       "      <td>221801</td>\n",
       "      <td>619</td>\n",
       "      <td>581</td>\n",
       "      <td>1338</td>\n",
       "      <td>1294</td>\n",
       "    </tr>\n",
       "    <tr>\n",
       "      <th>2</th>\n",
       "      <td>2019-08-03</td>\n",
       "      <td>24</td>\n",
       "      <td>112473</td>\n",
       "      <td>14</td>\n",
       "      <td>67049</td>\n",
       "      <td>66</td>\n",
       "      <td>346854</td>\n",
       "      <td>54</td>\n",
       "      <td>288850</td>\n",
       "      <td>507</td>\n",
       "      <td>509</td>\n",
       "      <td>1845</td>\n",
       "      <td>1803</td>\n",
       "    </tr>\n",
       "  </tbody>\n",
       "</table>\n",
       "</div>"
      ],
      "text/plain": [
       "        date  ordersPerDateA  revenuePerDateA  ordersPerDateB  \\\n",
       "0 2019-08-01              23           142779              17   \n",
       "1 2019-08-02              19            91602              23   \n",
       "2 2019-08-03              24           112473              14   \n",
       "\n",
       "   revenuePerDateB  ordersCummulativeA  revenueCummulativeA  \\\n",
       "0            59758                  23               142779   \n",
       "1           162043                  42               234381   \n",
       "2            67049                  66               346854   \n",
       "\n",
       "   ordersCummulativeB  revenueCummulativeB  visitorsPerDateA  \\\n",
       "0                  17                59758               719   \n",
       "1                  40               221801               619   \n",
       "2                  54               288850               507   \n",
       "\n",
       "   visitorsPerDateB  visitorsCummulativeA  visitorsCummulativeB  \n",
       "0               713                   719                   713  \n",
       "1               581                  1338                  1294  \n",
       "2               509                  1845                  1803  "
      ]
     },
     "execution_count": 41,
     "metadata": {},
     "output_type": "execute_result"
    }
   ],
   "source": [
    "stat_data = (\n",
    "    ordersADaily.merge(\n",
    "        ordersBDaily, left_on='date', right_on='date', how='left'\n",
    "    )\n",
    "    .merge(ordersACummulative, left_on='date', right_on='date', how='left')\n",
    "    .merge(ordersBCummulative, left_on='date', right_on='date', how='left')\n",
    "    .merge(visitorsADaily, left_on='date', right_on='date', how='left')\n",
    "    .merge(visitorsBDaily, left_on='date', right_on='date', how='left')\n",
    "    .merge(visitorsACummulative, left_on='date', right_on='date', how='left')\n",
    "    .merge(visitorsBCummulative, left_on='date', right_on='date', how='left')\n",
    ")\n",
    "\n",
    "stat_data.head(3)"
   ]
  },
  {
   "cell_type": "markdown",
   "metadata": {},
   "source": [
    "Определю данные для проверки гипотезы в переменные `sample`, в которых будет информация о количестве заказов каждого пользователя.  \n",
    "И проверю гипотезу с помощью критерия Манна-Уитни.\n",
    "\n",
    "*Нулевая гипотеза:* среднее количество заказов пользователей из разных групп не отличается.  \n",
    "*Альтернативная гипотеза:* среднее количество заказов пользователей из разных групп отличается."
   ]
  },
  {
   "cell_type": "code",
   "execution_count": 42,
   "metadata": {},
   "outputs": [
    {
     "name": "stdout",
     "output_type": "stream",
     "text": [
      "Тест Манна-Уитни. P-value: 0.011\n",
      "Отношение средних кол-в заказов группы B к A: 0.160\n"
     ]
    }
   ],
   "source": [
    "ordersByUsersA = (\n",
    "    orders[orders['group'] == 'A']\n",
    "    .groupby('visitorId', as_index=False)\n",
    "    .agg({'transactionId': pd.Series.nunique})\n",
    ")\n",
    "ordersByUsersA.columns = ['userId', 'orders']\n",
    "\n",
    "ordersByUsersB = (\n",
    "    orders[orders['group'] == 'B']\n",
    "    .groupby('visitorId', as_index=False)\n",
    "    .agg({'transactionId': pd.Series.nunique})\n",
    ")\n",
    "ordersByUsersB.columns = ['userId', 'orders']\n",
    "\n",
    "# В sample войдет численность заказов пользователей, в том числе и нули,\n",
    "# если пользователь не делал заказов\n",
    "sampleA = pd.concat(\n",
    "    [ordersByUsersA['orders'],\n",
    "        pd.Series(0, index=np.arange(\n",
    "                stat_data['visitorsPerDateA'].sum() - len(ordersByUsersA['orders'])),\n",
    "            name='orders',),],\n",
    "    axis=0,\n",
    ")\n",
    "\n",
    "sampleB = pd.concat(\n",
    "    [ordersByUsersB['orders'],\n",
    "        pd.Series(0, index=np.arange(\n",
    "                stat_data['visitorsPerDateB'].sum() - len(ordersByUsersB['orders'])),\n",
    "            name='orders',),],\n",
    "    axis=0,\n",
    ")\n",
    "\n",
    "print('Тест Манна-Уитни. P-value:',\n",
    "      \"{0:.3f}\".format(stats.mannwhitneyu(sampleA, sampleB)[1]))\n",
    "\n",
    "print('Отношение средних кол-в заказов группы B к A:',\n",
    "      \"{0:.3f}\".format(sampleB.mean() / sampleA.mean() - 1))"
   ]
  },
  {
   "cell_type": "markdown",
   "metadata": {},
   "source": [
    "Если принять уровень значимости (альфа) за 0.05, то получается, что  \n",
    "p-value меньше альфа, то есть есть основания отвергнуть нулевую гипотезу о равенстве средних.  \n",
    "Значит, по сырым данным можно судить, что среднее количество заказов на пользователя в группах отличается, и отношение средних свидетельствует о том, что в группе B пользователи совершают на 16% больше заказов."
   ]
  },
  {
   "cell_type": "markdown",
   "metadata": {},
   "source": [
    "#### Гипотеза о  средних чеках"
   ]
  },
  {
   "cell_type": "markdown",
   "metadata": {},
   "source": [
    "Снова проверю гипотезу с помощью критерия Манна-Уитни.\n",
    "\n",
    "*Нулевая гипотеза:* средние чеки в группах не отличаются.  \n",
    "*Альтернативная гипотеза:* средние чеки в группах отличаются."
   ]
  },
  {
   "cell_type": "code",
   "execution_count": 43,
   "metadata": {},
   "outputs": [
    {
     "name": "stdout",
     "output_type": "stream",
     "text": [
      "Тест Манна-Уитни. P-value: 0.829\n",
      "Отношение среднего чека группы В к группе А: 0.287\n"
     ]
    }
   ],
   "source": [
    "print('Тест Манна-Уитни. P-value:',\n",
    "      '{0:.3f}'.format(stats.mannwhitneyu(orders[orders['group']=='A']['revenue'],\n",
    "                                          orders[orders['group']=='B']['revenue'])[1]))\n",
    "print('Отношение среднего чека группы В к группе А:',\n",
    "      '{0:.3f}'.format(orders[orders['group']=='B']['revenue'].mean() /\n",
    "                       orders[orders['group']=='A']['revenue'].mean()-1))"
   ]
  },
  {
   "cell_type": "markdown",
   "metadata": {},
   "source": [
    "При уровне значимости 0.05 p-value больше, оснований отвергнуть нулевую гипотезу нет.  \n",
    "Несмотря на то, что средний чек группы В на 28.7% больше, все равно высокое p-value подтверждает гипотезу о том, что они почти не отличаются."
   ]
  },
  {
   "cell_type": "markdown",
   "metadata": {},
   "source": [
    "### Статистический анализ очищенных данных"
   ]
  },
  {
   "cell_type": "markdown",
   "metadata": {},
   "source": [
    "Сначала очищу данные, учитывая границы, определенные раннее.  \n",
    "Количество заказов пользователя должно быть меньше 4, а сумма заказа менее 58 233 руб.\n",
    "\n",
    "Найду всех аномальных пользователей и исключу их из сэмплов для проверки гипотезы."
   ]
  },
  {
   "cell_type": "code",
   "execution_count": 44,
   "metadata": {},
   "outputs": [
    {
     "name": "stdout",
     "output_type": "stream",
     "text": [
      "Кол-во аномальных пользователей: 48\n"
     ]
    }
   ],
   "source": [
    "usersWithManyOrders = pd.concat(\n",
    "    [ordersByUsersA[ordersByUsersA['orders'] >= np.percentile(ordersByVisitors['orders_amount'], 99)]['userId'],\n",
    "     ordersByUsersB[ordersByUsersB['orders'] >= np.percentile(ordersByVisitors['orders_amount'], 99)]['userId'],],\n",
    "    axis=0,\n",
    ")\n",
    "usersWithExpensiveOrders = orders[orders['revenue'] >= np.percentile(orders['revenue'], 99)]['visitorId']\n",
    "abnormalUsers = (\n",
    "    pd.concat([usersWithManyOrders, usersWithExpensiveOrders], axis=0)\n",
    "    .drop_duplicates()\n",
    "    .sort_values()\n",
    ")\n",
    "\n",
    "print('Кол-во аномальных пользователей:', abnormalUsers.shape[0])"
   ]
  },
  {
   "cell_type": "code",
   "execution_count": 45,
   "metadata": {},
   "outputs": [],
   "source": [
    "sampleAFiltered = pd.concat(\n",
    "    [ordersByUsersA[\n",
    "            np.logical_not(ordersByUsersA['userId'].isin(abnormalUsers))\n",
    "        ]['orders'],\n",
    "        pd.Series(0,\n",
    "            index=np.arange(\n",
    "                stat_data['visitorsPerDateA'].sum() - len(ordersByUsersA['orders'])\n",
    "            ),\n",
    "            name='orders',\n",
    "        ),\n",
    "    ],\n",
    "    axis=0,\n",
    ")\n",
    "\n",
    "sampleBFiltered = pd.concat(\n",
    "    [ordersByUsersB[\n",
    "            np.logical_not(ordersByUsersB['userId'].isin(abnormalUsers))\n",
    "        ]['orders'],\n",
    "        pd.Series(0,\n",
    "            index=np.arange(\n",
    "                stat_data['visitorsPerDateB'].sum() - len(ordersByUsersB['orders'])\n",
    "            ),\n",
    "            name='orders',\n",
    "        ),\n",
    "    ],\n",
    "    axis=0,\n",
    ")"
   ]
  },
  {
   "cell_type": "markdown",
   "metadata": {},
   "source": [
    "#### Гипотеза о количестве заказов на пользователя"
   ]
  },
  {
   "cell_type": "markdown",
   "metadata": {},
   "source": [
    "*Нулевая гипотеза:* среднее количество заказов пользователей из разных групп отличается.  \n",
    "*Альтернативная гипотеза:* среднее количество заказов пользователей из разных групп отличается."
   ]
  },
  {
   "cell_type": "code",
   "execution_count": 46,
   "metadata": {},
   "outputs": [
    {
     "name": "stdout",
     "output_type": "stream",
     "text": [
      "Тест Манна-Уитни. P-value: 0.007\n",
      "Отношение средних кол-в заказов группы B к A: 0.191\n"
     ]
    }
   ],
   "source": [
    "print('Тест Манна-Уитни. P-value:',\n",
    "      '{0:.3f}'.format(stats.mannwhitneyu(sampleAFiltered, sampleBFiltered)[1]))\n",
    "print('Отношение средних кол-в заказов группы B к A:',\n",
    "      '{0:.3f}'.format(sampleBFiltered.mean()/sampleAFiltered.mean()-1))"
   ]
  },
  {
   "cell_type": "markdown",
   "metadata": {},
   "source": [
    "Результаты теста не сильно изменились после фильтрации данных.  \n",
    "Кажется, что в группе В действительно делают немного больше заказов.  \n",
    "По очищенным данным гипотеза о равенстве количества заказов тоже отвергается."
   ]
  },
  {
   "cell_type": "markdown",
   "metadata": {},
   "source": [
    "#### Гипотеза о средних чеках"
   ]
  },
  {
   "cell_type": "markdown",
   "metadata": {},
   "source": [
    "*Нулевая гипотеза:* средние чеки в группах не отличаются.  \n",
    "*Альтернативная гипотеза:* средние чеки в группах отличаются."
   ]
  },
  {
   "cell_type": "code",
   "execution_count": 47,
   "metadata": {},
   "outputs": [
    {
     "name": "stdout",
     "output_type": "stream",
     "text": [
      "Тест Манна-Уитни. P-value: 0.973\n",
      "Отношение среднего чека группы B к группе A: 0.024\n"
     ]
    }
   ],
   "source": [
    "print('Тест Манна-Уитни. P-value:',\n",
    "    '{0:.3f}'.format(\n",
    "        stats.mannwhitneyu(orders[np.logical_and(\n",
    "                    orders['group'] == 'A',\n",
    "                    np.logical_not(orders['visitorId'].isin(abnormalUsers)),\n",
    "                )]['revenue'],\n",
    "            orders[np.logical_and(\n",
    "                    orders['group'] == 'B',\n",
    "                    np.logical_not(orders['visitorId'].isin(abnormalUsers)),\n",
    "                )]['revenue'],\n",
    "        )[1]\n",
    "    )\n",
    ")\n",
    "\n",
    "print('Отношение среднего чека группы B к группе A:',\n",
    "    \"{0:.3f}\".format(orders[\n",
    "            np.logical_and(\n",
    "                orders['group'] == 'B',\n",
    "                np.logical_not(orders['visitorId'].isin(abnormalUsers)),\n",
    "            )\n",
    "        ]['revenue'].mean()\n",
    "        / orders[\n",
    "            np.logical_and(\n",
    "                orders['group'] == 'A',\n",
    "                np.logical_not(orders['visitorId'].isin(abnormalUsers)),\n",
    "            )\n",
    "        ]['revenue'].mean()\n",
    "        - 1\n",
    "    )\n",
    ")"
   ]
  },
  {
   "cell_type": "markdown",
   "metadata": {},
   "source": [
    "После очищения выбросов уверенность в результатах теста только выросла.  \n",
    "P-value увеличилось, что убеждает в том, что статистической разницы между средними чеками двух групп нет, и она была обусловлена выбросами.  \n",
    "И даже отношение средних чеков групп уменьшилось и близко к нулю.  \n",
    "Нулевую гипотезу о равенстве средних чеков двух групп принимаем."
   ]
  },
  {
   "cell_type": "markdown",
   "metadata": {},
   "source": [
    "#### Графики после очищения выбросов"
   ]
  },
  {
   "cell_type": "markdown",
   "metadata": {},
   "source": [
    "Чтобы визуализировать результаты теста - построю график кумулятивной выручки и среднего чека после очищения данных о выбросах."
   ]
  },
  {
   "cell_type": "code",
   "execution_count": 48,
   "metadata": {},
   "outputs": [],
   "source": [
    "ordersAggregatedClean = (datesGroups\n",
    "                        .apply(lambda x: orders[np.logical_not(orders['visitorId'].isin(abnormalUsers))][\n",
    "                                       np.logical_and(\n",
    "                                           orders[\n",
    "                                               np.logical_not(orders['visitorId'].isin(abnormalUsers))\n",
    "                                           ]['date'] <= x['date'],\n",
    "                                       orders[\n",
    "                                           np.logical_not(orders['visitorId'].isin(abnormalUsers))\n",
    "                                       ]['group'] == x['group'])]\n",
    "                                 .agg({'date' : 'max',\n",
    "                                 'group' : 'max',\n",
    "                                 'transactionId' : 'nunique',\n",
    "                                 'visitorId' : 'nunique',\n",
    "                                 'revenue' : 'sum'}), axis=1)\n",
    "                    .sort_values(by=['date','group']))\n",
    "\n",
    "visitorsAggregatedClean = (datesGroups\n",
    "                      .apply(lambda x: visitors[\n",
    "                          np.logical_and(visitors['date'] <= x['date'],\n",
    "                                         visitors['group'] == x['group'])]\n",
    "                             .agg({'date' : 'max',\n",
    "                                   'group' : 'max',\n",
    "                                   'visitors' : 'sum'}), axis=1)\n",
    "                      .sort_values(by=['date','group']))\n",
    "\n",
    "# Кумулятивные данные объединю в одной таблице\n",
    "cumulativeDataClean = ordersAggregatedClean.merge(visitorsAggregatedClean,\n",
    "                                        left_on=['date', 'group'],\n",
    "                                        right_on=['date', 'group'])\n",
    "\n",
    "# Переименую столбцы для простоты работы\n",
    "cumulativeDataClean.columns = ['date', 'group', 'orders', 'buyers', 'revenue', 'visitors']"
   ]
  },
  {
   "cell_type": "code",
   "execution_count": 55,
   "metadata": {},
   "outputs": [
    {
     "data": {
      "image/png": "[encoded data removed]",
      "text/plain": [
       "<Figure size 700x400 with 1 Axes>"
      ]
     },
     "metadata": {},
     "output_type": "display_data"
    }
   ],
   "source": [
    "cumulativeRevenueA = cumulativeDataClean[cumulativeDataClean['group']=='A'][['date','revenue', 'orders']]\n",
    "cumulativeRevenueB = cumulativeDataClean[cumulativeDataClean['group']=='B'][['date','revenue', 'orders']]\n",
    "\n",
    "plt.figure(figsize=(7, 4))\n",
    "\n",
    "# График выручки группы А\n",
    "plt.plot(cumulativeRevenueA['date'], cumulativeRevenueA['revenue'], label='A')\n",
    "# График выручки группы B\n",
    "plt.plot(cumulativeRevenueB['date'], cumulativeRevenueB['revenue'], label='B')\n",
    "\n",
    "plt.title('Кумулятивная выручка по дням после очищения выбросов, руб.')\n",
    "plt.xlabel('Дата')\n",
    "plt.ylabel('Выручка')\n",
    "plt.xticks(rotation=15, ha='center')\n",
    "plt.legend();"
   ]
  },
  {
   "cell_type": "markdown",
   "metadata": {},
   "source": [
    "Скачок группы В в кумулятивной выручке действительно был связан с выбросом, после очищения видно, что кумулятивная выручка в группе В хотя и выше, чем в группе А, но статистически это не влияет на существенную разницу в среднем чеке."
   ]
  },
  {
   "cell_type": "code",
   "execution_count": 56,
   "metadata": {},
   "outputs": [
    {
     "data": {
      "image/png": "[encoded data removed]",
      "text/plain": [
       "<Figure size 1000x500 with 1 Axes>"
      ]
     },
     "metadata": {},
     "output_type": "display_data"
    }
   ],
   "source": [
    "mergedCumulativeRevenue = cumulativeRevenueA.merge(cumulativeRevenueB,\n",
    "                                                   left_on='date',\n",
    "                                                   right_on='date',\n",
    "                                                   how='left',\n",
    "                                                   suffixes=['A', 'B'])\n",
    "\n",
    "plt.figure(figsize=(10, 5))\n",
    "\n",
    "plt.plot(mergedCumulativeRevenue['date'],\n",
    "         (mergedCumulativeRevenue['revenueB']/mergedCumulativeRevenue['ordersB'])\n",
    "         / (mergedCumulativeRevenue['revenueA']/mergedCumulativeRevenue['ordersA'])-1)\n",
    "\n",
    "\n",
    "plt.axhline(y=0, color='black', linestyle='--')\n",
    "\n",
    "plt.title('Отношение среднего чека группы B к группе А после очищения выбросов')\n",
    "plt.xlabel('Дата')\n",
    "plt.ylabel('Отношение');"
   ]
  },
  {
   "cell_type": "markdown",
   "metadata": {},
   "source": [
    "Средний чек группы В примерно равен среднему чеку группы А и к концу исследования даже ниже."
   ]
  },
  {
   "cell_type": "markdown",
   "metadata": {},
   "source": [
    "Осталось посмотреть на график отношения количества заказов группы В к группе А"
   ]
  },
  {
   "cell_type": "code",
   "execution_count": 57,
   "metadata": {},
   "outputs": [
    {
     "data": {
      "image/png": "[encoded data removed]",
      "text/plain": [
       "<Figure size 1000x500 with 1 Axes>"
      ]
     },
     "metadata": {},
     "output_type": "display_data"
    }
   ],
   "source": [
    "cumulativeOrdersA = cumulativeDataClean[cumulativeDataClean['group']=='A'][['date', 'orders', 'visitors']]\n",
    "cumulativeOrdersB = cumulativeDataClean[cumulativeDataClean['group']=='B'][['date', 'orders', 'visitors']]\n",
    "mergedCumulativeOrders = cumulativeOrdersA.merge(cumulativeOrdersB,\n",
    "                                                   left_on='date',\n",
    "                                                   right_on='date',\n",
    "                                                   how='left',\n",
    "                                                   suffixes=['A', 'B'])\n",
    "\n",
    "plt.figure(figsize=(10, 5))\n",
    "\n",
    "plt.plot(mergedCumulativeOrders['date'],\n",
    "         (mergedCumulativeOrders['ordersB']/mergedCumulativeOrders['visitorsB'])\n",
    "         / (mergedCumulativeOrders['ordersA']/mergedCumulativeOrders['visitorsA'])-1)\n",
    "\n",
    "\n",
    "plt.axhline(y=0, color='black', linestyle='--')\n",
    "\n",
    "plt.title('Относительное изменение кумулятивного среднего \\\n",
    "количества заказов на посетителя группы B к группе A после очищения данных')\n",
    "plt.xlabel('Дата')\n",
    "plt.ylabel('Отношение');"
   ]
  },
  {
   "cell_type": "markdown",
   "metadata": {},
   "source": [
    "Еще при проверке гипотез было видно, что очищенные данные дают больше уверенности в результатах гипотез, проверенных на сырых данных, так и график показывает большую увереннось в преимуществе группы B в числе заказов."
   ]
  },
  {
   "cell_type": "markdown",
   "metadata": {},
   "source": [
    "### Вывод анализа статистической значимости различий в группах"
   ]
  },
  {
   "cell_type": "markdown",
   "metadata": {},
   "source": [
    "До очистки данных от выбросов гипотеза о равенстве кол-ва заказов у пользователей в разных группах была отвергнута.  \n",
    "А гипотеза о равенстве средних чеков подтверждена.  \n",
    "\n",
    "Результаты гипотез не изменились и после очистки данных от выбросов, p-value в обеих гипотезах только окрепли в подвтерждение ранее выявленных результатов.  \n",
    "\n",
    "Графики после очищения выбросов свидетельствуют о том, что экспериемент не стоит продолжать, значения установились на необходимом уровне и позволяют уверенно говорить о результатах."
   ]
  },
  {
   "cell_type": "markdown",
   "metadata": {},
   "source": [
    "## Вывод"
   ]
  },
  {
   "cell_type": "markdown",
   "metadata": {},
   "source": [
    "**Приоритизация гипотез**  \n",
    "Для приоритизации гипотез были применены фреймворки ICE и RICE, так как RICE учитывает больше факторов - лучше опираться на него для выбора гипотез для дальнейшей проверки.  \n",
    "Топ-3 гипотезы звучат следующим образом:  \n",
    "1. Добавить форму подписки на все основные страницы, чтобы собрать базу клиентов для email-рассылок  \n",
    "2. Добавить блоки рекомендаций товаров на сайт интернет магазина, чтобы повысить конверсию и средний чек заказа  \n",
    "3. Добавить два новых канала привлечения трафика, что позволит привлекать на 30% больше пользователей  \n",
    "\n",
    "**Анализ кумулятивных графиков данных, собранных для A/B-теста**  \n",
    "Кумулятивная выручка группы В была немногим выше до 18 августа, когда она резко выросла с 2.5 млн до 4.3 млн.  \n",
    "Величина среднего чека в начале только устанавливалась, группы А и В сменяли друг друга по лидерству, но к 18 августу в связи с сильным увеличением выручки - средний чек группы В вырос с 7 000 до 10 000, обозначив разрыв между группой В и А по среднему чеку на 50%.  \n",
    "\n",
    "**Определение аномальных значений**  \n",
    "Не более 1% пользователей совершили два и более заказа. Для дальнейшей фитрации выбран порог в количестве заказов до 2.  \n",
    "В стоимости заказов обнаружены весомые аномалии - заказы суммой в 1.2 млн руб. и 0.2 млн руб., оба из которых относятся к группе В. Скорее всего, именно они стали причиной большого скачка кумулятивной выручки у группы В.  \n",
    "Используя процентили, выяснилось, что не более 1% заказов стоили более 53 904 тысяч. Поэтому принято взять эту сумму как верхнюю допустимую границу для фильтрации данных от выбросов.  \n",
    "\n",
    "**Анализ гипотез на сырых данных**  \n",
    "Гипотеза о равенстве количества заказов у пользователей была опровергнута с p-value 0.011, в группе В заказы делали на 16% чаще.  \n",
    "Гипотеза о равенстве средних чеков была подтверждена с p-value 0.829, несмотря на то, что в группе В до очищения данных от выбросов средний чек был на 28.7% выше.  \n",
    "\n",
    "**Анализ гипотез на очищенных данных**  \n",
    "Гипотеза о равенстве количества заказов у пользователей была опровергнута с p-value 0.007, в группе В заказы делали на 24% чаще. \n",
    "Гипотеза о равенстве средних чеков была подтверждена с p-value 0.973, а отношение среднего чека группы В к А снизилось до 2.4%.  \n",
    "Результаты проверки гипотез после очищения данных от выбросов не изменились, но значения, их подтверждающие, только укрепились.   \n",
    "Эксперимент продолжать не следует, так как за месяц значения установились.  \n",
    "\n",
    "По проведенному тесту можно заключить, что группы примерно равны по среднему чеку, но группа В приносит большее количество заказов. А при сохранении среднего чека и увеличении числа заказов, группа В будет приносить большую выручку.  \n",
    "У группы В есть статистическое преимущество, тест можно считать успешным."
   ]
  }
 ],
 "metadata": {
  "ExecuteTimeLog": [
   {
    "duration": 414,
    "start_time": "2023-09-03T08:52:12.728Z"
   },
   {
    "duration": 76,
    "start_time": "2023-09-03T08:59:22.284Z"
   },
   {
    "duration": 116,
    "start_time": "2023-09-03T09:00:49.755Z"
   },
   {
    "duration": 117,
    "start_time": "2023-09-03T09:01:29.260Z"
   },
   {
    "duration": 16,
    "start_time": "2023-09-03T09:01:33.978Z"
   },
   {
    "duration": 12,
    "start_time": "2023-09-03T09:02:04.655Z"
   },
   {
    "duration": 9,
    "start_time": "2023-09-03T09:03:45.907Z"
   },
   {
    "duration": 12,
    "start_time": "2023-09-03T09:04:41.758Z"
   },
   {
    "duration": 80,
    "start_time": "2023-09-03T09:12:36.523Z"
   },
   {
    "duration": 9,
    "start_time": "2023-09-03T09:12:44.453Z"
   },
   {
    "duration": 7,
    "start_time": "2023-09-03T09:12:52.957Z"
   },
   {
    "duration": 10,
    "start_time": "2023-09-03T09:49:12.067Z"
   },
   {
    "duration": 4,
    "start_time": "2023-09-03T09:49:14.131Z"
   },
   {
    "duration": 6,
    "start_time": "2023-09-03T09:49:22.668Z"
   },
   {
    "duration": 4,
    "start_time": "2023-09-03T09:49:28.947Z"
   },
   {
    "duration": 8,
    "start_time": "2023-09-03T09:49:31.976Z"
   },
   {
    "duration": 67,
    "start_time": "2023-09-03T09:56:59.986Z"
   },
   {
    "duration": 1028,
    "start_time": "2023-09-03T09:57:04.756Z"
   },
   {
    "duration": 54,
    "start_time": "2023-09-03T09:57:09.987Z"
   },
   {
    "duration": 1380,
    "start_time": "2023-09-03T09:57:17.019Z"
   },
   {
    "duration": 5,
    "start_time": "2023-09-03T10:13:38.533Z"
   },
   {
    "duration": 17,
    "start_time": "2023-09-03T10:14:02.991Z"
   },
   {
    "duration": 14,
    "start_time": "2023-09-03T10:14:28.596Z"
   },
   {
    "duration": 17,
    "start_time": "2023-09-03T10:17:15.915Z"
   },
   {
    "duration": 13,
    "start_time": "2023-09-03T10:17:56.668Z"
   },
   {
    "duration": 15,
    "start_time": "2023-09-03T10:18:35.165Z"
   },
   {
    "duration": 13,
    "start_time": "2023-09-03T10:23:18.747Z"
   },
   {
    "duration": 11,
    "start_time": "2023-09-03T10:23:29.324Z"
   },
   {
    "duration": 6,
    "start_time": "2023-09-03T10:23:45.026Z"
   },
   {
    "duration": 8,
    "start_time": "2023-09-03T10:24:02.855Z"
   },
   {
    "duration": 6,
    "start_time": "2023-09-03T10:25:10.761Z"
   },
   {
    "duration": 12,
    "start_time": "2023-09-03T10:25:17.105Z"
   },
   {
    "duration": 5,
    "start_time": "2023-09-03T10:25:20.064Z"
   },
   {
    "duration": 7,
    "start_time": "2023-09-03T10:25:22.601Z"
   },
   {
    "duration": 6,
    "start_time": "2023-09-03T10:25:26.786Z"
   },
   {
    "duration": 3,
    "start_time": "2023-09-03T10:34:51.471Z"
   },
   {
    "duration": 436,
    "start_time": "2023-09-03T11:05:09.379Z"
   },
   {
    "duration": 403,
    "start_time": "2023-09-03T11:05:40.507Z"
   },
   {
    "duration": 3,
    "start_time": "2023-09-03T11:05:55.032Z"
   },
   {
    "duration": 82,
    "start_time": "2023-09-03T11:05:55.037Z"
   },
   {
    "duration": 8,
    "start_time": "2023-09-03T11:05:55.121Z"
   },
   {
    "duration": 5,
    "start_time": "2023-09-03T11:05:55.131Z"
   },
   {
    "duration": 14,
    "start_time": "2023-09-03T11:05:55.138Z"
   },
   {
    "duration": 9,
    "start_time": "2023-09-03T11:05:55.154Z"
   },
   {
    "duration": 15,
    "start_time": "2023-09-03T11:05:58.453Z"
   },
   {
    "duration": 12,
    "start_time": "2023-09-03T11:06:05.869Z"
   },
   {
    "duration": 12,
    "start_time": "2023-09-03T11:06:12.876Z"
   },
   {
    "duration": 9,
    "start_time": "2023-09-03T11:06:18.807Z"
   },
   {
    "duration": 8,
    "start_time": "2023-09-03T11:06:23.167Z"
   },
   {
    "duration": 63,
    "start_time": "2023-09-03T13:53:27.698Z"
   },
   {
    "duration": 1433,
    "start_time": "2023-09-03T13:53:38.179Z"
   },
   {
    "duration": 242,
    "start_time": "2023-09-03T13:53:39.614Z"
   },
   {
    "duration": 14,
    "start_time": "2023-09-03T13:53:39.861Z"
   },
   {
    "duration": 4,
    "start_time": "2023-09-03T13:53:39.877Z"
   },
   {
    "duration": 9,
    "start_time": "2023-09-03T13:53:39.884Z"
   },
   {
    "duration": 8,
    "start_time": "2023-09-03T13:53:39.894Z"
   },
   {
    "duration": 15,
    "start_time": "2023-09-03T13:53:39.904Z"
   },
   {
    "duration": 39,
    "start_time": "2023-09-03T13:53:39.920Z"
   },
   {
    "duration": 15,
    "start_time": "2023-09-03T13:53:39.965Z"
   },
   {
    "duration": 6,
    "start_time": "2023-09-03T13:53:39.982Z"
   },
   {
    "duration": 95,
    "start_time": "2023-09-03T13:53:46.376Z"
   },
   {
    "duration": 3,
    "start_time": "2023-09-03T13:54:03.476Z"
   },
   {
    "duration": 36,
    "start_time": "2023-09-03T13:54:11.876Z"
   },
   {
    "duration": 5,
    "start_time": "2023-09-03T13:54:44.577Z"
   },
   {
    "duration": 5,
    "start_time": "2023-09-03T13:55:17.829Z"
   },
   {
    "duration": 321,
    "start_time": "2023-09-03T13:59:44.749Z"
   },
   {
    "duration": 273,
    "start_time": "2023-09-03T13:59:51.952Z"
   },
   {
    "duration": 13,
    "start_time": "2023-09-03T14:01:46.133Z"
   },
   {
    "duration": 3,
    "start_time": "2023-09-03T14:01:54.090Z"
   },
   {
    "duration": 228,
    "start_time": "2023-09-03T14:01:57.766Z"
   },
   {
    "duration": 226,
    "start_time": "2023-09-03T14:17:18.929Z"
   },
   {
    "duration": 188,
    "start_time": "2023-09-03T14:17:27.409Z"
   },
   {
    "duration": 189,
    "start_time": "2023-09-03T14:17:31.569Z"
   },
   {
    "duration": 195,
    "start_time": "2023-09-03T14:17:48.025Z"
   },
   {
    "duration": 283,
    "start_time": "2023-09-03T14:18:23.016Z"
   },
   {
    "duration": 198,
    "start_time": "2023-09-03T14:18:25.626Z"
   },
   {
    "duration": 198,
    "start_time": "2023-09-03T14:18:36.883Z"
   },
   {
    "duration": 168,
    "start_time": "2023-09-03T15:16:08.137Z"
   },
   {
    "duration": 219,
    "start_time": "2023-09-03T15:16:38.283Z"
   },
   {
    "duration": 180,
    "start_time": "2023-09-03T15:16:50.974Z"
   },
   {
    "duration": 191,
    "start_time": "2023-09-03T15:24:56.063Z"
   },
   {
    "duration": 172,
    "start_time": "2023-09-03T15:25:06.629Z"
   },
   {
    "duration": 323,
    "start_time": "2023-09-03T17:01:32.644Z"
   },
   {
    "duration": 282,
    "start_time": "2023-09-03T17:02:12.062Z"
   },
   {
    "duration": 879,
    "start_time": "2023-09-04T08:09:38.312Z"
   },
   {
    "duration": 186,
    "start_time": "2023-09-04T08:09:39.193Z"
   },
   {
    "duration": 12,
    "start_time": "2023-09-04T08:09:39.381Z"
   },
   {
    "duration": 4,
    "start_time": "2023-09-04T08:09:39.395Z"
   },
   {
    "duration": 15,
    "start_time": "2023-09-04T08:09:39.401Z"
   },
   {
    "duration": 9,
    "start_time": "2023-09-04T08:09:39.419Z"
   },
   {
    "duration": 15,
    "start_time": "2023-09-04T08:09:39.430Z"
   },
   {
    "duration": 46,
    "start_time": "2023-09-04T08:09:39.447Z"
   },
   {
    "duration": 14,
    "start_time": "2023-09-04T08:09:39.494Z"
   },
   {
    "duration": 11,
    "start_time": "2023-09-04T08:09:39.509Z"
   },
   {
    "duration": 316,
    "start_time": "2023-09-04T08:09:39.522Z"
   },
   {
    "duration": 300,
    "start_time": "2023-09-04T08:09:39.840Z"
   },
   {
    "duration": 212,
    "start_time": "2023-09-04T08:09:40.142Z"
   },
   {
    "duration": 380,
    "start_time": "2023-09-04T08:09:42.834Z"
   },
   {
    "duration": 337,
    "start_time": "2023-09-04T08:11:26.972Z"
   },
   {
    "duration": 10,
    "start_time": "2023-09-04T08:15:04.443Z"
   },
   {
    "duration": 4,
    "start_time": "2023-09-04T08:35:37.265Z"
   },
   {
    "duration": 12,
    "start_time": "2023-09-04T08:37:44.824Z"
   },
   {
    "duration": 12,
    "start_time": "2023-09-04T08:37:57.473Z"
   },
   {
    "duration": 12,
    "start_time": "2023-09-04T08:38:19.082Z"
   },
   {
    "duration": 8,
    "start_time": "2023-09-04T08:38:56.255Z"
   },
   {
    "duration": 11,
    "start_time": "2023-09-04T08:39:04.835Z"
   },
   {
    "duration": 11,
    "start_time": "2023-09-04T08:39:45.704Z"
   },
   {
    "duration": 12,
    "start_time": "2023-09-04T08:39:50.174Z"
   },
   {
    "duration": 12,
    "start_time": "2023-09-04T08:39:53.424Z"
   },
   {
    "duration": 136,
    "start_time": "2023-09-04T08:43:10.889Z"
   },
   {
    "duration": 143,
    "start_time": "2023-09-04T08:43:40.618Z"
   },
   {
    "duration": 3,
    "start_time": "2023-09-04T08:47:52.337Z"
   },
   {
    "duration": 78,
    "start_time": "2023-09-04T08:47:52.341Z"
   },
   {
    "duration": 8,
    "start_time": "2023-09-04T08:47:52.420Z"
   },
   {
    "duration": 21,
    "start_time": "2023-09-04T08:47:52.430Z"
   },
   {
    "duration": 15,
    "start_time": "2023-09-04T08:47:52.453Z"
   },
   {
    "duration": 27,
    "start_time": "2023-09-04T08:47:52.470Z"
   },
   {
    "duration": 40,
    "start_time": "2023-09-04T08:47:52.499Z"
   },
   {
    "duration": 45,
    "start_time": "2023-09-04T08:47:52.541Z"
   },
   {
    "duration": 31,
    "start_time": "2023-09-04T08:47:52.588Z"
   },
   {
    "duration": 25,
    "start_time": "2023-09-04T08:47:52.621Z"
   },
   {
    "duration": 298,
    "start_time": "2023-09-04T08:47:52.648Z"
   },
   {
    "duration": 221,
    "start_time": "2023-09-04T08:47:52.948Z"
   },
   {
    "duration": 210,
    "start_time": "2023-09-04T08:47:53.181Z"
   },
   {
    "duration": 306,
    "start_time": "2023-09-04T08:47:53.393Z"
   },
   {
    "duration": 13,
    "start_time": "2023-09-04T08:47:53.701Z"
   },
   {
    "duration": 9,
    "start_time": "2023-09-04T08:47:53.716Z"
   },
   {
    "duration": 145,
    "start_time": "2023-09-04T08:48:01.224Z"
   },
   {
    "duration": 140,
    "start_time": "2023-09-04T08:49:43.964Z"
   },
   {
    "duration": 6,
    "start_time": "2023-09-04T08:51:26.259Z"
   },
   {
    "duration": 9,
    "start_time": "2023-09-04T08:53:12.680Z"
   },
   {
    "duration": 80,
    "start_time": "2023-09-04T08:55:37.536Z"
   },
   {
    "duration": 8,
    "start_time": "2023-09-04T08:55:44.232Z"
   },
   {
    "duration": 5,
    "start_time": "2023-09-04T08:55:59.041Z"
   },
   {
    "duration": 6,
    "start_time": "2023-09-04T08:56:08.992Z"
   },
   {
    "duration": 6,
    "start_time": "2023-09-04T08:56:14.328Z"
   },
   {
    "duration": 6,
    "start_time": "2023-09-04T08:56:19.593Z"
   },
   {
    "duration": 9,
    "start_time": "2023-09-04T08:56:32.226Z"
   },
   {
    "duration": 5,
    "start_time": "2023-09-04T08:56:36.065Z"
   },
   {
    "duration": 9,
    "start_time": "2023-09-04T08:56:55.761Z"
   },
   {
    "duration": 10,
    "start_time": "2023-09-04T08:57:27.501Z"
   },
   {
    "duration": 8,
    "start_time": "2023-09-04T08:57:36.549Z"
   },
   {
    "duration": 7,
    "start_time": "2023-09-04T08:57:49.828Z"
   },
   {
    "duration": 59,
    "start_time": "2023-09-04T08:58:26.679Z"
   },
   {
    "duration": 13,
    "start_time": "2023-09-04T08:58:33.439Z"
   },
   {
    "duration": 89,
    "start_time": "2023-09-04T08:58:36.534Z"
   },
   {
    "duration": 24,
    "start_time": "2023-09-04T08:58:40.871Z"
   },
   {
    "duration": 13,
    "start_time": "2023-09-04T08:58:50.400Z"
   },
   {
    "duration": 13,
    "start_time": "2023-09-04T08:58:54.649Z"
   },
   {
    "duration": 20,
    "start_time": "2023-09-04T08:59:04.921Z"
   },
   {
    "duration": 14,
    "start_time": "2023-09-04T08:59:11.939Z"
   },
   {
    "duration": 20,
    "start_time": "2023-09-04T08:59:18.112Z"
   },
   {
    "duration": 14,
    "start_time": "2023-09-04T08:59:24.178Z"
   },
   {
    "duration": 20,
    "start_time": "2023-09-04T08:59:28.378Z"
   },
   {
    "duration": 14,
    "start_time": "2023-09-04T08:59:33.475Z"
   },
   {
    "duration": 20,
    "start_time": "2023-09-04T08:59:37.543Z"
   },
   {
    "duration": 12,
    "start_time": "2023-09-04T08:59:43.147Z"
   },
   {
    "duration": 13,
    "start_time": "2023-09-04T08:59:47.062Z"
   },
   {
    "duration": 15,
    "start_time": "2023-09-04T08:59:52.045Z"
   },
   {
    "duration": 13,
    "start_time": "2023-09-04T08:59:55.750Z"
   },
   {
    "duration": 13,
    "start_time": "2023-09-04T08:59:58.646Z"
   },
   {
    "duration": 13,
    "start_time": "2023-09-04T09:02:01.587Z"
   },
   {
    "duration": 12,
    "start_time": "2023-09-04T09:02:13.370Z"
   },
   {
    "duration": 20,
    "start_time": "2023-09-04T09:02:36.836Z"
   },
   {
    "duration": 5,
    "start_time": "2023-09-04T09:03:41.991Z"
   },
   {
    "duration": 5,
    "start_time": "2023-09-04T09:03:47.841Z"
   },
   {
    "duration": 167,
    "start_time": "2023-09-04T09:06:33.657Z"
   },
   {
    "duration": 10,
    "start_time": "2023-09-04T09:07:03.304Z"
   },
   {
    "duration": 230,
    "start_time": "2023-09-04T09:08:03.053Z"
   },
   {
    "duration": 157,
    "start_time": "2023-09-04T09:08:08.725Z"
   },
   {
    "duration": 236,
    "start_time": "2023-09-04T09:13:30.431Z"
   },
   {
    "duration": 5,
    "start_time": "2023-09-04T09:15:42.939Z"
   },
   {
    "duration": 10,
    "start_time": "2023-09-04T09:15:58.427Z"
   },
   {
    "duration": 11,
    "start_time": "2023-09-04T09:32:45.836Z"
   },
   {
    "duration": 12,
    "start_time": "2023-09-04T09:34:50.971Z"
   },
   {
    "duration": 15,
    "start_time": "2023-09-04T09:35:06.612Z"
   },
   {
    "duration": 110,
    "start_time": "2023-09-04T10:12:40.772Z"
   },
   {
    "duration": 5,
    "start_time": "2023-09-04T10:13:18.447Z"
   },
   {
    "duration": 114,
    "start_time": "2023-09-04T10:13:49.440Z"
   },
   {
    "duration": 224,
    "start_time": "2023-09-04T10:14:27.737Z"
   },
   {
    "duration": 215,
    "start_time": "2023-09-04T10:14:34.741Z"
   },
   {
    "duration": 220,
    "start_time": "2023-09-04T10:14:43.244Z"
   },
   {
    "duration": 110,
    "start_time": "2023-09-04T10:17:23.241Z"
   },
   {
    "duration": 969,
    "start_time": "2023-09-04T10:20:12.545Z"
   },
   {
    "duration": 120,
    "start_time": "2023-09-04T10:20:13.516Z"
   },
   {
    "duration": 11,
    "start_time": "2023-09-04T10:20:13.638Z"
   },
   {
    "duration": 60,
    "start_time": "2023-09-04T10:20:13.730Z"
   },
   {
    "duration": 16,
    "start_time": "2023-09-04T10:20:13.792Z"
   },
   {
    "duration": 14,
    "start_time": "2023-09-04T10:20:13.810Z"
   },
   {
    "duration": 14,
    "start_time": "2023-09-04T10:20:13.881Z"
   },
   {
    "duration": 685,
    "start_time": "2023-09-04T10:20:13.897Z"
   },
   {
    "duration": 507,
    "start_time": "2023-09-04T10:20:14.588Z"
   },
   {
    "duration": 234,
    "start_time": "2023-09-04T10:20:15.096Z"
   },
   {
    "duration": 1108,
    "start_time": "2023-09-04T10:20:17.698Z"
   },
   {
    "duration": 98,
    "start_time": "2023-09-04T10:20:18.807Z"
   },
   {
    "duration": 11,
    "start_time": "2023-09-04T10:20:18.907Z"
   },
   {
    "duration": 9,
    "start_time": "2023-09-04T10:20:18.920Z"
   },
   {
    "duration": 60,
    "start_time": "2023-09-04T10:20:18.931Z"
   },
   {
    "duration": 24,
    "start_time": "2023-09-04T10:20:18.993Z"
   },
   {
    "duration": 21,
    "start_time": "2023-09-04T10:20:19.018Z"
   },
   {
    "duration": 25,
    "start_time": "2023-09-04T10:20:19.084Z"
   },
   {
    "duration": 18,
    "start_time": "2023-09-04T10:20:19.112Z"
   },
   {
    "duration": 51,
    "start_time": "2023-09-04T10:20:19.182Z"
   },
   {
    "duration": 710,
    "start_time": "2023-09-04T10:20:19.236Z"
   },
   {
    "duration": 360,
    "start_time": "2023-09-04T10:20:19.948Z"
   },
   {
    "duration": 474,
    "start_time": "2023-09-04T10:20:20.311Z"
   },
   {
    "duration": 520,
    "start_time": "2023-09-04T10:20:20.788Z"
   },
   {
    "duration": 11,
    "start_time": "2023-09-04T10:20:21.310Z"
   },
   {
    "duration": 475,
    "start_time": "2023-09-04T10:20:21.323Z"
   },
   {
    "duration": 5,
    "start_time": "2023-09-04T10:20:21.800Z"
   },
   {
    "duration": 119,
    "start_time": "2023-09-04T10:20:21.806Z"
   },
   {
    "duration": 495,
    "start_time": "2023-09-04T10:20:21.926Z"
   },
   {
    "duration": 6,
    "start_time": "2023-09-04T10:20:22.422Z"
   },
   {
    "duration": 158,
    "start_time": "2023-09-04T10:20:22.493Z"
   },
   {
    "duration": 228,
    "start_time": "2023-09-04T10:20:22.681Z"
   },
   {
    "duration": 94,
    "start_time": "2023-09-04T10:20:22.910Z"
   },
   {
    "duration": 29,
    "start_time": "2023-09-04T10:35:15.239Z"
   },
   {
    "duration": 125,
    "start_time": "2023-09-04T10:35:38.833Z"
   },
   {
    "duration": 31,
    "start_time": "2023-09-04T10:35:48.158Z"
   },
   {
    "duration": 29,
    "start_time": "2023-09-04T10:35:54.070Z"
   },
   {
    "duration": 5,
    "start_time": "2023-09-04T10:37:57.317Z"
   },
   {
    "duration": 223,
    "start_time": "2023-09-04T10:38:12.216Z"
   },
   {
    "duration": 403,
    "start_time": "2023-09-04T10:38:52.608Z"
   },
   {
    "duration": 186,
    "start_time": "2023-09-04T10:39:07.057Z"
   },
   {
    "duration": 5,
    "start_time": "2023-09-04T10:40:45.566Z"
   },
   {
    "duration": 152,
    "start_time": "2023-09-04T10:42:24.954Z"
   },
   {
    "duration": 165,
    "start_time": "2023-09-04T10:45:14.894Z"
   },
   {
    "duration": 166,
    "start_time": "2023-09-04T10:45:59.292Z"
   },
   {
    "duration": 3,
    "start_time": "2023-09-04T11:01:39.937Z"
   },
   {
    "duration": 12,
    "start_time": "2023-09-04T11:01:51.858Z"
   },
   {
    "duration": 11,
    "start_time": "2023-09-04T11:03:40.904Z"
   },
   {
    "duration": 16,
    "start_time": "2023-09-04T11:03:46.559Z"
   },
   {
    "duration": 6,
    "start_time": "2023-09-04T11:04:25.010Z"
   },
   {
    "duration": 7,
    "start_time": "2023-09-04T11:04:30.115Z"
   },
   {
    "duration": 13,
    "start_time": "2023-09-04T11:10:06.003Z"
   },
   {
    "duration": 9,
    "start_time": "2023-09-04T11:21:26.445Z"
   },
   {
    "duration": 17,
    "start_time": "2023-09-04T11:22:57.552Z"
   },
   {
    "duration": 11,
    "start_time": "2023-09-04T11:26:58.828Z"
   },
   {
    "duration": 2576,
    "start_time": "2023-09-04T11:40:14.140Z"
   },
   {
    "duration": 1713,
    "start_time": "2023-09-04T11:40:30.781Z"
   },
   {
    "duration": 8,
    "start_time": "2023-09-04T11:40:41.693Z"
   },
   {
    "duration": 8,
    "start_time": "2023-09-04T11:40:58.420Z"
   },
   {
    "duration": 10,
    "start_time": "2023-09-04T11:41:14.206Z"
   },
   {
    "duration": 12,
    "start_time": "2023-09-04T11:41:26.754Z"
   },
   {
    "duration": 9,
    "start_time": "2023-09-04T11:41:46.471Z"
   },
   {
    "duration": 5,
    "start_time": "2023-09-04T11:41:59.656Z"
   },
   {
    "duration": 8,
    "start_time": "2023-09-04T11:43:25.813Z"
   },
   {
    "duration": 24,
    "start_time": "2023-09-04T11:43:33.797Z"
   },
   {
    "duration": 27,
    "start_time": "2023-09-04T11:44:06.302Z"
   },
   {
    "duration": 25,
    "start_time": "2023-09-04T11:44:31.915Z"
   },
   {
    "duration": 6,
    "start_time": "2023-09-04T11:45:09.545Z"
   },
   {
    "duration": 6,
    "start_time": "2023-09-04T11:45:19.250Z"
   },
   {
    "duration": 15,
    "start_time": "2023-09-04T11:46:39.519Z"
   },
   {
    "duration": 16,
    "start_time": "2023-09-04T11:52:02.773Z"
   },
   {
    "duration": 16,
    "start_time": "2023-09-04T11:52:33.697Z"
   },
   {
    "duration": 15,
    "start_time": "2023-09-04T11:52:58.352Z"
   },
   {
    "duration": 14,
    "start_time": "2023-09-04T11:53:02.696Z"
   },
   {
    "duration": 12,
    "start_time": "2023-09-04T12:02:10.274Z"
   },
   {
    "duration": 2159,
    "start_time": "2023-09-04T12:02:38.492Z"
   },
   {
    "duration": 12,
    "start_time": "2023-09-04T12:02:45.845Z"
   },
   {
    "duration": 3,
    "start_time": "2023-09-04T12:03:02.543Z"
   },
   {
    "duration": 88,
    "start_time": "2023-09-04T12:03:08.061Z"
   },
   {
    "duration": 13,
    "start_time": "2023-09-04T12:03:18.412Z"
   },
   {
    "duration": 12,
    "start_time": "2023-09-04T12:03:26.391Z"
   },
   {
    "duration": 286,
    "start_time": "2023-09-04T12:04:20.417Z"
   },
   {
    "duration": 16,
    "start_time": "2023-09-04T12:04:26.810Z"
   },
   {
    "duration": 305,
    "start_time": "2023-09-04T12:08:07.557Z"
   },
   {
    "duration": 12,
    "start_time": "2023-09-04T12:08:10.029Z"
   },
   {
    "duration": 211,
    "start_time": "2023-09-04T12:08:35.455Z"
   },
   {
    "duration": 8,
    "start_time": "2023-09-04T12:09:40.281Z"
   },
   {
    "duration": 7,
    "start_time": "2023-09-04T12:10:35.299Z"
   },
   {
    "duration": 263,
    "start_time": "2023-09-04T12:11:00.502Z"
   },
   {
    "duration": 266,
    "start_time": "2023-09-04T12:11:32.303Z"
   },
   {
    "duration": 228,
    "start_time": "2023-09-04T12:11:58.704Z"
   },
   {
    "duration": 311,
    "start_time": "2023-09-04T12:12:22.049Z"
   },
   {
    "duration": 276,
    "start_time": "2023-09-04T12:13:45.931Z"
   },
   {
    "duration": 200,
    "start_time": "2023-09-04T12:14:01.631Z"
   },
   {
    "duration": 194,
    "start_time": "2023-09-04T12:14:25.345Z"
   },
   {
    "duration": 176,
    "start_time": "2023-09-04T12:14:37.958Z"
   },
   {
    "duration": 289,
    "start_time": "2023-09-04T12:15:01.874Z"
   },
   {
    "duration": 230,
    "start_time": "2023-09-04T12:15:07.809Z"
   },
   {
    "duration": 307,
    "start_time": "2023-09-04T12:15:17.626Z"
   },
   {
    "duration": 396,
    "start_time": "2023-09-04T12:15:39.212Z"
   },
   {
    "duration": 4,
    "start_time": "2023-09-04T12:16:02.437Z"
   },
   {
    "duration": 112,
    "start_time": "2023-09-04T12:16:02.443Z"
   },
   {
    "duration": 9,
    "start_time": "2023-09-04T12:16:02.557Z"
   },
   {
    "duration": 31,
    "start_time": "2023-09-04T12:16:02.567Z"
   },
   {
    "duration": 39,
    "start_time": "2023-09-04T12:16:02.600Z"
   },
   {
    "duration": 57,
    "start_time": "2023-09-04T12:16:02.641Z"
   },
   {
    "duration": 64,
    "start_time": "2023-09-04T12:16:02.700Z"
   },
   {
    "duration": 35,
    "start_time": "2023-09-04T12:16:02.766Z"
   },
   {
    "duration": 23,
    "start_time": "2023-09-04T12:16:02.802Z"
   },
   {
    "duration": 38,
    "start_time": "2023-09-04T12:16:02.827Z"
   },
   {
    "duration": 332,
    "start_time": "2023-09-04T12:16:02.867Z"
   },
   {
    "duration": 233,
    "start_time": "2023-09-04T12:16:03.203Z"
   },
   {
    "duration": 221,
    "start_time": "2023-09-04T12:16:03.439Z"
   },
   {
    "duration": 342,
    "start_time": "2023-09-04T12:16:03.662Z"
   },
   {
    "duration": 12,
    "start_time": "2023-09-04T12:16:04.005Z"
   },
   {
    "duration": 180,
    "start_time": "2023-09-04T12:16:04.018Z"
   },
   {
    "duration": 6,
    "start_time": "2023-09-04T12:16:04.200Z"
   },
   {
    "duration": 14,
    "start_time": "2023-09-04T12:16:04.208Z"
   },
   {
    "duration": 282,
    "start_time": "2023-09-04T12:16:04.224Z"
   },
   {
    "duration": 5,
    "start_time": "2023-09-04T12:16:04.508Z"
   },
   {
    "duration": 119,
    "start_time": "2023-09-04T12:16:04.515Z"
   },
   {
    "duration": 132,
    "start_time": "2023-09-04T12:16:04.636Z"
   },
   {
    "duration": 44,
    "start_time": "2023-09-04T12:16:04.769Z"
   },
   {
    "duration": 191,
    "start_time": "2023-09-04T12:16:04.814Z"
   },
   {
    "duration": 11,
    "start_time": "2023-09-04T12:16:05.007Z"
   },
   {
    "duration": 26,
    "start_time": "2023-09-04T12:16:05.020Z"
   },
   {
    "duration": 34,
    "start_time": "2023-09-04T12:16:05.048Z"
   },
   {
    "duration": 50,
    "start_time": "2023-09-04T12:16:05.088Z"
   },
   {
    "duration": 23,
    "start_time": "2023-09-04T12:16:05.140Z"
   },
   {
    "duration": 353,
    "start_time": "2023-09-04T12:16:05.165Z"
   },
   {
    "duration": 5,
    "start_time": "2023-09-04T12:16:05.520Z"
   },
   {
    "duration": 271,
    "start_time": "2023-09-04T12:16:05.527Z"
   },
   {
    "duration": 12,
    "start_time": "2023-09-04T12:18:51.164Z"
   },
   {
    "duration": 13,
    "start_time": "2023-09-04T12:19:32.405Z"
   },
   {
    "duration": 12,
    "start_time": "2023-09-04T12:19:44.997Z"
   },
   {
    "duration": 279,
    "start_time": "2023-09-04T12:31:51.915Z"
   },
   {
    "duration": 1205,
    "start_time": "2023-09-04T13:08:25.729Z"
   },
   {
    "duration": 77,
    "start_time": "2023-09-04T13:08:26.937Z"
   },
   {
    "duration": 12,
    "start_time": "2023-09-04T13:08:27.016Z"
   },
   {
    "duration": 3,
    "start_time": "2023-09-04T13:08:27.031Z"
   },
   {
    "duration": 12,
    "start_time": "2023-09-04T13:08:27.036Z"
   },
   {
    "duration": 38,
    "start_time": "2023-09-04T13:08:27.050Z"
   },
   {
    "duration": 19,
    "start_time": "2023-09-04T13:08:27.089Z"
   },
   {
    "duration": 23,
    "start_time": "2023-09-04T13:08:27.110Z"
   },
   {
    "duration": 18,
    "start_time": "2023-09-04T13:08:27.134Z"
   },
   {
    "duration": 10,
    "start_time": "2023-09-04T13:08:27.155Z"
   },
   {
    "duration": 334,
    "start_time": "2023-09-04T13:08:27.167Z"
   },
   {
    "duration": 385,
    "start_time": "2023-09-04T13:08:27.503Z"
   },
   {
    "duration": 416,
    "start_time": "2023-09-04T13:08:27.889Z"
   },
   {
    "duration": 576,
    "start_time": "2023-09-04T13:08:28.307Z"
   },
   {
    "duration": 16,
    "start_time": "2023-09-04T13:08:28.886Z"
   },
   {
    "duration": 309,
    "start_time": "2023-09-04T13:08:28.904Z"
   },
   {
    "duration": 5,
    "start_time": "2023-09-04T13:08:29.214Z"
   },
   {
    "duration": 160,
    "start_time": "2023-09-04T13:08:29.221Z"
   },
   {
    "duration": 418,
    "start_time": "2023-09-04T13:08:29.383Z"
   },
   {
    "duration": 6,
    "start_time": "2023-09-04T13:08:29.802Z"
   },
   {
    "duration": 134,
    "start_time": "2023-09-04T13:08:29.810Z"
   },
   {
    "duration": 120,
    "start_time": "2023-09-04T13:08:29.946Z"
   },
   {
    "duration": 37,
    "start_time": "2023-09-04T13:08:30.068Z"
   },
   {
    "duration": 175,
    "start_time": "2023-09-04T13:08:30.107Z"
   },
   {
    "duration": 11,
    "start_time": "2023-09-04T13:08:30.284Z"
   },
   {
    "duration": 26,
    "start_time": "2023-09-04T13:08:30.297Z"
   },
   {
    "duration": 120,
    "start_time": "2023-09-04T13:08:30.325Z"
   },
   {
    "duration": 0,
    "start_time": "2023-09-04T13:08:30.447Z"
   },
   {
    "duration": 0,
    "start_time": "2023-09-04T13:08:30.449Z"
   },
   {
    "duration": 0,
    "start_time": "2023-09-04T13:08:30.450Z"
   },
   {
    "duration": 0,
    "start_time": "2023-09-04T13:08:30.451Z"
   },
   {
    "duration": 0,
    "start_time": "2023-09-04T13:08:30.452Z"
   },
   {
    "duration": 1238,
    "start_time": "2023-09-04T13:09:16.008Z"
   },
   {
    "duration": 80,
    "start_time": "2023-09-04T13:09:17.249Z"
   },
   {
    "duration": 15,
    "start_time": "2023-09-04T13:09:17.332Z"
   },
   {
    "duration": 9,
    "start_time": "2023-09-04T13:09:17.349Z"
   },
   {
    "duration": 33,
    "start_time": "2023-09-04T13:09:17.361Z"
   },
   {
    "duration": 19,
    "start_time": "2023-09-04T13:09:17.396Z"
   },
   {
    "duration": 41,
    "start_time": "2023-09-04T13:09:17.417Z"
   },
   {
    "duration": 21,
    "start_time": "2023-09-04T13:09:17.460Z"
   },
   {
    "duration": 23,
    "start_time": "2023-09-04T13:09:17.483Z"
   },
   {
    "duration": 13,
    "start_time": "2023-09-04T13:09:17.508Z"
   },
   {
    "duration": 302,
    "start_time": "2023-09-04T13:09:17.523Z"
   },
   {
    "duration": 304,
    "start_time": "2023-09-04T13:09:17.826Z"
   },
   {
    "duration": 205,
    "start_time": "2023-09-04T13:09:18.131Z"
   },
   {
    "duration": 363,
    "start_time": "2023-09-04T13:09:18.339Z"
   },
   {
    "duration": 13,
    "start_time": "2023-09-04T13:09:18.704Z"
   },
   {
    "duration": 170,
    "start_time": "2023-09-04T13:09:18.719Z"
   },
   {
    "duration": 6,
    "start_time": "2023-09-04T13:09:18.891Z"
   },
   {
    "duration": 59,
    "start_time": "2023-09-04T13:09:18.899Z"
   },
   {
    "duration": 307,
    "start_time": "2023-09-04T13:09:18.961Z"
   },
   {
    "duration": 13,
    "start_time": "2023-09-04T13:09:19.269Z"
   },
   {
    "duration": 101,
    "start_time": "2023-09-04T13:09:19.284Z"
   },
   {
    "duration": 123,
    "start_time": "2023-09-04T13:09:19.387Z"
   },
   {
    "duration": 29,
    "start_time": "2023-09-04T13:09:19.512Z"
   },
   {
    "duration": 200,
    "start_time": "2023-09-04T13:09:19.542Z"
   },
   {
    "duration": 10,
    "start_time": "2023-09-04T13:09:19.744Z"
   },
   {
    "duration": 8,
    "start_time": "2023-09-04T13:09:19.756Z"
   },
   {
    "duration": 14,
    "start_time": "2023-09-04T13:09:19.782Z"
   },
   {
    "duration": 30,
    "start_time": "2023-09-04T13:09:19.799Z"
   },
   {
    "duration": 13,
    "start_time": "2023-09-04T13:09:19.830Z"
   },
   {
    "duration": 350,
    "start_time": "2023-09-04T13:09:19.845Z"
   },
   {
    "duration": 249,
    "start_time": "2023-09-04T13:09:20.197Z"
   },
   {
    "duration": 400,
    "start_time": "2023-09-04T13:09:20.448Z"
   },
   {
    "duration": 1263,
    "start_time": "2023-09-04T13:23:45.421Z"
   },
   {
    "duration": 184,
    "start_time": "2023-09-04T13:23:46.686Z"
   },
   {
    "duration": 11,
    "start_time": "2023-09-04T13:23:46.871Z"
   },
   {
    "duration": 3,
    "start_time": "2023-09-04T13:23:46.884Z"
   },
   {
    "duration": 10,
    "start_time": "2023-09-04T13:23:46.888Z"
   },
   {
    "duration": 8,
    "start_time": "2023-09-04T13:23:46.899Z"
   },
   {
    "duration": 19,
    "start_time": "2023-09-04T13:23:46.908Z"
   },
   {
    "duration": 17,
    "start_time": "2023-09-04T13:23:46.928Z"
   },
   {
    "duration": 15,
    "start_time": "2023-09-04T13:23:46.946Z"
   },
   {
    "duration": 5,
    "start_time": "2023-09-04T13:23:46.964Z"
   },
   {
    "duration": 294,
    "start_time": "2023-09-04T13:23:46.970Z"
   },
   {
    "duration": 266,
    "start_time": "2023-09-04T13:23:47.265Z"
   },
   {
    "duration": 190,
    "start_time": "2023-09-04T13:23:47.533Z"
   },
   {
    "duration": 330,
    "start_time": "2023-09-04T13:23:47.724Z"
   },
   {
    "duration": 12,
    "start_time": "2023-09-04T13:23:48.056Z"
   },
   {
    "duration": 137,
    "start_time": "2023-09-04T13:23:48.069Z"
   },
   {
    "duration": 6,
    "start_time": "2023-09-04T13:23:48.207Z"
   },
   {
    "duration": 63,
    "start_time": "2023-09-04T13:23:48.214Z"
   },
   {
    "duration": 237,
    "start_time": "2023-09-04T13:23:48.278Z"
   },
   {
    "duration": 4,
    "start_time": "2023-09-04T13:23:48.517Z"
   },
   {
    "duration": 93,
    "start_time": "2023-09-04T13:23:48.523Z"
   },
   {
    "duration": 118,
    "start_time": "2023-09-04T13:23:48.618Z"
   },
   {
    "duration": 25,
    "start_time": "2023-09-04T13:23:48.737Z"
   },
   {
    "duration": 160,
    "start_time": "2023-09-04T13:23:48.763Z"
   },
   {
    "duration": 16,
    "start_time": "2023-09-04T13:23:48.924Z"
   },
   {
    "duration": 8,
    "start_time": "2023-09-04T13:23:48.942Z"
   },
   {
    "duration": 28,
    "start_time": "2023-09-04T13:23:48.952Z"
   },
   {
    "duration": 36,
    "start_time": "2023-09-04T13:23:48.983Z"
   },
   {
    "duration": 13,
    "start_time": "2023-09-04T13:23:49.020Z"
   },
   {
    "duration": 277,
    "start_time": "2023-09-04T13:23:49.034Z"
   },
   {
    "duration": 193,
    "start_time": "2023-09-04T13:23:49.312Z"
   },
   {
    "duration": 329,
    "start_time": "2023-09-04T13:23:49.506Z"
   },
   {
    "duration": 1402,
    "start_time": "2023-09-05T10:52:39.902Z"
   },
   {
    "duration": 266,
    "start_time": "2023-09-05T10:52:41.312Z"
   },
   {
    "duration": 12,
    "start_time": "2023-09-05T10:52:41.579Z"
   },
   {
    "duration": 3,
    "start_time": "2023-09-05T10:52:41.593Z"
   },
   {
    "duration": 14,
    "start_time": "2023-09-05T10:52:41.598Z"
   },
   {
    "duration": 18,
    "start_time": "2023-09-05T10:52:41.614Z"
   },
   {
    "duration": 20,
    "start_time": "2023-09-05T10:52:41.634Z"
   },
   {
    "duration": 21,
    "start_time": "2023-09-05T10:53:22.324Z"
   },
   {
    "duration": 10,
    "start_time": "2023-09-05T10:53:40.738Z"
   },
   {
    "duration": 13,
    "start_time": "2023-09-05T10:53:54.931Z"
   },
   {
    "duration": 12,
    "start_time": "2023-09-05T10:54:43.725Z"
   },
   {
    "duration": 12,
    "start_time": "2023-09-05T10:54:53.709Z"
   },
   {
    "duration": 24,
    "start_time": "2023-09-05T10:55:00.277Z"
   },
   {
    "duration": 111,
    "start_time": "2023-09-05T10:55:05.724Z"
   },
   {
    "duration": 16,
    "start_time": "2023-09-05T10:55:10.301Z"
   },
   {
    "duration": 11,
    "start_time": "2023-09-05T10:55:24.278Z"
   },
   {
    "duration": 11,
    "start_time": "2023-09-05T10:55:53.128Z"
   },
   {
    "duration": 1231,
    "start_time": "2023-09-05T10:57:27.069Z"
   },
   {
    "duration": 11,
    "start_time": "2023-09-05T10:57:32.077Z"
   },
   {
    "duration": 5,
    "start_time": "2023-09-05T10:58:23.856Z"
   },
   {
    "duration": 8,
    "start_time": "2023-09-05T10:58:28.177Z"
   },
   {
    "duration": 5,
    "start_time": "2023-09-05T10:58:59.562Z"
   },
   {
    "duration": 5,
    "start_time": "2023-09-05T10:59:07.724Z"
   },
   {
    "duration": 12,
    "start_time": "2023-09-05T10:59:52.084Z"
   },
   {
    "duration": 12,
    "start_time": "2023-09-05T11:00:01.542Z"
   },
   {
    "duration": 6,
    "start_time": "2023-09-05T11:00:28.174Z"
   },
   {
    "duration": 7,
    "start_time": "2023-09-05T11:00:32.742Z"
   },
   {
    "duration": 9,
    "start_time": "2023-09-05T11:00:37.286Z"
   },
   {
    "duration": 6,
    "start_time": "2023-09-05T11:00:41.583Z"
   },
   {
    "duration": 10,
    "start_time": "2023-09-05T11:01:14.344Z"
   },
   {
    "duration": 5,
    "start_time": "2023-09-05T11:01:30.330Z"
   },
   {
    "duration": 6,
    "start_time": "2023-09-05T11:02:20.883Z"
   },
   {
    "duration": 12,
    "start_time": "2023-09-05T11:06:20.169Z"
   },
   {
    "duration": 20,
    "start_time": "2023-09-05T11:07:54.881Z"
   },
   {
    "duration": 24,
    "start_time": "2023-09-05T11:08:10.773Z"
   },
   {
    "duration": 17,
    "start_time": "2023-09-05T11:08:24.206Z"
   },
   {
    "duration": 19,
    "start_time": "2023-09-05T11:08:28.142Z"
   },
   {
    "duration": 152,
    "start_time": "2023-09-05T11:08:40.166Z"
   },
   {
    "duration": 23,
    "start_time": "2023-09-05T11:08:45.344Z"
   },
   {
    "duration": 21,
    "start_time": "2023-09-05T11:09:09.335Z"
   },
   {
    "duration": 13,
    "start_time": "2023-09-05T11:09:53.035Z"
   },
   {
    "duration": 154,
    "start_time": "2023-09-05T11:10:30.242Z"
   },
   {
    "duration": 14,
    "start_time": "2023-09-05T11:10:35.580Z"
   },
   {
    "duration": 12,
    "start_time": "2023-09-05T11:10:47.172Z"
   },
   {
    "duration": 12,
    "start_time": "2023-09-05T11:10:54.967Z"
   },
   {
    "duration": 13,
    "start_time": "2023-09-05T11:11:16.382Z"
   },
   {
    "duration": 11,
    "start_time": "2023-09-05T11:11:23.220Z"
   },
   {
    "duration": 12,
    "start_time": "2023-09-05T11:11:32.336Z"
   },
   {
    "duration": 10,
    "start_time": "2023-09-05T11:11:52.081Z"
   },
   {
    "duration": 161,
    "start_time": "2023-09-05T11:13:15.447Z"
   },
   {
    "duration": 26,
    "start_time": "2023-09-05T11:13:20.404Z"
   },
   {
    "duration": 19,
    "start_time": "2023-09-05T11:14:02.054Z"
   },
   {
    "duration": 162,
    "start_time": "2023-09-05T11:23:13.110Z"
   },
   {
    "duration": 11,
    "start_time": "2023-09-05T11:23:21.078Z"
   },
   {
    "duration": 11,
    "start_time": "2023-09-05T11:23:24.894Z"
   },
   {
    "duration": 11,
    "start_time": "2023-09-05T11:23:32.263Z"
   },
   {
    "duration": 130,
    "start_time": "2023-09-05T11:23:38.539Z"
   },
   {
    "duration": 115,
    "start_time": "2023-09-05T11:23:45.376Z"
   },
   {
    "duration": 13,
    "start_time": "2023-09-05T11:23:50.844Z"
   },
   {
    "duration": 3,
    "start_time": "2023-09-05T11:24:16.553Z"
   },
   {
    "duration": 17,
    "start_time": "2023-09-05T11:25:45.382Z"
   },
   {
    "duration": 6,
    "start_time": "2023-09-05T11:26:14.723Z"
   },
   {
    "duration": 6,
    "start_time": "2023-09-05T11:26:22.799Z"
   },
   {
    "duration": 13,
    "start_time": "2023-09-05T11:28:40.958Z"
   },
   {
    "duration": 19,
    "start_time": "2023-09-05T11:28:52.220Z"
   },
   {
    "duration": 16,
    "start_time": "2023-09-05T11:28:57.832Z"
   },
   {
    "duration": 17,
    "start_time": "2023-09-05T11:29:04.137Z"
   },
   {
    "duration": 12,
    "start_time": "2023-09-05T11:29:08.024Z"
   },
   {
    "duration": 9,
    "start_time": "2023-09-05T11:31:00.534Z"
   },
   {
    "duration": 3,
    "start_time": "2023-09-05T11:31:09.707Z"
   },
   {
    "duration": 106,
    "start_time": "2023-09-05T11:31:09.718Z"
   },
   {
    "duration": 7,
    "start_time": "2023-09-05T11:31:09.826Z"
   },
   {
    "duration": 8,
    "start_time": "2023-09-05T11:31:09.835Z"
   },
   {
    "duration": 31,
    "start_time": "2023-09-05T11:31:09.846Z"
   },
   {
    "duration": 14,
    "start_time": "2023-09-05T11:31:09.879Z"
   },
   {
    "duration": 21,
    "start_time": "2023-09-05T11:31:09.895Z"
   },
   {
    "duration": 20,
    "start_time": "2023-09-05T11:31:09.918Z"
   },
   {
    "duration": 9,
    "start_time": "2023-09-05T11:31:09.940Z"
   },
   {
    "duration": 20,
    "start_time": "2023-09-05T11:31:09.951Z"
   },
   {
    "duration": 19,
    "start_time": "2023-09-05T11:31:09.973Z"
   },
   {
    "duration": 24,
    "start_time": "2023-09-05T11:31:09.993Z"
   },
   {
    "duration": 39,
    "start_time": "2023-09-05T11:31:10.019Z"
   },
   {
    "duration": 16,
    "start_time": "2023-09-05T11:31:10.060Z"
   },
   {
    "duration": 18,
    "start_time": "2023-09-05T11:31:10.078Z"
   },
   {
    "duration": 23,
    "start_time": "2023-09-05T11:31:10.098Z"
   },
   {
    "duration": 19,
    "start_time": "2023-09-05T11:31:10.123Z"
   },
   {
    "duration": 25,
    "start_time": "2023-09-05T11:31:10.145Z"
   },
   {
    "duration": 7,
    "start_time": "2023-09-05T11:31:10.172Z"
   },
   {
    "duration": 309,
    "start_time": "2023-09-05T11:31:10.181Z"
   },
   {
    "duration": 348,
    "start_time": "2023-09-05T11:31:10.492Z"
   },
   {
    "duration": 210,
    "start_time": "2023-09-05T11:31:10.843Z"
   },
   {
    "duration": 177,
    "start_time": "2023-09-05T11:33:06.075Z"
   },
   {
    "duration": 195,
    "start_time": "2023-09-05T11:33:36.135Z"
   },
   {
    "duration": 10,
    "start_time": "2023-09-05T11:36:22.983Z"
   },
   {
    "duration": 12,
    "start_time": "2023-09-05T11:36:31.199Z"
   },
   {
    "duration": 12,
    "start_time": "2023-09-05T11:47:37.504Z"
   },
   {
    "duration": 14,
    "start_time": "2023-09-05T11:47:49.674Z"
   },
   {
    "duration": 16,
    "start_time": "2023-09-05T11:48:25.908Z"
   },
   {
    "duration": 119,
    "start_time": "2023-09-05T11:48:33.206Z"
   },
   {
    "duration": 12,
    "start_time": "2023-09-05T11:48:41.741Z"
   },
   {
    "duration": 11,
    "start_time": "2023-09-05T11:48:56.047Z"
   },
   {
    "duration": 13,
    "start_time": "2023-09-05T11:49:03.130Z"
   },
   {
    "duration": 20,
    "start_time": "2023-09-05T11:49:08.422Z"
   },
   {
    "duration": 18,
    "start_time": "2023-09-05T11:51:48.211Z"
   },
   {
    "duration": 19,
    "start_time": "2023-09-05T11:52:18.416Z"
   },
   {
    "duration": 12,
    "start_time": "2023-09-05T11:52:24.942Z"
   },
   {
    "duration": 13,
    "start_time": "2023-09-05T11:52:30.646Z"
   },
   {
    "duration": 12,
    "start_time": "2023-09-05T11:52:44.631Z"
   },
   {
    "duration": 11,
    "start_time": "2023-09-05T11:52:52.877Z"
   },
   {
    "duration": 110,
    "start_time": "2023-09-05T11:54:43.030Z"
   },
   {
    "duration": 11,
    "start_time": "2023-09-05T11:54:47.623Z"
   },
   {
    "duration": 10,
    "start_time": "2023-09-05T11:54:58.662Z"
   },
   {
    "duration": 9,
    "start_time": "2023-09-05T11:55:11.958Z"
   },
   {
    "duration": 10,
    "start_time": "2023-09-05T11:55:31.368Z"
   },
   {
    "duration": 17,
    "start_time": "2023-09-05T11:55:34.124Z"
   },
   {
    "duration": 10,
    "start_time": "2023-09-05T11:58:17.527Z"
   },
   {
    "duration": 14,
    "start_time": "2023-09-05T12:00:04.211Z"
   },
   {
    "duration": 120,
    "start_time": "2023-09-05T12:00:57.559Z"
   },
   {
    "duration": 13,
    "start_time": "2023-09-05T12:01:01.522Z"
   },
   {
    "duration": 8,
    "start_time": "2023-09-05T12:04:20.428Z"
   },
   {
    "duration": 89,
    "start_time": "2023-09-05T12:04:36.154Z"
   },
   {
    "duration": 10,
    "start_time": "2023-09-05T12:04:39.569Z"
   },
   {
    "duration": 11,
    "start_time": "2023-09-05T12:05:14.956Z"
   },
   {
    "duration": 1253,
    "start_time": "2023-09-05T12:05:24.432Z"
   },
   {
    "duration": 90,
    "start_time": "2023-09-05T12:05:25.687Z"
   },
   {
    "duration": 13,
    "start_time": "2023-09-05T12:05:25.780Z"
   },
   {
    "duration": 5,
    "start_time": "2023-09-05T12:05:25.794Z"
   },
   {
    "duration": 15,
    "start_time": "2023-09-05T12:05:25.801Z"
   },
   {
    "duration": 12,
    "start_time": "2023-09-05T12:05:25.823Z"
   },
   {
    "duration": 20,
    "start_time": "2023-09-05T12:05:25.837Z"
   },
   {
    "duration": 16,
    "start_time": "2023-09-05T12:05:25.859Z"
   },
   {
    "duration": 5,
    "start_time": "2023-09-05T12:05:25.877Z"
   },
   {
    "duration": 12,
    "start_time": "2023-09-05T12:05:25.884Z"
   },
   {
    "duration": 28,
    "start_time": "2023-09-05T12:05:25.898Z"
   },
   {
    "duration": 14,
    "start_time": "2023-09-05T12:05:25.928Z"
   },
   {
    "duration": 13,
    "start_time": "2023-09-05T12:05:25.944Z"
   },
   {
    "duration": 12,
    "start_time": "2023-09-05T12:05:25.960Z"
   },
   {
    "duration": 45,
    "start_time": "2023-09-05T12:05:25.974Z"
   },
   {
    "duration": 16,
    "start_time": "2023-09-05T12:05:26.021Z"
   },
   {
    "duration": 14,
    "start_time": "2023-09-05T12:05:26.039Z"
   },
   {
    "duration": 6,
    "start_time": "2023-09-05T12:05:26.055Z"
   },
   {
    "duration": 364,
    "start_time": "2023-09-05T12:05:26.063Z"
   },
   {
    "duration": 330,
    "start_time": "2023-09-05T12:05:26.429Z"
   },
   {
    "duration": 240,
    "start_time": "2023-09-05T12:05:26.762Z"
   },
   {
    "duration": 437,
    "start_time": "2023-09-05T12:05:27.004Z"
   },
   {
    "duration": 405,
    "start_time": "2023-09-05T12:05:27.443Z"
   },
   {
    "duration": 76,
    "start_time": "2023-09-05T12:05:27.850Z"
   },
   {
    "duration": 403,
    "start_time": "2023-09-05T12:05:27.928Z"
   },
   {
    "duration": 5,
    "start_time": "2023-09-05T12:05:28.333Z"
   },
   {
    "duration": 185,
    "start_time": "2023-09-05T12:05:28.339Z"
   },
   {
    "duration": 608,
    "start_time": "2023-09-05T12:05:28.529Z"
   },
   {
    "duration": 6,
    "start_time": "2023-09-05T12:05:29.139Z"
   },
   {
    "duration": 208,
    "start_time": "2023-09-05T12:05:29.146Z"
   },
   {
    "duration": 387,
    "start_time": "2023-09-05T12:05:29.356Z"
   },
   {
    "duration": 95,
    "start_time": "2023-09-05T12:05:29.745Z"
   },
   {
    "duration": 393,
    "start_time": "2023-09-05T12:05:29.842Z"
   },
   {
    "duration": 12,
    "start_time": "2023-09-05T12:05:30.237Z"
   },
   {
    "duration": 77,
    "start_time": "2023-09-05T12:05:30.251Z"
   },
   {
    "duration": 92,
    "start_time": "2023-09-05T12:05:30.329Z"
   },
   {
    "duration": 94,
    "start_time": "2023-09-05T12:05:30.426Z"
   },
   {
    "duration": 33,
    "start_time": "2023-09-05T12:05:30.527Z"
   },
   {
    "duration": 688,
    "start_time": "2023-09-05T12:05:30.562Z"
   },
   {
    "duration": 688,
    "start_time": "2023-09-05T12:05:31.252Z"
   },
   {
    "duration": 303,
    "start_time": "2023-09-05T12:05:31.943Z"
   },
   {
    "duration": 10,
    "start_time": "2023-09-05T12:06:03.560Z"
   },
   {
    "duration": 125,
    "start_time": "2023-09-05T12:10:06.706Z"
   },
   {
    "duration": 15,
    "start_time": "2023-09-05T12:10:09.660Z"
   },
   {
    "duration": 98,
    "start_time": "2023-09-05T12:11:10.772Z"
   },
   {
    "duration": 24,
    "start_time": "2023-09-05T12:11:14.517Z"
   },
   {
    "duration": 25,
    "start_time": "2023-09-05T12:12:02.406Z"
   },
   {
    "duration": 17,
    "start_time": "2023-09-05T12:12:22.802Z"
   },
   {
    "duration": 20,
    "start_time": "2023-09-05T12:12:30.363Z"
   },
   {
    "duration": 18,
    "start_time": "2023-09-05T12:13:36.868Z"
   },
   {
    "duration": 23,
    "start_time": "2023-09-05T12:13:48.804Z"
   },
   {
    "duration": 13,
    "start_time": "2023-09-05T12:14:45.872Z"
   },
   {
    "duration": 12,
    "start_time": "2023-09-05T12:14:50.113Z"
   },
   {
    "duration": 18,
    "start_time": "2023-09-05T12:16:01.803Z"
   },
   {
    "duration": 17,
    "start_time": "2023-09-05T12:16:13.701Z"
   },
   {
    "duration": 16,
    "start_time": "2023-09-05T12:16:43.200Z"
   },
   {
    "duration": 14,
    "start_time": "2023-09-05T12:16:51.400Z"
   },
   {
    "duration": 16,
    "start_time": "2023-09-05T12:16:55.166Z"
   },
   {
    "duration": 18,
    "start_time": "2023-09-05T12:19:47.304Z"
   },
   {
    "duration": 19,
    "start_time": "2023-09-05T12:20:23.369Z"
   },
   {
    "duration": 13,
    "start_time": "2023-09-05T12:34:40.315Z"
   },
   {
    "duration": 247,
    "start_time": "2023-09-05T12:35:31.669Z"
   },
   {
    "duration": 248,
    "start_time": "2023-09-05T12:36:29.649Z"
   },
   {
    "duration": 235,
    "start_time": "2023-09-05T12:36:45.529Z"
   },
   {
    "duration": 203,
    "start_time": "2023-09-05T12:38:34.486Z"
   },
   {
    "duration": 172,
    "start_time": "2023-09-05T12:38:43.929Z"
   },
   {
    "duration": 214,
    "start_time": "2023-09-05T12:41:26.142Z"
   },
   {
    "duration": 328,
    "start_time": "2023-09-05T12:43:02.984Z"
   },
   {
    "duration": 285,
    "start_time": "2023-09-05T12:43:50.454Z"
   },
   {
    "duration": 21,
    "start_time": "2023-09-05T12:49:39.310Z"
   },
   {
    "duration": 9,
    "start_time": "2023-09-05T12:49:56.991Z"
   },
   {
    "duration": 1210,
    "start_time": "2023-09-05T12:52:57.186Z"
   },
   {
    "duration": 85,
    "start_time": "2023-09-05T12:52:58.398Z"
   },
   {
    "duration": 12,
    "start_time": "2023-09-05T12:52:58.484Z"
   },
   {
    "duration": 3,
    "start_time": "2023-09-05T12:52:58.498Z"
   },
   {
    "duration": 15,
    "start_time": "2023-09-05T12:52:58.503Z"
   },
   {
    "duration": 21,
    "start_time": "2023-09-05T12:52:58.520Z"
   },
   {
    "duration": 18,
    "start_time": "2023-09-05T12:52:58.542Z"
   },
   {
    "duration": 7,
    "start_time": "2023-09-05T12:52:58.562Z"
   },
   {
    "duration": 7,
    "start_time": "2023-09-05T12:52:58.571Z"
   },
   {
    "duration": 18,
    "start_time": "2023-09-05T12:52:58.579Z"
   },
   {
    "duration": 16,
    "start_time": "2023-09-05T12:52:58.609Z"
   },
   {
    "duration": 17,
    "start_time": "2023-09-05T12:52:58.627Z"
   },
   {
    "duration": 9,
    "start_time": "2023-09-05T12:52:58.645Z"
   },
   {
    "duration": 9,
    "start_time": "2023-09-05T12:52:58.658Z"
   },
   {
    "duration": 46,
    "start_time": "2023-09-05T12:52:58.668Z"
   },
   {
    "duration": 13,
    "start_time": "2023-09-05T12:52:58.720Z"
   },
   {
    "duration": 13,
    "start_time": "2023-09-05T12:52:58.735Z"
   },
   {
    "duration": 81,
    "start_time": "2023-09-05T12:52:58.750Z"
   },
   {
    "duration": 6,
    "start_time": "2023-09-05T12:52:58.833Z"
   },
   {
    "duration": 331,
    "start_time": "2023-09-05T12:52:58.841Z"
   },
   {
    "duration": 344,
    "start_time": "2023-09-05T12:52:59.174Z"
   },
   {
    "duration": 229,
    "start_time": "2023-09-05T12:52:59.519Z"
   },
   {
    "duration": 291,
    "start_time": "2023-09-05T12:52:59.750Z"
   },
   {
    "duration": 394,
    "start_time": "2023-09-05T12:53:00.042Z"
   },
   {
    "duration": 519,
    "start_time": "2023-09-05T12:53:00.438Z"
   },
   {
    "duration": 16,
    "start_time": "2023-09-05T12:53:01.009Z"
   },
   {
    "duration": 397,
    "start_time": "2023-09-05T12:53:01.027Z"
   },
   {
    "duration": 6,
    "start_time": "2023-09-05T12:53:01.430Z"
   },
   {
    "duration": 83,
    "start_time": "2023-09-05T12:53:01.438Z"
   },
   {
    "duration": 419,
    "start_time": "2023-09-05T12:53:01.523Z"
   },
   {
    "duration": 5,
    "start_time": "2023-09-05T12:53:01.943Z"
   },
   {
    "duration": 464,
    "start_time": "2023-09-05T12:53:01.949Z"
   },
   {
    "duration": 164,
    "start_time": "2023-09-05T12:53:02.415Z"
   },
   {
    "duration": 58,
    "start_time": "2023-09-05T12:53:02.581Z"
   },
   {
    "duration": 239,
    "start_time": "2023-09-05T12:53:02.642Z"
   },
   {
    "duration": 10,
    "start_time": "2023-09-05T12:53:02.883Z"
   },
   {
    "duration": 61,
    "start_time": "2023-09-05T12:53:02.909Z"
   },
   {
    "duration": 18,
    "start_time": "2023-09-05T12:53:02.972Z"
   },
   {
    "duration": 34,
    "start_time": "2023-09-05T12:53:02.992Z"
   },
   {
    "duration": 13,
    "start_time": "2023-09-05T12:53:03.028Z"
   },
   {
    "duration": 309,
    "start_time": "2023-09-05T12:53:03.045Z"
   },
   {
    "duration": 219,
    "start_time": "2023-09-05T12:53:03.355Z"
   },
   {
    "duration": 363,
    "start_time": "2023-09-05T12:53:03.575Z"
   },
   {
    "duration": 6,
    "start_time": "2023-09-05T12:54:41.855Z"
   },
   {
    "duration": 7,
    "start_time": "2023-09-05T12:54:45.503Z"
   },
   {
    "duration": 5,
    "start_time": "2023-09-05T12:54:48.354Z"
   },
   {
    "duration": 15,
    "start_time": "2023-09-05T12:55:02.008Z"
   },
   {
    "duration": 7,
    "start_time": "2023-09-05T12:56:42.593Z"
   },
   {
    "duration": 1212,
    "start_time": "2023-09-05T12:58:19.228Z"
   },
   {
    "duration": 84,
    "start_time": "2023-09-05T12:58:20.442Z"
   },
   {
    "duration": 13,
    "start_time": "2023-09-05T12:58:20.531Z"
   },
   {
    "duration": 9,
    "start_time": "2023-09-05T12:58:20.546Z"
   },
   {
    "duration": 29,
    "start_time": "2023-09-05T12:58:20.556Z"
   },
   {
    "duration": 39,
    "start_time": "2023-09-05T12:58:20.588Z"
   },
   {
    "duration": 21,
    "start_time": "2023-09-05T12:58:20.629Z"
   },
   {
    "duration": 21,
    "start_time": "2023-09-05T12:58:20.652Z"
   },
   {
    "duration": 24,
    "start_time": "2023-09-05T12:58:20.677Z"
   },
   {
    "duration": 34,
    "start_time": "2023-09-05T12:58:20.703Z"
   },
   {
    "duration": 20,
    "start_time": "2023-09-05T12:58:20.738Z"
   },
   {
    "duration": 47,
    "start_time": "2023-09-05T12:58:20.760Z"
   },
   {
    "duration": 51,
    "start_time": "2023-09-05T12:58:20.810Z"
   },
   {
    "duration": 67,
    "start_time": "2023-09-05T12:58:20.862Z"
   },
   {
    "duration": 63,
    "start_time": "2023-09-05T12:58:20.931Z"
   },
   {
    "duration": 34,
    "start_time": "2023-09-05T12:58:20.996Z"
   },
   {
    "duration": 44,
    "start_time": "2023-09-05T12:58:21.035Z"
   },
   {
    "duration": 88,
    "start_time": "2023-09-05T12:58:21.081Z"
   },
   {
    "duration": 4,
    "start_time": "2023-09-05T12:58:21.171Z"
   },
   {
    "duration": 323,
    "start_time": "2023-09-05T12:58:21.177Z"
   },
   {
    "duration": 313,
    "start_time": "2023-09-05T12:58:21.502Z"
   },
   {
    "duration": 225,
    "start_time": "2023-09-05T12:58:21.817Z"
   },
   {
    "duration": 309,
    "start_time": "2023-09-05T12:58:22.044Z"
   },
   {
    "duration": 271,
    "start_time": "2023-09-05T12:58:22.355Z"
   },
   {
    "duration": 325,
    "start_time": "2023-09-05T12:58:22.628Z"
   },
   {
    "duration": 11,
    "start_time": "2023-09-05T12:58:22.954Z"
   },
   {
    "duration": 187,
    "start_time": "2023-09-05T12:58:22.968Z"
   },
   {
    "duration": 5,
    "start_time": "2023-09-05T12:58:23.157Z"
   },
   {
    "duration": 22,
    "start_time": "2023-09-05T12:58:23.163Z"
   },
   {
    "duration": 299,
    "start_time": "2023-09-05T12:58:23.187Z"
   },
   {
    "duration": 5,
    "start_time": "2023-09-05T12:58:23.488Z"
   },
   {
    "duration": 171,
    "start_time": "2023-09-05T12:58:23.509Z"
   },
   {
    "duration": 138,
    "start_time": "2023-09-05T12:58:23.682Z"
   },
   {
    "duration": 28,
    "start_time": "2023-09-05T12:58:23.826Z"
   },
   {
    "duration": 179,
    "start_time": "2023-09-05T12:58:23.855Z"
   },
   {
    "duration": 12,
    "start_time": "2023-09-05T12:58:24.035Z"
   },
   {
    "duration": 36,
    "start_time": "2023-09-05T12:58:24.049Z"
   },
   {
    "duration": 28,
    "start_time": "2023-09-05T12:58:24.087Z"
   },
   {
    "duration": 34,
    "start_time": "2023-09-05T12:58:24.117Z"
   },
   {
    "duration": 15,
    "start_time": "2023-09-05T12:58:24.153Z"
   },
   {
    "duration": 322,
    "start_time": "2023-09-05T12:58:24.170Z"
   },
   {
    "duration": 231,
    "start_time": "2023-09-05T12:58:24.494Z"
   },
   {
    "duration": 312,
    "start_time": "2023-09-05T12:58:24.727Z"
   },
   {
    "duration": 13,
    "start_time": "2023-09-05T13:02:00.226Z"
   },
   {
    "duration": 115,
    "start_time": "2023-09-05T13:02:50.229Z"
   },
   {
    "duration": 316,
    "start_time": "2023-09-05T13:03:44.345Z"
   },
   {
    "duration": 596,
    "start_time": "2023-09-05T13:04:17.939Z"
   },
   {
    "duration": 5,
    "start_time": "2023-09-05T13:07:29.688Z"
   },
   {
    "duration": 7,
    "start_time": "2023-09-05T13:08:00.575Z"
   },
   {
    "duration": 12,
    "start_time": "2023-09-05T13:08:12.204Z"
   },
   {
    "duration": 9,
    "start_time": "2023-09-05T13:08:22.332Z"
   },
   {
    "duration": 39,
    "start_time": "2023-09-05T13:08:26.548Z"
   },
   {
    "duration": 1188,
    "start_time": "2023-09-05T13:11:46.115Z"
   },
   {
    "duration": 88,
    "start_time": "2023-09-05T13:11:47.304Z"
   },
   {
    "duration": 13,
    "start_time": "2023-09-05T13:11:47.394Z"
   },
   {
    "duration": 20,
    "start_time": "2023-09-05T13:11:47.410Z"
   },
   {
    "duration": 28,
    "start_time": "2023-09-05T13:11:47.432Z"
   },
   {
    "duration": 22,
    "start_time": "2023-09-05T13:11:47.461Z"
   },
   {
    "duration": 23,
    "start_time": "2023-09-05T13:11:47.485Z"
   },
   {
    "duration": 11,
    "start_time": "2023-09-05T13:11:47.516Z"
   },
   {
    "duration": 8,
    "start_time": "2023-09-05T13:11:47.528Z"
   },
   {
    "duration": 19,
    "start_time": "2023-09-05T13:11:47.539Z"
   },
   {
    "duration": 17,
    "start_time": "2023-09-05T13:11:47.560Z"
   },
   {
    "duration": 45,
    "start_time": "2023-09-05T13:11:47.579Z"
   },
   {
    "duration": 13,
    "start_time": "2023-09-05T13:11:47.626Z"
   },
   {
    "duration": 12,
    "start_time": "2023-09-05T13:11:47.642Z"
   },
   {
    "duration": 15,
    "start_time": "2023-09-05T13:11:47.657Z"
   },
   {
    "duration": 10,
    "start_time": "2023-09-05T13:11:47.674Z"
   },
   {
    "duration": 22,
    "start_time": "2023-09-05T13:11:47.712Z"
   },
   {
    "duration": 97,
    "start_time": "2023-09-05T13:11:47.736Z"
   },
   {
    "duration": 6,
    "start_time": "2023-09-05T13:11:47.835Z"
   },
   {
    "duration": 385,
    "start_time": "2023-09-05T13:11:47.844Z"
   },
   {
    "duration": 343,
    "start_time": "2023-09-05T13:11:48.232Z"
   },
   {
    "duration": 253,
    "start_time": "2023-09-05T13:11:48.578Z"
   },
   {
    "duration": 309,
    "start_time": "2023-09-05T13:11:48.833Z"
   },
   {
    "duration": 268,
    "start_time": "2023-09-05T13:11:49.144Z"
   },
   {
    "duration": 348,
    "start_time": "2023-09-05T13:11:49.414Z"
   },
   {
    "duration": 13,
    "start_time": "2023-09-05T13:11:49.764Z"
   },
   {
    "duration": 200,
    "start_time": "2023-09-05T13:11:49.780Z"
   },
   {
    "duration": 6,
    "start_time": "2023-09-05T13:11:49.984Z"
   },
   {
    "duration": 45,
    "start_time": "2023-09-05T13:11:49.992Z"
   },
   {
    "duration": 296,
    "start_time": "2023-09-05T13:11:50.039Z"
   },
   {
    "duration": 7,
    "start_time": "2023-09-05T13:11:50.338Z"
   },
   {
    "duration": 235,
    "start_time": "2023-09-05T13:11:50.347Z"
   },
   {
    "duration": 154,
    "start_time": "2023-09-05T13:11:50.584Z"
   },
   {
    "duration": 29,
    "start_time": "2023-09-05T13:11:50.740Z"
   },
   {
    "duration": 206,
    "start_time": "2023-09-05T13:11:50.771Z"
   },
   {
    "duration": 64,
    "start_time": "2023-09-05T13:11:50.979Z"
   },
   {
    "duration": 20,
    "start_time": "2023-09-05T13:11:51.044Z"
   },
   {
    "duration": 28,
    "start_time": "2023-09-05T13:11:51.067Z"
   },
   {
    "duration": 52,
    "start_time": "2023-09-05T13:11:51.097Z"
   },
   {
    "duration": 26,
    "start_time": "2023-09-05T13:11:51.151Z"
   },
   {
    "duration": 309,
    "start_time": "2023-09-05T13:11:51.180Z"
   },
   {
    "duration": 242,
    "start_time": "2023-09-05T13:11:51.491Z"
   },
   {
    "duration": 310,
    "start_time": "2023-09-05T13:11:51.736Z"
   },
   {
    "duration": 13,
    "start_time": "2023-09-05T13:11:52.051Z"
   },
   {
    "duration": 6,
    "start_time": "2023-09-05T13:14:08.749Z"
   },
   {
    "duration": 108,
    "start_time": "2023-09-05T13:16:23.987Z"
   },
   {
    "duration": 447,
    "start_time": "2023-09-05T13:16:27.748Z"
   },
   {
    "duration": 266,
    "start_time": "2023-09-05T13:16:29.619Z"
   },
   {
    "duration": 258,
    "start_time": "2023-09-05T13:16:48.987Z"
   },
   {
    "duration": 303,
    "start_time": "2023-09-05T13:17:13.723Z"
   },
   {
    "duration": 343,
    "start_time": "2023-09-05T13:18:16.008Z"
   },
   {
    "duration": 323,
    "start_time": "2023-09-05T13:18:54.933Z"
   },
   {
    "duration": 318,
    "start_time": "2023-09-05T13:19:00.843Z"
   },
   {
    "duration": 1331,
    "start_time": "2023-09-06T07:08:46.127Z"
   },
   {
    "duration": 192,
    "start_time": "2023-09-06T07:08:47.460Z"
   },
   {
    "duration": 13,
    "start_time": "2023-09-06T07:08:47.654Z"
   },
   {
    "duration": 5,
    "start_time": "2023-09-06T07:08:47.668Z"
   },
   {
    "duration": 13,
    "start_time": "2023-09-06T07:08:47.675Z"
   },
   {
    "duration": 10,
    "start_time": "2023-09-06T07:08:47.690Z"
   },
   {
    "duration": 17,
    "start_time": "2023-09-06T07:08:47.701Z"
   },
   {
    "duration": 13,
    "start_time": "2023-09-06T07:08:47.720Z"
   },
   {
    "duration": 6,
    "start_time": "2023-09-06T07:08:47.735Z"
   },
   {
    "duration": 31,
    "start_time": "2023-09-06T07:08:47.742Z"
   },
   {
    "duration": 10,
    "start_time": "2023-09-06T07:08:47.775Z"
   },
   {
    "duration": 14,
    "start_time": "2023-09-06T07:08:47.787Z"
   },
   {
    "duration": 10,
    "start_time": "2023-09-06T07:08:47.803Z"
   },
   {
    "duration": 7,
    "start_time": "2023-09-06T07:08:47.816Z"
   },
   {
    "duration": 7,
    "start_time": "2023-09-06T07:08:47.825Z"
   },
   {
    "duration": 39,
    "start_time": "2023-09-06T07:08:47.834Z"
   },
   {
    "duration": 13,
    "start_time": "2023-09-06T07:08:47.875Z"
   },
   {
    "duration": 90,
    "start_time": "2023-09-06T07:08:47.890Z"
   },
   {
    "duration": 5,
    "start_time": "2023-09-06T07:08:47.982Z"
   },
   {
    "duration": 271,
    "start_time": "2023-09-06T07:08:47.988Z"
   },
   {
    "duration": 205,
    "start_time": "2023-09-06T07:08:48.267Z"
   },
   {
    "duration": 202,
    "start_time": "2023-09-06T07:08:48.474Z"
   },
   {
    "duration": 305,
    "start_time": "2023-09-06T07:08:48.678Z"
   },
   {
    "duration": 214,
    "start_time": "2023-09-06T07:08:48.985Z"
   },
   {
    "duration": 294,
    "start_time": "2023-09-06T07:08:49.200Z"
   },
   {
    "duration": 9,
    "start_time": "2023-09-06T07:08:49.496Z"
   },
   {
    "duration": 167,
    "start_time": "2023-09-06T07:08:49.507Z"
   },
   {
    "duration": 5,
    "start_time": "2023-09-06T07:08:49.675Z"
   },
   {
    "duration": 11,
    "start_time": "2023-09-06T07:08:49.682Z"
   },
   {
    "duration": 366,
    "start_time": "2023-09-06T07:08:49.694Z"
   },
   {
    "duration": 6,
    "start_time": "2023-09-06T07:08:50.066Z"
   },
   {
    "duration": 119,
    "start_time": "2023-09-06T07:08:50.074Z"
   },
   {
    "duration": 134,
    "start_time": "2023-09-06T07:08:50.194Z"
   },
   {
    "duration": 50,
    "start_time": "2023-09-06T07:08:50.330Z"
   },
   {
    "duration": 92,
    "start_time": "2023-09-06T07:08:50.382Z"
   },
   {
    "duration": 10,
    "start_time": "2023-09-06T07:08:50.476Z"
   },
   {
    "duration": 16,
    "start_time": "2023-09-06T07:08:50.488Z"
   },
   {
    "duration": 37,
    "start_time": "2023-09-06T07:08:50.506Z"
   },
   {
    "duration": 46,
    "start_time": "2023-09-06T07:08:50.545Z"
   },
   {
    "duration": 13,
    "start_time": "2023-09-06T07:08:50.593Z"
   },
   {
    "duration": 392,
    "start_time": "2023-09-06T07:08:50.609Z"
   },
   {
    "duration": 216,
    "start_time": "2023-09-06T07:08:51.003Z"
   },
   {
    "duration": 276,
    "start_time": "2023-09-06T07:08:51.221Z"
   },
   {
    "duration": 317,
    "start_time": "2023-09-06T07:08:51.498Z"
   },
   {
    "duration": 1384,
    "start_time": "2023-09-06T07:33:38.558Z"
   },
   {
    "duration": 79,
    "start_time": "2023-09-06T07:33:39.944Z"
   },
   {
    "duration": 13,
    "start_time": "2023-09-06T07:33:40.025Z"
   },
   {
    "duration": 29,
    "start_time": "2023-09-06T07:33:40.040Z"
   },
   {
    "duration": 25,
    "start_time": "2023-09-06T07:33:40.072Z"
   },
   {
    "duration": 29,
    "start_time": "2023-09-06T07:33:40.099Z"
   },
   {
    "duration": 31,
    "start_time": "2023-09-06T07:33:40.130Z"
   },
   {
    "duration": 35,
    "start_time": "2023-09-06T07:33:40.162Z"
   },
   {
    "duration": 28,
    "start_time": "2023-09-06T07:33:40.199Z"
   },
   {
    "duration": 50,
    "start_time": "2023-09-06T07:33:40.229Z"
   },
   {
    "duration": 37,
    "start_time": "2023-09-06T07:33:40.281Z"
   },
   {
    "duration": 48,
    "start_time": "2023-09-06T07:33:40.320Z"
   },
   {
    "duration": 39,
    "start_time": "2023-09-06T07:33:40.370Z"
   },
   {
    "duration": 65,
    "start_time": "2023-09-06T07:33:40.412Z"
   },
   {
    "duration": 102,
    "start_time": "2023-09-06T07:33:40.479Z"
   },
   {
    "duration": 113,
    "start_time": "2023-09-06T07:33:40.583Z"
   },
   {
    "duration": 174,
    "start_time": "2023-09-06T07:33:40.698Z"
   },
   {
    "duration": 92,
    "start_time": "2023-09-06T07:33:40.874Z"
   },
   {
    "duration": 5,
    "start_time": "2023-09-06T07:33:40.968Z"
   },
   {
    "duration": 293,
    "start_time": "2023-09-06T07:33:40.974Z"
   },
   {
    "duration": 222,
    "start_time": "2023-09-06T07:33:41.269Z"
   },
   {
    "duration": 207,
    "start_time": "2023-09-06T07:33:41.493Z"
   },
   {
    "duration": 278,
    "start_time": "2023-09-06T07:33:41.702Z"
   },
   {
    "duration": 228,
    "start_time": "2023-09-06T07:33:41.982Z"
   },
   {
    "duration": 300,
    "start_time": "2023-09-06T07:33:42.212Z"
   },
   {
    "duration": 10,
    "start_time": "2023-09-06T07:33:42.514Z"
   },
   {
    "duration": 183,
    "start_time": "2023-09-06T07:33:42.526Z"
   },
   {
    "duration": 5,
    "start_time": "2023-09-06T07:33:42.711Z"
   },
   {
    "duration": 12,
    "start_time": "2023-09-06T07:33:42.718Z"
   },
   {
    "duration": 358,
    "start_time": "2023-09-06T07:33:42.732Z"
   },
   {
    "duration": 5,
    "start_time": "2023-09-06T07:33:43.092Z"
   },
   {
    "duration": 118,
    "start_time": "2023-09-06T07:33:43.099Z"
   },
   {
    "duration": 123,
    "start_time": "2023-09-06T07:33:43.219Z"
   },
   {
    "duration": 37,
    "start_time": "2023-09-06T07:33:43.344Z"
   },
   {
    "duration": 112,
    "start_time": "2023-09-06T07:33:43.383Z"
   },
   {
    "duration": 11,
    "start_time": "2023-09-06T07:33:43.497Z"
   },
   {
    "duration": 19,
    "start_time": "2023-09-06T07:33:43.510Z"
   },
   {
    "duration": 22,
    "start_time": "2023-09-06T07:33:43.531Z"
   },
   {
    "duration": 61,
    "start_time": "2023-09-06T07:33:43.556Z"
   },
   {
    "duration": 25,
    "start_time": "2023-09-06T07:33:43.619Z"
   },
   {
    "duration": 439,
    "start_time": "2023-09-06T07:33:43.647Z"
   },
   {
    "duration": 251,
    "start_time": "2023-09-06T07:33:44.088Z"
   },
   {
    "duration": 326,
    "start_time": "2023-09-06T07:33:44.341Z"
   },
   {
    "duration": 337,
    "start_time": "2023-09-06T07:33:44.669Z"
   },
   {
    "duration": 48,
    "start_time": "2023-09-06T09:54:54.380Z"
   },
   {
    "duration": 1357,
    "start_time": "2023-09-06T09:54:57.838Z"
   },
   {
    "duration": 202,
    "start_time": "2023-09-06T09:54:59.197Z"
   },
   {
    "duration": 12,
    "start_time": "2023-09-06T09:54:59.401Z"
   },
   {
    "duration": 4,
    "start_time": "2023-09-06T09:54:59.415Z"
   },
   {
    "duration": 18,
    "start_time": "2023-09-06T09:54:59.421Z"
   },
   {
    "duration": 28,
    "start_time": "2023-09-06T09:54:59.441Z"
   },
   {
    "duration": 20,
    "start_time": "2023-09-06T09:54:59.471Z"
   },
   {
    "duration": 21,
    "start_time": "2023-09-06T09:54:59.493Z"
   },
   {
    "duration": 12,
    "start_time": "2023-09-06T09:54:59.516Z"
   },
   {
    "duration": 20,
    "start_time": "2023-09-06T09:54:59.530Z"
   },
   {
    "duration": 31,
    "start_time": "2023-09-06T09:54:59.552Z"
   },
   {
    "duration": 42,
    "start_time": "2023-09-06T09:54:59.585Z"
   },
   {
    "duration": 17,
    "start_time": "2023-09-06T09:54:59.629Z"
   },
   {
    "duration": 31,
    "start_time": "2023-09-06T09:54:59.650Z"
   },
   {
    "duration": 26,
    "start_time": "2023-09-06T09:54:59.682Z"
   },
   {
    "duration": 39,
    "start_time": "2023-09-06T09:54:59.710Z"
   },
   {
    "duration": 53,
    "start_time": "2023-09-06T09:54:59.750Z"
   },
   {
    "duration": 80,
    "start_time": "2023-09-06T09:54:59.805Z"
   },
   {
    "duration": 5,
    "start_time": "2023-09-06T09:54:59.887Z"
   },
   {
    "duration": 330,
    "start_time": "2023-09-06T09:54:59.893Z"
   },
   {
    "duration": 306,
    "start_time": "2023-09-06T09:55:00.225Z"
   },
   {
    "duration": 233,
    "start_time": "2023-09-06T09:55:00.533Z"
   },
   {
    "duration": 390,
    "start_time": "2023-09-06T09:55:00.768Z"
   },
   {
    "duration": 244,
    "start_time": "2023-09-06T09:55:01.160Z"
   },
   {
    "duration": 307,
    "start_time": "2023-09-06T09:55:01.406Z"
   },
   {
    "duration": 11,
    "start_time": "2023-09-06T09:55:01.715Z"
   },
   {
    "duration": 584,
    "start_time": "2023-09-06T09:55:01.728Z"
   },
   {
    "duration": 138,
    "start_time": "2023-09-06T09:55:02.314Z"
   },
   {
    "duration": 56,
    "start_time": "2023-09-06T09:55:02.454Z"
   },
   {
    "duration": 661,
    "start_time": "2023-09-06T09:55:02.512Z"
   },
   {
    "duration": 6,
    "start_time": "2023-09-06T09:55:03.175Z"
   },
   {
    "duration": 178,
    "start_time": "2023-09-06T09:55:03.200Z"
   },
   {
    "duration": 149,
    "start_time": "2023-09-06T09:55:03.379Z"
   },
   {
    "duration": 78,
    "start_time": "2023-09-06T09:55:03.530Z"
   },
   {
    "duration": 162,
    "start_time": "2023-09-06T09:55:03.610Z"
   },
   {
    "duration": 12,
    "start_time": "2023-09-06T09:55:03.774Z"
   },
   {
    "duration": 23,
    "start_time": "2023-09-06T09:55:03.787Z"
   },
   {
    "duration": 35,
    "start_time": "2023-09-06T09:55:03.812Z"
   },
   {
    "duration": 38,
    "start_time": "2023-09-06T09:55:03.849Z"
   },
   {
    "duration": 16,
    "start_time": "2023-09-06T09:55:03.890Z"
   },
   {
    "duration": 424,
    "start_time": "2023-09-06T09:55:03.910Z"
   },
   {
    "duration": 227,
    "start_time": "2023-09-06T09:55:04.336Z"
   },
   {
    "duration": 350,
    "start_time": "2023-09-06T09:55:04.565Z"
   },
   {
    "duration": 342,
    "start_time": "2023-09-06T09:55:04.916Z"
   },
   {
    "duration": 16,
    "start_time": "2023-09-06T09:55:12.063Z"
   },
   {
    "duration": 17,
    "start_time": "2023-09-06T09:55:34.921Z"
   },
   {
    "duration": 16,
    "start_time": "2023-09-06T09:55:45.338Z"
   },
   {
    "duration": 14,
    "start_time": "2023-09-06T09:56:31.132Z"
   },
   {
    "duration": 15,
    "start_time": "2023-09-06T09:56:39.416Z"
   },
   {
    "duration": 13,
    "start_time": "2023-09-06T09:57:00.046Z"
   },
   {
    "duration": 8,
    "start_time": "2023-09-06T09:58:11.021Z"
   },
   {
    "duration": 11,
    "start_time": "2023-09-06T09:58:29.516Z"
   },
   {
    "duration": 11,
    "start_time": "2023-09-06T09:58:44.858Z"
   },
   {
    "duration": 10,
    "start_time": "2023-09-06T10:00:24.409Z"
   },
   {
    "duration": 11,
    "start_time": "2023-09-06T10:00:31.257Z"
   },
   {
    "duration": 133,
    "start_time": "2023-09-06T10:02:51.721Z"
   },
   {
    "duration": 9,
    "start_time": "2023-09-06T10:03:15.799Z"
   },
   {
    "duration": 12,
    "start_time": "2023-09-06T10:03:33.186Z"
   },
   {
    "duration": 10,
    "start_time": "2023-09-06T10:03:42.426Z"
   },
   {
    "duration": 10,
    "start_time": "2023-09-06T10:03:58.578Z"
   },
   {
    "duration": 9,
    "start_time": "2023-09-06T10:13:19.486Z"
   },
   {
    "duration": 1500,
    "start_time": "2023-09-06T16:33:14.074Z"
   },
   {
    "duration": 339,
    "start_time": "2023-09-06T16:33:15.576Z"
   },
   {
    "duration": 12,
    "start_time": "2023-09-06T16:33:15.918Z"
   },
   {
    "duration": 4,
    "start_time": "2023-09-06T16:33:15.932Z"
   },
   {
    "duration": 20,
    "start_time": "2023-09-06T16:33:15.938Z"
   },
   {
    "duration": 8,
    "start_time": "2023-09-06T16:33:15.960Z"
   },
   {
    "duration": 24,
    "start_time": "2023-09-06T16:33:15.976Z"
   },
   {
    "duration": 8,
    "start_time": "2023-09-06T16:33:16.005Z"
   },
   {
    "duration": 6,
    "start_time": "2023-09-06T16:33:16.014Z"
   },
   {
    "duration": 20,
    "start_time": "2023-09-06T16:33:16.021Z"
   },
   {
    "duration": 27,
    "start_time": "2023-09-06T16:33:16.043Z"
   },
   {
    "duration": 21,
    "start_time": "2023-09-06T16:33:16.087Z"
   },
   {
    "duration": 11,
    "start_time": "2023-09-06T16:33:16.109Z"
   },
   {
    "duration": 8,
    "start_time": "2023-09-06T16:33:16.124Z"
   },
   {
    "duration": 9,
    "start_time": "2023-09-06T16:33:16.134Z"
   },
   {
    "duration": 30,
    "start_time": "2023-09-06T16:33:16.144Z"
   },
   {
    "duration": 23,
    "start_time": "2023-09-06T16:33:16.181Z"
   },
   {
    "duration": 83,
    "start_time": "2023-09-06T16:33:16.208Z"
   },
   {
    "duration": 12,
    "start_time": "2023-09-06T16:33:16.295Z"
   },
   {
    "duration": 366,
    "start_time": "2023-09-06T16:33:16.309Z"
   },
   {
    "duration": 323,
    "start_time": "2023-09-06T16:33:16.677Z"
   },
   {
    "duration": 204,
    "start_time": "2023-09-06T16:33:17.001Z"
   },
   {
    "duration": 307,
    "start_time": "2023-09-06T16:33:17.206Z"
   },
   {
    "duration": 233,
    "start_time": "2023-09-06T16:33:17.515Z"
   },
   {
    "duration": 335,
    "start_time": "2023-09-06T16:33:17.750Z"
   },
   {
    "duration": 15,
    "start_time": "2023-09-06T16:33:18.089Z"
   },
   {
    "duration": 199,
    "start_time": "2023-09-06T16:33:18.106Z"
   },
   {
    "duration": 8,
    "start_time": "2023-09-06T16:33:18.307Z"
   },
   {
    "duration": 15,
    "start_time": "2023-09-06T16:33:18.317Z"
   },
   {
    "duration": 362,
    "start_time": "2023-09-06T16:33:18.334Z"
   },
   {
    "duration": 9,
    "start_time": "2023-09-06T16:33:18.700Z"
   },
   {
    "duration": 211,
    "start_time": "2023-09-06T16:33:18.711Z"
   },
   {
    "duration": 133,
    "start_time": "2023-09-06T16:33:18.924Z"
   },
   {
    "duration": 35,
    "start_time": "2023-09-06T16:33:19.063Z"
   },
   {
    "duration": 178,
    "start_time": "2023-09-06T16:33:19.100Z"
   },
   {
    "duration": 14,
    "start_time": "2023-09-06T16:33:19.281Z"
   },
   {
    "duration": 9,
    "start_time": "2023-09-06T16:33:19.297Z"
   },
   {
    "duration": 10,
    "start_time": "2023-09-06T16:33:19.307Z"
   },
   {
    "duration": 46,
    "start_time": "2023-09-06T16:33:19.318Z"
   },
   {
    "duration": 23,
    "start_time": "2023-09-06T16:33:19.368Z"
   },
   {
    "duration": 393,
    "start_time": "2023-09-06T16:33:19.396Z"
   },
   {
    "duration": 226,
    "start_time": "2023-09-06T16:33:19.792Z"
   },
   {
    "duration": 322,
    "start_time": "2023-09-06T16:33:20.019Z"
   },
   {
    "duration": 368,
    "start_time": "2023-09-06T16:33:20.342Z"
   },
   {
    "duration": 9,
    "start_time": "2023-09-06T16:33:20.713Z"
   },
   {
    "duration": 32,
    "start_time": "2023-09-06T16:33:20.724Z"
   },
   {
    "duration": 7,
    "start_time": "2023-09-06T16:35:05.935Z"
   }
  ],
  "kernelspec": {
   "display_name": "Python 3 (ipykernel)",
   "language": "python",
   "name": "python3"
  },
  "language_info": {
   "codemirror_mode": {
    "name": "ipython",
    "version": 3
   },
   "file_extension": ".py",
   "mimetype": "text/x-python",
   "name": "python",
   "nbconvert_exporter": "python",
   "pygments_lexer": "ipython3",
   "version": "3.11.4"
  },
  "toc": {
   "base_numbering": 1,
   "nav_menu": {},
   "number_sections": true,
   "sideBar": true,
   "skip_h1_title": true,
   "title_cell": "Table of Contents",
   "title_sidebar": "Contents",
   "toc_cell": false,
   "toc_position": {
    "height": "calc(100% - 180px)",
    "left": "10px",
    "top": "150px",
    "width": "391.391px"
   },
   "toc_section_display": true,
   "toc_window_display": true
  }
 },
 "nbformat": 4,
 "nbformat_minor": 2
}
